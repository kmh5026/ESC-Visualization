{
 "cells": [
  {
   "cell_type": "markdown",
   "metadata": {},
   "source": [
    "# 1. Introduction"
   ]
  },
  {
   "cell_type": "code",
   "execution_count": 1,
   "metadata": {},
   "outputs": [],
   "source": [
    "from bokeh.io import output_notebook, show\n",
    "from bokeh.plotting import figure"
   ]
  },
  {
   "cell_type": "code",
   "execution_count": 3,
   "metadata": {},
   "outputs": [
    {
     "data": {
      "text/html": [
       "\n",
       "    <div class=\"bk-root\">\n",
       "        <a href=\"https://bokeh.org\" target=\"_blank\" class=\"bk-logo bk-logo-small bk-logo-notebook\"></a>\n",
       "        <span id=\"1117\">Loading BokehJS ...</span>\n",
       "    </div>"
      ]
     },
     "metadata": {},
     "output_type": "display_data"
    },
    {
     "data": {
      "application/javascript": [
       "\n",
       "(function(root) {\n",
       "  function now() {\n",
       "    return new Date();\n",
       "  }\n",
       "\n",
       "  var force = true;\n",
       "\n",
       "  if (typeof root._bokeh_onload_callbacks === \"undefined\" || force === true) {\n",
       "    root._bokeh_onload_callbacks = [];\n",
       "    root._bokeh_is_loading = undefined;\n",
       "  }\n",
       "\n",
       "  var JS_MIME_TYPE = 'application/javascript';\n",
       "  var HTML_MIME_TYPE = 'text/html';\n",
       "  var EXEC_MIME_TYPE = 'application/vnd.bokehjs_exec.v0+json';\n",
       "  var CLASS_NAME = 'output_bokeh rendered_html';\n",
       "\n",
       "  /**\n",
       "   * Render data to the DOM node\n",
       "   */\n",
       "  function render(props, node) {\n",
       "    var script = document.createElement(\"script\");\n",
       "    node.appendChild(script);\n",
       "  }\n",
       "\n",
       "  /**\n",
       "   * Handle when an output is cleared or removed\n",
       "   */\n",
       "  function handleClearOutput(event, handle) {\n",
       "    var cell = handle.cell;\n",
       "\n",
       "    var id = cell.output_area._bokeh_element_id;\n",
       "    var server_id = cell.output_area._bokeh_server_id;\n",
       "    // Clean up Bokeh references\n",
       "    if (id != null && id in Bokeh.index) {\n",
       "      Bokeh.index[id].model.document.clear();\n",
       "      delete Bokeh.index[id];\n",
       "    }\n",
       "\n",
       "    if (server_id !== undefined) {\n",
       "      // Clean up Bokeh references\n",
       "      var cmd = \"from bokeh.io.state import curstate; print(curstate().uuid_to_server['\" + server_id + \"'].get_sessions()[0].document.roots[0]._id)\";\n",
       "      cell.notebook.kernel.execute(cmd, {\n",
       "        iopub: {\n",
       "          output: function(msg) {\n",
       "            var id = msg.content.text.trim();\n",
       "            if (id in Bokeh.index) {\n",
       "              Bokeh.index[id].model.document.clear();\n",
       "              delete Bokeh.index[id];\n",
       "            }\n",
       "          }\n",
       "        }\n",
       "      });\n",
       "      // Destroy server and session\n",
       "      var cmd = \"import bokeh.io.notebook as ion; ion.destroy_server('\" + server_id + \"')\";\n",
       "      cell.notebook.kernel.execute(cmd);\n",
       "    }\n",
       "  }\n",
       "\n",
       "  /**\n",
       "   * Handle when a new output is added\n",
       "   */\n",
       "  function handleAddOutput(event, handle) {\n",
       "    var output_area = handle.output_area;\n",
       "    var output = handle.output;\n",
       "\n",
       "    // limit handleAddOutput to display_data with EXEC_MIME_TYPE content only\n",
       "    if ((output.output_type != \"display_data\") || (!output.data.hasOwnProperty(EXEC_MIME_TYPE))) {\n",
       "      return\n",
       "    }\n",
       "\n",
       "    var toinsert = output_area.element.find(\".\" + CLASS_NAME.split(' ')[0]);\n",
       "\n",
       "    if (output.metadata[EXEC_MIME_TYPE][\"id\"] !== undefined) {\n",
       "      toinsert[toinsert.length - 1].firstChild.textContent = output.data[JS_MIME_TYPE];\n",
       "      // store reference to embed id on output_area\n",
       "      output_area._bokeh_element_id = output.metadata[EXEC_MIME_TYPE][\"id\"];\n",
       "    }\n",
       "    if (output.metadata[EXEC_MIME_TYPE][\"server_id\"] !== undefined) {\n",
       "      var bk_div = document.createElement(\"div\");\n",
       "      bk_div.innerHTML = output.data[HTML_MIME_TYPE];\n",
       "      var script_attrs = bk_div.children[0].attributes;\n",
       "      for (var i = 0; i < script_attrs.length; i++) {\n",
       "        toinsert[toinsert.length - 1].firstChild.setAttribute(script_attrs[i].name, script_attrs[i].value);\n",
       "        toinsert[toinsert.length - 1].firstChild.textContent = bk_div.children[0].textContent\n",
       "      }\n",
       "      // store reference to server id on output_area\n",
       "      output_area._bokeh_server_id = output.metadata[EXEC_MIME_TYPE][\"server_id\"];\n",
       "    }\n",
       "  }\n",
       "\n",
       "  function register_renderer(events, OutputArea) {\n",
       "\n",
       "    function append_mime(data, metadata, element) {\n",
       "      // create a DOM node to render to\n",
       "      var toinsert = this.create_output_subarea(\n",
       "        metadata,\n",
       "        CLASS_NAME,\n",
       "        EXEC_MIME_TYPE\n",
       "      );\n",
       "      this.keyboard_manager.register_events(toinsert);\n",
       "      // Render to node\n",
       "      var props = {data: data, metadata: metadata[EXEC_MIME_TYPE]};\n",
       "      render(props, toinsert[toinsert.length - 1]);\n",
       "      element.append(toinsert);\n",
       "      return toinsert\n",
       "    }\n",
       "\n",
       "    /* Handle when an output is cleared or removed */\n",
       "    events.on('clear_output.CodeCell', handleClearOutput);\n",
       "    events.on('delete.Cell', handleClearOutput);\n",
       "\n",
       "    /* Handle when a new output is added */\n",
       "    events.on('output_added.OutputArea', handleAddOutput);\n",
       "\n",
       "    /**\n",
       "     * Register the mime type and append_mime function with output_area\n",
       "     */\n",
       "    OutputArea.prototype.register_mime_type(EXEC_MIME_TYPE, append_mime, {\n",
       "      /* Is output safe? */\n",
       "      safe: true,\n",
       "      /* Index of renderer in `output_area.display_order` */\n",
       "      index: 0\n",
       "    });\n",
       "  }\n",
       "\n",
       "  // register the mime type if in Jupyter Notebook environment and previously unregistered\n",
       "  if (root.Jupyter !== undefined) {\n",
       "    var events = require('base/js/events');\n",
       "    var OutputArea = require('notebook/js/outputarea').OutputArea;\n",
       "\n",
       "    if (OutputArea.prototype.mime_types().indexOf(EXEC_MIME_TYPE) == -1) {\n",
       "      register_renderer(events, OutputArea);\n",
       "    }\n",
       "  }\n",
       "\n",
       "  \n",
       "  if (typeof (root._bokeh_timeout) === \"undefined\" || force === true) {\n",
       "    root._bokeh_timeout = Date.now() + 5000;\n",
       "    root._bokeh_failed_load = false;\n",
       "  }\n",
       "\n",
       "  var NB_LOAD_WARNING = {'data': {'text/html':\n",
       "     \"<div style='background-color: #fdd'>\\n\"+\n",
       "     \"<p>\\n\"+\n",
       "     \"BokehJS does not appear to have successfully loaded. If loading BokehJS from CDN, this \\n\"+\n",
       "     \"may be due to a slow or bad network connection. Possible fixes:\\n\"+\n",
       "     \"</p>\\n\"+\n",
       "     \"<ul>\\n\"+\n",
       "     \"<li>re-rerun `output_notebook()` to attempt to load from CDN again, or</li>\\n\"+\n",
       "     \"<li>use INLINE resources instead, as so:</li>\\n\"+\n",
       "     \"</ul>\\n\"+\n",
       "     \"<code>\\n\"+\n",
       "     \"from bokeh.resources import INLINE\\n\"+\n",
       "     \"output_notebook(resources=INLINE)\\n\"+\n",
       "     \"</code>\\n\"+\n",
       "     \"</div>\"}};\n",
       "\n",
       "  function display_loaded() {\n",
       "    var el = document.getElementById(\"1117\");\n",
       "    if (el != null) {\n",
       "      el.textContent = \"BokehJS is loading...\";\n",
       "    }\n",
       "    if (root.Bokeh !== undefined) {\n",
       "      if (el != null) {\n",
       "        el.textContent = \"BokehJS \" + root.Bokeh.version + \" successfully loaded.\";\n",
       "      }\n",
       "    } else if (Date.now() < root._bokeh_timeout) {\n",
       "      setTimeout(display_loaded, 100)\n",
       "    }\n",
       "  }\n",
       "\n",
       "\n",
       "  function run_callbacks() {\n",
       "    try {\n",
       "      root._bokeh_onload_callbacks.forEach(function(callback) {\n",
       "        if (callback != null)\n",
       "          callback();\n",
       "      });\n",
       "    } finally {\n",
       "      delete root._bokeh_onload_callbacks\n",
       "    }\n",
       "    console.debug(\"Bokeh: all callbacks have finished\");\n",
       "  }\n",
       "\n",
       "  function load_libs(css_urls, js_urls, callback) {\n",
       "    if (css_urls == null) css_urls = [];\n",
       "    if (js_urls == null) js_urls = [];\n",
       "\n",
       "    root._bokeh_onload_callbacks.push(callback);\n",
       "    if (root._bokeh_is_loading > 0) {\n",
       "      console.debug(\"Bokeh: BokehJS is being loaded, scheduling callback at\", now());\n",
       "      return null;\n",
       "    }\n",
       "    if (js_urls == null || js_urls.length === 0) {\n",
       "      run_callbacks();\n",
       "      return null;\n",
       "    }\n",
       "    console.debug(\"Bokeh: BokehJS not loaded, scheduling load and callback at\", now());\n",
       "    root._bokeh_is_loading = css_urls.length + js_urls.length;\n",
       "\n",
       "    function on_load() {\n",
       "      root._bokeh_is_loading--;\n",
       "      if (root._bokeh_is_loading === 0) {\n",
       "        console.debug(\"Bokeh: all BokehJS libraries/stylesheets loaded\");\n",
       "        run_callbacks()\n",
       "      }\n",
       "    }\n",
       "\n",
       "    function on_error() {\n",
       "      console.error(\"failed to load \" + url);\n",
       "    }\n",
       "\n",
       "    for (var i = 0; i < css_urls.length; i++) {\n",
       "      var url = css_urls[i];\n",
       "      const element = document.createElement(\"link\");\n",
       "      element.onload = on_load;\n",
       "      element.onerror = on_error;\n",
       "      element.rel = \"stylesheet\";\n",
       "      element.type = \"text/css\";\n",
       "      element.href = url;\n",
       "      console.debug(\"Bokeh: injecting link tag for BokehJS stylesheet: \", url);\n",
       "      document.body.appendChild(element);\n",
       "    }\n",
       "\n",
       "    const hashes = {\"https://cdn.bokeh.org/bokeh/release/bokeh-2.1.1.min.js\": \"kLr4fYcqcSpbuI95brIH3vnnYCquzzSxHPU6XGQCIkQRGJwhg0StNbj1eegrHs12\", \"https://cdn.bokeh.org/bokeh/release/bokeh-widgets-2.1.1.min.js\": \"xIGPmVtaOm+z0BqfSOMn4lOR6ciex448GIKG4eE61LsAvmGj48XcMQZtKcE/UXZe\", \"https://cdn.bokeh.org/bokeh/release/bokeh-tables-2.1.1.min.js\": \"Dc9u1wF/0zApGIWoBbH77iWEHtdmkuYWG839Uzmv8y8yBLXebjO9ZnERsde5Ln/P\", \"https://cdn.bokeh.org/bokeh/release/bokeh-gl-2.1.1.min.js\": \"cT9JaBz7GiRXdENrJLZNSC6eMNF3nh3fa5fTF51Svp+ukxPdwcU5kGXGPBgDCa2j\"};\n",
       "\n",
       "    for (var i = 0; i < js_urls.length; i++) {\n",
       "      var url = js_urls[i];\n",
       "      var element = document.createElement('script');\n",
       "      element.onload = on_load;\n",
       "      element.onerror = on_error;\n",
       "      element.async = false;\n",
       "      element.src = url;\n",
       "      if (url in hashes) {\n",
       "        element.crossOrigin = \"anonymous\";\n",
       "        element.integrity = \"sha384-\" + hashes[url];\n",
       "      }\n",
       "      console.debug(\"Bokeh: injecting script tag for BokehJS library: \", url);\n",
       "      document.head.appendChild(element);\n",
       "    }\n",
       "  };\n",
       "\n",
       "  function inject_raw_css(css) {\n",
       "    const element = document.createElement(\"style\");\n",
       "    element.appendChild(document.createTextNode(css));\n",
       "    document.body.appendChild(element);\n",
       "  }\n",
       "\n",
       "  \n",
       "  var js_urls = [\"https://cdn.bokeh.org/bokeh/release/bokeh-2.1.1.min.js\", \"https://cdn.bokeh.org/bokeh/release/bokeh-widgets-2.1.1.min.js\", \"https://cdn.bokeh.org/bokeh/release/bokeh-tables-2.1.1.min.js\", \"https://cdn.bokeh.org/bokeh/release/bokeh-gl-2.1.1.min.js\"];\n",
       "  var css_urls = [];\n",
       "  \n",
       "\n",
       "  var inline_js = [\n",
       "    function(Bokeh) {\n",
       "      Bokeh.set_log_level(\"info\");\n",
       "    },\n",
       "    function(Bokeh) {\n",
       "    \n",
       "    \n",
       "    }\n",
       "  ];\n",
       "\n",
       "  function run_inline_js() {\n",
       "    \n",
       "    if (root.Bokeh !== undefined || force === true) {\n",
       "      \n",
       "    for (var i = 0; i < inline_js.length; i++) {\n",
       "      inline_js[i].call(root, root.Bokeh);\n",
       "    }\n",
       "    if (force === true) {\n",
       "        display_loaded();\n",
       "      }} else if (Date.now() < root._bokeh_timeout) {\n",
       "      setTimeout(run_inline_js, 100);\n",
       "    } else if (!root._bokeh_failed_load) {\n",
       "      console.log(\"Bokeh: BokehJS failed to load within specified timeout.\");\n",
       "      root._bokeh_failed_load = true;\n",
       "    } else if (force !== true) {\n",
       "      var cell = $(document.getElementById(\"1117\")).parents('.cell').data().cell;\n",
       "      cell.output_area.append_execute_result(NB_LOAD_WARNING)\n",
       "    }\n",
       "\n",
       "  }\n",
       "\n",
       "  if (root._bokeh_is_loading === 0) {\n",
       "    console.debug(\"Bokeh: BokehJS loaded, going straight to plotting\");\n",
       "    run_inline_js();\n",
       "  } else {\n",
       "    load_libs(css_urls, js_urls, function() {\n",
       "      console.debug(\"Bokeh: BokehJS plotting callback run at\", now());\n",
       "      run_inline_js();\n",
       "    });\n",
       "  }\n",
       "}(window));"
      ],
      "application/vnd.bokehjs_load.v0+json": "\n(function(root) {\n  function now() {\n    return new Date();\n  }\n\n  var force = true;\n\n  if (typeof root._bokeh_onload_callbacks === \"undefined\" || force === true) {\n    root._bokeh_onload_callbacks = [];\n    root._bokeh_is_loading = undefined;\n  }\n\n  \n\n  \n  if (typeof (root._bokeh_timeout) === \"undefined\" || force === true) {\n    root._bokeh_timeout = Date.now() + 5000;\n    root._bokeh_failed_load = false;\n  }\n\n  var NB_LOAD_WARNING = {'data': {'text/html':\n     \"<div style='background-color: #fdd'>\\n\"+\n     \"<p>\\n\"+\n     \"BokehJS does not appear to have successfully loaded. If loading BokehJS from CDN, this \\n\"+\n     \"may be due to a slow or bad network connection. Possible fixes:\\n\"+\n     \"</p>\\n\"+\n     \"<ul>\\n\"+\n     \"<li>re-rerun `output_notebook()` to attempt to load from CDN again, or</li>\\n\"+\n     \"<li>use INLINE resources instead, as so:</li>\\n\"+\n     \"</ul>\\n\"+\n     \"<code>\\n\"+\n     \"from bokeh.resources import INLINE\\n\"+\n     \"output_notebook(resources=INLINE)\\n\"+\n     \"</code>\\n\"+\n     \"</div>\"}};\n\n  function display_loaded() {\n    var el = document.getElementById(\"1117\");\n    if (el != null) {\n      el.textContent = \"BokehJS is loading...\";\n    }\n    if (root.Bokeh !== undefined) {\n      if (el != null) {\n        el.textContent = \"BokehJS \" + root.Bokeh.version + \" successfully loaded.\";\n      }\n    } else if (Date.now() < root._bokeh_timeout) {\n      setTimeout(display_loaded, 100)\n    }\n  }\n\n\n  function run_callbacks() {\n    try {\n      root._bokeh_onload_callbacks.forEach(function(callback) {\n        if (callback != null)\n          callback();\n      });\n    } finally {\n      delete root._bokeh_onload_callbacks\n    }\n    console.debug(\"Bokeh: all callbacks have finished\");\n  }\n\n  function load_libs(css_urls, js_urls, callback) {\n    if (css_urls == null) css_urls = [];\n    if (js_urls == null) js_urls = [];\n\n    root._bokeh_onload_callbacks.push(callback);\n    if (root._bokeh_is_loading > 0) {\n      console.debug(\"Bokeh: BokehJS is being loaded, scheduling callback at\", now());\n      return null;\n    }\n    if (js_urls == null || js_urls.length === 0) {\n      run_callbacks();\n      return null;\n    }\n    console.debug(\"Bokeh: BokehJS not loaded, scheduling load and callback at\", now());\n    root._bokeh_is_loading = css_urls.length + js_urls.length;\n\n    function on_load() {\n      root._bokeh_is_loading--;\n      if (root._bokeh_is_loading === 0) {\n        console.debug(\"Bokeh: all BokehJS libraries/stylesheets loaded\");\n        run_callbacks()\n      }\n    }\n\n    function on_error() {\n      console.error(\"failed to load \" + url);\n    }\n\n    for (var i = 0; i < css_urls.length; i++) {\n      var url = css_urls[i];\n      const element = document.createElement(\"link\");\n      element.onload = on_load;\n      element.onerror = on_error;\n      element.rel = \"stylesheet\";\n      element.type = \"text/css\";\n      element.href = url;\n      console.debug(\"Bokeh: injecting link tag for BokehJS stylesheet: \", url);\n      document.body.appendChild(element);\n    }\n\n    const hashes = {\"https://cdn.bokeh.org/bokeh/release/bokeh-2.1.1.min.js\": \"kLr4fYcqcSpbuI95brIH3vnnYCquzzSxHPU6XGQCIkQRGJwhg0StNbj1eegrHs12\", \"https://cdn.bokeh.org/bokeh/release/bokeh-widgets-2.1.1.min.js\": \"xIGPmVtaOm+z0BqfSOMn4lOR6ciex448GIKG4eE61LsAvmGj48XcMQZtKcE/UXZe\", \"https://cdn.bokeh.org/bokeh/release/bokeh-tables-2.1.1.min.js\": \"Dc9u1wF/0zApGIWoBbH77iWEHtdmkuYWG839Uzmv8y8yBLXebjO9ZnERsde5Ln/P\", \"https://cdn.bokeh.org/bokeh/release/bokeh-gl-2.1.1.min.js\": \"cT9JaBz7GiRXdENrJLZNSC6eMNF3nh3fa5fTF51Svp+ukxPdwcU5kGXGPBgDCa2j\"};\n\n    for (var i = 0; i < js_urls.length; i++) {\n      var url = js_urls[i];\n      var element = document.createElement('script');\n      element.onload = on_load;\n      element.onerror = on_error;\n      element.async = false;\n      element.src = url;\n      if (url in hashes) {\n        element.crossOrigin = \"anonymous\";\n        element.integrity = \"sha384-\" + hashes[url];\n      }\n      console.debug(\"Bokeh: injecting script tag for BokehJS library: \", url);\n      document.head.appendChild(element);\n    }\n  };\n\n  function inject_raw_css(css) {\n    const element = document.createElement(\"style\");\n    element.appendChild(document.createTextNode(css));\n    document.body.appendChild(element);\n  }\n\n  \n  var js_urls = [\"https://cdn.bokeh.org/bokeh/release/bokeh-2.1.1.min.js\", \"https://cdn.bokeh.org/bokeh/release/bokeh-widgets-2.1.1.min.js\", \"https://cdn.bokeh.org/bokeh/release/bokeh-tables-2.1.1.min.js\", \"https://cdn.bokeh.org/bokeh/release/bokeh-gl-2.1.1.min.js\"];\n  var css_urls = [];\n  \n\n  var inline_js = [\n    function(Bokeh) {\n      Bokeh.set_log_level(\"info\");\n    },\n    function(Bokeh) {\n    \n    \n    }\n  ];\n\n  function run_inline_js() {\n    \n    if (root.Bokeh !== undefined || force === true) {\n      \n    for (var i = 0; i < inline_js.length; i++) {\n      inline_js[i].call(root, root.Bokeh);\n    }\n    if (force === true) {\n        display_loaded();\n      }} else if (Date.now() < root._bokeh_timeout) {\n      setTimeout(run_inline_js, 100);\n    } else if (!root._bokeh_failed_load) {\n      console.log(\"Bokeh: BokehJS failed to load within specified timeout.\");\n      root._bokeh_failed_load = true;\n    } else if (force !== true) {\n      var cell = $(document.getElementById(\"1117\")).parents('.cell').data().cell;\n      cell.output_area.append_execute_result(NB_LOAD_WARNING)\n    }\n\n  }\n\n  if (root._bokeh_is_loading === 0) {\n    console.debug(\"Bokeh: BokehJS loaded, going straight to plotting\");\n    run_inline_js();\n  } else {\n    load_libs(css_urls, js_urls, function() {\n      console.debug(\"Bokeh: BokehJS plotting callback run at\", now());\n      run_inline_js();\n    });\n  }\n}(window));"
     },
     "metadata": {},
     "output_type": "display_data"
    }
   ],
   "source": [
    "# 주피터 노트북에서 실행하여 출력하기 위해 실행\n",
    "output_notebook()"
   ]
  },
  {
   "cell_type": "code",
   "execution_count": 4,
   "metadata": {
    "scrolled": false
   },
   "outputs": [
    {
     "name": "stderr",
     "output_type": "stream",
     "text": [
      "WARNING:bokeh.core.validation.check:W-1000 (MISSING_RENDERERS): Plot has no renderers: Figure(id='1118', ...)\n"
     ]
    },
    {
     "data": {
      "text/html": [
       "\n",
       "\n",
       "\n",
       "\n",
       "\n",
       "\n",
       "  <div class=\"bk-root\" id=\"264b79ee-e05d-4468-9437-b18f917a5f6e\" data-root-id=\"1118\"></div>\n"
      ]
     },
     "metadata": {},
     "output_type": "display_data"
    },
    {
     "data": {
      "application/javascript": [
       "(function(root) {\n",
       "  function embed_document(root) {\n",
       "    \n",
       "  var docs_json = {\"ba71e03e-27a0-474d-a028-e1fc1e963355\":{\"roots\":{\"references\":[{\"attributes\":{\"below\":[{\"id\":\"1127\"}],\"center\":[{\"id\":\"1130\"},{\"id\":\"1134\"}],\"left\":[{\"id\":\"1131\"}],\"title\":{\"id\":\"1149\"},\"toolbar\":{\"id\":\"1142\"},\"x_range\":{\"id\":\"1119\"},\"x_scale\":{\"id\":\"1123\"},\"y_range\":{\"id\":\"1121\"},\"y_scale\":{\"id\":\"1125\"}},\"id\":\"1118\",\"subtype\":\"Figure\",\"type\":\"Plot\"},{\"attributes\":{},\"id\":\"1123\",\"type\":\"LinearScale\"},{\"attributes\":{},\"id\":\"1125\",\"type\":\"LinearScale\"},{\"attributes\":{\"formatter\":{\"id\":\"1154\"},\"ticker\":{\"id\":\"1128\"}},\"id\":\"1127\",\"type\":\"LinearAxis\"},{\"attributes\":{},\"id\":\"1135\",\"type\":\"PanTool\"},{\"attributes\":{},\"id\":\"1119\",\"type\":\"DataRange1d\"},{\"attributes\":{},\"id\":\"1140\",\"type\":\"HelpTool\"},{\"attributes\":{},\"id\":\"1139\",\"type\":\"ResetTool\"},{\"attributes\":{},\"id\":\"1138\",\"type\":\"SaveTool\"},{\"attributes\":{\"overlay\":{\"id\":\"1141\"}},\"id\":\"1137\",\"type\":\"BoxZoomTool\"},{\"attributes\":{},\"id\":\"1136\",\"type\":\"WheelZoomTool\"},{\"attributes\":{\"bottom_units\":\"screen\",\"fill_alpha\":0.5,\"fill_color\":\"lightgrey\",\"left_units\":\"screen\",\"level\":\"overlay\",\"line_alpha\":1.0,\"line_color\":\"black\",\"line_dash\":[4,4],\"line_width\":2,\"right_units\":\"screen\",\"top_units\":\"screen\"},\"id\":\"1141\",\"type\":\"BoxAnnotation\"},{\"attributes\":{\"text\":\"\"},\"id\":\"1149\",\"type\":\"Title\"},{\"attributes\":{},\"id\":\"1121\",\"type\":\"DataRange1d\"},{\"attributes\":{},\"id\":\"1152\",\"type\":\"BasicTickFormatter\"},{\"attributes\":{\"axis\":{\"id\":\"1131\"},\"dimension\":1,\"ticker\":null},\"id\":\"1134\",\"type\":\"Grid\"},{\"attributes\":{\"axis\":{\"id\":\"1127\"},\"ticker\":null},\"id\":\"1130\",\"type\":\"Grid\"},{\"attributes\":{},\"id\":\"1132\",\"type\":\"BasicTicker\"},{\"attributes\":{\"formatter\":{\"id\":\"1152\"},\"ticker\":{\"id\":\"1132\"}},\"id\":\"1131\",\"type\":\"LinearAxis\"},{\"attributes\":{},\"id\":\"1154\",\"type\":\"BasicTickFormatter\"},{\"attributes\":{\"active_drag\":\"auto\",\"active_inspect\":\"auto\",\"active_multi\":null,\"active_scroll\":\"auto\",\"active_tap\":\"auto\",\"tools\":[{\"id\":\"1135\"},{\"id\":\"1136\"},{\"id\":\"1137\"},{\"id\":\"1138\"},{\"id\":\"1139\"},{\"id\":\"1140\"}]},\"id\":\"1142\",\"type\":\"Toolbar\"},{\"attributes\":{},\"id\":\"1128\",\"type\":\"BasicTicker\"}],\"root_ids\":[\"1118\"]},\"title\":\"Bokeh Application\",\"version\":\"2.1.1\"}};\n",
       "  var render_items = [{\"docid\":\"ba71e03e-27a0-474d-a028-e1fc1e963355\",\"root_ids\":[\"1118\"],\"roots\":{\"1118\":\"264b79ee-e05d-4468-9437-b18f917a5f6e\"}}];\n",
       "  root.Bokeh.embed.embed_items_notebook(docs_json, render_items);\n",
       "\n",
       "  }\n",
       "  if (root.Bokeh !== undefined) {\n",
       "    embed_document(root);\n",
       "  } else {\n",
       "    var attempts = 0;\n",
       "    var timer = setInterval(function(root) {\n",
       "      if (root.Bokeh !== undefined) {\n",
       "        clearInterval(timer);\n",
       "        embed_document(root);\n",
       "      } else {\n",
       "        attempts++;\n",
       "        if (attempts > 100) {\n",
       "          clearInterval(timer);\n",
       "          console.log(\"Bokeh: ERROR: Unable to run BokehJS code because BokehJS library is missing\");\n",
       "        }\n",
       "      }\n",
       "    }, 10, root)\n",
       "  }\n",
       "})(window);"
      ],
      "application/vnd.bokehjs_exec.v0+json": ""
     },
     "metadata": {
      "application/vnd.bokehjs_exec.v0+json": {
       "id": "1118"
      }
     },
     "output_type": "display_data"
    }
   ],
   "source": [
    "# figure 클래스 객체 생성\n",
    "plot = figure()\n",
    "show(plot)"
   ]
  },
  {
   "cell_type": "markdown",
   "metadata": {},
   "source": [
    "## 2) Scatter Plot"
   ]
  },
  {
   "cell_type": "code",
   "execution_count": 8,
   "metadata": {},
   "outputs": [
    {
     "data": {
      "text/html": [
       "\n",
       "\n",
       "\n",
       "\n",
       "\n",
       "\n",
       "  <div class=\"bk-root\" id=\"a9067092-213b-4c7f-9f20-57949726013e\" data-root-id=\"1304\"></div>\n"
      ]
     },
     "metadata": {},
     "output_type": "display_data"
    },
    {
     "data": {
      "application/javascript": [
       "(function(root) {\n",
       "  function embed_document(root) {\n",
       "    \n",
       "  var docs_json = {\"e803d473-23dc-467a-b2bb-c720f64fe923\":{\"roots\":{\"references\":[{\"attributes\":{\"below\":[{\"id\":\"1313\"}],\"center\":[{\"id\":\"1316\"},{\"id\":\"1320\"}],\"left\":[{\"id\":\"1317\"}],\"plot_height\":400,\"plot_width\":400,\"renderers\":[{\"id\":\"1331\"}],\"title\":{\"id\":\"1349\"},\"toolbar\":{\"id\":\"1324\"},\"x_range\":{\"id\":\"1305\"},\"x_scale\":{\"id\":\"1309\"},\"y_range\":{\"id\":\"1307\"},\"y_scale\":{\"id\":\"1311\"}},\"id\":\"1304\",\"subtype\":\"Figure\",\"type\":\"Plot\"},{\"attributes\":{\"axis\":{\"id\":\"1313\"},\"ticker\":null},\"id\":\"1316\",\"type\":\"Grid\"},{\"attributes\":{\"formatter\":{\"id\":\"1352\"},\"ticker\":{\"id\":\"1318\"}},\"id\":\"1317\",\"type\":\"LinearAxis\"},{\"attributes\":{},\"id\":\"1354\",\"type\":\"BasicTickFormatter\"},{\"attributes\":{},\"id\":\"1318\",\"type\":\"BasicTicker\"},{\"attributes\":{},\"id\":\"1355\",\"type\":\"Selection\"},{\"attributes\":{\"axis\":{\"id\":\"1317\"},\"dimension\":1,\"ticker\":null},\"id\":\"1320\",\"type\":\"Grid\"},{\"attributes\":{},\"id\":\"1356\",\"type\":\"UnionRenderers\"},{\"attributes\":{\"fill_color\":{\"value\":\"red\"},\"line_color\":{\"value\":\"red\"},\"size\":{\"units\":\"screen\",\"value\":10},\"x\":{\"field\":\"x\"},\"y\":{\"field\":\"y\"}},\"id\":\"1329\",\"type\":\"Circle\"},{\"attributes\":{},\"id\":\"1321\",\"type\":\"PanTool\"},{\"attributes\":{},\"id\":\"1322\",\"type\":\"ResetTool\"},{\"attributes\":{},\"id\":\"1323\",\"type\":\"SaveTool\"},{\"attributes\":{\"fill_alpha\":{\"value\":0.1},\"fill_color\":{\"value\":\"red\"},\"line_alpha\":{\"value\":0.1},\"line_color\":{\"value\":\"red\"},\"size\":{\"units\":\"screen\",\"value\":10},\"x\":{\"field\":\"x\"},\"y\":{\"field\":\"y\"}},\"id\":\"1330\",\"type\":\"Circle\"},{\"attributes\":{\"data\":{\"x\":[1,2,3,4],\"y\":[1,2,3,4]},\"selected\":{\"id\":\"1355\"},\"selection_policy\":{\"id\":\"1356\"}},\"id\":\"1328\",\"type\":\"ColumnDataSource\"},{\"attributes\":{\"active_drag\":\"auto\",\"active_inspect\":\"auto\",\"active_multi\":null,\"active_scroll\":\"auto\",\"active_tap\":\"auto\",\"tools\":[{\"id\":\"1321\"},{\"id\":\"1322\"},{\"id\":\"1323\"}]},\"id\":\"1324\",\"type\":\"Toolbar\"},{\"attributes\":{},\"id\":\"1305\",\"type\":\"DataRange1d\"},{\"attributes\":{},\"id\":\"1307\",\"type\":\"DataRange1d\"},{\"attributes\":{},\"id\":\"1309\",\"type\":\"LinearScale\"},{\"attributes\":{},\"id\":\"1311\",\"type\":\"LinearScale\"},{\"attributes\":{\"data_source\":{\"id\":\"1328\"},\"glyph\":{\"id\":\"1329\"},\"hover_glyph\":null,\"muted_glyph\":null,\"nonselection_glyph\":{\"id\":\"1330\"},\"selection_glyph\":null,\"view\":{\"id\":\"1332\"}},\"id\":\"1331\",\"type\":\"GlyphRenderer\"},{\"attributes\":{\"formatter\":{\"id\":\"1354\"},\"ticker\":{\"id\":\"1314\"}},\"id\":\"1313\",\"type\":\"LinearAxis\"},{\"attributes\":{\"text\":\"\"},\"id\":\"1349\",\"type\":\"Title\"},{\"attributes\":{\"source\":{\"id\":\"1328\"}},\"id\":\"1332\",\"type\":\"CDSView\"},{\"attributes\":{},\"id\":\"1314\",\"type\":\"BasicTicker\"},{\"attributes\":{},\"id\":\"1352\",\"type\":\"BasicTickFormatter\"}],\"root_ids\":[\"1304\"]},\"title\":\"Bokeh Application\",\"version\":\"2.1.1\"}};\n",
       "  var render_items = [{\"docid\":\"e803d473-23dc-467a-b2bb-c720f64fe923\",\"root_ids\":[\"1304\"],\"roots\":{\"1304\":\"a9067092-213b-4c7f-9f20-57949726013e\"}}];\n",
       "  root.Bokeh.embed.embed_items_notebook(docs_json, render_items);\n",
       "\n",
       "  }\n",
       "  if (root.Bokeh !== undefined) {\n",
       "    embed_document(root);\n",
       "  } else {\n",
       "    var attempts = 0;\n",
       "    var timer = setInterval(function(root) {\n",
       "      if (root.Bokeh !== undefined) {\n",
       "        clearInterval(timer);\n",
       "        embed_document(root);\n",
       "      } else {\n",
       "        attempts++;\n",
       "        if (attempts > 100) {\n",
       "          clearInterval(timer);\n",
       "          console.log(\"Bokeh: ERROR: Unable to run BokehJS code because BokehJS library is missing\");\n",
       "        }\n",
       "      }\n",
       "    }, 10, root)\n",
       "  }\n",
       "})(window);"
      ],
      "application/vnd.bokehjs_exec.v0+json": ""
     },
     "metadata": {
      "application/vnd.bokehjs_exec.v0+json": {
       "id": "1304"
      }
     },
     "output_type": "display_data"
    }
   ],
   "source": [
    "plot = figure(plot_width=400, plot_height=400, tools='pan, reset, save')\n",
    "# tools: tool에 들어갈 것들 설정 (pan 움직임, reset 초기화, save 저장)\n",
    "plot.circle([1, 2, 3, 4], [1, 2, 3, 4], color='red',size=10)\n",
    "# plot.??: ??에 따라 점의 모양 결정!\n",
    "show(plot)"
   ]
  },
  {
   "cell_type": "markdown",
   "metadata": {},
   "source": [
    "### plot.?? 에 쓸 수 있는 marker들\n",
    "- marker: asterisk, circle, circle_cross, circle_x, cross, diamond, diamond_cross, inverted_triangle, square, square_cross, square_x, triangle, x"
   ]
  },
  {
   "cell_type": "markdown",
   "metadata": {},
   "source": [
    "### iris 데이터에 적용"
   ]
  },
  {
   "cell_type": "code",
   "execution_count": 9,
   "metadata": {},
   "outputs": [],
   "source": [
    "from bokeh.sampledata.iris import flowers\n",
    "# 자동으로 데이터가 flowers로 저장됨"
   ]
  },
  {
   "cell_type": "code",
   "execution_count": 10,
   "metadata": {
    "scrolled": false
   },
   "outputs": [
    {
     "data": {
      "text/html": [
       "<div>\n",
       "<style scoped>\n",
       "    .dataframe tbody tr th:only-of-type {\n",
       "        vertical-align: middle;\n",
       "    }\n",
       "\n",
       "    .dataframe tbody tr th {\n",
       "        vertical-align: top;\n",
       "    }\n",
       "\n",
       "    .dataframe thead th {\n",
       "        text-align: right;\n",
       "    }\n",
       "</style>\n",
       "<table border=\"1\" class=\"dataframe\">\n",
       "  <thead>\n",
       "    <tr style=\"text-align: right;\">\n",
       "      <th></th>\n",
       "      <th>sepal_length</th>\n",
       "      <th>sepal_width</th>\n",
       "      <th>petal_length</th>\n",
       "      <th>petal_width</th>\n",
       "      <th>species</th>\n",
       "    </tr>\n",
       "  </thead>\n",
       "  <tbody>\n",
       "    <tr>\n",
       "      <th>0</th>\n",
       "      <td>5.1</td>\n",
       "      <td>3.5</td>\n",
       "      <td>1.4</td>\n",
       "      <td>0.2</td>\n",
       "      <td>setosa</td>\n",
       "    </tr>\n",
       "    <tr>\n",
       "      <th>1</th>\n",
       "      <td>4.9</td>\n",
       "      <td>3.0</td>\n",
       "      <td>1.4</td>\n",
       "      <td>0.2</td>\n",
       "      <td>setosa</td>\n",
       "    </tr>\n",
       "    <tr>\n",
       "      <th>2</th>\n",
       "      <td>4.7</td>\n",
       "      <td>3.2</td>\n",
       "      <td>1.3</td>\n",
       "      <td>0.2</td>\n",
       "      <td>setosa</td>\n",
       "    </tr>\n",
       "    <tr>\n",
       "      <th>3</th>\n",
       "      <td>4.6</td>\n",
       "      <td>3.1</td>\n",
       "      <td>1.5</td>\n",
       "      <td>0.2</td>\n",
       "      <td>setosa</td>\n",
       "    </tr>\n",
       "    <tr>\n",
       "      <th>4</th>\n",
       "      <td>5.0</td>\n",
       "      <td>3.6</td>\n",
       "      <td>1.4</td>\n",
       "      <td>0.2</td>\n",
       "      <td>setosa</td>\n",
       "    </tr>\n",
       "  </tbody>\n",
       "</table>\n",
       "</div>"
      ],
      "text/plain": [
       "   sepal_length  sepal_width  petal_length  petal_width species\n",
       "0           5.1          3.5           1.4          0.2  setosa\n",
       "1           4.9          3.0           1.4          0.2  setosa\n",
       "2           4.7          3.2           1.3          0.2  setosa\n",
       "3           4.6          3.1           1.5          0.2  setosa\n",
       "4           5.0          3.6           1.4          0.2  setosa"
      ]
     },
     "execution_count": 10,
     "metadata": {},
     "output_type": "execute_result"
    }
   ],
   "source": [
    "flowers.head()"
   ]
  },
  {
   "cell_type": "code",
   "execution_count": 11,
   "metadata": {
    "scrolled": true
   },
   "outputs": [
    {
     "data": {
      "text/html": [
       "\n",
       "\n",
       "\n",
       "\n",
       "\n",
       "\n",
       "  <div class=\"bk-root\" id=\"12e20a74-3b7f-40d9-be69-eeedce996165\" data-root-id=\"1405\"></div>\n"
      ]
     },
     "metadata": {},
     "output_type": "display_data"
    },
    {
     "data": {
      "application/javascript": [
       "(function(root) {\n",
       "  function embed_document(root) {\n",
       "    \n",
       "  var docs_json = {\"3dbfa2d6-18c0-418e-bba7-4a7095bc3db7\":{\"roots\":{\"references\":[{\"attributes\":{\"below\":[{\"id\":\"1416\"}],\"center\":[{\"id\":\"1419\"},{\"id\":\"1423\"}],\"left\":[{\"id\":\"1420\"}],\"plot_height\":400,\"plot_width\":400,\"renderers\":[{\"id\":\"1441\"}],\"title\":{\"id\":\"1406\"},\"toolbar\":{\"id\":\"1431\"},\"x_range\":{\"id\":\"1408\"},\"x_scale\":{\"id\":\"1412\"},\"y_range\":{\"id\":\"1410\"},\"y_scale\":{\"id\":\"1414\"}},\"id\":\"1405\",\"subtype\":\"Figure\",\"type\":\"Plot\"},{\"attributes\":{},\"id\":\"1417\",\"type\":\"BasicTicker\"},{\"attributes\":{\"axis\":{\"id\":\"1416\"},\"ticker\":null},\"id\":\"1419\",\"type\":\"Grid\"},{\"attributes\":{\"axis_label\":\"Sepal Length\",\"formatter\":{\"id\":\"1469\"},\"ticker\":{\"id\":\"1421\"}},\"id\":\"1420\",\"type\":\"LinearAxis\"},{\"attributes\":{\"source\":{\"id\":\"1438\"}},\"id\":\"1442\",\"type\":\"CDSView\"},{\"attributes\":{},\"id\":\"1471\",\"type\":\"BasicTickFormatter\"},{\"attributes\":{},\"id\":\"1421\",\"type\":\"BasicTicker\"},{\"attributes\":{\"bottom_units\":\"screen\",\"fill_alpha\":0.5,\"fill_color\":\"lightgrey\",\"left_units\":\"screen\",\"level\":\"overlay\",\"line_alpha\":1.0,\"line_color\":\"black\",\"line_dash\":[4,4],\"line_width\":2,\"right_units\":\"screen\",\"top_units\":\"screen\"},\"id\":\"1430\",\"type\":\"BoxAnnotation\"},{\"attributes\":{\"axis\":{\"id\":\"1420\"},\"dimension\":1,\"ticker\":null},\"id\":\"1423\",\"type\":\"Grid\"},{\"attributes\":{\"fill_color\":{\"value\":\"gold\"},\"line_color\":{\"value\":\"gold\"},\"size\":{\"units\":\"screen\",\"value\":5},\"x\":{\"field\":\"x\"},\"y\":{\"field\":\"y\"}},\"id\":\"1439\",\"type\":\"Circle\"},{\"attributes\":{\"axis_label\":\"Petal Length\",\"formatter\":{\"id\":\"1471\"},\"ticker\":{\"id\":\"1417\"}},\"id\":\"1416\",\"type\":\"LinearAxis\"},{\"attributes\":{},\"id\":\"1473\",\"type\":\"Selection\"},{\"attributes\":{},\"id\":\"1474\",\"type\":\"UnionRenderers\"},{\"attributes\":{\"fill_alpha\":{\"value\":0.1},\"fill_color\":{\"value\":\"gold\"},\"line_alpha\":{\"value\":0.1},\"line_color\":{\"value\":\"gold\"},\"size\":{\"units\":\"screen\",\"value\":5},\"x\":{\"field\":\"x\"},\"y\":{\"field\":\"y\"}},\"id\":\"1440\",\"type\":\"Circle\"},{\"attributes\":{\"data_source\":{\"id\":\"1438\"},\"glyph\":{\"id\":\"1439\"},\"hover_glyph\":null,\"muted_glyph\":null,\"nonselection_glyph\":{\"id\":\"1440\"},\"selection_glyph\":null,\"view\":{\"id\":\"1442\"}},\"id\":\"1441\",\"type\":\"GlyphRenderer\"},{\"attributes\":{},\"id\":\"1424\",\"type\":\"PanTool\"},{\"attributes\":{},\"id\":\"1414\",\"type\":\"LinearScale\"},{\"attributes\":{},\"id\":\"1425\",\"type\":\"WheelZoomTool\"},{\"attributes\":{\"overlay\":{\"id\":\"1430\"}},\"id\":\"1426\",\"type\":\"BoxZoomTool\"},{\"attributes\":{},\"id\":\"1408\",\"type\":\"DataRange1d\"},{\"attributes\":{},\"id\":\"1427\",\"type\":\"SaveTool\"},{\"attributes\":{},\"id\":\"1412\",\"type\":\"LinearScale\"},{\"attributes\":{},\"id\":\"1428\",\"type\":\"ResetTool\"},{\"attributes\":{},\"id\":\"1410\",\"type\":\"DataRange1d\"},{\"attributes\":{},\"id\":\"1429\",\"type\":\"HelpTool\"},{\"attributes\":{\"text\":\"Petal Length vs. Sepal Length\"},\"id\":\"1406\",\"type\":\"Title\"},{\"attributes\":{\"active_drag\":\"auto\",\"active_inspect\":\"auto\",\"active_multi\":null,\"active_scroll\":\"auto\",\"active_tap\":\"auto\",\"tools\":[{\"id\":\"1424\"},{\"id\":\"1425\"},{\"id\":\"1426\"},{\"id\":\"1427\"},{\"id\":\"1428\"},{\"id\":\"1429\"}]},\"id\":\"1431\",\"type\":\"Toolbar\"},{\"attributes\":{\"data\":{\"x\":{\"__ndarray__\":\"ZmZmZmZm9j9mZmZmZmb2P83MzMzMzPQ/AAAAAAAA+D9mZmZmZmb2PzMzMzMzM/s/ZmZmZmZm9j8AAAAAAAD4P2ZmZmZmZvY/AAAAAAAA+D8AAAAAAAD4P5qZmZmZmfk/ZmZmZmZm9j+amZmZmZnxPzMzMzMzM/M/AAAAAAAA+D/NzMzMzMz0P2ZmZmZmZvY/MzMzMzMz+z8AAAAAAAD4PzMzMzMzM/s/AAAAAAAA+D8AAAAAAADwPzMzMzMzM/s/ZmZmZmZm/j+amZmZmZn5P5qZmZmZmfk/AAAAAAAA+D9mZmZmZmb2P5qZmZmZmfk/mpmZmZmZ+T8AAAAAAAD4PwAAAAAAAPg/ZmZmZmZm9j8AAAAAAAD4PzMzMzMzM/M/zczMzMzM9D9mZmZmZmb2P83MzMzMzPQ/AAAAAAAA+D/NzMzMzMz0P83MzMzMzPQ/zczMzMzM9D+amZmZmZn5P2ZmZmZmZv4/ZmZmZmZm9j+amZmZmZn5P2ZmZmZmZvY/AAAAAAAA+D9mZmZmZmb2P83MzMzMzBJAAAAAAAAAEkCamZmZmZkTQAAAAAAAABBAZmZmZmZmEkAAAAAAAAASQM3MzMzMzBJAZmZmZmZmCkBmZmZmZmYSQDMzMzMzMw9AAAAAAAAADEDNzMzMzMwQQAAAAAAAABBAzczMzMzMEkDNzMzMzMwMQJqZmZmZmRFAAAAAAAAAEkBmZmZmZmYQQAAAAAAAABJAMzMzMzMzD0AzMzMzMzMTQAAAAAAAABBAmpmZmZmZE0DNzMzMzMwSQDMzMzMzMxFAmpmZmZmZEUAzMzMzMzMTQAAAAAAAABRAAAAAAAAAEkAAAAAAAAAMQGZmZmZmZg5AmpmZmZmZDUAzMzMzMzMPQGZmZmZmZhRAAAAAAAAAEkAAAAAAAAASQM3MzMzMzBJAmpmZmZmZEUBmZmZmZmYQQAAAAAAAABBAmpmZmZmZEUBmZmZmZmYSQAAAAAAAABBAZmZmZmZmCkDNzMzMzMwQQM3MzMzMzBBAzczMzMzMEEAzMzMzMzMRQAAAAAAAAAhAZmZmZmZmEEAAAAAAAAAYQGZmZmZmZhRAmpmZmZmZF0BmZmZmZmYWQDMzMzMzMxdAZmZmZmZmGkAAAAAAAAASQDMzMzMzMxlAMzMzMzMzF0BmZmZmZmYYQGZmZmZmZhRAMzMzMzMzFUAAAAAAAAAWQAAAAAAAABRAZmZmZmZmFEAzMzMzMzMVQAAAAAAAABZAzczMzMzMGkCamZmZmZkbQAAAAAAAABRAzczMzMzMFkCamZmZmZkTQM3MzMzMzBpAmpmZmZmZE0DNzMzMzMwWQAAAAAAAABhAMzMzMzMzE0CamZmZmZkTQGZmZmZmZhZAMzMzMzMzF0BmZmZmZmYYQJqZmZmZmRlAZmZmZmZmFkBmZmZmZmYUQGZmZmZmZhZAZmZmZmZmGEBmZmZmZmYWQAAAAAAAABZAMzMzMzMzE0CamZmZmZkVQGZmZmZmZhZAZmZmZmZmFEBmZmZmZmYUQJqZmZmZmRdAzczMzMzMFkDNzMzMzMwUQAAAAAAAABRAzczMzMzMFECamZmZmZkVQGZmZmZmZhRA\",\"dtype\":\"float64\",\"order\":\"little\",\"shape\":[150]},\"y\":{\"__ndarray__\":\"ZmZmZmZmFECamZmZmZkTQM3MzMzMzBJAZmZmZmZmEkAAAAAAAAAUQJqZmZmZmRVAZmZmZmZmEkAAAAAAAAAUQJqZmZmZmRFAmpmZmZmZE0CamZmZmZkVQDMzMzMzMxNAMzMzMzMzE0AzMzMzMzMRQDMzMzMzMxdAzczMzMzMFkCamZmZmZkVQGZmZmZmZhRAzczMzMzMFkBmZmZmZmYUQJqZmZmZmRVAZmZmZmZmFEBmZmZmZmYSQGZmZmZmZhRAMzMzMzMzE0AAAAAAAAAUQAAAAAAAABRAzczMzMzMFEDNzMzMzMwUQM3MzMzMzBJAMzMzMzMzE0CamZmZmZkVQM3MzMzMzBRAAAAAAAAAFkCamZmZmZkTQAAAAAAAABRAAAAAAAAAFkCamZmZmZkTQJqZmZmZmRFAZmZmZmZmFEAAAAAAAAAUQAAAAAAAABJAmpmZmZmZEUAAAAAAAAAUQGZmZmZmZhRAMzMzMzMzE0BmZmZmZmYUQGZmZmZmZhJAMzMzMzMzFUAAAAAAAAAUQAAAAAAAABxAmpmZmZmZGUCamZmZmZkbQAAAAAAAABZAAAAAAAAAGkDNzMzMzMwWQDMzMzMzMxlAmpmZmZmZE0BmZmZmZmYaQM3MzMzMzBRAAAAAAAAAFECamZmZmZkXQAAAAAAAABhAZmZmZmZmGEBmZmZmZmYWQM3MzMzMzBpAZmZmZmZmFkAzMzMzMzMXQM3MzMzMzBhAZmZmZmZmFkCamZmZmZkXQGZmZmZmZhhAMzMzMzMzGUBmZmZmZmYYQJqZmZmZmRlAZmZmZmZmGkAzMzMzMzMbQM3MzMzMzBpAAAAAAAAAGEDNzMzMzMwWQAAAAAAAABZAAAAAAAAAFkAzMzMzMzMXQAAAAAAAABhAmpmZmZmZFUAAAAAAAAAYQM3MzMzMzBpAMzMzMzMzGUBmZmZmZmYWQAAAAAAAABZAAAAAAAAAFkBmZmZmZmYYQDMzMzMzMxdAAAAAAAAAFEBmZmZmZmYWQM3MzMzMzBZAzczMzMzMFkDNzMzMzMwYQGZmZmZmZhRAzczMzMzMFkAzMzMzMzMZQDMzMzMzMxdAZmZmZmZmHEAzMzMzMzMZQAAAAAAAABpAZmZmZmZmHkCamZmZmZkTQDMzMzMzMx1AzczMzMzMGkDNzMzMzMwcQAAAAAAAABpAmpmZmZmZGUAzMzMzMzMbQM3MzMzMzBZAMzMzMzMzF0CamZmZmZkZQAAAAAAAABpAzczMzMzMHkDNzMzMzMweQAAAAAAAABhAmpmZmZmZG0BmZmZmZmYWQM3MzMzMzB5AMzMzMzMzGUDNzMzMzMwaQM3MzMzMzBxAzczMzMzMGEBmZmZmZmYYQJqZmZmZmRlAzczMzMzMHECamZmZmZkdQJqZmZmZmR9AmpmZmZmZGUAzMzMzMzMZQGZmZmZmZhhAzczMzMzMHkAzMzMzMzMZQJqZmZmZmRlAAAAAAAAAGECamZmZmZkbQM3MzMzMzBpAmpmZmZmZG0AzMzMzMzMXQDMzMzMzMxtAzczMzMzMGkDNzMzMzMwaQDMzMzMzMxlAAAAAAAAAGkDNzMzMzMwYQJqZmZmZmRdA\",\"dtype\":\"float64\",\"order\":\"little\",\"shape\":[150]}},\"selected\":{\"id\":\"1473\"},\"selection_policy\":{\"id\":\"1474\"}},\"id\":\"1438\",\"type\":\"ColumnDataSource\"},{\"attributes\":{},\"id\":\"1469\",\"type\":\"BasicTickFormatter\"}],\"root_ids\":[\"1405\"]},\"title\":\"Bokeh Application\",\"version\":\"2.1.1\"}};\n",
       "  var render_items = [{\"docid\":\"3dbfa2d6-18c0-418e-bba7-4a7095bc3db7\",\"root_ids\":[\"1405\"],\"roots\":{\"1405\":\"12e20a74-3b7f-40d9-be69-eeedce996165\"}}];\n",
       "  root.Bokeh.embed.embed_items_notebook(docs_json, render_items);\n",
       "\n",
       "  }\n",
       "  if (root.Bokeh !== undefined) {\n",
       "    embed_document(root);\n",
       "  } else {\n",
       "    var attempts = 0;\n",
       "    var timer = setInterval(function(root) {\n",
       "      if (root.Bokeh !== undefined) {\n",
       "        clearInterval(timer);\n",
       "        embed_document(root);\n",
       "      } else {\n",
       "        attempts++;\n",
       "        if (attempts > 100) {\n",
       "          clearInterval(timer);\n",
       "          console.log(\"Bokeh: ERROR: Unable to run BokehJS code because BokehJS library is missing\");\n",
       "        }\n",
       "      }\n",
       "    }, 10, root)\n",
       "  }\n",
       "})(window);"
      ],
      "application/vnd.bokehjs_exec.v0+json": ""
     },
     "metadata": {
      "application/vnd.bokehjs_exec.v0+json": {
       "id": "1405"
      }
     },
     "output_type": "display_data"
    }
   ],
   "source": [
    "plot = figure(plot_width=400, plot_height=400,\n",
    "              x_axis_label='Petal Length', y_axis_label='Sepal Length',\n",
    "              title='Petal Length vs. Sepal Length')\n",
    "plot.circle(flowers['petal_length'], flowers['sepal_length'], \n",
    "            color='gold', size=5) # scatter plot\n",
    "show(plot)"
   ]
  },
  {
   "cell_type": "markdown",
   "metadata": {},
   "source": [
    "## 3) Line Plot"
   ]
  },
  {
   "cell_type": "code",
   "execution_count": 12,
   "metadata": {},
   "outputs": [],
   "source": [
    "import pandas as pd\n",
    "gapminder = pd.read_csv('gapminder.csv')\n",
    "gapminder = gapminder[gapminder['Country']=='France']\n",
    "gapminder = gapminder.reset_index(drop=True)"
   ]
  },
  {
   "cell_type": "code",
   "execution_count": 13,
   "metadata": {},
   "outputs": [
    {
     "data": {
      "text/html": [
       "<div>\n",
       "<style scoped>\n",
       "    .dataframe tbody tr th:only-of-type {\n",
       "        vertical-align: middle;\n",
       "    }\n",
       "\n",
       "    .dataframe tbody tr th {\n",
       "        vertical-align: top;\n",
       "    }\n",
       "\n",
       "    .dataframe thead th {\n",
       "        text-align: right;\n",
       "    }\n",
       "</style>\n",
       "<table border=\"1\" class=\"dataframe\">\n",
       "  <thead>\n",
       "    <tr style=\"text-align: right;\">\n",
       "      <th></th>\n",
       "      <th>Country</th>\n",
       "      <th>Year</th>\n",
       "      <th>fertility</th>\n",
       "      <th>life</th>\n",
       "      <th>population</th>\n",
       "      <th>child_mortality</th>\n",
       "      <th>gdp</th>\n",
       "      <th>region</th>\n",
       "    </tr>\n",
       "  </thead>\n",
       "  <tbody>\n",
       "    <tr>\n",
       "      <th>0</th>\n",
       "      <td>France</td>\n",
       "      <td>1964</td>\n",
       "      <td>2.800</td>\n",
       "      <td>71.32</td>\n",
       "      <td>48194218.0</td>\n",
       "      <td>23.4</td>\n",
       "      <td>13969.0</td>\n",
       "      <td>Europe &amp; Central Asia</td>\n",
       "    </tr>\n",
       "    <tr>\n",
       "      <th>1</th>\n",
       "      <td>France</td>\n",
       "      <td>1965</td>\n",
       "      <td>2.772</td>\n",
       "      <td>71.15</td>\n",
       "      <td>48754817.0</td>\n",
       "      <td>22.3</td>\n",
       "      <td>14514.0</td>\n",
       "      <td>Europe &amp; Central Asia</td>\n",
       "    </tr>\n",
       "    <tr>\n",
       "      <th>2</th>\n",
       "      <td>France</td>\n",
       "      <td>1966</td>\n",
       "      <td>2.730</td>\n",
       "      <td>71.56</td>\n",
       "      <td>49238715.0</td>\n",
       "      <td>21.4</td>\n",
       "      <td>15158.0</td>\n",
       "      <td>Europe &amp; Central Asia</td>\n",
       "    </tr>\n",
       "    <tr>\n",
       "      <th>3</th>\n",
       "      <td>France</td>\n",
       "      <td>1967</td>\n",
       "      <td>2.679</td>\n",
       "      <td>71.55</td>\n",
       "      <td>49655097.0</td>\n",
       "      <td>20.6</td>\n",
       "      <td>15759.0</td>\n",
       "      <td>Europe &amp; Central Asia</td>\n",
       "    </tr>\n",
       "    <tr>\n",
       "      <th>4</th>\n",
       "      <td>France</td>\n",
       "      <td>1968</td>\n",
       "      <td>2.621</td>\n",
       "      <td>71.54</td>\n",
       "      <td>50026522.0</td>\n",
       "      <td>19.9</td>\n",
       "      <td>16321.0</td>\n",
       "      <td>Europe &amp; Central Asia</td>\n",
       "    </tr>\n",
       "  </tbody>\n",
       "</table>\n",
       "</div>"
      ],
      "text/plain": [
       "  Country  Year  fertility   life  population  child_mortality      gdp  \\\n",
       "0  France  1964      2.800  71.32  48194218.0             23.4  13969.0   \n",
       "1  France  1965      2.772  71.15  48754817.0             22.3  14514.0   \n",
       "2  France  1966      2.730  71.56  49238715.0             21.4  15158.0   \n",
       "3  France  1967      2.679  71.55  49655097.0             20.6  15759.0   \n",
       "4  France  1968      2.621  71.54  50026522.0             19.9  16321.0   \n",
       "\n",
       "                  region  \n",
       "0  Europe & Central Asia  \n",
       "1  Europe & Central Asia  \n",
       "2  Europe & Central Asia  \n",
       "3  Europe & Central Asia  \n",
       "4  Europe & Central Asia  "
      ]
     },
     "execution_count": 13,
     "metadata": {},
     "output_type": "execute_result"
    }
   ],
   "source": [
    "gapminder.head()"
   ]
  },
  {
   "cell_type": "code",
   "execution_count": 14,
   "metadata": {},
   "outputs": [
    {
     "data": {
      "text/html": [
       "\n",
       "\n",
       "\n",
       "\n",
       "\n",
       "\n",
       "  <div class=\"bk-root\" id=\"047012f9-0a2b-41ac-8fa5-422790fb4dc9\" data-root-id=\"1523\"></div>\n"
      ]
     },
     "metadata": {},
     "output_type": "display_data"
    },
    {
     "data": {
      "application/javascript": [
       "(function(root) {\n",
       "  function embed_document(root) {\n",
       "    \n",
       "  var docs_json = {\"fbe31eda-794c-41b8-a5fa-80858ade130d\":{\"roots\":{\"references\":[{\"attributes\":{\"below\":[{\"id\":\"1534\"}],\"center\":[{\"id\":\"1537\"},{\"id\":\"1541\"}],\"left\":[{\"id\":\"1538\"}],\"plot_height\":400,\"plot_width\":700,\"renderers\":[{\"id\":\"1559\"},{\"id\":\"1564\"}],\"title\":{\"id\":\"1524\"},\"toolbar\":{\"id\":\"1549\"},\"x_range\":{\"id\":\"1526\"},\"x_scale\":{\"id\":\"1530\"},\"y_range\":{\"id\":\"1528\"},\"y_scale\":{\"id\":\"1532\"}},\"id\":\"1523\",\"subtype\":\"Figure\",\"type\":\"Plot\"},{\"attributes\":{},\"id\":\"1545\",\"type\":\"SaveTool\"},{\"attributes\":{\"line_color\":\"#1f77b4\",\"line_width\":3,\"x\":{\"field\":\"x\"},\"y\":{\"field\":\"y\"}},\"id\":\"1562\",\"type\":\"Line\"},{\"attributes\":{\"overlay\":{\"id\":\"1548\"}},\"id\":\"1544\",\"type\":\"BoxZoomTool\"},{\"attributes\":{\"line_alpha\":0.1,\"line_color\":\"#1f77b4\",\"line_width\":3,\"x\":{\"field\":\"x\"},\"y\":{\"field\":\"y\"}},\"id\":\"1563\",\"type\":\"Line\"},{\"attributes\":{},\"id\":\"1543\",\"type\":\"WheelZoomTool\"},{\"attributes\":{},\"id\":\"1547\",\"type\":\"HelpTool\"},{\"attributes\":{\"source\":{\"id\":\"1556\"}},\"id\":\"1560\",\"type\":\"CDSView\"},{\"attributes\":{},\"id\":\"1542\",\"type\":\"PanTool\"},{\"attributes\":{\"fill_color\":{\"value\":\"#1f77b4\"},\"line_color\":{\"value\":\"#1f77b4\"},\"size\":{\"units\":\"screen\",\"value\":5},\"x\":{\"field\":\"x\"},\"y\":{\"field\":\"y\"}},\"id\":\"1557\",\"type\":\"Circle\"},{\"attributes\":{},\"id\":\"1606\",\"type\":\"Selection\"},{\"attributes\":{},\"id\":\"1546\",\"type\":\"ResetTool\"},{\"attributes\":{\"data_source\":{\"id\":\"1556\"},\"glyph\":{\"id\":\"1557\"},\"hover_glyph\":null,\"muted_glyph\":null,\"nonselection_glyph\":{\"id\":\"1558\"},\"selection_glyph\":null,\"view\":{\"id\":\"1560\"}},\"id\":\"1559\",\"type\":\"GlyphRenderer\"},{\"attributes\":{},\"id\":\"1604\",\"type\":\"Selection\"},{\"attributes\":{\"axis\":{\"id\":\"1538\"},\"dimension\":1,\"ticker\":null},\"id\":\"1541\",\"type\":\"Grid\"},{\"attributes\":{\"source\":{\"id\":\"1561\"}},\"id\":\"1565\",\"type\":\"CDSView\"},{\"attributes\":{},\"id\":\"1539\",\"type\":\"BasicTicker\"},{\"attributes\":{\"data_source\":{\"id\":\"1561\"},\"glyph\":{\"id\":\"1562\"},\"hover_glyph\":null,\"muted_glyph\":null,\"nonselection_glyph\":{\"id\":\"1563\"},\"selection_glyph\":null,\"view\":{\"id\":\"1565\"}},\"id\":\"1564\",\"type\":\"GlyphRenderer\"},{\"attributes\":{\"data\":{\"x\":[1964,1965,1966,1967,1968,1969,1970,1971,1972,1973,1974,1975,1976,1977,1978,1979,1980,1981,1982,1983,1984,1985,1986,1987,1988,1989,1990,1991,1992,1993,1994,1995,1996,1997,1998,1999,2000,2001,2002,2003,2004,2005,2006,2007,2008,2009,2010,2011,2012,2013],\"y\":{\"__ndarray__\":\"FK5H4XrUUUCamZmZmclRQKRwPQrX41FAMzMzMzPjUUDD9Shcj+JRQOF6FK5H0VFACtejcD0KUkC4HoXrUQhSQLgehetRGFJAw/UoXI8iUkApXI/C9ThSQB+F61G4PlJArkfhehROUkCF61G4HnVSQM3MzMzMfFJAcT0K16OQUkBmZmZmZpZSQHE9CtejoFJAKVyPwvW4UkBI4XoUrrdSQEjhehSu11JArkfhehTeUkAAAAAAAPBSQPYoXI/CFVNAFK5H4XokU0Bcj8L1KCxTQB+F61G4PlNAexSuR+FKU0A9CtejcF1TQAAAAAAAYFNAXI/C9Sh8U0CkcD0K14NTQOF6FK5HkVNASOF6FK6nU0DD9Shcj7JTQHsUrkfhulNAH4XrUbjOU0AK16NwPdpTQBSuR+F65FNAFK5H4XrkU0AAAAAAACBUQK5H4XoUHlRAuB6F61E4VEApXI/C9UhUQMVLN4lBUFRAexSuR+FKVEBmZmZmZlZUQFTjpZvEYFRA30+Nl25qVECkcD0K13NUQA==\",\"dtype\":\"float64\",\"order\":\"little\",\"shape\":[50]}},\"selected\":{\"id\":\"1604\"},\"selection_policy\":{\"id\":\"1605\"}},\"id\":\"1556\",\"type\":\"ColumnDataSource\"},{\"attributes\":{\"axis_label\":\"Life Expectancy\",\"formatter\":{\"id\":\"1600\"},\"ticker\":{\"id\":\"1539\"}},\"id\":\"1538\",\"type\":\"LinearAxis\"},{\"attributes\":{\"fill_alpha\":{\"value\":0.1},\"fill_color\":{\"value\":\"#1f77b4\"},\"line_alpha\":{\"value\":0.1},\"line_color\":{\"value\":\"#1f77b4\"},\"size\":{\"units\":\"screen\",\"value\":5},\"x\":{\"field\":\"x\"},\"y\":{\"field\":\"y\"}},\"id\":\"1558\",\"type\":\"Circle\"},{\"attributes\":{\"axis\":{\"id\":\"1534\"},\"ticker\":null},\"id\":\"1537\",\"type\":\"Grid\"},{\"attributes\":{},\"id\":\"1535\",\"type\":\"BasicTicker\"},{\"attributes\":{\"axis_label\":\"Year\",\"formatter\":{\"id\":\"1602\"},\"ticker\":{\"id\":\"1535\"}},\"id\":\"1534\",\"type\":\"LinearAxis\"},{\"attributes\":{\"data\":{\"x\":[1964,1965,1966,1967,1968,1969,1970,1971,1972,1973,1974,1975,1976,1977,1978,1979,1980,1981,1982,1983,1984,1985,1986,1987,1988,1989,1990,1991,1992,1993,1994,1995,1996,1997,1998,1999,2000,2001,2002,2003,2004,2005,2006,2007,2008,2009,2010,2011,2012,2013],\"y\":{\"__ndarray__\":\"FK5H4XrUUUCamZmZmclRQKRwPQrX41FAMzMzMzPjUUDD9Shcj+JRQOF6FK5H0VFACtejcD0KUkC4HoXrUQhSQLgehetRGFJAw/UoXI8iUkApXI/C9ThSQB+F61G4PlJArkfhehROUkCF61G4HnVSQM3MzMzMfFJAcT0K16OQUkBmZmZmZpZSQHE9CtejoFJAKVyPwvW4UkBI4XoUrrdSQEjhehSu11JArkfhehTeUkAAAAAAAPBSQPYoXI/CFVNAFK5H4XokU0Bcj8L1KCxTQB+F61G4PlNAexSuR+FKU0A9CtejcF1TQAAAAAAAYFNAXI/C9Sh8U0CkcD0K14NTQOF6FK5HkVNASOF6FK6nU0DD9Shcj7JTQHsUrkfhulNAH4XrUbjOU0AK16NwPdpTQBSuR+F65FNAFK5H4XrkU0AAAAAAACBUQK5H4XoUHlRAuB6F61E4VEApXI/C9UhUQMVLN4lBUFRAexSuR+FKVEBmZmZmZlZUQFTjpZvEYFRA30+Nl25qVECkcD0K13NUQA==\",\"dtype\":\"float64\",\"order\":\"little\",\"shape\":[50]}},\"selected\":{\"id\":\"1606\"},\"selection_policy\":{\"id\":\"1607\"}},\"id\":\"1561\",\"type\":\"ColumnDataSource\"},{\"attributes\":{},\"id\":\"1532\",\"type\":\"LinearScale\"},{\"attributes\":{\"active_drag\":\"auto\",\"active_inspect\":\"auto\",\"active_multi\":null,\"active_scroll\":\"auto\",\"active_tap\":\"auto\",\"tools\":[{\"id\":\"1542\"},{\"id\":\"1543\"},{\"id\":\"1544\"},{\"id\":\"1545\"},{\"id\":\"1546\"},{\"id\":\"1547\"}]},\"id\":\"1549\",\"type\":\"Toolbar\"},{\"attributes\":{},\"id\":\"1607\",\"type\":\"UnionRenderers\"},{\"attributes\":{},\"id\":\"1530\",\"type\":\"LinearScale\"},{\"attributes\":{\"bottom_units\":\"screen\",\"fill_alpha\":0.5,\"fill_color\":\"lightgrey\",\"left_units\":\"screen\",\"level\":\"overlay\",\"line_alpha\":1.0,\"line_color\":\"black\",\"line_dash\":[4,4],\"line_width\":2,\"right_units\":\"screen\",\"top_units\":\"screen\"},\"id\":\"1548\",\"type\":\"BoxAnnotation\"},{\"attributes\":{},\"id\":\"1605\",\"type\":\"UnionRenderers\"},{\"attributes\":{},\"id\":\"1528\",\"type\":\"DataRange1d\"},{\"attributes\":{},\"id\":\"1602\",\"type\":\"BasicTickFormatter\"},{\"attributes\":{},\"id\":\"1526\",\"type\":\"DataRange1d\"},{\"attributes\":{},\"id\":\"1600\",\"type\":\"BasicTickFormatter\"},{\"attributes\":{\"text\":\"Life Expectancy in France\"},\"id\":\"1524\",\"type\":\"Title\"}],\"root_ids\":[\"1523\"]},\"title\":\"Bokeh Application\",\"version\":\"2.1.1\"}};\n",
       "  var render_items = [{\"docid\":\"fbe31eda-794c-41b8-a5fa-80858ade130d\",\"root_ids\":[\"1523\"],\"roots\":{\"1523\":\"047012f9-0a2b-41ac-8fa5-422790fb4dc9\"}}];\n",
       "  root.Bokeh.embed.embed_items_notebook(docs_json, render_items);\n",
       "\n",
       "  }\n",
       "  if (root.Bokeh !== undefined) {\n",
       "    embed_document(root);\n",
       "  } else {\n",
       "    var attempts = 0;\n",
       "    var timer = setInterval(function(root) {\n",
       "      if (root.Bokeh !== undefined) {\n",
       "        clearInterval(timer);\n",
       "        embed_document(root);\n",
       "      } else {\n",
       "        attempts++;\n",
       "        if (attempts > 100) {\n",
       "          clearInterval(timer);\n",
       "          console.log(\"Bokeh: ERROR: Unable to run BokehJS code because BokehJS library is missing\");\n",
       "        }\n",
       "      }\n",
       "    }, 10, root)\n",
       "  }\n",
       "})(window);"
      ],
      "application/vnd.bokehjs_exec.v0+json": ""
     },
     "metadata": {
      "application/vnd.bokehjs_exec.v0+json": {
       "id": "1523"
      }
     },
     "output_type": "display_data"
    }
   ],
   "source": [
    "plot = figure(x_axis_label='Year', y_axis_label='Life Expectancy', \n",
    "              title='Life Expectancy in France',\n",
    "              plot_width=700, plot_height=400)\n",
    "plot.circle(gapminder['Year'], gapminder['life'], size=5)\n",
    "plot.line(gapminder['Year'], gapminder['life'], width=3)\n",
    "show(plot)"
   ]
  },
  {
   "cell_type": "markdown",
   "metadata": {},
   "source": [
    "## 4) Histogram"
   ]
  },
  {
   "cell_type": "code",
   "execution_count": 15,
   "metadata": {},
   "outputs": [
    {
     "data": {
      "text/html": [
       "\n",
       "\n",
       "\n",
       "\n",
       "\n",
       "\n",
       "  <div class=\"bk-root\" id=\"e450326d-ef7b-46f3-b2d6-c1eb17c9d46a\" data-root-id=\"1668\"></div>\n"
      ]
     },
     "metadata": {},
     "output_type": "display_data"
    },
    {
     "data": {
      "application/javascript": [
       "(function(root) {\n",
       "  function embed_document(root) {\n",
       "    \n",
       "  var docs_json = {\"1263aed3-5b6f-4595-a620-0dbfc45c2277\":{\"roots\":{\"references\":[{\"attributes\":{\"below\":[{\"id\":\"1679\"}],\"center\":[{\"id\":\"1682\"},{\"id\":\"1686\"}],\"left\":[{\"id\":\"1683\"}],\"plot_height\":400,\"plot_width\":400,\"renderers\":[{\"id\":\"1704\"}],\"title\":{\"id\":\"1669\"},\"toolbar\":{\"id\":\"1694\"},\"x_range\":{\"id\":\"1671\"},\"x_scale\":{\"id\":\"1675\"},\"y_range\":{\"id\":\"1673\"},\"y_scale\":{\"id\":\"1677\"}},\"id\":\"1668\",\"subtype\":\"Figure\",\"type\":\"Plot\"},{\"attributes\":{},\"id\":\"1673\",\"type\":\"DataRange1d\"},{\"attributes\":{\"bottom\":{\"value\":0},\"fill_alpha\":{\"value\":0.1},\"fill_color\":{\"value\":\"orange\"},\"left\":{\"field\":\"left\"},\"line_alpha\":{\"value\":0.1},\"line_color\":{\"value\":\"white\"},\"right\":{\"field\":\"right\"},\"top\":{\"field\":\"top\"}},\"id\":\"1703\",\"type\":\"Quad\"},{\"attributes\":{\"axis_label\":\"Probability\",\"formatter\":{\"id\":\"1750\"},\"ticker\":{\"id\":\"1684\"}},\"id\":\"1683\",\"type\":\"LinearAxis\"},{\"attributes\":{},\"id\":\"1671\",\"type\":\"DataRange1d\"},{\"attributes\":{},\"id\":\"1684\",\"type\":\"BasicTicker\"},{\"attributes\":{\"overlay\":{\"id\":\"1693\"}},\"id\":\"1689\",\"type\":\"BoxZoomTool\"},{\"attributes\":{\"axis\":{\"id\":\"1683\"},\"dimension\":1,\"ticker\":null},\"id\":\"1686\",\"type\":\"Grid\"},{\"attributes\":{\"data_source\":{\"id\":\"1701\"},\"glyph\":{\"id\":\"1702\"},\"hover_glyph\":null,\"muted_glyph\":null,\"nonselection_glyph\":{\"id\":\"1703\"},\"selection_glyph\":null,\"view\":{\"id\":\"1705\"}},\"id\":\"1704\",\"type\":\"GlyphRenderer\"},{\"attributes\":{\"bottom\":{\"value\":0},\"fill_color\":{\"value\":\"orange\"},\"left\":{\"field\":\"left\"},\"line_color\":{\"value\":\"white\"},\"right\":{\"field\":\"right\"},\"top\":{\"field\":\"top\"}},\"id\":\"1702\",\"type\":\"Quad\"},{\"attributes\":{},\"id\":\"1680\",\"type\":\"BasicTicker\"},{\"attributes\":{\"axis_label\":\"Sepal Length\",\"formatter\":{\"id\":\"1752\"},\"ticker\":{\"id\":\"1680\"}},\"id\":\"1679\",\"type\":\"LinearAxis\"},{\"attributes\":{\"source\":{\"id\":\"1701\"}},\"id\":\"1705\",\"type\":\"CDSView\"},{\"attributes\":{},\"id\":\"1675\",\"type\":\"LinearScale\"},{\"attributes\":{},\"id\":\"1687\",\"type\":\"PanTool\"},{\"attributes\":{},\"id\":\"1688\",\"type\":\"WheelZoomTool\"},{\"attributes\":{},\"id\":\"1692\",\"type\":\"HelpTool\"},{\"attributes\":{\"active_drag\":\"auto\",\"active_inspect\":\"auto\",\"active_multi\":null,\"active_scroll\":\"auto\",\"active_tap\":\"auto\",\"tools\":[{\"id\":\"1687\"},{\"id\":\"1688\"},{\"id\":\"1689\"},{\"id\":\"1690\"},{\"id\":\"1691\"},{\"id\":\"1692\"}]},\"id\":\"1694\",\"type\":\"Toolbar\"},{\"attributes\":{\"axis\":{\"id\":\"1679\"},\"ticker\":null},\"id\":\"1682\",\"type\":\"Grid\"},{\"attributes\":{},\"id\":\"1677\",\"type\":\"LinearScale\"},{\"attributes\":{},\"id\":\"1691\",\"type\":\"ResetTool\"},{\"attributes\":{\"bottom_units\":\"screen\",\"fill_alpha\":0.5,\"fill_color\":\"lightgrey\",\"left_units\":\"screen\",\"level\":\"overlay\",\"line_alpha\":1.0,\"line_color\":\"black\",\"line_dash\":[4,4],\"line_width\":2,\"right_units\":\"screen\",\"top_units\":\"screen\"},\"id\":\"1693\",\"type\":\"BoxAnnotation\"},{\"attributes\":{},\"id\":\"1750\",\"type\":\"BasicTickFormatter\"},{\"attributes\":{},\"id\":\"1690\",\"type\":\"SaveTool\"},{\"attributes\":{\"text\":\"Histogram\"},\"id\":\"1669\",\"type\":\"Title\"},{\"attributes\":{},\"id\":\"1752\",\"type\":\"BasicTickFormatter\"},{\"attributes\":{\"data\":{\"left\":{\"__ndarray__\":\"MzMzMzMzEUCkcD0K16MSQBSuR+F6FBRAhetRuB6FFUD2KFyPwvUWQGZmZmZmZhhA16NwPQrXGUBI4XoUrkcbQLgehetRuBxAKVyPwvUoHkA=\",\"dtype\":\"float64\",\"order\":\"little\",\"shape\":[10]},\"right\":{\"__ndarray__\":\"pHA9CtejEkAUrkfhehQUQIXrUbgehRVA9ihcj8L1FkBmZmZmZmYYQNejcD0K1xlASOF6FK5HG0C4HoXrUbgcQClcj8L1KB5AmpmZmZmZH0A=\",\"dtype\":\"float64\",\"order\":\"little\",\"shape\":[10]},\"top\":{\"__ndarray__\":\"UFVVVVVVxT8ytJfQXkLbP3cJ7SW0l9A/9///////3z9xL6G9hPbSPwLtJbSX0N4/UFVVVVVV1T8px3Ecx3G8Pz17Ce0ltLc/FsdxHMdxvD8=\",\"dtype\":\"float64\",\"order\":\"little\",\"shape\":[10]}},\"selected\":{\"id\":\"1754\"},\"selection_policy\":{\"id\":\"1755\"}},\"id\":\"1701\",\"type\":\"ColumnDataSource\"},{\"attributes\":{},\"id\":\"1754\",\"type\":\"Selection\"},{\"attributes\":{},\"id\":\"1755\",\"type\":\"UnionRenderers\"}],\"root_ids\":[\"1668\"]},\"title\":\"Bokeh Application\",\"version\":\"2.1.1\"}};\n",
       "  var render_items = [{\"docid\":\"1263aed3-5b6f-4595-a620-0dbfc45c2277\",\"root_ids\":[\"1668\"],\"roots\":{\"1668\":\"e450326d-ef7b-46f3-b2d6-c1eb17c9d46a\"}}];\n",
       "  root.Bokeh.embed.embed_items_notebook(docs_json, render_items);\n",
       "\n",
       "  }\n",
       "  if (root.Bokeh !== undefined) {\n",
       "    embed_document(root);\n",
       "  } else {\n",
       "    var attempts = 0;\n",
       "    var timer = setInterval(function(root) {\n",
       "      if (root.Bokeh !== undefined) {\n",
       "        clearInterval(timer);\n",
       "        embed_document(root);\n",
       "      } else {\n",
       "        attempts++;\n",
       "        if (attempts > 100) {\n",
       "          clearInterval(timer);\n",
       "          console.log(\"Bokeh: ERROR: Unable to run BokehJS code because BokehJS library is missing\");\n",
       "        }\n",
       "      }\n",
       "    }, 10, root)\n",
       "  }\n",
       "})(window);"
      ],
      "application/vnd.bokehjs_exec.v0+json": ""
     },
     "metadata": {
      "application/vnd.bokehjs_exec.v0+json": {
       "id": "1668"
      }
     },
     "output_type": "display_data"
    }
   ],
   "source": [
    "import numpy as np # numpy의 histogram 함수 이용해야함...\n",
    "plot = figure(plot_width=400, plot_height=400, x_axis_label='Sepal Length', \n",
    "              y_axis_label='Probability',\n",
    "             title='Histogram')\n",
    "hist, edges = np.histogram(flowers['sepal_length'], density=True, bins=10)\n",
    "# hist: 도수, edges: 계급 경계\n",
    "plot.quad(top=hist, bottom=0, left=edges[:-1], right=edges[1:], \n",
    "          line_color=\"white\", color='orange')\n",
    "# quad: quadrangle\n",
    "# top: 높이 bottom: 시작점, \n",
    "# left: 막대 하나의 왼쪽, right: 막대 하나의 오른쪽\n",
    "show(plot)"
   ]
  },
  {
   "cell_type": "code",
   "execution_count": 16,
   "metadata": {},
   "outputs": [
    {
     "data": {
      "text/plain": [
       "(array([0.16666667, 0.42592593, 0.25925926, 0.5       , 0.2962963 ,\n",
       "        0.48148148, 0.33333333, 0.11111111, 0.09259259, 0.11111111]),\n",
       " array([4.3 , 4.66, 5.02, 5.38, 5.74, 6.1 , 6.46, 6.82, 7.18, 7.54, 7.9 ]))"
      ]
     },
     "execution_count": 16,
     "metadata": {},
     "output_type": "execute_result"
    }
   ],
   "source": [
    "np.histogram(flowers['sepal_length'], density=True, bins=10)"
   ]
  },
  {
   "cell_type": "markdown",
   "metadata": {},
   "source": [
    "## 5) Selection Appearance"
   ]
  },
  {
   "cell_type": "code",
   "execution_count": 23,
   "metadata": {},
   "outputs": [
    {
     "data": {
      "text/html": [
       "\n",
       "\n",
       "\n",
       "\n",
       "\n",
       "\n",
       "  <div class=\"bk-root\" id=\"ddea3cdd-c087-4b70-8344-9eca10cd80f8\" data-root-id=\"1804\"></div>\n"
      ]
     },
     "metadata": {},
     "output_type": "display_data"
    },
    {
     "data": {
      "application/javascript": [
       "(function(root) {\n",
       "  function embed_document(root) {\n",
       "    \n",
       "  var docs_json = {\"7c5198a0-88e6-48f1-a702-99640d274f1a\":{\"roots\":{\"references\":[{\"attributes\":{\"below\":[{\"id\":\"1815\"}],\"center\":[{\"id\":\"1818\"},{\"id\":\"1822\"}],\"left\":[{\"id\":\"1819\"}],\"plot_height\":400,\"plot_width\":400,\"renderers\":[{\"id\":\"1833\"}],\"title\":{\"id\":\"1805\"},\"toolbar\":{\"id\":\"1826\"},\"x_range\":{\"id\":\"1807\"},\"x_scale\":{\"id\":\"1811\"},\"y_range\":{\"id\":\"1809\"},\"y_scale\":{\"id\":\"1813\"}},\"id\":\"1804\",\"subtype\":\"Figure\",\"type\":\"Plot\"},{\"attributes\":{\"fill_alpha\":{\"value\":0.3},\"fill_color\":{\"value\":\"grey\"},\"line_alpha\":{\"value\":0.1},\"line_color\":{\"value\":\"#1f77b4\"},\"size\":{\"units\":\"screen\",\"value\":5},\"x\":{\"field\":\"x\"},\"y\":{\"field\":\"y\"}},\"id\":\"1831\",\"type\":\"Circle\"},{\"attributes\":{\"axis_label\":\"Sepal Length\",\"formatter\":{\"id\":\"1887\"},\"ticker\":{\"id\":\"1820\"}},\"id\":\"1819\",\"type\":\"LinearAxis\"},{\"attributes\":{\"axis\":{\"id\":\"1815\"},\"ticker\":null},\"id\":\"1818\",\"type\":\"Grid\"},{\"attributes\":{\"axis\":{\"id\":\"1819\"},\"dimension\":1,\"ticker\":null},\"id\":\"1822\",\"type\":\"Grid\"},{\"attributes\":{},\"id\":\"1820\",\"type\":\"BasicTicker\"},{\"attributes\":{\"bottom_units\":\"screen\",\"fill_alpha\":0.5,\"fill_color\":\"lightgrey\",\"left_units\":\"screen\",\"level\":\"overlay\",\"line_alpha\":1.0,\"line_color\":\"black\",\"line_dash\":[4,4],\"line_width\":2,\"right_units\":\"screen\",\"top_units\":\"screen\"},\"id\":\"1825\",\"type\":\"BoxAnnotation\"},{\"attributes\":{},\"id\":\"1816\",\"type\":\"BasicTicker\"},{\"attributes\":{\"fill_color\":{\"value\":\"red\"},\"line_color\":{\"value\":\"red\"},\"size\":{\"units\":\"screen\",\"value\":5},\"x\":{\"field\":\"x\"},\"y\":{\"field\":\"y\"}},\"id\":\"1832\",\"type\":\"Circle\"},{\"attributes\":{\"axis_label\":\"Petal Length\",\"formatter\":{\"id\":\"1889\"},\"ticker\":{\"id\":\"1816\"}},\"id\":\"1815\",\"type\":\"LinearAxis\"},{\"attributes\":{},\"id\":\"1887\",\"type\":\"BasicTickFormatter\"},{\"attributes\":{\"fill_color\":{\"value\":\"#1f77b4\"},\"line_color\":{\"value\":\"#1f77b4\"},\"size\":{\"units\":\"screen\",\"value\":5},\"x\":{\"field\":\"x\"},\"y\":{\"field\":\"y\"}},\"id\":\"1830\",\"type\":\"Circle\"},{\"attributes\":{},\"id\":\"1813\",\"type\":\"LinearScale\"},{\"attributes\":{},\"id\":\"1889\",\"type\":\"BasicTickFormatter\"},{\"attributes\":{\"active_drag\":\"auto\",\"active_inspect\":\"auto\",\"active_multi\":null,\"active_scroll\":\"auto\",\"active_tap\":\"auto\",\"tools\":[{\"id\":\"1823\"},{\"id\":\"1824\"}]},\"id\":\"1826\",\"type\":\"Toolbar\"},{\"attributes\":{},\"id\":\"1809\",\"type\":\"DataRange1d\"},{\"attributes\":{\"source\":{\"id\":\"1829\"}},\"id\":\"1834\",\"type\":\"CDSView\"},{\"attributes\":{},\"id\":\"1811\",\"type\":\"LinearScale\"},{\"attributes\":{},\"id\":\"1891\",\"type\":\"Selection\"},{\"attributes\":{},\"id\":\"1892\",\"type\":\"UnionRenderers\"},{\"attributes\":{\"text\":\"Petal Length vs. Sepal Length\"},\"id\":\"1805\",\"type\":\"Title\"},{\"attributes\":{\"data_source\":{\"id\":\"1829\"},\"glyph\":{\"id\":\"1830\"},\"hover_glyph\":null,\"muted_glyph\":null,\"nonselection_glyph\":{\"id\":\"1831\"},\"selection_glyph\":{\"id\":\"1832\"},\"view\":{\"id\":\"1834\"}},\"id\":\"1833\",\"type\":\"GlyphRenderer\"},{\"attributes\":{},\"id\":\"1807\",\"type\":\"DataRange1d\"},{\"attributes\":{},\"id\":\"1824\",\"type\":\"ResetTool\"},{\"attributes\":{\"data\":{\"x\":{\"__ndarray__\":\"ZmZmZmZm9j9mZmZmZmb2P83MzMzMzPQ/AAAAAAAA+D9mZmZmZmb2PzMzMzMzM/s/ZmZmZmZm9j8AAAAAAAD4P2ZmZmZmZvY/AAAAAAAA+D8AAAAAAAD4P5qZmZmZmfk/ZmZmZmZm9j+amZmZmZnxPzMzMzMzM/M/AAAAAAAA+D/NzMzMzMz0P2ZmZmZmZvY/MzMzMzMz+z8AAAAAAAD4PzMzMzMzM/s/AAAAAAAA+D8AAAAAAADwPzMzMzMzM/s/ZmZmZmZm/j+amZmZmZn5P5qZmZmZmfk/AAAAAAAA+D9mZmZmZmb2P5qZmZmZmfk/mpmZmZmZ+T8AAAAAAAD4PwAAAAAAAPg/ZmZmZmZm9j8AAAAAAAD4PzMzMzMzM/M/zczMzMzM9D9mZmZmZmb2P83MzMzMzPQ/AAAAAAAA+D/NzMzMzMz0P83MzMzMzPQ/zczMzMzM9D+amZmZmZn5P2ZmZmZmZv4/ZmZmZmZm9j+amZmZmZn5P2ZmZmZmZvY/AAAAAAAA+D9mZmZmZmb2P83MzMzMzBJAAAAAAAAAEkCamZmZmZkTQAAAAAAAABBAZmZmZmZmEkAAAAAAAAASQM3MzMzMzBJAZmZmZmZmCkBmZmZmZmYSQDMzMzMzMw9AAAAAAAAADEDNzMzMzMwQQAAAAAAAABBAzczMzMzMEkDNzMzMzMwMQJqZmZmZmRFAAAAAAAAAEkBmZmZmZmYQQAAAAAAAABJAMzMzMzMzD0AzMzMzMzMTQAAAAAAAABBAmpmZmZmZE0DNzMzMzMwSQDMzMzMzMxFAmpmZmZmZEUAzMzMzMzMTQAAAAAAAABRAAAAAAAAAEkAAAAAAAAAMQGZmZmZmZg5AmpmZmZmZDUAzMzMzMzMPQGZmZmZmZhRAAAAAAAAAEkAAAAAAAAASQM3MzMzMzBJAmpmZmZmZEUBmZmZmZmYQQAAAAAAAABBAmpmZmZmZEUBmZmZmZmYSQAAAAAAAABBAZmZmZmZmCkDNzMzMzMwQQM3MzMzMzBBAzczMzMzMEEAzMzMzMzMRQAAAAAAAAAhAZmZmZmZmEEAAAAAAAAAYQGZmZmZmZhRAmpmZmZmZF0BmZmZmZmYWQDMzMzMzMxdAZmZmZmZmGkAAAAAAAAASQDMzMzMzMxlAMzMzMzMzF0BmZmZmZmYYQGZmZmZmZhRAMzMzMzMzFUAAAAAAAAAWQAAAAAAAABRAZmZmZmZmFEAzMzMzMzMVQAAAAAAAABZAzczMzMzMGkCamZmZmZkbQAAAAAAAABRAzczMzMzMFkCamZmZmZkTQM3MzMzMzBpAmpmZmZmZE0DNzMzMzMwWQAAAAAAAABhAMzMzMzMzE0CamZmZmZkTQGZmZmZmZhZAMzMzMzMzF0BmZmZmZmYYQJqZmZmZmRlAZmZmZmZmFkBmZmZmZmYUQGZmZmZmZhZAZmZmZmZmGEBmZmZmZmYWQAAAAAAAABZAMzMzMzMzE0CamZmZmZkVQGZmZmZmZhZAZmZmZmZmFEBmZmZmZmYUQJqZmZmZmRdAzczMzMzMFkDNzMzMzMwUQAAAAAAAABRAzczMzMzMFECamZmZmZkVQGZmZmZmZhRA\",\"dtype\":\"float64\",\"order\":\"little\",\"shape\":[150]},\"y\":{\"__ndarray__\":\"ZmZmZmZmFECamZmZmZkTQM3MzMzMzBJAZmZmZmZmEkAAAAAAAAAUQJqZmZmZmRVAZmZmZmZmEkAAAAAAAAAUQJqZmZmZmRFAmpmZmZmZE0CamZmZmZkVQDMzMzMzMxNAMzMzMzMzE0AzMzMzMzMRQDMzMzMzMxdAzczMzMzMFkCamZmZmZkVQGZmZmZmZhRAzczMzMzMFkBmZmZmZmYUQJqZmZmZmRVAZmZmZmZmFEBmZmZmZmYSQGZmZmZmZhRAMzMzMzMzE0AAAAAAAAAUQAAAAAAAABRAzczMzMzMFEDNzMzMzMwUQM3MzMzMzBJAMzMzMzMzE0CamZmZmZkVQM3MzMzMzBRAAAAAAAAAFkCamZmZmZkTQAAAAAAAABRAAAAAAAAAFkCamZmZmZkTQJqZmZmZmRFAZmZmZmZmFEAAAAAAAAAUQAAAAAAAABJAmpmZmZmZEUAAAAAAAAAUQGZmZmZmZhRAMzMzMzMzE0BmZmZmZmYUQGZmZmZmZhJAMzMzMzMzFUAAAAAAAAAUQAAAAAAAABxAmpmZmZmZGUCamZmZmZkbQAAAAAAAABZAAAAAAAAAGkDNzMzMzMwWQDMzMzMzMxlAmpmZmZmZE0BmZmZmZmYaQM3MzMzMzBRAAAAAAAAAFECamZmZmZkXQAAAAAAAABhAZmZmZmZmGEBmZmZmZmYWQM3MzMzMzBpAZmZmZmZmFkAzMzMzMzMXQM3MzMzMzBhAZmZmZmZmFkCamZmZmZkXQGZmZmZmZhhAMzMzMzMzGUBmZmZmZmYYQJqZmZmZmRlAZmZmZmZmGkAzMzMzMzMbQM3MzMzMzBpAAAAAAAAAGEDNzMzMzMwWQAAAAAAAABZAAAAAAAAAFkAzMzMzMzMXQAAAAAAAABhAmpmZmZmZFUAAAAAAAAAYQM3MzMzMzBpAMzMzMzMzGUBmZmZmZmYWQAAAAAAAABZAAAAAAAAAFkBmZmZmZmYYQDMzMzMzMxdAAAAAAAAAFEBmZmZmZmYWQM3MzMzMzBZAzczMzMzMFkDNzMzMzMwYQGZmZmZmZhRAzczMzMzMFkAzMzMzMzMZQDMzMzMzMxdAZmZmZmZmHEAzMzMzMzMZQAAAAAAAABpAZmZmZmZmHkCamZmZmZkTQDMzMzMzMx1AzczMzMzMGkDNzMzMzMwcQAAAAAAAABpAmpmZmZmZGUAzMzMzMzMbQM3MzMzMzBZAMzMzMzMzF0CamZmZmZkZQAAAAAAAABpAzczMzMzMHkDNzMzMzMweQAAAAAAAABhAmpmZmZmZG0BmZmZmZmYWQM3MzMzMzB5AMzMzMzMzGUDNzMzMzMwaQM3MzMzMzBxAzczMzMzMGEBmZmZmZmYYQJqZmZmZmRlAzczMzMzMHECamZmZmZkdQJqZmZmZmR9AmpmZmZmZGUAzMzMzMzMZQGZmZmZmZhhAzczMzMzMHkAzMzMzMzMZQJqZmZmZmRlAAAAAAAAAGECamZmZmZkbQM3MzMzMzBpAmpmZmZmZG0AzMzMzMzMXQDMzMzMzMxtAzczMzMzMGkDNzMzMzMwaQDMzMzMzMxlAAAAAAAAAGkDNzMzMzMwYQJqZmZmZmRdA\",\"dtype\":\"float64\",\"order\":\"little\",\"shape\":[150]}},\"selected\":{\"id\":\"1891\"},\"selection_policy\":{\"id\":\"1892\"}},\"id\":\"1829\",\"type\":\"ColumnDataSource\"},{\"attributes\":{\"overlay\":{\"id\":\"1825\"}},\"id\":\"1823\",\"type\":\"BoxSelectTool\"}],\"root_ids\":[\"1804\"]},\"title\":\"Bokeh Application\",\"version\":\"2.1.1\"}};\n",
       "  var render_items = [{\"docid\":\"7c5198a0-88e6-48f1-a702-99640d274f1a\",\"root_ids\":[\"1804\"],\"roots\":{\"1804\":\"ddea3cdd-c087-4b70-8344-9eca10cd80f8\"}}];\n",
       "  root.Bokeh.embed.embed_items_notebook(docs_json, render_items);\n",
       "\n",
       "  }\n",
       "  if (root.Bokeh !== undefined) {\n",
       "    embed_document(root);\n",
       "  } else {\n",
       "    var attempts = 0;\n",
       "    var timer = setInterval(function(root) {\n",
       "      if (root.Bokeh !== undefined) {\n",
       "        clearInterval(timer);\n",
       "        embed_document(root);\n",
       "      } else {\n",
       "        attempts++;\n",
       "        if (attempts > 100) {\n",
       "          clearInterval(timer);\n",
       "          console.log(\"Bokeh: ERROR: Unable to run BokehJS code because BokehJS library is missing\");\n",
       "        }\n",
       "      }\n",
       "    }, 10, root)\n",
       "  }\n",
       "})(window);"
      ],
      "application/vnd.bokehjs_exec.v0+json": ""
     },
     "metadata": {
      "application/vnd.bokehjs_exec.v0+json": {
       "id": "1804"
      }
     },
     "output_type": "display_data"
    }
   ],
   "source": [
    "# Box Selection: tools='box_select' 이용!\n",
    "plot = figure(plot_width=400, plot_height=400, tools='box_select, reset',\n",
    "              x_axis_label='Petal Length', y_axis_label='Sepal Length', \n",
    "              title='Petal Length vs. Sepal Length')\n",
    "plot.circle(flowers['petal_length'], flowers['sepal_length'], size=5,\n",
    "           selection_color='red', nonselection_fill_alpha=0.3, \n",
    "            nonselection_fill_color='grey')\n",
    "# 선택될 때 색, 선택되지 않은 것들 색 설정 (안해도 기본 설정 있어서 상관X)\n",
    "show(plot)"
   ]
  },
  {
   "cell_type": "markdown",
   "metadata": {},
   "source": [
    "## 6) Hover Appearance\n",
    "- HoverTool: plot의 객체 위에 마우스를 올려두면 해당 데이터의 관련된 값을 보여주는 tool"
   ]
  },
  {
   "cell_type": "code",
   "execution_count": 24,
   "metadata": {},
   "outputs": [],
   "source": [
    "from bokeh.models import HoverTool"
   ]
  },
  {
   "cell_type": "markdown",
   "metadata": {},
   "source": [
    "## 커서 이동 시 해당 점의 vertical line 나오게\n",
    "- hover=HoverTool(mode='vline')\n",
    "- tools에 [hover] 포함!"
   ]
  },
  {
   "cell_type": "code",
   "execution_count": 25,
   "metadata": {},
   "outputs": [
    {
     "data": {
      "text/html": [
       "\n",
       "\n",
       "\n",
       "\n",
       "\n",
       "\n",
       "  <div class=\"bk-root\" id=\"26696674-0c4a-4af9-afe3-6799f28c5154\" data-root-id=\"1942\"></div>\n"
      ]
     },
     "metadata": {},
     "output_type": "display_data"
    },
    {
     "data": {
      "application/javascript": [
       "(function(root) {\n",
       "  function embed_document(root) {\n",
       "    \n",
       "  var docs_json = {\"16c1f89b-0c34-41d6-86a7-a67c985bea2d\":{\"roots\":{\"references\":[{\"attributes\":{\"below\":[{\"id\":\"1953\"}],\"center\":[{\"id\":\"1956\"},{\"id\":\"1960\"}],\"left\":[{\"id\":\"1957\"}],\"plot_height\":400,\"plot_width\":400,\"renderers\":[{\"id\":\"1967\"}],\"title\":{\"id\":\"1943\"},\"toolbar\":{\"id\":\"1961\"},\"x_range\":{\"id\":\"1945\"},\"x_scale\":{\"id\":\"1949\"},\"y_range\":{\"id\":\"1947\"},\"y_scale\":{\"id\":\"1951\"}},\"id\":\"1942\",\"subtype\":\"Figure\",\"type\":\"Plot\"},{\"attributes\":{\"fill_alpha\":{\"value\":0.5},\"fill_color\":{\"value\":\"firebrick\"},\"line_alpha\":{\"value\":0.5},\"line_color\":{\"value\":\"white\"},\"size\":{\"units\":\"screen\",\"value\":5},\"x\":{\"field\":\"x\"},\"y\":{\"field\":\"y\"}},\"id\":\"1966\",\"type\":\"Circle\"},{\"attributes\":{},\"id\":\"1947\",\"type\":\"DataRange1d\"},{\"attributes\":{\"text\":\"Petal Length vs. Sepal Length\"},\"id\":\"1943\",\"type\":\"Title\"},{\"attributes\":{},\"id\":\"1945\",\"type\":\"DataRange1d\"},{\"attributes\":{\"fill_alpha\":{\"value\":0.1},\"fill_color\":{\"value\":\"#1f77b4\"},\"line_alpha\":{\"value\":0.1},\"line_color\":{\"value\":\"#1f77b4\"},\"size\":{\"units\":\"screen\",\"value\":5},\"x\":{\"field\":\"x\"},\"y\":{\"field\":\"y\"}},\"id\":\"1965\",\"type\":\"Circle\"},{\"attributes\":{\"data_source\":{\"id\":\"1963\"},\"glyph\":{\"id\":\"1964\"},\"hover_glyph\":{\"id\":\"1966\"},\"muted_glyph\":null,\"nonselection_glyph\":{\"id\":\"1965\"},\"selection_glyph\":null,\"view\":{\"id\":\"1968\"}},\"id\":\"1967\",\"type\":\"GlyphRenderer\"},{\"attributes\":{\"data\":{\"x\":{\"__ndarray__\":\"ZmZmZmZm9j9mZmZmZmb2P83MzMzMzPQ/AAAAAAAA+D9mZmZmZmb2PzMzMzMzM/s/ZmZmZmZm9j8AAAAAAAD4P2ZmZmZmZvY/AAAAAAAA+D8AAAAAAAD4P5qZmZmZmfk/ZmZmZmZm9j+amZmZmZnxPzMzMzMzM/M/AAAAAAAA+D/NzMzMzMz0P2ZmZmZmZvY/MzMzMzMz+z8AAAAAAAD4PzMzMzMzM/s/AAAAAAAA+D8AAAAAAADwPzMzMzMzM/s/ZmZmZmZm/j+amZmZmZn5P5qZmZmZmfk/AAAAAAAA+D9mZmZmZmb2P5qZmZmZmfk/mpmZmZmZ+T8AAAAAAAD4PwAAAAAAAPg/ZmZmZmZm9j8AAAAAAAD4PzMzMzMzM/M/zczMzMzM9D9mZmZmZmb2P83MzMzMzPQ/AAAAAAAA+D/NzMzMzMz0P83MzMzMzPQ/zczMzMzM9D+amZmZmZn5P2ZmZmZmZv4/ZmZmZmZm9j+amZmZmZn5P2ZmZmZmZvY/AAAAAAAA+D9mZmZmZmb2P83MzMzMzBJAAAAAAAAAEkCamZmZmZkTQAAAAAAAABBAZmZmZmZmEkAAAAAAAAASQM3MzMzMzBJAZmZmZmZmCkBmZmZmZmYSQDMzMzMzMw9AAAAAAAAADEDNzMzMzMwQQAAAAAAAABBAzczMzMzMEkDNzMzMzMwMQJqZmZmZmRFAAAAAAAAAEkBmZmZmZmYQQAAAAAAAABJAMzMzMzMzD0AzMzMzMzMTQAAAAAAAABBAmpmZmZmZE0DNzMzMzMwSQDMzMzMzMxFAmpmZmZmZEUAzMzMzMzMTQAAAAAAAABRAAAAAAAAAEkAAAAAAAAAMQGZmZmZmZg5AmpmZmZmZDUAzMzMzMzMPQGZmZmZmZhRAAAAAAAAAEkAAAAAAAAASQM3MzMzMzBJAmpmZmZmZEUBmZmZmZmYQQAAAAAAAABBAmpmZmZmZEUBmZmZmZmYSQAAAAAAAABBAZmZmZmZmCkDNzMzMzMwQQM3MzMzMzBBAzczMzMzMEEAzMzMzMzMRQAAAAAAAAAhAZmZmZmZmEEAAAAAAAAAYQGZmZmZmZhRAmpmZmZmZF0BmZmZmZmYWQDMzMzMzMxdAZmZmZmZmGkAAAAAAAAASQDMzMzMzMxlAMzMzMzMzF0BmZmZmZmYYQGZmZmZmZhRAMzMzMzMzFUAAAAAAAAAWQAAAAAAAABRAZmZmZmZmFEAzMzMzMzMVQAAAAAAAABZAzczMzMzMGkCamZmZmZkbQAAAAAAAABRAzczMzMzMFkCamZmZmZkTQM3MzMzMzBpAmpmZmZmZE0DNzMzMzMwWQAAAAAAAABhAMzMzMzMzE0CamZmZmZkTQGZmZmZmZhZAMzMzMzMzF0BmZmZmZmYYQJqZmZmZmRlAZmZmZmZmFkBmZmZmZmYUQGZmZmZmZhZAZmZmZmZmGEBmZmZmZmYWQAAAAAAAABZAMzMzMzMzE0CamZmZmZkVQGZmZmZmZhZAZmZmZmZmFEBmZmZmZmYUQJqZmZmZmRdAzczMzMzMFkDNzMzMzMwUQAAAAAAAABRAzczMzMzMFECamZmZmZkVQGZmZmZmZhRA\",\"dtype\":\"float64\",\"order\":\"little\",\"shape\":[150]},\"y\":{\"__ndarray__\":\"ZmZmZmZmFECamZmZmZkTQM3MzMzMzBJAZmZmZmZmEkAAAAAAAAAUQJqZmZmZmRVAZmZmZmZmEkAAAAAAAAAUQJqZmZmZmRFAmpmZmZmZE0CamZmZmZkVQDMzMzMzMxNAMzMzMzMzE0AzMzMzMzMRQDMzMzMzMxdAzczMzMzMFkCamZmZmZkVQGZmZmZmZhRAzczMzMzMFkBmZmZmZmYUQJqZmZmZmRVAZmZmZmZmFEBmZmZmZmYSQGZmZmZmZhRAMzMzMzMzE0AAAAAAAAAUQAAAAAAAABRAzczMzMzMFEDNzMzMzMwUQM3MzMzMzBJAMzMzMzMzE0CamZmZmZkVQM3MzMzMzBRAAAAAAAAAFkCamZmZmZkTQAAAAAAAABRAAAAAAAAAFkCamZmZmZkTQJqZmZmZmRFAZmZmZmZmFEAAAAAAAAAUQAAAAAAAABJAmpmZmZmZEUAAAAAAAAAUQGZmZmZmZhRAMzMzMzMzE0BmZmZmZmYUQGZmZmZmZhJAMzMzMzMzFUAAAAAAAAAUQAAAAAAAABxAmpmZmZmZGUCamZmZmZkbQAAAAAAAABZAAAAAAAAAGkDNzMzMzMwWQDMzMzMzMxlAmpmZmZmZE0BmZmZmZmYaQM3MzMzMzBRAAAAAAAAAFECamZmZmZkXQAAAAAAAABhAZmZmZmZmGEBmZmZmZmYWQM3MzMzMzBpAZmZmZmZmFkAzMzMzMzMXQM3MzMzMzBhAZmZmZmZmFkCamZmZmZkXQGZmZmZmZhhAMzMzMzMzGUBmZmZmZmYYQJqZmZmZmRlAZmZmZmZmGkAzMzMzMzMbQM3MzMzMzBpAAAAAAAAAGEDNzMzMzMwWQAAAAAAAABZAAAAAAAAAFkAzMzMzMzMXQAAAAAAAABhAmpmZmZmZFUAAAAAAAAAYQM3MzMzMzBpAMzMzMzMzGUBmZmZmZmYWQAAAAAAAABZAAAAAAAAAFkBmZmZmZmYYQDMzMzMzMxdAAAAAAAAAFEBmZmZmZmYWQM3MzMzMzBZAzczMzMzMFkDNzMzMzMwYQGZmZmZmZhRAzczMzMzMFkAzMzMzMzMZQDMzMzMzMxdAZmZmZmZmHEAzMzMzMzMZQAAAAAAAABpAZmZmZmZmHkCamZmZmZkTQDMzMzMzMx1AzczMzMzMGkDNzMzMzMwcQAAAAAAAABpAmpmZmZmZGUAzMzMzMzMbQM3MzMzMzBZAMzMzMzMzF0CamZmZmZkZQAAAAAAAABpAzczMzMzMHkDNzMzMzMweQAAAAAAAABhAmpmZmZmZG0BmZmZmZmYWQM3MzMzMzB5AMzMzMzMzGUDNzMzMzMwaQM3MzMzMzBxAzczMzMzMGEBmZmZmZmYYQJqZmZmZmRlAzczMzMzMHECamZmZmZkdQJqZmZmZmR9AmpmZmZmZGUAzMzMzMzMZQGZmZmZmZhhAzczMzMzMHkAzMzMzMzMZQJqZmZmZmRlAAAAAAAAAGECamZmZmZkbQM3MzMzMzBpAmpmZmZmZG0AzMzMzMzMXQDMzMzMzMxtAzczMzMzMGkDNzMzMzMwaQDMzMzMzMxlAAAAAAAAAGkDNzMzMzMwYQJqZmZmZmRdA\",\"dtype\":\"float64\",\"order\":\"little\",\"shape\":[150]}},\"selected\":{\"id\":\"2032\"},\"selection_policy\":{\"id\":\"2033\"}},\"id\":\"1963\",\"type\":\"ColumnDataSource\"},{\"attributes\":{\"callback\":null,\"mode\":\"vline\",\"tooltips\":null},\"id\":\"1941\",\"type\":\"HoverTool\"},{\"attributes\":{\"fill_color\":{\"value\":\"#1f77b4\"},\"line_color\":{\"value\":\"#1f77b4\"},\"size\":{\"units\":\"screen\",\"value\":5},\"x\":{\"field\":\"x\"},\"y\":{\"field\":\"y\"}},\"id\":\"1964\",\"type\":\"Circle\"},{\"attributes\":{},\"id\":\"2031\",\"type\":\"BasicTickFormatter\"},{\"attributes\":{\"axis_label\":\"Sepal Length\",\"formatter\":{\"id\":\"2029\"},\"ticker\":{\"id\":\"1958\"}},\"id\":\"1957\",\"type\":\"LinearAxis\"},{\"attributes\":{\"source\":{\"id\":\"1963\"}},\"id\":\"1968\",\"type\":\"CDSView\"},{\"attributes\":{},\"id\":\"2029\",\"type\":\"BasicTickFormatter\"},{\"attributes\":{},\"id\":\"1958\",\"type\":\"BasicTicker\"},{\"attributes\":{\"axis\":{\"id\":\"1953\"},\"ticker\":null},\"id\":\"1956\",\"type\":\"Grid\"},{\"attributes\":{\"axis_label\":\"Petal Length\",\"formatter\":{\"id\":\"2031\"},\"ticker\":{\"id\":\"1954\"}},\"id\":\"1953\",\"type\":\"LinearAxis\"},{\"attributes\":{},\"id\":\"1954\",\"type\":\"BasicTicker\"},{\"attributes\":{},\"id\":\"2033\",\"type\":\"UnionRenderers\"},{\"attributes\":{\"axis\":{\"id\":\"1957\"},\"dimension\":1,\"ticker\":null},\"id\":\"1960\",\"type\":\"Grid\"},{\"attributes\":{},\"id\":\"2032\",\"type\":\"Selection\"},{\"attributes\":{\"active_drag\":\"auto\",\"active_inspect\":\"auto\",\"active_multi\":null,\"active_scroll\":\"auto\",\"active_tap\":\"auto\",\"tools\":[{\"id\":\"1941\"}]},\"id\":\"1961\",\"type\":\"Toolbar\"},{\"attributes\":{},\"id\":\"1951\",\"type\":\"LinearScale\"},{\"attributes\":{},\"id\":\"1949\",\"type\":\"LinearScale\"}],\"root_ids\":[\"1942\"]},\"title\":\"Bokeh Application\",\"version\":\"2.1.1\"}};\n",
       "  var render_items = [{\"docid\":\"16c1f89b-0c34-41d6-86a7-a67c985bea2d\",\"root_ids\":[\"1942\"],\"roots\":{\"1942\":\"26696674-0c4a-4af9-afe3-6799f28c5154\"}}];\n",
       "  root.Bokeh.embed.embed_items_notebook(docs_json, render_items);\n",
       "\n",
       "  }\n",
       "  if (root.Bokeh !== undefined) {\n",
       "    embed_document(root);\n",
       "  } else {\n",
       "    var attempts = 0;\n",
       "    var timer = setInterval(function(root) {\n",
       "      if (root.Bokeh !== undefined) {\n",
       "        clearInterval(timer);\n",
       "        embed_document(root);\n",
       "      } else {\n",
       "        attempts++;\n",
       "        if (attempts > 100) {\n",
       "          clearInterval(timer);\n",
       "          console.log(\"Bokeh: ERROR: Unable to run BokehJS code because BokehJS library is missing\");\n",
       "        }\n",
       "      }\n",
       "    }, 10, root)\n",
       "  }\n",
       "})(window);"
      ],
      "application/vnd.bokehjs_exec.v0+json": ""
     },
     "metadata": {
      "application/vnd.bokehjs_exec.v0+json": {
       "id": "1942"
      }
     },
     "output_type": "display_data"
    }
   ],
   "source": [
    "hover = HoverTool(tooltips=None, mode='vline')\n",
    "plot = figure(plot_width=400, plot_height=400, tools=[hover],\n",
    "              x_axis_label='Petal Length', y_axis_label='Sepal Length', \n",
    "              title='Petal Length vs. Sepal Length')\n",
    "plot.circle(flowers['petal_length'], flowers['sepal_length'], size=5,\n",
    "            hover_fill_color='firebrick', hover_alpha=0.5,\n",
    "            hover_line_color='white')\n",
    "show(plot)"
   ]
  },
  {
   "cell_type": "markdown",
   "metadata": {},
   "source": [
    "## 해당 점에 대한 description 나오게\n",
    "#### from bokeh.models import ColumnDataSource\n",
    "- source = ColumnDataSource(설명에 사용할 DataFrame)\n",
    "- hover=HoverTool(tooltips=[('지정할 이름':'@source에 대응되는 column 이름')])\n",
    "- tools에 [hover] 포함!"
   ]
  },
  {
   "cell_type": "code",
   "execution_count": 26,
   "metadata": {},
   "outputs": [
    {
     "data": {
      "text/html": [
       "\n",
       "\n",
       "\n",
       "\n",
       "\n",
       "\n",
       "  <div class=\"bk-root\" id=\"6547e0ec-173e-45a9-91f6-44254923cd3f\" data-root-id=\"2078\"></div>\n"
      ]
     },
     "metadata": {},
     "output_type": "display_data"
    },
    {
     "data": {
      "application/javascript": [
       "(function(root) {\n",
       "  function embed_document(root) {\n",
       "    \n",
       "  var docs_json = {\"2a30e49e-30f1-46dd-8fcf-47400dbf25db\":{\"roots\":{\"references\":[{\"attributes\":{\"below\":[{\"id\":\"2089\"}],\"center\":[{\"id\":\"2092\"},{\"id\":\"2096\"}],\"left\":[{\"id\":\"2093\"}],\"plot_height\":400,\"plot_width\":400,\"renderers\":[{\"id\":\"2102\"}],\"title\":{\"id\":\"2079\"},\"toolbar\":{\"id\":\"2097\"},\"x_range\":{\"id\":\"2081\"},\"x_scale\":{\"id\":\"2085\"},\"y_range\":{\"id\":\"2083\"},\"y_scale\":{\"id\":\"2087\"}},\"id\":\"2078\",\"subtype\":\"Figure\",\"type\":\"Plot\"},{\"attributes\":{\"data_source\":{\"id\":\"2076\"},\"glyph\":{\"id\":\"2100\"},\"hover_glyph\":null,\"muted_glyph\":null,\"nonselection_glyph\":{\"id\":\"2101\"},\"selection_glyph\":null,\"view\":{\"id\":\"2103\"}},\"id\":\"2102\",\"type\":\"GlyphRenderer\"},{\"attributes\":{\"text\":\"Petal Length vs. Sepal Length\"},\"id\":\"2079\",\"type\":\"Title\"},{\"attributes\":{},\"id\":\"2085\",\"type\":\"LinearScale\"},{\"attributes\":{\"source\":{\"id\":\"2076\"}},\"id\":\"2103\",\"type\":\"CDSView\"},{\"attributes\":{},\"id\":\"2083\",\"type\":\"DataRange1d\"},{\"attributes\":{\"fill_color\":{\"value\":\"#1f77b4\"},\"line_color\":{\"value\":\"#1f77b4\"},\"size\":{\"units\":\"screen\",\"value\":5},\"x\":{\"field\":\"petal_length\"},\"y\":{\"field\":\"sepal_length\"}},\"id\":\"2100\",\"type\":\"Circle\"},{\"attributes\":{\"fill_alpha\":{\"value\":0.1},\"fill_color\":{\"value\":\"#1f77b4\"},\"line_alpha\":{\"value\":0.1},\"line_color\":{\"value\":\"#1f77b4\"},\"size\":{\"units\":\"screen\",\"value\":5},\"x\":{\"field\":\"petal_length\"},\"y\":{\"field\":\"sepal_length\"}},\"id\":\"2101\",\"type\":\"Circle\"},{\"attributes\":{\"axis\":{\"id\":\"2089\"},\"ticker\":null},\"id\":\"2092\",\"type\":\"Grid\"},{\"attributes\":{\"axis_label\":\"Petal Length\",\"formatter\":{\"id\":\"2173\"},\"ticker\":{\"id\":\"2090\"}},\"id\":\"2089\",\"type\":\"LinearAxis\"},{\"attributes\":{},\"id\":\"2087\",\"type\":\"LinearScale\"},{\"attributes\":{\"data\":{\"index\":[0,1,2,3,4,5,6,7,8,9,10,11,12,13,14,15,16,17,18,19,20,21,22,23,24,25,26,27,28,29,30,31,32,33,34,35,36,37,38,39,40,41,42,43,44,45,46,47,48,49,50,51,52,53,54,55,56,57,58,59,60,61,62,63,64,65,66,67,68,69,70,71,72,73,74,75,76,77,78,79,80,81,82,83,84,85,86,87,88,89,90,91,92,93,94,95,96,97,98,99,100,101,102,103,104,105,106,107,108,109,110,111,112,113,114,115,116,117,118,119,120,121,122,123,124,125,126,127,128,129,130,131,132,133,134,135,136,137,138,139,140,141,142,143,144,145,146,147,148,149],\"petal_length\":{\"__ndarray__\":\"ZmZmZmZm9j9mZmZmZmb2P83MzMzMzPQ/AAAAAAAA+D9mZmZmZmb2PzMzMzMzM/s/ZmZmZmZm9j8AAAAAAAD4P2ZmZmZmZvY/AAAAAAAA+D8AAAAAAAD4P5qZmZmZmfk/ZmZmZmZm9j+amZmZmZnxPzMzMzMzM/M/AAAAAAAA+D/NzMzMzMz0P2ZmZmZmZvY/MzMzMzMz+z8AAAAAAAD4PzMzMzMzM/s/AAAAAAAA+D8AAAAAAADwPzMzMzMzM/s/ZmZmZmZm/j+amZmZmZn5P5qZmZmZmfk/AAAAAAAA+D9mZmZmZmb2P5qZmZmZmfk/mpmZmZmZ+T8AAAAAAAD4PwAAAAAAAPg/ZmZmZmZm9j8AAAAAAAD4PzMzMzMzM/M/zczMzMzM9D9mZmZmZmb2P83MzMzMzPQ/AAAAAAAA+D/NzMzMzMz0P83MzMzMzPQ/zczMzMzM9D+amZmZmZn5P2ZmZmZmZv4/ZmZmZmZm9j+amZmZmZn5P2ZmZmZmZvY/AAAAAAAA+D9mZmZmZmb2P83MzMzMzBJAAAAAAAAAEkCamZmZmZkTQAAAAAAAABBAZmZmZmZmEkAAAAAAAAASQM3MzMzMzBJAZmZmZmZmCkBmZmZmZmYSQDMzMzMzMw9AAAAAAAAADEDNzMzMzMwQQAAAAAAAABBAzczMzMzMEkDNzMzMzMwMQJqZmZmZmRFAAAAAAAAAEkBmZmZmZmYQQAAAAAAAABJAMzMzMzMzD0AzMzMzMzMTQAAAAAAAABBAmpmZmZmZE0DNzMzMzMwSQDMzMzMzMxFAmpmZmZmZEUAzMzMzMzMTQAAAAAAAABRAAAAAAAAAEkAAAAAAAAAMQGZmZmZmZg5AmpmZmZmZDUAzMzMzMzMPQGZmZmZmZhRAAAAAAAAAEkAAAAAAAAASQM3MzMzMzBJAmpmZmZmZEUBmZmZmZmYQQAAAAAAAABBAmpmZmZmZEUBmZmZmZmYSQAAAAAAAABBAZmZmZmZmCkDNzMzMzMwQQM3MzMzMzBBAzczMzMzMEEAzMzMzMzMRQAAAAAAAAAhAZmZmZmZmEEAAAAAAAAAYQGZmZmZmZhRAmpmZmZmZF0BmZmZmZmYWQDMzMzMzMxdAZmZmZmZmGkAAAAAAAAASQDMzMzMzMxlAMzMzMzMzF0BmZmZmZmYYQGZmZmZmZhRAMzMzMzMzFUAAAAAAAAAWQAAAAAAAABRAZmZmZmZmFEAzMzMzMzMVQAAAAAAAABZAzczMzMzMGkCamZmZmZkbQAAAAAAAABRAzczMzMzMFkCamZmZmZkTQM3MzMzMzBpAmpmZmZmZE0DNzMzMzMwWQAAAAAAAABhAMzMzMzMzE0CamZmZmZkTQGZmZmZmZhZAMzMzMzMzF0BmZmZmZmYYQJqZmZmZmRlAZmZmZmZmFkBmZmZmZmYUQGZmZmZmZhZAZmZmZmZmGEBmZmZmZmYWQAAAAAAAABZAMzMzMzMzE0CamZmZmZkVQGZmZmZmZhZAZmZmZmZmFEBmZmZmZmYUQJqZmZmZmRdAzczMzMzMFkDNzMzMzMwUQAAAAAAAABRAzczMzMzMFECamZmZmZkVQGZmZmZmZhRA\",\"dtype\":\"float64\",\"order\":\"little\",\"shape\":[150]},\"petal_width\":{\"__ndarray__\":\"mpmZmZmZyT+amZmZmZnJP5qZmZmZmck/mpmZmZmZyT+amZmZmZnJP5qZmZmZmdk/MzMzMzMz0z+amZmZmZnJP5qZmZmZmck/mpmZmZmZuT+amZmZmZnJP5qZmZmZmck/mpmZmZmZuT+amZmZmZm5P5qZmZmZmck/mpmZmZmZ2T+amZmZmZnZPzMzMzMzM9M/MzMzMzMz0z8zMzMzMzPTP5qZmZmZmck/mpmZmZmZ2T+amZmZmZnJPwAAAAAAAOA/mpmZmZmZyT+amZmZmZnJP5qZmZmZmdk/mpmZmZmZyT+amZmZmZnJP5qZmZmZmck/mpmZmZmZyT+amZmZmZnZP5qZmZmZmbk/mpmZmZmZyT+amZmZmZnJP5qZmZmZmck/mpmZmZmZyT+amZmZmZm5P5qZmZmZmck/mpmZmZmZyT8zMzMzMzPTPzMzMzMzM9M/mpmZmZmZyT8zMzMzMzPjP5qZmZmZmdk/MzMzMzMz0z+amZmZmZnJP5qZmZmZmck/mpmZmZmZyT+amZmZmZnJP2ZmZmZmZvY/AAAAAAAA+D8AAAAAAAD4P83MzMzMzPQ/AAAAAAAA+D/NzMzMzMz0P5qZmZmZmfk/AAAAAAAA8D/NzMzMzMz0P2ZmZmZmZvY/AAAAAAAA8D8AAAAAAAD4PwAAAAAAAPA/ZmZmZmZm9j/NzMzMzMz0P2ZmZmZmZvY/AAAAAAAA+D8AAAAAAADwPwAAAAAAAPg/mpmZmZmZ8T/NzMzMzMz8P83MzMzMzPQ/AAAAAAAA+D8zMzMzMzPzP83MzMzMzPQ/ZmZmZmZm9j9mZmZmZmb2PzMzMzMzM/s/AAAAAAAA+D8AAAAAAADwP5qZmZmZmfE/AAAAAAAA8D8zMzMzMzPzP5qZmZmZmfk/AAAAAAAA+D+amZmZmZn5PwAAAAAAAPg/zczMzMzM9D/NzMzMzMz0P83MzMzMzPQ/MzMzMzMz8z9mZmZmZmb2PzMzMzMzM/M/AAAAAAAA8D/NzMzMzMz0PzMzMzMzM/M/zczMzMzM9D/NzMzMzMz0P5qZmZmZmfE/zczMzMzM9D8AAAAAAAAEQGZmZmZmZv4/zczMzMzMAEDNzMzMzMz8P5qZmZmZmQFAzczMzMzMAEAzMzMzMzP7P83MzMzMzPw/zczMzMzM/D8AAAAAAAAEQAAAAAAAAABAZmZmZmZm/j/NzMzMzMwAQAAAAAAAAABAMzMzMzMzA0BmZmZmZmYCQM3MzMzMzPw/mpmZmZmZAUBmZmZmZmYCQAAAAAAAAPg/ZmZmZmZmAkAAAAAAAAAAQAAAAAAAAABAzczMzMzM/D/NzMzMzMwAQM3MzMzMzPw/zczMzMzM/D/NzMzMzMz8P83MzMzMzABAmpmZmZmZ+T9mZmZmZmb+PwAAAAAAAABAmpmZmZmZAUAAAAAAAAD4P2ZmZmZmZvY/ZmZmZmZmAkAzMzMzMzMDQM3MzMzMzPw/zczMzMzM/D/NzMzMzMwAQDMzMzMzMwNAZmZmZmZmAkBmZmZmZmb+P2ZmZmZmZgJAAAAAAAAABEBmZmZmZmYCQGZmZmZmZv4/AAAAAAAAAEBmZmZmZmYCQM3MzMzMzPw/\",\"dtype\":\"float64\",\"order\":\"little\",\"shape\":[150]},\"sepal_length\":{\"__ndarray__\":\"ZmZmZmZmFECamZmZmZkTQM3MzMzMzBJAZmZmZmZmEkAAAAAAAAAUQJqZmZmZmRVAZmZmZmZmEkAAAAAAAAAUQJqZmZmZmRFAmpmZmZmZE0CamZmZmZkVQDMzMzMzMxNAMzMzMzMzE0AzMzMzMzMRQDMzMzMzMxdAzczMzMzMFkCamZmZmZkVQGZmZmZmZhRAzczMzMzMFkBmZmZmZmYUQJqZmZmZmRVAZmZmZmZmFEBmZmZmZmYSQGZmZmZmZhRAMzMzMzMzE0AAAAAAAAAUQAAAAAAAABRAzczMzMzMFEDNzMzMzMwUQM3MzMzMzBJAMzMzMzMzE0CamZmZmZkVQM3MzMzMzBRAAAAAAAAAFkCamZmZmZkTQAAAAAAAABRAAAAAAAAAFkCamZmZmZkTQJqZmZmZmRFAZmZmZmZmFEAAAAAAAAAUQAAAAAAAABJAmpmZmZmZEUAAAAAAAAAUQGZmZmZmZhRAMzMzMzMzE0BmZmZmZmYUQGZmZmZmZhJAMzMzMzMzFUAAAAAAAAAUQAAAAAAAABxAmpmZmZmZGUCamZmZmZkbQAAAAAAAABZAAAAAAAAAGkDNzMzMzMwWQDMzMzMzMxlAmpmZmZmZE0BmZmZmZmYaQM3MzMzMzBRAAAAAAAAAFECamZmZmZkXQAAAAAAAABhAZmZmZmZmGEBmZmZmZmYWQM3MzMzMzBpAZmZmZmZmFkAzMzMzMzMXQM3MzMzMzBhAZmZmZmZmFkCamZmZmZkXQGZmZmZmZhhAMzMzMzMzGUBmZmZmZmYYQJqZmZmZmRlAZmZmZmZmGkAzMzMzMzMbQM3MzMzMzBpAAAAAAAAAGEDNzMzMzMwWQAAAAAAAABZAAAAAAAAAFkAzMzMzMzMXQAAAAAAAABhAmpmZmZmZFUAAAAAAAAAYQM3MzMzMzBpAMzMzMzMzGUBmZmZmZmYWQAAAAAAAABZAAAAAAAAAFkBmZmZmZmYYQDMzMzMzMxdAAAAAAAAAFEBmZmZmZmYWQM3MzMzMzBZAzczMzMzMFkDNzMzMzMwYQGZmZmZmZhRAzczMzMzMFkAzMzMzMzMZQDMzMzMzMxdAZmZmZmZmHEAzMzMzMzMZQAAAAAAAABpAZmZmZmZmHkCamZmZmZkTQDMzMzMzMx1AzczMzMzMGkDNzMzMzMwcQAAAAAAAABpAmpmZmZmZGUAzMzMzMzMbQM3MzMzMzBZAMzMzMzMzF0CamZmZmZkZQAAAAAAAABpAzczMzMzMHkDNzMzMzMweQAAAAAAAABhAmpmZmZmZG0BmZmZmZmYWQM3MzMzMzB5AMzMzMzMzGUDNzMzMzMwaQM3MzMzMzBxAzczMzMzMGEBmZmZmZmYYQJqZmZmZmRlAzczMzMzMHECamZmZmZkdQJqZmZmZmR9AmpmZmZmZGUAzMzMzMzMZQGZmZmZmZhhAzczMzMzMHkAzMzMzMzMZQJqZmZmZmRlAAAAAAAAAGECamZmZmZkbQM3MzMzMzBpAmpmZmZmZG0AzMzMzMzMXQDMzMzMzMxtAzczMzMzMGkDNzMzMzMwaQDMzMzMzMxlAAAAAAAAAGkDNzMzMzMwYQJqZmZmZmRdA\",\"dtype\":\"float64\",\"order\":\"little\",\"shape\":[150]},\"sepal_width\":{\"__ndarray__\":\"AAAAAAAADEAAAAAAAAAIQJqZmZmZmQlAzczMzMzMCEDNzMzMzMwMQDMzMzMzMw9AMzMzMzMzC0AzMzMzMzMLQDMzMzMzMwdAzczMzMzMCECamZmZmZkNQDMzMzMzMwtAAAAAAAAACEAAAAAAAAAIQAAAAAAAABBAmpmZmZmZEUAzMzMzMzMPQAAAAAAAAAxAZmZmZmZmDkBmZmZmZmYOQDMzMzMzMwtAmpmZmZmZDUDNzMzMzMwMQGZmZmZmZgpAMzMzMzMzC0AAAAAAAAAIQDMzMzMzMwtAAAAAAAAADEAzMzMzMzMLQJqZmZmZmQlAzczMzMzMCEAzMzMzMzMLQGZmZmZmZhBAzczMzMzMEEDNzMzMzMwIQJqZmZmZmQlAAAAAAAAADEDNzMzMzMwMQAAAAAAAAAhAMzMzMzMzC0AAAAAAAAAMQGZmZmZmZgJAmpmZmZmZCUAAAAAAAAAMQGZmZmZmZg5AAAAAAAAACEBmZmZmZmYOQJqZmZmZmQlAmpmZmZmZDUBmZmZmZmYKQJqZmZmZmQlAmpmZmZmZCUDNzMzMzMwIQGZmZmZmZgJAZmZmZmZmBkBmZmZmZmYGQGZmZmZmZgpAMzMzMzMzA0AzMzMzMzMHQJqZmZmZmQVAAAAAAAAAAEAAAAAAAAAIQJqZmZmZmQFAMzMzMzMzB0AzMzMzMzMHQM3MzMzMzAhAAAAAAAAACECamZmZmZkFQJqZmZmZmQFAAAAAAAAABECamZmZmZkJQGZmZmZmZgZAAAAAAAAABEBmZmZmZmYGQDMzMzMzMwdAAAAAAAAACEBmZmZmZmYGQAAAAAAAAAhAMzMzMzMzB0DNzMzMzMwEQDMzMzMzMwNAMzMzMzMzA0CamZmZmZkFQJqZmZmZmQVAAAAAAAAACEAzMzMzMzMLQM3MzMzMzAhAZmZmZmZmAkAAAAAAAAAIQAAAAAAAAARAzczMzMzMBEAAAAAAAAAIQM3MzMzMzARAZmZmZmZmAkCamZmZmZkFQAAAAAAAAAhAMzMzMzMzB0AzMzMzMzMHQAAAAAAAAARAZmZmZmZmBkBmZmZmZmYKQJqZmZmZmQVAAAAAAAAACEAzMzMzMzMHQAAAAAAAAAhAAAAAAAAACEAAAAAAAAAEQDMzMzMzMwdAAAAAAAAABEDNzMzMzMwMQJqZmZmZmQlAmpmZmZmZBUAAAAAAAAAIQAAAAAAAAARAZmZmZmZmBkCamZmZmZkJQAAAAAAAAAhAZmZmZmZmDkDNzMzMzMwEQJqZmZmZmQFAmpmZmZmZCUBmZmZmZmYGQGZmZmZmZgZAmpmZmZmZBUBmZmZmZmYKQJqZmZmZmQlAZmZmZmZmBkAAAAAAAAAIQGZmZmZmZgZAAAAAAAAACEBmZmZmZmYGQGZmZmZmZg5AZmZmZmZmBkBmZmZmZmYGQM3MzMzMzARAAAAAAAAACEAzMzMzMzMLQM3MzMzMzAhAAAAAAAAACEDNzMzMzMwIQM3MzMzMzAhAzczMzMzMCECamZmZmZkFQJqZmZmZmQlAZmZmZmZmCkAAAAAAAAAIQAAAAAAAAARAAAAAAAAACEAzMzMzMzMLQAAAAAAAAAhA\",\"dtype\":\"float64\",\"order\":\"little\",\"shape\":[150]},\"species\":[\"setosa\",\"setosa\",\"setosa\",\"setosa\",\"setosa\",\"setosa\",\"setosa\",\"setosa\",\"setosa\",\"setosa\",\"setosa\",\"setosa\",\"setosa\",\"setosa\",\"setosa\",\"setosa\",\"setosa\",\"setosa\",\"setosa\",\"setosa\",\"setosa\",\"setosa\",\"setosa\",\"setosa\",\"setosa\",\"setosa\",\"setosa\",\"setosa\",\"setosa\",\"setosa\",\"setosa\",\"setosa\",\"setosa\",\"setosa\",\"setosa\",\"setosa\",\"setosa\",\"setosa\",\"setosa\",\"setosa\",\"setosa\",\"setosa\",\"setosa\",\"setosa\",\"setosa\",\"setosa\",\"setosa\",\"setosa\",\"setosa\",\"setosa\",\"versicolor\",\"versicolor\",\"versicolor\",\"versicolor\",\"versicolor\",\"versicolor\",\"versicolor\",\"versicolor\",\"versicolor\",\"versicolor\",\"versicolor\",\"versicolor\",\"versicolor\",\"versicolor\",\"versicolor\",\"versicolor\",\"versicolor\",\"versicolor\",\"versicolor\",\"versicolor\",\"versicolor\",\"versicolor\",\"versicolor\",\"versicolor\",\"versicolor\",\"versicolor\",\"versicolor\",\"versicolor\",\"versicolor\",\"versicolor\",\"versicolor\",\"versicolor\",\"versicolor\",\"versicolor\",\"versicolor\",\"versicolor\",\"versicolor\",\"versicolor\",\"versicolor\",\"versicolor\",\"versicolor\",\"versicolor\",\"versicolor\",\"versicolor\",\"versicolor\",\"versicolor\",\"versicolor\",\"versicolor\",\"versicolor\",\"versicolor\",\"virginica\",\"virginica\",\"virginica\",\"virginica\",\"virginica\",\"virginica\",\"virginica\",\"virginica\",\"virginica\",\"virginica\",\"virginica\",\"virginica\",\"virginica\",\"virginica\",\"virginica\",\"virginica\",\"virginica\",\"virginica\",\"virginica\",\"virginica\",\"virginica\",\"virginica\",\"virginica\",\"virginica\",\"virginica\",\"virginica\",\"virginica\",\"virginica\",\"virginica\",\"virginica\",\"virginica\",\"virginica\",\"virginica\",\"virginica\",\"virginica\",\"virginica\",\"virginica\",\"virginica\",\"virginica\",\"virginica\",\"virginica\",\"virginica\",\"virginica\",\"virginica\",\"virginica\",\"virginica\",\"virginica\",\"virginica\",\"virginica\",\"virginica\"]},\"selected\":{\"id\":\"2174\"},\"selection_policy\":{\"id\":\"2175\"}},\"id\":\"2076\",\"type\":\"ColumnDataSource\"},{\"attributes\":{\"axis_label\":\"Sepal Length\",\"formatter\":{\"id\":\"2171\"},\"ticker\":{\"id\":\"2094\"}},\"id\":\"2093\",\"type\":\"LinearAxis\"},{\"attributes\":{},\"id\":\"2081\",\"type\":\"DataRange1d\"},{\"attributes\":{},\"id\":\"2174\",\"type\":\"Selection\"},{\"attributes\":{},\"id\":\"2090\",\"type\":\"BasicTicker\"},{\"attributes\":{\"callback\":null,\"tooltips\":[[\"Species\",\"@species\"],[\"Petal Length\",\"@petal_length\"],[\"Sepal Length\",\"@sepal_length\"]]},\"id\":\"2077\",\"type\":\"HoverTool\"},{\"attributes\":{\"active_drag\":\"auto\",\"active_inspect\":\"auto\",\"active_multi\":null,\"active_scroll\":\"auto\",\"active_tap\":\"auto\",\"tools\":[{\"id\":\"2077\"}]},\"id\":\"2097\",\"type\":\"Toolbar\"},{\"attributes\":{\"axis\":{\"id\":\"2093\"},\"dimension\":1,\"ticker\":null},\"id\":\"2096\",\"type\":\"Grid\"},{\"attributes\":{},\"id\":\"2175\",\"type\":\"UnionRenderers\"},{\"attributes\":{},\"id\":\"2094\",\"type\":\"BasicTicker\"},{\"attributes\":{},\"id\":\"2171\",\"type\":\"BasicTickFormatter\"},{\"attributes\":{},\"id\":\"2173\",\"type\":\"BasicTickFormatter\"}],\"root_ids\":[\"2078\"]},\"title\":\"Bokeh Application\",\"version\":\"2.1.1\"}};\n",
       "  var render_items = [{\"docid\":\"2a30e49e-30f1-46dd-8fcf-47400dbf25db\",\"root_ids\":[\"2078\"],\"roots\":{\"2078\":\"6547e0ec-173e-45a9-91f6-44254923cd3f\"}}];\n",
       "  root.Bokeh.embed.embed_items_notebook(docs_json, render_items);\n",
       "\n",
       "  }\n",
       "  if (root.Bokeh !== undefined) {\n",
       "    embed_document(root);\n",
       "  } else {\n",
       "    var attempts = 0;\n",
       "    var timer = setInterval(function(root) {\n",
       "      if (root.Bokeh !== undefined) {\n",
       "        clearInterval(timer);\n",
       "        embed_document(root);\n",
       "      } else {\n",
       "        attempts++;\n",
       "        if (attempts > 100) {\n",
       "          clearInterval(timer);\n",
       "          console.log(\"Bokeh: ERROR: Unable to run BokehJS code because BokehJS library is missing\");\n",
       "        }\n",
       "      }\n",
       "    }, 10, root)\n",
       "  }\n",
       "})(window);"
      ],
      "application/vnd.bokehjs_exec.v0+json": ""
     },
     "metadata": {
      "application/vnd.bokehjs_exec.v0+json": {
       "id": "2078"
      }
     },
     "output_type": "display_data"
    }
   ],
   "source": [
    "from bokeh.models import ColumnDataSource\n",
    "source = ColumnDataSource(flowers)\n",
    "hover = HoverTool(tooltips=[('Species', '@species'), \n",
    "                            ('Petal Length', '@petal_length'),\n",
    "                            ('Sepal Length', '@sepal_length')])\n",
    "plot = figure(plot_width=400, plot_height=400, tools=[hover],\n",
    "              x_axis_label='Petal Length', y_axis_label='Sepal Length',\n",
    "              title='Petal Length vs. Sepal Length')\n",
    "plot.circle('petal_length', 'sepal_length', source=source, size=5)\n",
    "# 직접 column을 넣는 것이 아니라, column명만 입력하고 data source를 추가하는 방식!\n",
    "show(plot)"
   ]
  },
  {
   "cell_type": "markdown",
   "metadata": {},
   "source": [
    "## 7) Color mapping\n",
    "#### from bokeh.models import ColumnDataSource\n",
    "#### from bokeh.models import CategoricalColorMapper\n",
    "- source = ColumnDataSource(사용할 DataFrame)\n",
    "- mapper=CategoricalColorMapper(factors=[한 column에서 색을 mapping할 값들], palette=[대응되는 색])\n",
    "- color에 {'field': column name, 'transform': mapper}, source=source\n",
    "- legend_field에 column name -> 범례 추가 가능"
   ]
  },
  {
   "cell_type": "code",
   "execution_count": 27,
   "metadata": {},
   "outputs": [],
   "source": [
    "from bokeh.models import ColumnDataSource\n",
    "from bokeh.models import CategoricalColorMapper"
   ]
  },
  {
   "cell_type": "code",
   "execution_count": 32,
   "metadata": {},
   "outputs": [
    {
     "data": {
      "text/html": [
       "\n",
       "\n",
       "\n",
       "\n",
       "\n",
       "\n",
       "  <div class=\"bk-root\" id=\"eec706a7-e5c8-4f1e-8f4c-5a154d24fed1\" data-root-id=\"2948\"></div>\n"
      ]
     },
     "metadata": {},
     "output_type": "display_data"
    },
    {
     "data": {
      "application/javascript": [
       "(function(root) {\n",
       "  function embed_document(root) {\n",
       "    \n",
       "  var docs_json = {\"5b51d0be-061c-47b4-85ee-a511103b9d3d\":{\"roots\":{\"references\":[{\"attributes\":{\"below\":[{\"id\":\"2959\"}],\"center\":[{\"id\":\"2962\"},{\"id\":\"2966\"},{\"id\":\"2996\"}],\"left\":[{\"id\":\"2963\"}],\"plot_height\":400,\"plot_width\":400,\"renderers\":[{\"id\":\"2986\"}],\"title\":{\"id\":\"2949\"},\"toolbar\":{\"id\":\"2974\"},\"x_range\":{\"id\":\"2951\"},\"x_scale\":{\"id\":\"2955\"},\"y_range\":{\"id\":\"2953\"},\"y_scale\":{\"id\":\"2957\"}},\"id\":\"2948\",\"subtype\":\"Figure\",\"type\":\"Plot\"},{\"attributes\":{},\"id\":\"2990\",\"type\":\"BasicTickFormatter\"},{\"attributes\":{},\"id\":\"2964\",\"type\":\"BasicTicker\"},{\"attributes\":{\"fill_alpha\":{\"value\":0.1},\"fill_color\":{\"field\":\"species\",\"transform\":{\"id\":\"2982\"}},\"line_alpha\":{\"value\":0.1},\"line_color\":{\"field\":\"species\",\"transform\":{\"id\":\"2982\"}},\"x\":{\"field\":\"petal_length\"},\"y\":{\"field\":\"sepal_length\"}},\"id\":\"2985\",\"type\":\"Circle\"},{\"attributes\":{\"items\":[{\"id\":\"2997\"}],\"location\":\"top_left\"},\"id\":\"2996\",\"type\":\"Legend\"},{\"attributes\":{\"axis\":{\"id\":\"2963\"},\"dimension\":1,\"ticker\":null},\"id\":\"2966\",\"type\":\"Grid\"},{\"attributes\":{},\"id\":\"2992\",\"type\":\"BasicTickFormatter\"},{\"attributes\":{\"data_source\":{\"id\":\"2981\"},\"glyph\":{\"id\":\"2984\"},\"hover_glyph\":null,\"muted_glyph\":null,\"nonselection_glyph\":{\"id\":\"2985\"},\"selection_glyph\":null,\"view\":{\"id\":\"2987\"}},\"id\":\"2986\",\"type\":\"GlyphRenderer\"},{\"attributes\":{\"fill_color\":{\"field\":\"species\",\"transform\":{\"id\":\"2982\"}},\"line_color\":{\"field\":\"species\",\"transform\":{\"id\":\"2982\"}},\"x\":{\"field\":\"petal_length\"},\"y\":{\"field\":\"sepal_length\"}},\"id\":\"2984\",\"type\":\"Circle\"},{\"attributes\":{\"source\":{\"id\":\"2981\"}},\"id\":\"2987\",\"type\":\"CDSView\"},{\"attributes\":{},\"id\":\"2967\",\"type\":\"PanTool\"},{\"attributes\":{},\"id\":\"2995\",\"type\":\"UnionRenderers\"},{\"attributes\":{},\"id\":\"2968\",\"type\":\"WheelZoomTool\"},{\"attributes\":{\"overlay\":{\"id\":\"2973\"}},\"id\":\"2969\",\"type\":\"BoxZoomTool\"},{\"attributes\":{},\"id\":\"2970\",\"type\":\"SaveTool\"},{\"attributes\":{\"factors\":[\"setosa\",\"virginica\",\"versicolor\"],\"palette\":[\"red\",\"green\",\"blue\"]},\"id\":\"2982\",\"type\":\"CategoricalColorMapper\"},{\"attributes\":{},\"id\":\"2971\",\"type\":\"ResetTool\"},{\"attributes\":{\"axis_label\":\"Petal Length\",\"formatter\":{\"id\":\"2992\"},\"ticker\":{\"id\":\"2960\"}},\"id\":\"2959\",\"type\":\"LinearAxis\"},{\"attributes\":{\"axis_label\":\"Sepal Length\",\"formatter\":{\"id\":\"2990\"},\"ticker\":{\"id\":\"2964\"}},\"id\":\"2963\",\"type\":\"LinearAxis\"},{\"attributes\":{\"data\":{\"index\":[0,1,2,3,4,5,6,7,8,9,10,11,12,13,14,15,16,17,18,19,20,21,22,23,24,25,26,27,28,29,30,31,32,33,34,35,36,37,38,39,40,41,42,43,44,45,46,47,48,49,50,51,52,53,54,55,56,57,58,59,60,61,62,63,64,65,66,67,68,69,70,71,72,73,74,75,76,77,78,79,80,81,82,83,84,85,86,87,88,89,90,91,92,93,94,95,96,97,98,99,100,101,102,103,104,105,106,107,108,109,110,111,112,113,114,115,116,117,118,119,120,121,122,123,124,125,126,127,128,129,130,131,132,133,134,135,136,137,138,139,140,141,142,143,144,145,146,147,148,149],\"petal_length\":{\"__ndarray__\":\"ZmZmZmZm9j9mZmZmZmb2P83MzMzMzPQ/AAAAAAAA+D9mZmZmZmb2PzMzMzMzM/s/ZmZmZmZm9j8AAAAAAAD4P2ZmZmZmZvY/AAAAAAAA+D8AAAAAAAD4P5qZmZmZmfk/ZmZmZmZm9j+amZmZmZnxPzMzMzMzM/M/AAAAAAAA+D/NzMzMzMz0P2ZmZmZmZvY/MzMzMzMz+z8AAAAAAAD4PzMzMzMzM/s/AAAAAAAA+D8AAAAAAADwPzMzMzMzM/s/ZmZmZmZm/j+amZmZmZn5P5qZmZmZmfk/AAAAAAAA+D9mZmZmZmb2P5qZmZmZmfk/mpmZmZmZ+T8AAAAAAAD4PwAAAAAAAPg/ZmZmZmZm9j8AAAAAAAD4PzMzMzMzM/M/zczMzMzM9D9mZmZmZmb2P83MzMzMzPQ/AAAAAAAA+D/NzMzMzMz0P83MzMzMzPQ/zczMzMzM9D+amZmZmZn5P2ZmZmZmZv4/ZmZmZmZm9j+amZmZmZn5P2ZmZmZmZvY/AAAAAAAA+D9mZmZmZmb2P83MzMzMzBJAAAAAAAAAEkCamZmZmZkTQAAAAAAAABBAZmZmZmZmEkAAAAAAAAASQM3MzMzMzBJAZmZmZmZmCkBmZmZmZmYSQDMzMzMzMw9AAAAAAAAADEDNzMzMzMwQQAAAAAAAABBAzczMzMzMEkDNzMzMzMwMQJqZmZmZmRFAAAAAAAAAEkBmZmZmZmYQQAAAAAAAABJAMzMzMzMzD0AzMzMzMzMTQAAAAAAAABBAmpmZmZmZE0DNzMzMzMwSQDMzMzMzMxFAmpmZmZmZEUAzMzMzMzMTQAAAAAAAABRAAAAAAAAAEkAAAAAAAAAMQGZmZmZmZg5AmpmZmZmZDUAzMzMzMzMPQGZmZmZmZhRAAAAAAAAAEkAAAAAAAAASQM3MzMzMzBJAmpmZmZmZEUBmZmZmZmYQQAAAAAAAABBAmpmZmZmZEUBmZmZmZmYSQAAAAAAAABBAZmZmZmZmCkDNzMzMzMwQQM3MzMzMzBBAzczMzMzMEEAzMzMzMzMRQAAAAAAAAAhAZmZmZmZmEEAAAAAAAAAYQGZmZmZmZhRAmpmZmZmZF0BmZmZmZmYWQDMzMzMzMxdAZmZmZmZmGkAAAAAAAAASQDMzMzMzMxlAMzMzMzMzF0BmZmZmZmYYQGZmZmZmZhRAMzMzMzMzFUAAAAAAAAAWQAAAAAAAABRAZmZmZmZmFEAzMzMzMzMVQAAAAAAAABZAzczMzMzMGkCamZmZmZkbQAAAAAAAABRAzczMzMzMFkCamZmZmZkTQM3MzMzMzBpAmpmZmZmZE0DNzMzMzMwWQAAAAAAAABhAMzMzMzMzE0CamZmZmZkTQGZmZmZmZhZAMzMzMzMzF0BmZmZmZmYYQJqZmZmZmRlAZmZmZmZmFkBmZmZmZmYUQGZmZmZmZhZAZmZmZmZmGEBmZmZmZmYWQAAAAAAAABZAMzMzMzMzE0CamZmZmZkVQGZmZmZmZhZAZmZmZmZmFEBmZmZmZmYUQJqZmZmZmRdAzczMzMzMFkDNzMzMzMwUQAAAAAAAABRAzczMzMzMFECamZmZmZkVQGZmZmZmZhRA\",\"dtype\":\"float64\",\"order\":\"little\",\"shape\":[150]},\"petal_width\":{\"__ndarray__\":\"mpmZmZmZyT+amZmZmZnJP5qZmZmZmck/mpmZmZmZyT+amZmZmZnJP5qZmZmZmdk/MzMzMzMz0z+amZmZmZnJP5qZmZmZmck/mpmZmZmZuT+amZmZmZnJP5qZmZmZmck/mpmZmZmZuT+amZmZmZm5P5qZmZmZmck/mpmZmZmZ2T+amZmZmZnZPzMzMzMzM9M/MzMzMzMz0z8zMzMzMzPTP5qZmZmZmck/mpmZmZmZ2T+amZmZmZnJPwAAAAAAAOA/mpmZmZmZyT+amZmZmZnJP5qZmZmZmdk/mpmZmZmZyT+amZmZmZnJP5qZmZmZmck/mpmZmZmZyT+amZmZmZnZP5qZmZmZmbk/mpmZmZmZyT+amZmZmZnJP5qZmZmZmck/mpmZmZmZyT+amZmZmZm5P5qZmZmZmck/mpmZmZmZyT8zMzMzMzPTPzMzMzMzM9M/mpmZmZmZyT8zMzMzMzPjP5qZmZmZmdk/MzMzMzMz0z+amZmZmZnJP5qZmZmZmck/mpmZmZmZyT+amZmZmZnJP2ZmZmZmZvY/AAAAAAAA+D8AAAAAAAD4P83MzMzMzPQ/AAAAAAAA+D/NzMzMzMz0P5qZmZmZmfk/AAAAAAAA8D/NzMzMzMz0P2ZmZmZmZvY/AAAAAAAA8D8AAAAAAAD4PwAAAAAAAPA/ZmZmZmZm9j/NzMzMzMz0P2ZmZmZmZvY/AAAAAAAA+D8AAAAAAADwPwAAAAAAAPg/mpmZmZmZ8T/NzMzMzMz8P83MzMzMzPQ/AAAAAAAA+D8zMzMzMzPzP83MzMzMzPQ/ZmZmZmZm9j9mZmZmZmb2PzMzMzMzM/s/AAAAAAAA+D8AAAAAAADwP5qZmZmZmfE/AAAAAAAA8D8zMzMzMzPzP5qZmZmZmfk/AAAAAAAA+D+amZmZmZn5PwAAAAAAAPg/zczMzMzM9D/NzMzMzMz0P83MzMzMzPQ/MzMzMzMz8z9mZmZmZmb2PzMzMzMzM/M/AAAAAAAA8D/NzMzMzMz0PzMzMzMzM/M/zczMzMzM9D/NzMzMzMz0P5qZmZmZmfE/zczMzMzM9D8AAAAAAAAEQGZmZmZmZv4/zczMzMzMAEDNzMzMzMz8P5qZmZmZmQFAzczMzMzMAEAzMzMzMzP7P83MzMzMzPw/zczMzMzM/D8AAAAAAAAEQAAAAAAAAABAZmZmZmZm/j/NzMzMzMwAQAAAAAAAAABAMzMzMzMzA0BmZmZmZmYCQM3MzMzMzPw/mpmZmZmZAUBmZmZmZmYCQAAAAAAAAPg/ZmZmZmZmAkAAAAAAAAAAQAAAAAAAAABAzczMzMzM/D/NzMzMzMwAQM3MzMzMzPw/zczMzMzM/D/NzMzMzMz8P83MzMzMzABAmpmZmZmZ+T9mZmZmZmb+PwAAAAAAAABAmpmZmZmZAUAAAAAAAAD4P2ZmZmZmZvY/ZmZmZmZmAkAzMzMzMzMDQM3MzMzMzPw/zczMzMzM/D/NzMzMzMwAQDMzMzMzMwNAZmZmZmZmAkBmZmZmZmb+P2ZmZmZmZgJAAAAAAAAABEBmZmZmZmYCQGZmZmZmZv4/AAAAAAAAAEBmZmZmZmYCQM3MzMzMzPw/\",\"dtype\":\"float64\",\"order\":\"little\",\"shape\":[150]},\"sepal_length\":{\"__ndarray__\":\"ZmZmZmZmFECamZmZmZkTQM3MzMzMzBJAZmZmZmZmEkAAAAAAAAAUQJqZmZmZmRVAZmZmZmZmEkAAAAAAAAAUQJqZmZmZmRFAmpmZmZmZE0CamZmZmZkVQDMzMzMzMxNAMzMzMzMzE0AzMzMzMzMRQDMzMzMzMxdAzczMzMzMFkCamZmZmZkVQGZmZmZmZhRAzczMzMzMFkBmZmZmZmYUQJqZmZmZmRVAZmZmZmZmFEBmZmZmZmYSQGZmZmZmZhRAMzMzMzMzE0AAAAAAAAAUQAAAAAAAABRAzczMzMzMFEDNzMzMzMwUQM3MzMzMzBJAMzMzMzMzE0CamZmZmZkVQM3MzMzMzBRAAAAAAAAAFkCamZmZmZkTQAAAAAAAABRAAAAAAAAAFkCamZmZmZkTQJqZmZmZmRFAZmZmZmZmFEAAAAAAAAAUQAAAAAAAABJAmpmZmZmZEUAAAAAAAAAUQGZmZmZmZhRAMzMzMzMzE0BmZmZmZmYUQGZmZmZmZhJAMzMzMzMzFUAAAAAAAAAUQAAAAAAAABxAmpmZmZmZGUCamZmZmZkbQAAAAAAAABZAAAAAAAAAGkDNzMzMzMwWQDMzMzMzMxlAmpmZmZmZE0BmZmZmZmYaQM3MzMzMzBRAAAAAAAAAFECamZmZmZkXQAAAAAAAABhAZmZmZmZmGEBmZmZmZmYWQM3MzMzMzBpAZmZmZmZmFkAzMzMzMzMXQM3MzMzMzBhAZmZmZmZmFkCamZmZmZkXQGZmZmZmZhhAMzMzMzMzGUBmZmZmZmYYQJqZmZmZmRlAZmZmZmZmGkAzMzMzMzMbQM3MzMzMzBpAAAAAAAAAGEDNzMzMzMwWQAAAAAAAABZAAAAAAAAAFkAzMzMzMzMXQAAAAAAAABhAmpmZmZmZFUAAAAAAAAAYQM3MzMzMzBpAMzMzMzMzGUBmZmZmZmYWQAAAAAAAABZAAAAAAAAAFkBmZmZmZmYYQDMzMzMzMxdAAAAAAAAAFEBmZmZmZmYWQM3MzMzMzBZAzczMzMzMFkDNzMzMzMwYQGZmZmZmZhRAzczMzMzMFkAzMzMzMzMZQDMzMzMzMxdAZmZmZmZmHEAzMzMzMzMZQAAAAAAAABpAZmZmZmZmHkCamZmZmZkTQDMzMzMzMx1AzczMzMzMGkDNzMzMzMwcQAAAAAAAABpAmpmZmZmZGUAzMzMzMzMbQM3MzMzMzBZAMzMzMzMzF0CamZmZmZkZQAAAAAAAABpAzczMzMzMHkDNzMzMzMweQAAAAAAAABhAmpmZmZmZG0BmZmZmZmYWQM3MzMzMzB5AMzMzMzMzGUDNzMzMzMwaQM3MzMzMzBxAzczMzMzMGEBmZmZmZmYYQJqZmZmZmRlAzczMzMzMHECamZmZmZkdQJqZmZmZmR9AmpmZmZmZGUAzMzMzMzMZQGZmZmZmZhhAzczMzMzMHkAzMzMzMzMZQJqZmZmZmRlAAAAAAAAAGECamZmZmZkbQM3MzMzMzBpAmpmZmZmZG0AzMzMzMzMXQDMzMzMzMxtAzczMzMzMGkDNzMzMzMwaQDMzMzMzMxlAAAAAAAAAGkDNzMzMzMwYQJqZmZmZmRdA\",\"dtype\":\"float64\",\"order\":\"little\",\"shape\":[150]},\"sepal_width\":{\"__ndarray__\":\"AAAAAAAADEAAAAAAAAAIQJqZmZmZmQlAzczMzMzMCEDNzMzMzMwMQDMzMzMzMw9AMzMzMzMzC0AzMzMzMzMLQDMzMzMzMwdAzczMzMzMCECamZmZmZkNQDMzMzMzMwtAAAAAAAAACEAAAAAAAAAIQAAAAAAAABBAmpmZmZmZEUAzMzMzMzMPQAAAAAAAAAxAZmZmZmZmDkBmZmZmZmYOQDMzMzMzMwtAmpmZmZmZDUDNzMzMzMwMQGZmZmZmZgpAMzMzMzMzC0AAAAAAAAAIQDMzMzMzMwtAAAAAAAAADEAzMzMzMzMLQJqZmZmZmQlAzczMzMzMCEAzMzMzMzMLQGZmZmZmZhBAzczMzMzMEEDNzMzMzMwIQJqZmZmZmQlAAAAAAAAADEDNzMzMzMwMQAAAAAAAAAhAMzMzMzMzC0AAAAAAAAAMQGZmZmZmZgJAmpmZmZmZCUAAAAAAAAAMQGZmZmZmZg5AAAAAAAAACEBmZmZmZmYOQJqZmZmZmQlAmpmZmZmZDUBmZmZmZmYKQJqZmZmZmQlAmpmZmZmZCUDNzMzMzMwIQGZmZmZmZgJAZmZmZmZmBkBmZmZmZmYGQGZmZmZmZgpAMzMzMzMzA0AzMzMzMzMHQJqZmZmZmQVAAAAAAAAAAEAAAAAAAAAIQJqZmZmZmQFAMzMzMzMzB0AzMzMzMzMHQM3MzMzMzAhAAAAAAAAACECamZmZmZkFQJqZmZmZmQFAAAAAAAAABECamZmZmZkJQGZmZmZmZgZAAAAAAAAABEBmZmZmZmYGQDMzMzMzMwdAAAAAAAAACEBmZmZmZmYGQAAAAAAAAAhAMzMzMzMzB0DNzMzMzMwEQDMzMzMzMwNAMzMzMzMzA0CamZmZmZkFQJqZmZmZmQVAAAAAAAAACEAzMzMzMzMLQM3MzMzMzAhAZmZmZmZmAkAAAAAAAAAIQAAAAAAAAARAzczMzMzMBEAAAAAAAAAIQM3MzMzMzARAZmZmZmZmAkCamZmZmZkFQAAAAAAAAAhAMzMzMzMzB0AzMzMzMzMHQAAAAAAAAARAZmZmZmZmBkBmZmZmZmYKQJqZmZmZmQVAAAAAAAAACEAzMzMzMzMHQAAAAAAAAAhAAAAAAAAACEAAAAAAAAAEQDMzMzMzMwdAAAAAAAAABEDNzMzMzMwMQJqZmZmZmQlAmpmZmZmZBUAAAAAAAAAIQAAAAAAAAARAZmZmZmZmBkCamZmZmZkJQAAAAAAAAAhAZmZmZmZmDkDNzMzMzMwEQJqZmZmZmQFAmpmZmZmZCUBmZmZmZmYGQGZmZmZmZgZAmpmZmZmZBUBmZmZmZmYKQJqZmZmZmQlAZmZmZmZmBkAAAAAAAAAIQGZmZmZmZgZAAAAAAAAACEBmZmZmZmYGQGZmZmZmZg5AZmZmZmZmBkBmZmZmZmYGQM3MzMzMzARAAAAAAAAACEAzMzMzMzMLQM3MzMzMzAhAAAAAAAAACEDNzMzMzMwIQM3MzMzMzAhAzczMzMzMCECamZmZmZkFQJqZmZmZmQlAZmZmZmZmCkAAAAAAAAAIQAAAAAAAAARAAAAAAAAACEAzMzMzMzMLQAAAAAAAAAhA\",\"dtype\":\"float64\",\"order\":\"little\",\"shape\":[150]},\"species\":[\"setosa\",\"setosa\",\"setosa\",\"setosa\",\"setosa\",\"setosa\",\"setosa\",\"setosa\",\"setosa\",\"setosa\",\"setosa\",\"setosa\",\"setosa\",\"setosa\",\"setosa\",\"setosa\",\"setosa\",\"setosa\",\"setosa\",\"setosa\",\"setosa\",\"setosa\",\"setosa\",\"setosa\",\"setosa\",\"setosa\",\"setosa\",\"setosa\",\"setosa\",\"setosa\",\"setosa\",\"setosa\",\"setosa\",\"setosa\",\"setosa\",\"setosa\",\"setosa\",\"setosa\",\"setosa\",\"setosa\",\"setosa\",\"setosa\",\"setosa\",\"setosa\",\"setosa\",\"setosa\",\"setosa\",\"setosa\",\"setosa\",\"setosa\",\"versicolor\",\"versicolor\",\"versicolor\",\"versicolor\",\"versicolor\",\"versicolor\",\"versicolor\",\"versicolor\",\"versicolor\",\"versicolor\",\"versicolor\",\"versicolor\",\"versicolor\",\"versicolor\",\"versicolor\",\"versicolor\",\"versicolor\",\"versicolor\",\"versicolor\",\"versicolor\",\"versicolor\",\"versicolor\",\"versicolor\",\"versicolor\",\"versicolor\",\"versicolor\",\"versicolor\",\"versicolor\",\"versicolor\",\"versicolor\",\"versicolor\",\"versicolor\",\"versicolor\",\"versicolor\",\"versicolor\",\"versicolor\",\"versicolor\",\"versicolor\",\"versicolor\",\"versicolor\",\"versicolor\",\"versicolor\",\"versicolor\",\"versicolor\",\"versicolor\",\"versicolor\",\"versicolor\",\"versicolor\",\"versicolor\",\"versicolor\",\"virginica\",\"virginica\",\"virginica\",\"virginica\",\"virginica\",\"virginica\",\"virginica\",\"virginica\",\"virginica\",\"virginica\",\"virginica\",\"virginica\",\"virginica\",\"virginica\",\"virginica\",\"virginica\",\"virginica\",\"virginica\",\"virginica\",\"virginica\",\"virginica\",\"virginica\",\"virginica\",\"virginica\",\"virginica\",\"virginica\",\"virginica\",\"virginica\",\"virginica\",\"virginica\",\"virginica\",\"virginica\",\"virginica\",\"virginica\",\"virginica\",\"virginica\",\"virginica\",\"virginica\",\"virginica\",\"virginica\",\"virginica\",\"virginica\",\"virginica\",\"virginica\",\"virginica\",\"virginica\",\"virginica\",\"virginica\",\"virginica\",\"virginica\"]},\"selected\":{\"id\":\"2994\"},\"selection_policy\":{\"id\":\"2995\"}},\"id\":\"2981\",\"type\":\"ColumnDataSource\"},{\"attributes\":{},\"id\":\"2972\",\"type\":\"HelpTool\"},{\"attributes\":{\"active_drag\":\"auto\",\"active_inspect\":\"auto\",\"active_multi\":null,\"active_scroll\":\"auto\",\"active_tap\":\"auto\",\"tools\":[{\"id\":\"2967\"},{\"id\":\"2968\"},{\"id\":\"2969\"},{\"id\":\"2970\"},{\"id\":\"2971\"},{\"id\":\"2972\"}]},\"id\":\"2974\",\"type\":\"Toolbar\"},{\"attributes\":{},\"id\":\"2960\",\"type\":\"BasicTicker\"},{\"attributes\":{},\"id\":\"2957\",\"type\":\"LinearScale\"},{\"attributes\":{\"label\":{\"field\":\"species\"},\"renderers\":[{\"id\":\"2986\"}]},\"id\":\"2997\",\"type\":\"LegendItem\"},{\"attributes\":{\"text\":\"Petal Length vs. Sepal Length\"},\"id\":\"2949\",\"type\":\"Title\"},{\"attributes\":{\"axis\":{\"id\":\"2959\"},\"ticker\":null},\"id\":\"2962\",\"type\":\"Grid\"},{\"attributes\":{},\"id\":\"2955\",\"type\":\"LinearScale\"},{\"attributes\":{\"bottom_units\":\"screen\",\"fill_alpha\":0.5,\"fill_color\":\"lightgrey\",\"left_units\":\"screen\",\"level\":\"overlay\",\"line_alpha\":1.0,\"line_color\":\"black\",\"line_dash\":[4,4],\"line_width\":2,\"right_units\":\"screen\",\"top_units\":\"screen\"},\"id\":\"2973\",\"type\":\"BoxAnnotation\"},{\"attributes\":{},\"id\":\"2953\",\"type\":\"DataRange1d\"},{\"attributes\":{},\"id\":\"2994\",\"type\":\"Selection\"},{\"attributes\":{},\"id\":\"2951\",\"type\":\"DataRange1d\"}],\"root_ids\":[\"2948\"]},\"title\":\"Bokeh Application\",\"version\":\"2.1.1\"}};\n",
       "  var render_items = [{\"docid\":\"5b51d0be-061c-47b4-85ee-a511103b9d3d\",\"root_ids\":[\"2948\"],\"roots\":{\"2948\":\"eec706a7-e5c8-4f1e-8f4c-5a154d24fed1\"}}];\n",
       "  root.Bokeh.embed.embed_items_notebook(docs_json, render_items);\n",
       "\n",
       "  }\n",
       "  if (root.Bokeh !== undefined) {\n",
       "    embed_document(root);\n",
       "  } else {\n",
       "    var attempts = 0;\n",
       "    var timer = setInterval(function(root) {\n",
       "      if (root.Bokeh !== undefined) {\n",
       "        clearInterval(timer);\n",
       "        embed_document(root);\n",
       "      } else {\n",
       "        attempts++;\n",
       "        if (attempts > 100) {\n",
       "          clearInterval(timer);\n",
       "          console.log(\"Bokeh: ERROR: Unable to run BokehJS code because BokehJS library is missing\");\n",
       "        }\n",
       "      }\n",
       "    }, 10, root)\n",
       "  }\n",
       "})(window);"
      ],
      "application/vnd.bokehjs_exec.v0+json": ""
     },
     "metadata": {
      "application/vnd.bokehjs_exec.v0+json": {
       "id": "2948"
      }
     },
     "output_type": "display_data"
    }
   ],
   "source": [
    "plot = figure(plot_width=400, plot_height=400, \n",
    "              x_axis_label='Petal Length', y_axis_label='Sepal Length',\n",
    "             title='Petal Length vs. Sepal Length')\n",
    "source = ColumnDataSource(flowers)\n",
    "mapper = CategoricalColorMapper(factors=['setosa', 'virginica', 'versicolor'], \n",
    "                                palette=['red', 'green', 'blue'])\n",
    "plot.circle('petal_length', 'sepal_length', \n",
    "            color={'field':'species', 'transform':mapper},\n",
    "            legend_field='species', source=source)\n",
    "plot.legend.location = 'top_left'\n",
    "show(plot)"
   ]
  },
  {
   "cell_type": "markdown",
   "metadata": {},
   "source": [
    "# 2. Arrange Plots (여러 개의 Plot 배치)"
   ]
  },
  {
   "cell_type": "markdown",
   "metadata": {},
   "source": [
    "## 1) Rows of Plots"
   ]
  },
  {
   "cell_type": "code",
   "execution_count": 34,
   "metadata": {},
   "outputs": [],
   "source": [
    "from bokeh.layouts import row"
   ]
  },
  {
   "cell_type": "code",
   "execution_count": 35,
   "metadata": {},
   "outputs": [
    {
     "data": {
      "text/html": [
       "\n",
       "\n",
       "\n",
       "\n",
       "\n",
       "\n",
       "  <div class=\"bk-root\" id=\"a614fd42-acc3-4203-951c-aaeed4298493\" data-root-id=\"3312\"></div>\n"
      ]
     },
     "metadata": {},
     "output_type": "display_data"
    },
    {
     "data": {
      "application/javascript": [
       "(function(root) {\n",
       "  function embed_document(root) {\n",
       "    \n",
       "  var docs_json = {\"96a23356-25ca-4f8d-898b-cb1d59ac8714\":{\"roots\":{\"references\":[{\"attributes\":{\"children\":[{\"id\":\"3236\"},{\"id\":\"3274\"}]},\"id\":\"3312\",\"type\":\"Row\"},{\"attributes\":{\"active_drag\":\"auto\",\"active_inspect\":\"auto\",\"active_multi\":null,\"active_scroll\":\"auto\",\"active_tap\":\"auto\",\"tools\":[{\"id\":\"3255\"},{\"id\":\"3256\"},{\"id\":\"3257\"},{\"id\":\"3258\"},{\"id\":\"3259\"},{\"id\":\"3260\"}]},\"id\":\"3262\",\"type\":\"Toolbar\"},{\"attributes\":{},\"id\":\"3241\",\"type\":\"DataRange1d\"},{\"attributes\":{\"axis\":{\"id\":\"3289\"},\"dimension\":1,\"ticker\":null},\"id\":\"3292\",\"type\":\"Grid\"},{\"attributes\":{\"bottom_units\":\"screen\",\"fill_alpha\":0.5,\"fill_color\":\"lightgrey\",\"left_units\":\"screen\",\"level\":\"overlay\",\"line_alpha\":1.0,\"line_color\":\"black\",\"line_dash\":[4,4],\"line_width\":2,\"right_units\":\"screen\",\"top_units\":\"screen\"},\"id\":\"3299\",\"type\":\"BoxAnnotation\"},{\"attributes\":{},\"id\":\"3430\",\"type\":\"BasicTickFormatter\"},{\"attributes\":{},\"id\":\"3245\",\"type\":\"LinearScale\"},{\"attributes\":{\"axis_label\":\"Petal Length\",\"formatter\":{\"id\":\"3430\"},\"ticker\":{\"id\":\"3248\"}},\"id\":\"3247\",\"type\":\"LinearAxis\"},{\"attributes\":{\"fill_alpha\":{\"value\":0.1},\"fill_color\":{\"value\":\"blue\"},\"line_alpha\":{\"value\":0.1},\"line_color\":{\"value\":\"blue\"},\"x\":{\"field\":\"petal_length\"},\"y\":{\"field\":\"petal_width\"}},\"id\":\"3309\",\"type\":\"Circle\"},{\"attributes\":{},\"id\":\"3428\",\"type\":\"BasicTickFormatter\"},{\"attributes\":{\"axis\":{\"id\":\"3247\"},\"ticker\":null},\"id\":\"3250\",\"type\":\"Grid\"},{\"attributes\":{\"bottom_units\":\"screen\",\"fill_alpha\":0.5,\"fill_color\":\"lightgrey\",\"left_units\":\"screen\",\"level\":\"overlay\",\"line_alpha\":1.0,\"line_color\":\"black\",\"line_dash\":[4,4],\"line_width\":2,\"right_units\":\"screen\",\"top_units\":\"screen\"},\"id\":\"3261\",\"type\":\"BoxAnnotation\"},{\"attributes\":{},\"id\":\"3248\",\"type\":\"BasicTicker\"},{\"attributes\":{},\"id\":\"3293\",\"type\":\"PanTool\"},{\"attributes\":{},\"id\":\"3437\",\"type\":\"UnionRenderers\"},{\"attributes\":{},\"id\":\"3243\",\"type\":\"LinearScale\"},{\"attributes\":{\"source\":{\"id\":\"3235\"}},\"id\":\"3273\",\"type\":\"CDSView\"},{\"attributes\":{},\"id\":\"3294\",\"type\":\"WheelZoomTool\"},{\"attributes\":{\"fill_color\":{\"value\":\"blue\"},\"line_color\":{\"value\":\"blue\"},\"x\":{\"field\":\"petal_length\"},\"y\":{\"field\":\"petal_width\"}},\"id\":\"3308\",\"type\":\"Circle\"},{\"attributes\":{\"axis_label\":\"Sepal Length\",\"formatter\":{\"id\":\"3428\"},\"ticker\":{\"id\":\"3252\"}},\"id\":\"3251\",\"type\":\"LinearAxis\"},{\"attributes\":{},\"id\":\"3252\",\"type\":\"BasicTicker\"},{\"attributes\":{\"overlay\":{\"id\":\"3299\"}},\"id\":\"3295\",\"type\":\"BoxZoomTool\"},{\"attributes\":{},\"id\":\"3296\",\"type\":\"SaveTool\"},{\"attributes\":{\"axis\":{\"id\":\"3251\"},\"dimension\":1,\"ticker\":null},\"id\":\"3254\",\"type\":\"Grid\"},{\"attributes\":{},\"id\":\"3297\",\"type\":\"ResetTool\"},{\"attributes\":{\"data_source\":{\"id\":\"3235\"},\"glyph\":{\"id\":\"3270\"},\"hover_glyph\":null,\"muted_glyph\":null,\"nonselection_glyph\":{\"id\":\"3271\"},\"selection_glyph\":null,\"view\":{\"id\":\"3273\"}},\"id\":\"3272\",\"type\":\"GlyphRenderer\"},{\"attributes\":{\"text\":\"Petal Length vs. Petal Width\"},\"id\":\"3275\",\"type\":\"Title\"},{\"attributes\":{},\"id\":\"3298\",\"type\":\"HelpTool\"},{\"attributes\":{},\"id\":\"3277\",\"type\":\"DataRange1d\"},{\"attributes\":{\"below\":[{\"id\":\"3285\"}],\"center\":[{\"id\":\"3288\"},{\"id\":\"3292\"}],\"left\":[{\"id\":\"3289\"}],\"plot_height\":400,\"plot_width\":400,\"renderers\":[{\"id\":\"3310\"}],\"title\":{\"id\":\"3275\"},\"toolbar\":{\"id\":\"3300\"},\"x_range\":{\"id\":\"3277\"},\"x_scale\":{\"id\":\"3281\"},\"y_range\":{\"id\":\"3279\"},\"y_scale\":{\"id\":\"3283\"}},\"id\":\"3274\",\"subtype\":\"Figure\",\"type\":\"Plot\"},{\"attributes\":{\"active_drag\":\"auto\",\"active_inspect\":\"auto\",\"active_multi\":null,\"active_scroll\":\"auto\",\"active_tap\":\"auto\",\"tools\":[{\"id\":\"3293\"},{\"id\":\"3294\"},{\"id\":\"3295\"},{\"id\":\"3296\"},{\"id\":\"3297\"},{\"id\":\"3298\"}]},\"id\":\"3300\",\"type\":\"Toolbar\"},{\"attributes\":{},\"id\":\"3279\",\"type\":\"DataRange1d\"},{\"attributes\":{\"data\":{\"index\":[0,1,2,3,4,5,6,7,8,9,10,11,12,13,14,15,16,17,18,19,20,21,22,23,24,25,26,27,28,29,30,31,32,33,34,35,36,37,38,39,40,41,42,43,44,45,46,47,48,49,50,51,52,53,54,55,56,57,58,59,60,61,62,63,64,65,66,67,68,69,70,71,72,73,74,75,76,77,78,79,80,81,82,83,84,85,86,87,88,89,90,91,92,93,94,95,96,97,98,99,100,101,102,103,104,105,106,107,108,109,110,111,112,113,114,115,116,117,118,119,120,121,122,123,124,125,126,127,128,129,130,131,132,133,134,135,136,137,138,139,140,141,142,143,144,145,146,147,148,149],\"petal_length\":{\"__ndarray__\":\"ZmZmZmZm9j9mZmZmZmb2P83MzMzMzPQ/AAAAAAAA+D9mZmZmZmb2PzMzMzMzM/s/ZmZmZmZm9j8AAAAAAAD4P2ZmZmZmZvY/AAAAAAAA+D8AAAAAAAD4P5qZmZmZmfk/ZmZmZmZm9j+amZmZmZnxPzMzMzMzM/M/AAAAAAAA+D/NzMzMzMz0P2ZmZmZmZvY/MzMzMzMz+z8AAAAAAAD4PzMzMzMzM/s/AAAAAAAA+D8AAAAAAADwPzMzMzMzM/s/ZmZmZmZm/j+amZmZmZn5P5qZmZmZmfk/AAAAAAAA+D9mZmZmZmb2P5qZmZmZmfk/mpmZmZmZ+T8AAAAAAAD4PwAAAAAAAPg/ZmZmZmZm9j8AAAAAAAD4PzMzMzMzM/M/zczMzMzM9D9mZmZmZmb2P83MzMzMzPQ/AAAAAAAA+D/NzMzMzMz0P83MzMzMzPQ/zczMzMzM9D+amZmZmZn5P2ZmZmZmZv4/ZmZmZmZm9j+amZmZmZn5P2ZmZmZmZvY/AAAAAAAA+D9mZmZmZmb2P83MzMzMzBJAAAAAAAAAEkCamZmZmZkTQAAAAAAAABBAZmZmZmZmEkAAAAAAAAASQM3MzMzMzBJAZmZmZmZmCkBmZmZmZmYSQDMzMzMzMw9AAAAAAAAADEDNzMzMzMwQQAAAAAAAABBAzczMzMzMEkDNzMzMzMwMQJqZmZmZmRFAAAAAAAAAEkBmZmZmZmYQQAAAAAAAABJAMzMzMzMzD0AzMzMzMzMTQAAAAAAAABBAmpmZmZmZE0DNzMzMzMwSQDMzMzMzMxFAmpmZmZmZEUAzMzMzMzMTQAAAAAAAABRAAAAAAAAAEkAAAAAAAAAMQGZmZmZmZg5AmpmZmZmZDUAzMzMzMzMPQGZmZmZmZhRAAAAAAAAAEkAAAAAAAAASQM3MzMzMzBJAmpmZmZmZEUBmZmZmZmYQQAAAAAAAABBAmpmZmZmZEUBmZmZmZmYSQAAAAAAAABBAZmZmZmZmCkDNzMzMzMwQQM3MzMzMzBBAzczMzMzMEEAzMzMzMzMRQAAAAAAAAAhAZmZmZmZmEEAAAAAAAAAYQGZmZmZmZhRAmpmZmZmZF0BmZmZmZmYWQDMzMzMzMxdAZmZmZmZmGkAAAAAAAAASQDMzMzMzMxlAMzMzMzMzF0BmZmZmZmYYQGZmZmZmZhRAMzMzMzMzFUAAAAAAAAAWQAAAAAAAABRAZmZmZmZmFEAzMzMzMzMVQAAAAAAAABZAzczMzMzMGkCamZmZmZkbQAAAAAAAABRAzczMzMzMFkCamZmZmZkTQM3MzMzMzBpAmpmZmZmZE0DNzMzMzMwWQAAAAAAAABhAMzMzMzMzE0CamZmZmZkTQGZmZmZmZhZAMzMzMzMzF0BmZmZmZmYYQJqZmZmZmRlAZmZmZmZmFkBmZmZmZmYUQGZmZmZmZhZAZmZmZmZmGEBmZmZmZmYWQAAAAAAAABZAMzMzMzMzE0CamZmZmZkVQGZmZmZmZhZAZmZmZmZmFEBmZmZmZmYUQJqZmZmZmRdAzczMzMzMFkDNzMzMzMwUQAAAAAAAABRAzczMzMzMFECamZmZmZkVQGZmZmZmZhRA\",\"dtype\":\"float64\",\"order\":\"little\",\"shape\":[150]},\"petal_width\":{\"__ndarray__\":\"mpmZmZmZyT+amZmZmZnJP5qZmZmZmck/mpmZmZmZyT+amZmZmZnJP5qZmZmZmdk/MzMzMzMz0z+amZmZmZnJP5qZmZmZmck/mpmZmZmZuT+amZmZmZnJP5qZmZmZmck/mpmZmZmZuT+amZmZmZm5P5qZmZmZmck/mpmZmZmZ2T+amZmZmZnZPzMzMzMzM9M/MzMzMzMz0z8zMzMzMzPTP5qZmZmZmck/mpmZmZmZ2T+amZmZmZnJPwAAAAAAAOA/mpmZmZmZyT+amZmZmZnJP5qZmZmZmdk/mpmZmZmZyT+amZmZmZnJP5qZmZmZmck/mpmZmZmZyT+amZmZmZnZP5qZmZmZmbk/mpmZmZmZyT+amZmZmZnJP5qZmZmZmck/mpmZmZmZyT+amZmZmZm5P5qZmZmZmck/mpmZmZmZyT8zMzMzMzPTPzMzMzMzM9M/mpmZmZmZyT8zMzMzMzPjP5qZmZmZmdk/MzMzMzMz0z+amZmZmZnJP5qZmZmZmck/mpmZmZmZyT+amZmZmZnJP2ZmZmZmZvY/AAAAAAAA+D8AAAAAAAD4P83MzMzMzPQ/AAAAAAAA+D/NzMzMzMz0P5qZmZmZmfk/AAAAAAAA8D/NzMzMzMz0P2ZmZmZmZvY/AAAAAAAA8D8AAAAAAAD4PwAAAAAAAPA/ZmZmZmZm9j/NzMzMzMz0P2ZmZmZmZvY/AAAAAAAA+D8AAAAAAADwPwAAAAAAAPg/mpmZmZmZ8T/NzMzMzMz8P83MzMzMzPQ/AAAAAAAA+D8zMzMzMzPzP83MzMzMzPQ/ZmZmZmZm9j9mZmZmZmb2PzMzMzMzM/s/AAAAAAAA+D8AAAAAAADwP5qZmZmZmfE/AAAAAAAA8D8zMzMzMzPzP5qZmZmZmfk/AAAAAAAA+D+amZmZmZn5PwAAAAAAAPg/zczMzMzM9D/NzMzMzMz0P83MzMzMzPQ/MzMzMzMz8z9mZmZmZmb2PzMzMzMzM/M/AAAAAAAA8D/NzMzMzMz0PzMzMzMzM/M/zczMzMzM9D/NzMzMzMz0P5qZmZmZmfE/zczMzMzM9D8AAAAAAAAEQGZmZmZmZv4/zczMzMzMAEDNzMzMzMz8P5qZmZmZmQFAzczMzMzMAEAzMzMzMzP7P83MzMzMzPw/zczMzMzM/D8AAAAAAAAEQAAAAAAAAABAZmZmZmZm/j/NzMzMzMwAQAAAAAAAAABAMzMzMzMzA0BmZmZmZmYCQM3MzMzMzPw/mpmZmZmZAUBmZmZmZmYCQAAAAAAAAPg/ZmZmZmZmAkAAAAAAAAAAQAAAAAAAAABAzczMzMzM/D/NzMzMzMwAQM3MzMzMzPw/zczMzMzM/D/NzMzMzMz8P83MzMzMzABAmpmZmZmZ+T9mZmZmZmb+PwAAAAAAAABAmpmZmZmZAUAAAAAAAAD4P2ZmZmZmZvY/ZmZmZmZmAkAzMzMzMzMDQM3MzMzMzPw/zczMzMzM/D/NzMzMzMwAQDMzMzMzMwNAZmZmZmZmAkBmZmZmZmb+P2ZmZmZmZgJAAAAAAAAABEBmZmZmZmYCQGZmZmZmZv4/AAAAAAAAAEBmZmZmZmYCQM3MzMzMzPw/\",\"dtype\":\"float64\",\"order\":\"little\",\"shape\":[150]},\"sepal_length\":{\"__ndarray__\":\"ZmZmZmZmFECamZmZmZkTQM3MzMzMzBJAZmZmZmZmEkAAAAAAAAAUQJqZmZmZmRVAZmZmZmZmEkAAAAAAAAAUQJqZmZmZmRFAmpmZmZmZE0CamZmZmZkVQDMzMzMzMxNAMzMzMzMzE0AzMzMzMzMRQDMzMzMzMxdAzczMzMzMFkCamZmZmZkVQGZmZmZmZhRAzczMzMzMFkBmZmZmZmYUQJqZmZmZmRVAZmZmZmZmFEBmZmZmZmYSQGZmZmZmZhRAMzMzMzMzE0AAAAAAAAAUQAAAAAAAABRAzczMzMzMFEDNzMzMzMwUQM3MzMzMzBJAMzMzMzMzE0CamZmZmZkVQM3MzMzMzBRAAAAAAAAAFkCamZmZmZkTQAAAAAAAABRAAAAAAAAAFkCamZmZmZkTQJqZmZmZmRFAZmZmZmZmFEAAAAAAAAAUQAAAAAAAABJAmpmZmZmZEUAAAAAAAAAUQGZmZmZmZhRAMzMzMzMzE0BmZmZmZmYUQGZmZmZmZhJAMzMzMzMzFUAAAAAAAAAUQAAAAAAAABxAmpmZmZmZGUCamZmZmZkbQAAAAAAAABZAAAAAAAAAGkDNzMzMzMwWQDMzMzMzMxlAmpmZmZmZE0BmZmZmZmYaQM3MzMzMzBRAAAAAAAAAFECamZmZmZkXQAAAAAAAABhAZmZmZmZmGEBmZmZmZmYWQM3MzMzMzBpAZmZmZmZmFkAzMzMzMzMXQM3MzMzMzBhAZmZmZmZmFkCamZmZmZkXQGZmZmZmZhhAMzMzMzMzGUBmZmZmZmYYQJqZmZmZmRlAZmZmZmZmGkAzMzMzMzMbQM3MzMzMzBpAAAAAAAAAGEDNzMzMzMwWQAAAAAAAABZAAAAAAAAAFkAzMzMzMzMXQAAAAAAAABhAmpmZmZmZFUAAAAAAAAAYQM3MzMzMzBpAMzMzMzMzGUBmZmZmZmYWQAAAAAAAABZAAAAAAAAAFkBmZmZmZmYYQDMzMzMzMxdAAAAAAAAAFEBmZmZmZmYWQM3MzMzMzBZAzczMzMzMFkDNzMzMzMwYQGZmZmZmZhRAzczMzMzMFkAzMzMzMzMZQDMzMzMzMxdAZmZmZmZmHEAzMzMzMzMZQAAAAAAAABpAZmZmZmZmHkCamZmZmZkTQDMzMzMzMx1AzczMzMzMGkDNzMzMzMwcQAAAAAAAABpAmpmZmZmZGUAzMzMzMzMbQM3MzMzMzBZAMzMzMzMzF0CamZmZmZkZQAAAAAAAABpAzczMzMzMHkDNzMzMzMweQAAAAAAAABhAmpmZmZmZG0BmZmZmZmYWQM3MzMzMzB5AMzMzMzMzGUDNzMzMzMwaQM3MzMzMzBxAzczMzMzMGEBmZmZmZmYYQJqZmZmZmRlAzczMzMzMHECamZmZmZkdQJqZmZmZmR9AmpmZmZmZGUAzMzMzMzMZQGZmZmZmZhhAzczMzMzMHkAzMzMzMzMZQJqZmZmZmRlAAAAAAAAAGECamZmZmZkbQM3MzMzMzBpAmpmZmZmZG0AzMzMzMzMXQDMzMzMzMxtAzczMzMzMGkDNzMzMzMwaQDMzMzMzMxlAAAAAAAAAGkDNzMzMzMwYQJqZmZmZmRdA\",\"dtype\":\"float64\",\"order\":\"little\",\"shape\":[150]},\"sepal_width\":{\"__ndarray__\":\"AAAAAAAADEAAAAAAAAAIQJqZmZmZmQlAzczMzMzMCEDNzMzMzMwMQDMzMzMzMw9AMzMzMzMzC0AzMzMzMzMLQDMzMzMzMwdAzczMzMzMCECamZmZmZkNQDMzMzMzMwtAAAAAAAAACEAAAAAAAAAIQAAAAAAAABBAmpmZmZmZEUAzMzMzMzMPQAAAAAAAAAxAZmZmZmZmDkBmZmZmZmYOQDMzMzMzMwtAmpmZmZmZDUDNzMzMzMwMQGZmZmZmZgpAMzMzMzMzC0AAAAAAAAAIQDMzMzMzMwtAAAAAAAAADEAzMzMzMzMLQJqZmZmZmQlAzczMzMzMCEAzMzMzMzMLQGZmZmZmZhBAzczMzMzMEEDNzMzMzMwIQJqZmZmZmQlAAAAAAAAADEDNzMzMzMwMQAAAAAAAAAhAMzMzMzMzC0AAAAAAAAAMQGZmZmZmZgJAmpmZmZmZCUAAAAAAAAAMQGZmZmZmZg5AAAAAAAAACEBmZmZmZmYOQJqZmZmZmQlAmpmZmZmZDUBmZmZmZmYKQJqZmZmZmQlAmpmZmZmZCUDNzMzMzMwIQGZmZmZmZgJAZmZmZmZmBkBmZmZmZmYGQGZmZmZmZgpAMzMzMzMzA0AzMzMzMzMHQJqZmZmZmQVAAAAAAAAAAEAAAAAAAAAIQJqZmZmZmQFAMzMzMzMzB0AzMzMzMzMHQM3MzMzMzAhAAAAAAAAACECamZmZmZkFQJqZmZmZmQFAAAAAAAAABECamZmZmZkJQGZmZmZmZgZAAAAAAAAABEBmZmZmZmYGQDMzMzMzMwdAAAAAAAAACEBmZmZmZmYGQAAAAAAAAAhAMzMzMzMzB0DNzMzMzMwEQDMzMzMzMwNAMzMzMzMzA0CamZmZmZkFQJqZmZmZmQVAAAAAAAAACEAzMzMzMzMLQM3MzMzMzAhAZmZmZmZmAkAAAAAAAAAIQAAAAAAAAARAzczMzMzMBEAAAAAAAAAIQM3MzMzMzARAZmZmZmZmAkCamZmZmZkFQAAAAAAAAAhAMzMzMzMzB0AzMzMzMzMHQAAAAAAAAARAZmZmZmZmBkBmZmZmZmYKQJqZmZmZmQVAAAAAAAAACEAzMzMzMzMHQAAAAAAAAAhAAAAAAAAACEAAAAAAAAAEQDMzMzMzMwdAAAAAAAAABEDNzMzMzMwMQJqZmZmZmQlAmpmZmZmZBUAAAAAAAAAIQAAAAAAAAARAZmZmZmZmBkCamZmZmZkJQAAAAAAAAAhAZmZmZmZmDkDNzMzMzMwEQJqZmZmZmQFAmpmZmZmZCUBmZmZmZmYGQGZmZmZmZgZAmpmZmZmZBUBmZmZmZmYKQJqZmZmZmQlAZmZmZmZmBkAAAAAAAAAIQGZmZmZmZgZAAAAAAAAACEBmZmZmZmYGQGZmZmZmZg5AZmZmZmZmBkBmZmZmZmYGQM3MzMzMzARAAAAAAAAACEAzMzMzMzMLQM3MzMzMzAhAAAAAAAAACEDNzMzMzMwIQM3MzMzMzAhAzczMzMzMCECamZmZmZkFQJqZmZmZmQlAZmZmZmZmCkAAAAAAAAAIQAAAAAAAAARAAAAAAAAACEAzMzMzMzMLQAAAAAAAAAhA\",\"dtype\":\"float64\",\"order\":\"little\",\"shape\":[150]},\"species\":[\"setosa\",\"setosa\",\"setosa\",\"setosa\",\"setosa\",\"setosa\",\"setosa\",\"setosa\",\"setosa\",\"setosa\",\"setosa\",\"setosa\",\"setosa\",\"setosa\",\"setosa\",\"setosa\",\"setosa\",\"setosa\",\"setosa\",\"setosa\",\"setosa\",\"setosa\",\"setosa\",\"setosa\",\"setosa\",\"setosa\",\"setosa\",\"setosa\",\"setosa\",\"setosa\",\"setosa\",\"setosa\",\"setosa\",\"setosa\",\"setosa\",\"setosa\",\"setosa\",\"setosa\",\"setosa\",\"setosa\",\"setosa\",\"setosa\",\"setosa\",\"setosa\",\"setosa\",\"setosa\",\"setosa\",\"setosa\",\"setosa\",\"setosa\",\"versicolor\",\"versicolor\",\"versicolor\",\"versicolor\",\"versicolor\",\"versicolor\",\"versicolor\",\"versicolor\",\"versicolor\",\"versicolor\",\"versicolor\",\"versicolor\",\"versicolor\",\"versicolor\",\"versicolor\",\"versicolor\",\"versicolor\",\"versicolor\",\"versicolor\",\"versicolor\",\"versicolor\",\"versicolor\",\"versicolor\",\"versicolor\",\"versicolor\",\"versicolor\",\"versicolor\",\"versicolor\",\"versicolor\",\"versicolor\",\"versicolor\",\"versicolor\",\"versicolor\",\"versicolor\",\"versicolor\",\"versicolor\",\"versicolor\",\"versicolor\",\"versicolor\",\"versicolor\",\"versicolor\",\"versicolor\",\"versicolor\",\"versicolor\",\"versicolor\",\"versicolor\",\"versicolor\",\"versicolor\",\"versicolor\",\"versicolor\",\"virginica\",\"virginica\",\"virginica\",\"virginica\",\"virginica\",\"virginica\",\"virginica\",\"virginica\",\"virginica\",\"virginica\",\"virginica\",\"virginica\",\"virginica\",\"virginica\",\"virginica\",\"virginica\",\"virginica\",\"virginica\",\"virginica\",\"virginica\",\"virginica\",\"virginica\",\"virginica\",\"virginica\",\"virginica\",\"virginica\",\"virginica\",\"virginica\",\"virginica\",\"virginica\",\"virginica\",\"virginica\",\"virginica\",\"virginica\",\"virginica\",\"virginica\",\"virginica\",\"virginica\",\"virginica\",\"virginica\",\"virginica\",\"virginica\",\"virginica\",\"virginica\",\"virginica\",\"virginica\",\"virginica\",\"virginica\",\"virginica\",\"virginica\"]},\"selected\":{\"id\":\"3436\"},\"selection_policy\":{\"id\":\"3437\"}},\"id\":\"3235\",\"type\":\"ColumnDataSource\"},{\"attributes\":{},\"id\":\"3255\",\"type\":\"PanTool\"},{\"attributes\":{},\"id\":\"3281\",\"type\":\"LinearScale\"},{\"attributes\":{\"text\":\"Petal Length vs. Sepal Length\"},\"id\":\"3237\",\"type\":\"Title\"},{\"attributes\":{},\"id\":\"3256\",\"type\":\"WheelZoomTool\"},{\"attributes\":{},\"id\":\"3283\",\"type\":\"LinearScale\"},{\"attributes\":{\"data_source\":{\"id\":\"3235\"},\"glyph\":{\"id\":\"3308\"},\"hover_glyph\":null,\"muted_glyph\":null,\"nonselection_glyph\":{\"id\":\"3309\"},\"selection_glyph\":null,\"view\":{\"id\":\"3311\"}},\"id\":\"3310\",\"type\":\"GlyphRenderer\"},{\"attributes\":{\"overlay\":{\"id\":\"3261\"}},\"id\":\"3257\",\"type\":\"BoxZoomTool\"},{\"attributes\":{\"fill_color\":{\"value\":\"red\"},\"line_color\":{\"value\":\"red\"},\"x\":{\"field\":\"petal_length\"},\"y\":{\"field\":\"sepal_length\"}},\"id\":\"3270\",\"type\":\"Circle\"},{\"attributes\":{\"axis_label\":\"Petal Length\",\"formatter\":{\"id\":\"3434\"},\"ticker\":{\"id\":\"3286\"}},\"id\":\"3285\",\"type\":\"LinearAxis\"},{\"attributes\":{\"source\":{\"id\":\"3235\"}},\"id\":\"3311\",\"type\":\"CDSView\"},{\"attributes\":{\"below\":[{\"id\":\"3247\"}],\"center\":[{\"id\":\"3250\"},{\"id\":\"3254\"}],\"left\":[{\"id\":\"3251\"}],\"plot_height\":400,\"plot_width\":400,\"renderers\":[{\"id\":\"3272\"}],\"title\":{\"id\":\"3237\"},\"toolbar\":{\"id\":\"3262\"},\"x_range\":{\"id\":\"3239\"},\"x_scale\":{\"id\":\"3243\"},\"y_range\":{\"id\":\"3241\"},\"y_scale\":{\"id\":\"3245\"}},\"id\":\"3236\",\"subtype\":\"Figure\",\"type\":\"Plot\"},{\"attributes\":{},\"id\":\"3258\",\"type\":\"SaveTool\"},{\"attributes\":{},\"id\":\"3432\",\"type\":\"BasicTickFormatter\"},{\"attributes\":{},\"id\":\"3286\",\"type\":\"BasicTicker\"},{\"attributes\":{},\"id\":\"3259\",\"type\":\"ResetTool\"},{\"attributes\":{},\"id\":\"3434\",\"type\":\"BasicTickFormatter\"},{\"attributes\":{\"axis\":{\"id\":\"3285\"},\"ticker\":null},\"id\":\"3288\",\"type\":\"Grid\"},{\"attributes\":{\"fill_alpha\":{\"value\":0.1},\"fill_color\":{\"value\":\"red\"},\"line_alpha\":{\"value\":0.1},\"line_color\":{\"value\":\"red\"},\"x\":{\"field\":\"petal_length\"},\"y\":{\"field\":\"sepal_length\"}},\"id\":\"3271\",\"type\":\"Circle\"},{\"attributes\":{},\"id\":\"3260\",\"type\":\"HelpTool\"},{\"attributes\":{},\"id\":\"3436\",\"type\":\"Selection\"},{\"attributes\":{\"axis_label\":\"Petal Width\",\"formatter\":{\"id\":\"3432\"},\"ticker\":{\"id\":\"3290\"}},\"id\":\"3289\",\"type\":\"LinearAxis\"},{\"attributes\":{},\"id\":\"3239\",\"type\":\"DataRange1d\"},{\"attributes\":{},\"id\":\"3290\",\"type\":\"BasicTicker\"}],\"root_ids\":[\"3312\"]},\"title\":\"Bokeh Application\",\"version\":\"2.1.1\"}};\n",
       "  var render_items = [{\"docid\":\"96a23356-25ca-4f8d-898b-cb1d59ac8714\",\"root_ids\":[\"3312\"],\"roots\":{\"3312\":\"a614fd42-acc3-4203-951c-aaeed4298493\"}}];\n",
       "  root.Bokeh.embed.embed_items_notebook(docs_json, render_items);\n",
       "\n",
       "  }\n",
       "  if (root.Bokeh !== undefined) {\n",
       "    embed_document(root);\n",
       "  } else {\n",
       "    var attempts = 0;\n",
       "    var timer = setInterval(function(root) {\n",
       "      if (root.Bokeh !== undefined) {\n",
       "        clearInterval(timer);\n",
       "        embed_document(root);\n",
       "      } else {\n",
       "        attempts++;\n",
       "        if (attempts > 100) {\n",
       "          clearInterval(timer);\n",
       "          console.log(\"Bokeh: ERROR: Unable to run BokehJS code because BokehJS library is missing\");\n",
       "        }\n",
       "      }\n",
       "    }, 10, root)\n",
       "  }\n",
       "})(window);"
      ],
      "application/vnd.bokehjs_exec.v0+json": ""
     },
     "metadata": {
      "application/vnd.bokehjs_exec.v0+json": {
       "id": "3312"
      }
     },
     "output_type": "display_data"
    }
   ],
   "source": [
    "source = ColumnDataSource(flowers)\n",
    "\n",
    "p1 = figure(plot_width=400, plot_height=400, \n",
    "            x_axis_label='Petal Length', y_axis_label='Sepal Length',\n",
    "           title='Petal Length vs. Sepal Length')\n",
    "p1.circle('petal_length', 'sepal_length', source=source, color='red')\n",
    "\n",
    "p2 = figure(plot_width=400, plot_height=400, \n",
    "            x_axis_label='Petal Length', y_axis_label='Petal Width',\n",
    "           title='Petal Length vs. Petal Width')\n",
    "p2.circle('petal_length', 'petal_width', source=source, color='blue')\n",
    "\n",
    "layout = row(p1, p2) # 가로로 두 개의 plots 배치\n",
    "show(layout)"
   ]
  },
  {
   "cell_type": "markdown",
   "metadata": {},
   "source": [
    "## 2) Columns of Plots"
   ]
  },
  {
   "cell_type": "code",
   "execution_count": 36,
   "metadata": {},
   "outputs": [],
   "source": [
    "from bokeh.layouts import column"
   ]
  },
  {
   "cell_type": "code",
   "execution_count": 37,
   "metadata": {},
   "outputs": [
    {
     "data": {
      "text/html": [
       "\n",
       "\n",
       "\n",
       "\n",
       "\n",
       "\n",
       "  <div class=\"bk-root\" id=\"503048f3-379f-4f65-bd29-e0e3bc90bd0b\" data-root-id=\"3602\"></div>\n"
      ]
     },
     "metadata": {},
     "output_type": "display_data"
    },
    {
     "data": {
      "application/javascript": [
       "(function(root) {\n",
       "  function embed_document(root) {\n",
       "    \n",
       "  var docs_json = {\"f2bf6d9f-2899-472b-a6a0-5cc6513a22b6\":{\"roots\":{\"references\":[{\"attributes\":{\"children\":[{\"id\":\"3526\"},{\"id\":\"3564\"}]},\"id\":\"3602\",\"type\":\"Column\"},{\"attributes\":{\"bottom_units\":\"screen\",\"fill_alpha\":0.5,\"fill_color\":\"lightgrey\",\"left_units\":\"screen\",\"level\":\"overlay\",\"line_alpha\":1.0,\"line_color\":\"black\",\"line_dash\":[4,4],\"line_width\":2,\"right_units\":\"screen\",\"top_units\":\"screen\"},\"id\":\"3589\",\"type\":\"BoxAnnotation\"},{\"attributes\":{},\"id\":\"3571\",\"type\":\"LinearScale\"},{\"attributes\":{\"axis\":{\"id\":\"3541\"},\"dimension\":1,\"ticker\":null},\"id\":\"3544\",\"type\":\"Grid\"},{\"attributes\":{},\"id\":\"3573\",\"type\":\"LinearScale\"},{\"attributes\":{\"data\":{\"index\":[0,1,2,3,4,5,6,7,8,9,10,11,12,13,14,15,16,17,18,19,20,21,22,23,24,25,26,27,28,29,30,31,32,33,34,35,36,37,38,39,40,41,42,43,44,45,46,47,48,49,50,51,52,53,54,55,56,57,58,59,60,61,62,63,64,65,66,67,68,69,70,71,72,73,74,75,76,77,78,79,80,81,82,83,84,85,86,87,88,89,90,91,92,93,94,95,96,97,98,99,100,101,102,103,104,105,106,107,108,109,110,111,112,113,114,115,116,117,118,119,120,121,122,123,124,125,126,127,128,129,130,131,132,133,134,135,136,137,138,139,140,141,142,143,144,145,146,147,148,149],\"petal_length\":{\"__ndarray__\":\"ZmZmZmZm9j9mZmZmZmb2P83MzMzMzPQ/AAAAAAAA+D9mZmZmZmb2PzMzMzMzM/s/ZmZmZmZm9j8AAAAAAAD4P2ZmZmZmZvY/AAAAAAAA+D8AAAAAAAD4P5qZmZmZmfk/ZmZmZmZm9j+amZmZmZnxPzMzMzMzM/M/AAAAAAAA+D/NzMzMzMz0P2ZmZmZmZvY/MzMzMzMz+z8AAAAAAAD4PzMzMzMzM/s/AAAAAAAA+D8AAAAAAADwPzMzMzMzM/s/ZmZmZmZm/j+amZmZmZn5P5qZmZmZmfk/AAAAAAAA+D9mZmZmZmb2P5qZmZmZmfk/mpmZmZmZ+T8AAAAAAAD4PwAAAAAAAPg/ZmZmZmZm9j8AAAAAAAD4PzMzMzMzM/M/zczMzMzM9D9mZmZmZmb2P83MzMzMzPQ/AAAAAAAA+D/NzMzMzMz0P83MzMzMzPQ/zczMzMzM9D+amZmZmZn5P2ZmZmZmZv4/ZmZmZmZm9j+amZmZmZn5P2ZmZmZmZvY/AAAAAAAA+D9mZmZmZmb2P83MzMzMzBJAAAAAAAAAEkCamZmZmZkTQAAAAAAAABBAZmZmZmZmEkAAAAAAAAASQM3MzMzMzBJAZmZmZmZmCkBmZmZmZmYSQDMzMzMzMw9AAAAAAAAADEDNzMzMzMwQQAAAAAAAABBAzczMzMzMEkDNzMzMzMwMQJqZmZmZmRFAAAAAAAAAEkBmZmZmZmYQQAAAAAAAABJAMzMzMzMzD0AzMzMzMzMTQAAAAAAAABBAmpmZmZmZE0DNzMzMzMwSQDMzMzMzMxFAmpmZmZmZEUAzMzMzMzMTQAAAAAAAABRAAAAAAAAAEkAAAAAAAAAMQGZmZmZmZg5AmpmZmZmZDUAzMzMzMzMPQGZmZmZmZhRAAAAAAAAAEkAAAAAAAAASQM3MzMzMzBJAmpmZmZmZEUBmZmZmZmYQQAAAAAAAABBAmpmZmZmZEUBmZmZmZmYSQAAAAAAAABBAZmZmZmZmCkDNzMzMzMwQQM3MzMzMzBBAzczMzMzMEEAzMzMzMzMRQAAAAAAAAAhAZmZmZmZmEEAAAAAAAAAYQGZmZmZmZhRAmpmZmZmZF0BmZmZmZmYWQDMzMzMzMxdAZmZmZmZmGkAAAAAAAAASQDMzMzMzMxlAMzMzMzMzF0BmZmZmZmYYQGZmZmZmZhRAMzMzMzMzFUAAAAAAAAAWQAAAAAAAABRAZmZmZmZmFEAzMzMzMzMVQAAAAAAAABZAzczMzMzMGkCamZmZmZkbQAAAAAAAABRAzczMzMzMFkCamZmZmZkTQM3MzMzMzBpAmpmZmZmZE0DNzMzMzMwWQAAAAAAAABhAMzMzMzMzE0CamZmZmZkTQGZmZmZmZhZAMzMzMzMzF0BmZmZmZmYYQJqZmZmZmRlAZmZmZmZmFkBmZmZmZmYUQGZmZmZmZhZAZmZmZmZmGEBmZmZmZmYWQAAAAAAAABZAMzMzMzMzE0CamZmZmZkVQGZmZmZmZhZAZmZmZmZmFEBmZmZmZmYUQJqZmZmZmRdAzczMzMzMFkDNzMzMzMwUQAAAAAAAABRAzczMzMzMFECamZmZmZkVQGZmZmZmZhRA\",\"dtype\":\"float64\",\"order\":\"little\",\"shape\":[150]},\"petal_width\":{\"__ndarray__\":\"mpmZmZmZyT+amZmZmZnJP5qZmZmZmck/mpmZmZmZyT+amZmZmZnJP5qZmZmZmdk/MzMzMzMz0z+amZmZmZnJP5qZmZmZmck/mpmZmZmZuT+amZmZmZnJP5qZmZmZmck/mpmZmZmZuT+amZmZmZm5P5qZmZmZmck/mpmZmZmZ2T+amZmZmZnZPzMzMzMzM9M/MzMzMzMz0z8zMzMzMzPTP5qZmZmZmck/mpmZmZmZ2T+amZmZmZnJPwAAAAAAAOA/mpmZmZmZyT+amZmZmZnJP5qZmZmZmdk/mpmZmZmZyT+amZmZmZnJP5qZmZmZmck/mpmZmZmZyT+amZmZmZnZP5qZmZmZmbk/mpmZmZmZyT+amZmZmZnJP5qZmZmZmck/mpmZmZmZyT+amZmZmZm5P5qZmZmZmck/mpmZmZmZyT8zMzMzMzPTPzMzMzMzM9M/mpmZmZmZyT8zMzMzMzPjP5qZmZmZmdk/MzMzMzMz0z+amZmZmZnJP5qZmZmZmck/mpmZmZmZyT+amZmZmZnJP2ZmZmZmZvY/AAAAAAAA+D8AAAAAAAD4P83MzMzMzPQ/AAAAAAAA+D/NzMzMzMz0P5qZmZmZmfk/AAAAAAAA8D/NzMzMzMz0P2ZmZmZmZvY/AAAAAAAA8D8AAAAAAAD4PwAAAAAAAPA/ZmZmZmZm9j/NzMzMzMz0P2ZmZmZmZvY/AAAAAAAA+D8AAAAAAADwPwAAAAAAAPg/mpmZmZmZ8T/NzMzMzMz8P83MzMzMzPQ/AAAAAAAA+D8zMzMzMzPzP83MzMzMzPQ/ZmZmZmZm9j9mZmZmZmb2PzMzMzMzM/s/AAAAAAAA+D8AAAAAAADwP5qZmZmZmfE/AAAAAAAA8D8zMzMzMzPzP5qZmZmZmfk/AAAAAAAA+D+amZmZmZn5PwAAAAAAAPg/zczMzMzM9D/NzMzMzMz0P83MzMzMzPQ/MzMzMzMz8z9mZmZmZmb2PzMzMzMzM/M/AAAAAAAA8D/NzMzMzMz0PzMzMzMzM/M/zczMzMzM9D/NzMzMzMz0P5qZmZmZmfE/zczMzMzM9D8AAAAAAAAEQGZmZmZmZv4/zczMzMzMAEDNzMzMzMz8P5qZmZmZmQFAzczMzMzMAEAzMzMzMzP7P83MzMzMzPw/zczMzMzM/D8AAAAAAAAEQAAAAAAAAABAZmZmZmZm/j/NzMzMzMwAQAAAAAAAAABAMzMzMzMzA0BmZmZmZmYCQM3MzMzMzPw/mpmZmZmZAUBmZmZmZmYCQAAAAAAAAPg/ZmZmZmZmAkAAAAAAAAAAQAAAAAAAAABAzczMzMzM/D/NzMzMzMwAQM3MzMzMzPw/zczMzMzM/D/NzMzMzMz8P83MzMzMzABAmpmZmZmZ+T9mZmZmZmb+PwAAAAAAAABAmpmZmZmZAUAAAAAAAAD4P2ZmZmZmZvY/ZmZmZmZmAkAzMzMzMzMDQM3MzMzMzPw/zczMzMzM/D/NzMzMzMwAQDMzMzMzMwNAZmZmZmZmAkBmZmZmZmb+P2ZmZmZmZgJAAAAAAAAABEBmZmZmZmYCQGZmZmZmZv4/AAAAAAAAAEBmZmZmZmYCQM3MzMzMzPw/\",\"dtype\":\"float64\",\"order\":\"little\",\"shape\":[150]},\"sepal_length\":{\"__ndarray__\":\"ZmZmZmZmFECamZmZmZkTQM3MzMzMzBJAZmZmZmZmEkAAAAAAAAAUQJqZmZmZmRVAZmZmZmZmEkAAAAAAAAAUQJqZmZmZmRFAmpmZmZmZE0CamZmZmZkVQDMzMzMzMxNAMzMzMzMzE0AzMzMzMzMRQDMzMzMzMxdAzczMzMzMFkCamZmZmZkVQGZmZmZmZhRAzczMzMzMFkBmZmZmZmYUQJqZmZmZmRVAZmZmZmZmFEBmZmZmZmYSQGZmZmZmZhRAMzMzMzMzE0AAAAAAAAAUQAAAAAAAABRAzczMzMzMFEDNzMzMzMwUQM3MzMzMzBJAMzMzMzMzE0CamZmZmZkVQM3MzMzMzBRAAAAAAAAAFkCamZmZmZkTQAAAAAAAABRAAAAAAAAAFkCamZmZmZkTQJqZmZmZmRFAZmZmZmZmFEAAAAAAAAAUQAAAAAAAABJAmpmZmZmZEUAAAAAAAAAUQGZmZmZmZhRAMzMzMzMzE0BmZmZmZmYUQGZmZmZmZhJAMzMzMzMzFUAAAAAAAAAUQAAAAAAAABxAmpmZmZmZGUCamZmZmZkbQAAAAAAAABZAAAAAAAAAGkDNzMzMzMwWQDMzMzMzMxlAmpmZmZmZE0BmZmZmZmYaQM3MzMzMzBRAAAAAAAAAFECamZmZmZkXQAAAAAAAABhAZmZmZmZmGEBmZmZmZmYWQM3MzMzMzBpAZmZmZmZmFkAzMzMzMzMXQM3MzMzMzBhAZmZmZmZmFkCamZmZmZkXQGZmZmZmZhhAMzMzMzMzGUBmZmZmZmYYQJqZmZmZmRlAZmZmZmZmGkAzMzMzMzMbQM3MzMzMzBpAAAAAAAAAGEDNzMzMzMwWQAAAAAAAABZAAAAAAAAAFkAzMzMzMzMXQAAAAAAAABhAmpmZmZmZFUAAAAAAAAAYQM3MzMzMzBpAMzMzMzMzGUBmZmZmZmYWQAAAAAAAABZAAAAAAAAAFkBmZmZmZmYYQDMzMzMzMxdAAAAAAAAAFEBmZmZmZmYWQM3MzMzMzBZAzczMzMzMFkDNzMzMzMwYQGZmZmZmZhRAzczMzMzMFkAzMzMzMzMZQDMzMzMzMxdAZmZmZmZmHEAzMzMzMzMZQAAAAAAAABpAZmZmZmZmHkCamZmZmZkTQDMzMzMzMx1AzczMzMzMGkDNzMzMzMwcQAAAAAAAABpAmpmZmZmZGUAzMzMzMzMbQM3MzMzMzBZAMzMzMzMzF0CamZmZmZkZQAAAAAAAABpAzczMzMzMHkDNzMzMzMweQAAAAAAAABhAmpmZmZmZG0BmZmZmZmYWQM3MzMzMzB5AMzMzMzMzGUDNzMzMzMwaQM3MzMzMzBxAzczMzMzMGEBmZmZmZmYYQJqZmZmZmRlAzczMzMzMHECamZmZmZkdQJqZmZmZmR9AmpmZmZmZGUAzMzMzMzMZQGZmZmZmZhhAzczMzMzMHkAzMzMzMzMZQJqZmZmZmRlAAAAAAAAAGECamZmZmZkbQM3MzMzMzBpAmpmZmZmZG0AzMzMzMzMXQDMzMzMzMxtAzczMzMzMGkDNzMzMzMwaQDMzMzMzMxlAAAAAAAAAGkDNzMzMzMwYQJqZmZmZmRdA\",\"dtype\":\"float64\",\"order\":\"little\",\"shape\":[150]},\"sepal_width\":{\"__ndarray__\":\"AAAAAAAADEAAAAAAAAAIQJqZmZmZmQlAzczMzMzMCEDNzMzMzMwMQDMzMzMzMw9AMzMzMzMzC0AzMzMzMzMLQDMzMzMzMwdAzczMzMzMCECamZmZmZkNQDMzMzMzMwtAAAAAAAAACEAAAAAAAAAIQAAAAAAAABBAmpmZmZmZEUAzMzMzMzMPQAAAAAAAAAxAZmZmZmZmDkBmZmZmZmYOQDMzMzMzMwtAmpmZmZmZDUDNzMzMzMwMQGZmZmZmZgpAMzMzMzMzC0AAAAAAAAAIQDMzMzMzMwtAAAAAAAAADEAzMzMzMzMLQJqZmZmZmQlAzczMzMzMCEAzMzMzMzMLQGZmZmZmZhBAzczMzMzMEEDNzMzMzMwIQJqZmZmZmQlAAAAAAAAADEDNzMzMzMwMQAAAAAAAAAhAMzMzMzMzC0AAAAAAAAAMQGZmZmZmZgJAmpmZmZmZCUAAAAAAAAAMQGZmZmZmZg5AAAAAAAAACEBmZmZmZmYOQJqZmZmZmQlAmpmZmZmZDUBmZmZmZmYKQJqZmZmZmQlAmpmZmZmZCUDNzMzMzMwIQGZmZmZmZgJAZmZmZmZmBkBmZmZmZmYGQGZmZmZmZgpAMzMzMzMzA0AzMzMzMzMHQJqZmZmZmQVAAAAAAAAAAEAAAAAAAAAIQJqZmZmZmQFAMzMzMzMzB0AzMzMzMzMHQM3MzMzMzAhAAAAAAAAACECamZmZmZkFQJqZmZmZmQFAAAAAAAAABECamZmZmZkJQGZmZmZmZgZAAAAAAAAABEBmZmZmZmYGQDMzMzMzMwdAAAAAAAAACEBmZmZmZmYGQAAAAAAAAAhAMzMzMzMzB0DNzMzMzMwEQDMzMzMzMwNAMzMzMzMzA0CamZmZmZkFQJqZmZmZmQVAAAAAAAAACEAzMzMzMzMLQM3MzMzMzAhAZmZmZmZmAkAAAAAAAAAIQAAAAAAAAARAzczMzMzMBEAAAAAAAAAIQM3MzMzMzARAZmZmZmZmAkCamZmZmZkFQAAAAAAAAAhAMzMzMzMzB0AzMzMzMzMHQAAAAAAAAARAZmZmZmZmBkBmZmZmZmYKQJqZmZmZmQVAAAAAAAAACEAzMzMzMzMHQAAAAAAAAAhAAAAAAAAACEAAAAAAAAAEQDMzMzMzMwdAAAAAAAAABEDNzMzMzMwMQJqZmZmZmQlAmpmZmZmZBUAAAAAAAAAIQAAAAAAAAARAZmZmZmZmBkCamZmZmZkJQAAAAAAAAAhAZmZmZmZmDkDNzMzMzMwEQJqZmZmZmQFAmpmZmZmZCUBmZmZmZmYGQGZmZmZmZgZAmpmZmZmZBUBmZmZmZmYKQJqZmZmZmQlAZmZmZmZmBkAAAAAAAAAIQGZmZmZmZgZAAAAAAAAACEBmZmZmZmYGQGZmZmZmZg5AZmZmZmZmBkBmZmZmZmYGQM3MzMzMzARAAAAAAAAACEAzMzMzMzMLQM3MzMzMzAhAAAAAAAAACEDNzMzMzMwIQM3MzMzMzAhAzczMzMzMCECamZmZmZkFQJqZmZmZmQlAZmZmZmZmCkAAAAAAAAAIQAAAAAAAAARAAAAAAAAACEAzMzMzMzMLQAAAAAAAAAhA\",\"dtype\":\"float64\",\"order\":\"little\",\"shape\":[150]},\"species\":[\"setosa\",\"setosa\",\"setosa\",\"setosa\",\"setosa\",\"setosa\",\"setosa\",\"setosa\",\"setosa\",\"setosa\",\"setosa\",\"setosa\",\"setosa\",\"setosa\",\"setosa\",\"setosa\",\"setosa\",\"setosa\",\"setosa\",\"setosa\",\"setosa\",\"setosa\",\"setosa\",\"setosa\",\"setosa\",\"setosa\",\"setosa\",\"setosa\",\"setosa\",\"setosa\",\"setosa\",\"setosa\",\"setosa\",\"setosa\",\"setosa\",\"setosa\",\"setosa\",\"setosa\",\"setosa\",\"setosa\",\"setosa\",\"setosa\",\"setosa\",\"setosa\",\"setosa\",\"setosa\",\"setosa\",\"setosa\",\"setosa\",\"setosa\",\"versicolor\",\"versicolor\",\"versicolor\",\"versicolor\",\"versicolor\",\"versicolor\",\"versicolor\",\"versicolor\",\"versicolor\",\"versicolor\",\"versicolor\",\"versicolor\",\"versicolor\",\"versicolor\",\"versicolor\",\"versicolor\",\"versicolor\",\"versicolor\",\"versicolor\",\"versicolor\",\"versicolor\",\"versicolor\",\"versicolor\",\"versicolor\",\"versicolor\",\"versicolor\",\"versicolor\",\"versicolor\",\"versicolor\",\"versicolor\",\"versicolor\",\"versicolor\",\"versicolor\",\"versicolor\",\"versicolor\",\"versicolor\",\"versicolor\",\"versicolor\",\"versicolor\",\"versicolor\",\"versicolor\",\"versicolor\",\"versicolor\",\"versicolor\",\"versicolor\",\"versicolor\",\"versicolor\",\"versicolor\",\"versicolor\",\"versicolor\",\"virginica\",\"virginica\",\"virginica\",\"virginica\",\"virginica\",\"virginica\",\"virginica\",\"virginica\",\"virginica\",\"virginica\",\"virginica\",\"virginica\",\"virginica\",\"virginica\",\"virginica\",\"virginica\",\"virginica\",\"virginica\",\"virginica\",\"virginica\",\"virginica\",\"virginica\",\"virginica\",\"virginica\",\"virginica\",\"virginica\",\"virginica\",\"virginica\",\"virginica\",\"virginica\",\"virginica\",\"virginica\",\"virginica\",\"virginica\",\"virginica\",\"virginica\",\"virginica\",\"virginica\",\"virginica\",\"virginica\",\"virginica\",\"virginica\",\"virginica\",\"virginica\",\"virginica\",\"virginica\",\"virginica\",\"virginica\",\"virginica\",\"virginica\"]},\"selected\":{\"id\":\"3740\"},\"selection_policy\":{\"id\":\"3741\"}},\"id\":\"3525\",\"type\":\"ColumnDataSource\"},{\"attributes\":{\"below\":[{\"id\":\"3575\"}],\"center\":[{\"id\":\"3578\"},{\"id\":\"3582\"}],\"left\":[{\"id\":\"3579\"}],\"plot_height\":400,\"plot_width\":400,\"renderers\":[{\"id\":\"3600\"}],\"title\":{\"id\":\"3565\"},\"toolbar\":{\"id\":\"3590\"},\"x_range\":{\"id\":\"3567\"},\"x_scale\":{\"id\":\"3571\"},\"y_range\":{\"id\":\"3569\"},\"y_scale\":{\"id\":\"3573\"}},\"id\":\"3564\",\"subtype\":\"Figure\",\"type\":\"Plot\"},{\"attributes\":{},\"id\":\"3734\",\"type\":\"BasicTickFormatter\"},{\"attributes\":{\"data_source\":{\"id\":\"3525\"},\"glyph\":{\"id\":\"3598\"},\"hover_glyph\":null,\"muted_glyph\":null,\"nonselection_glyph\":{\"id\":\"3599\"},\"selection_glyph\":null,\"view\":{\"id\":\"3601\"}},\"id\":\"3600\",\"type\":\"GlyphRenderer\"},{\"attributes\":{},\"id\":\"3529\",\"type\":\"DataRange1d\"},{\"attributes\":{},\"id\":\"3546\",\"type\":\"WheelZoomTool\"},{\"attributes\":{\"fill_alpha\":{\"value\":0.1},\"fill_color\":{\"value\":\"blue\"},\"line_alpha\":{\"value\":0.1},\"line_color\":{\"value\":\"blue\"},\"x\":{\"field\":\"petal_length\"},\"y\":{\"field\":\"petal_width\"}},\"id\":\"3599\",\"type\":\"Circle\"},{\"attributes\":{\"axis_label\":\"Petal Length\",\"formatter\":{\"id\":\"3738\"},\"ticker\":{\"id\":\"3576\"}},\"id\":\"3575\",\"type\":\"LinearAxis\"},{\"attributes\":{},\"id\":\"3548\",\"type\":\"SaveTool\"},{\"attributes\":{},\"id\":\"3567\",\"type\":\"DataRange1d\"},{\"attributes\":{},\"id\":\"3736\",\"type\":\"BasicTickFormatter\"},{\"attributes\":{\"source\":{\"id\":\"3525\"}},\"id\":\"3563\",\"type\":\"CDSView\"},{\"attributes\":{},\"id\":\"3576\",\"type\":\"BasicTicker\"},{\"attributes\":{},\"id\":\"3549\",\"type\":\"ResetTool\"},{\"attributes\":{},\"id\":\"3545\",\"type\":\"PanTool\"},{\"attributes\":{},\"id\":\"3738\",\"type\":\"BasicTickFormatter\"},{\"attributes\":{\"text\":\"Petal Length vs. Petal Width\"},\"id\":\"3565\",\"type\":\"Title\"},{\"attributes\":{\"axis\":{\"id\":\"3575\"},\"ticker\":null},\"id\":\"3578\",\"type\":\"Grid\"},{\"attributes\":{},\"id\":\"3740\",\"type\":\"Selection\"},{\"attributes\":{\"axis_label\":\"Petal Width\",\"formatter\":{\"id\":\"3736\"},\"ticker\":{\"id\":\"3580\"}},\"id\":\"3579\",\"type\":\"LinearAxis\"},{\"attributes\":{\"overlay\":{\"id\":\"3551\"}},\"id\":\"3547\",\"type\":\"BoxZoomTool\"},{\"attributes\":{},\"id\":\"3533\",\"type\":\"LinearScale\"},{\"attributes\":{},\"id\":\"3741\",\"type\":\"UnionRenderers\"},{\"attributes\":{},\"id\":\"3580\",\"type\":\"BasicTicker\"},{\"attributes\":{\"axis_label\":\"Petal Length\",\"formatter\":{\"id\":\"3734\"},\"ticker\":{\"id\":\"3538\"}},\"id\":\"3537\",\"type\":\"LinearAxis\"},{\"attributes\":{},\"id\":\"3569\",\"type\":\"DataRange1d\"},{\"attributes\":{\"axis\":{\"id\":\"3579\"},\"dimension\":1,\"ticker\":null},\"id\":\"3582\",\"type\":\"Grid\"},{\"attributes\":{\"active_drag\":\"auto\",\"active_inspect\":\"auto\",\"active_multi\":null,\"active_scroll\":\"auto\",\"active_tap\":\"auto\",\"tools\":[{\"id\":\"3583\"},{\"id\":\"3584\"},{\"id\":\"3585\"},{\"id\":\"3586\"},{\"id\":\"3587\"},{\"id\":\"3588\"}]},\"id\":\"3590\",\"type\":\"Toolbar\"},{\"attributes\":{},\"id\":\"3535\",\"type\":\"LinearScale\"},{\"attributes\":{},\"id\":\"3550\",\"type\":\"HelpTool\"},{\"attributes\":{},\"id\":\"3531\",\"type\":\"DataRange1d\"},{\"attributes\":{\"source\":{\"id\":\"3525\"}},\"id\":\"3601\",\"type\":\"CDSView\"},{\"attributes\":{},\"id\":\"3588\",\"type\":\"HelpTool\"},{\"attributes\":{\"text\":\"Petal Length vs. Sepal Length\"},\"id\":\"3527\",\"type\":\"Title\"},{\"attributes\":{\"fill_color\":{\"value\":\"red\"},\"line_color\":{\"value\":\"red\"},\"x\":{\"field\":\"petal_length\"},\"y\":{\"field\":\"sepal_length\"}},\"id\":\"3560\",\"type\":\"Circle\"},{\"attributes\":{},\"id\":\"3583\",\"type\":\"PanTool\"},{\"attributes\":{\"active_drag\":\"auto\",\"active_inspect\":\"auto\",\"active_multi\":null,\"active_scroll\":\"auto\",\"active_tap\":\"auto\",\"tools\":[{\"id\":\"3545\"},{\"id\":\"3546\"},{\"id\":\"3547\"},{\"id\":\"3548\"},{\"id\":\"3549\"},{\"id\":\"3550\"}]},\"id\":\"3552\",\"type\":\"Toolbar\"},{\"attributes\":{},\"id\":\"3584\",\"type\":\"WheelZoomTool\"},{\"attributes\":{\"fill_color\":{\"value\":\"blue\"},\"line_color\":{\"value\":\"blue\"},\"x\":{\"field\":\"petal_length\"},\"y\":{\"field\":\"petal_width\"}},\"id\":\"3598\",\"type\":\"Circle\"},{\"attributes\":{},\"id\":\"3542\",\"type\":\"BasicTicker\"},{\"attributes\":{\"below\":[{\"id\":\"3537\"}],\"center\":[{\"id\":\"3540\"},{\"id\":\"3544\"}],\"left\":[{\"id\":\"3541\"}],\"plot_height\":400,\"plot_width\":400,\"renderers\":[{\"id\":\"3562\"}],\"title\":{\"id\":\"3527\"},\"toolbar\":{\"id\":\"3552\"},\"x_range\":{\"id\":\"3529\"},\"x_scale\":{\"id\":\"3533\"},\"y_range\":{\"id\":\"3531\"},\"y_scale\":{\"id\":\"3535\"}},\"id\":\"3526\",\"subtype\":\"Figure\",\"type\":\"Plot\"},{\"attributes\":{\"overlay\":{\"id\":\"3589\"}},\"id\":\"3585\",\"type\":\"BoxZoomTool\"},{\"attributes\":{\"bottom_units\":\"screen\",\"fill_alpha\":0.5,\"fill_color\":\"lightgrey\",\"left_units\":\"screen\",\"level\":\"overlay\",\"line_alpha\":1.0,\"line_color\":\"black\",\"line_dash\":[4,4],\"line_width\":2,\"right_units\":\"screen\",\"top_units\":\"screen\"},\"id\":\"3551\",\"type\":\"BoxAnnotation\"},{\"attributes\":{\"axis_label\":\"Sepal Length\",\"formatter\":{\"id\":\"3732\"},\"ticker\":{\"id\":\"3542\"}},\"id\":\"3541\",\"type\":\"LinearAxis\"},{\"attributes\":{},\"id\":\"3586\",\"type\":\"SaveTool\"},{\"attributes\":{\"axis\":{\"id\":\"3537\"},\"ticker\":null},\"id\":\"3540\",\"type\":\"Grid\"},{\"attributes\":{},\"id\":\"3732\",\"type\":\"BasicTickFormatter\"},{\"attributes\":{},\"id\":\"3587\",\"type\":\"ResetTool\"},{\"attributes\":{\"data_source\":{\"id\":\"3525\"},\"glyph\":{\"id\":\"3560\"},\"hover_glyph\":null,\"muted_glyph\":null,\"nonselection_glyph\":{\"id\":\"3561\"},\"selection_glyph\":null,\"view\":{\"id\":\"3563\"}},\"id\":\"3562\",\"type\":\"GlyphRenderer\"},{\"attributes\":{},\"id\":\"3538\",\"type\":\"BasicTicker\"},{\"attributes\":{\"fill_alpha\":{\"value\":0.1},\"fill_color\":{\"value\":\"red\"},\"line_alpha\":{\"value\":0.1},\"line_color\":{\"value\":\"red\"},\"x\":{\"field\":\"petal_length\"},\"y\":{\"field\":\"sepal_length\"}},\"id\":\"3561\",\"type\":\"Circle\"}],\"root_ids\":[\"3602\"]},\"title\":\"Bokeh Application\",\"version\":\"2.1.1\"}};\n",
       "  var render_items = [{\"docid\":\"f2bf6d9f-2899-472b-a6a0-5cc6513a22b6\",\"root_ids\":[\"3602\"],\"roots\":{\"3602\":\"503048f3-379f-4f65-bd29-e0e3bc90bd0b\"}}];\n",
       "  root.Bokeh.embed.embed_items_notebook(docs_json, render_items);\n",
       "\n",
       "  }\n",
       "  if (root.Bokeh !== undefined) {\n",
       "    embed_document(root);\n",
       "  } else {\n",
       "    var attempts = 0;\n",
       "    var timer = setInterval(function(root) {\n",
       "      if (root.Bokeh !== undefined) {\n",
       "        clearInterval(timer);\n",
       "        embed_document(root);\n",
       "      } else {\n",
       "        attempts++;\n",
       "        if (attempts > 100) {\n",
       "          clearInterval(timer);\n",
       "          console.log(\"Bokeh: ERROR: Unable to run BokehJS code because BokehJS library is missing\");\n",
       "        }\n",
       "      }\n",
       "    }, 10, root)\n",
       "  }\n",
       "})(window);"
      ],
      "application/vnd.bokehjs_exec.v0+json": ""
     },
     "metadata": {
      "application/vnd.bokehjs_exec.v0+json": {
       "id": "3602"
      }
     },
     "output_type": "display_data"
    }
   ],
   "source": [
    "source = ColumnDataSource(flowers)\n",
    "\n",
    "p1 = figure(plot_width=400, plot_height=400, \n",
    "            x_axis_label='Petal Length', y_axis_label='Sepal Length',\n",
    "           title='Petal Length vs. Sepal Length')\n",
    "p1.circle('petal_length', 'sepal_length', source=source, color='red')\n",
    "\n",
    "p2 = figure(plot_width=400, plot_height=400, \n",
    "            x_axis_label='Petal Length', y_axis_label='Petal Width',\n",
    "           title='Petal Length vs. Petal Width')\n",
    "p2.circle('petal_length', 'petal_width', source=source, color='blue')\n",
    "\n",
    "layout = column(p1, p2)\n",
    "show(layout)"
   ]
  },
  {
   "cell_type": "markdown",
   "metadata": {},
   "source": [
    "## 3) Nested Layouts"
   ]
  },
  {
   "cell_type": "code",
   "execution_count": 39,
   "metadata": {},
   "outputs": [
    {
     "data": {
      "text/html": [
       "\n",
       "\n",
       "\n",
       "\n",
       "\n",
       "\n",
       "  <div class=\"bk-root\" id=\"a7b5858b-2b8b-4d18-9933-8479a21ce7d9\" data-root-id=\"4468\"></div>\n"
      ]
     },
     "metadata": {},
     "output_type": "display_data"
    },
    {
     "data": {
      "application/javascript": [
       "(function(root) {\n",
       "  function embed_document(root) {\n",
       "    \n",
       "  var docs_json = {\"7f7db256-572e-4a2a-b2e7-72a59526fd3a\":{\"roots\":{\"references\":[{\"attributes\":{\"children\":[{\"id\":\"4466\"},{\"id\":\"4467\"}]},\"id\":\"4468\",\"type\":\"Column\"},{\"attributes\":{},\"id\":\"4374\",\"type\":\"SaveTool\"},{\"attributes\":{},\"id\":\"4323\",\"type\":\"LinearScale\"},{\"attributes\":{},\"id\":\"4375\",\"type\":\"ResetTool\"},{\"attributes\":{\"axis_label\":\"Petal Length\",\"formatter\":{\"id\":\"4642\"},\"ticker\":{\"id\":\"4326\"}},\"id\":\"4325\",\"type\":\"LinearAxis\"},{\"attributes\":{\"axis\":{\"id\":\"4363\"},\"ticker\":null},\"id\":\"4366\",\"type\":\"Grid\"},{\"attributes\":{},\"id\":\"4376\",\"type\":\"HelpTool\"},{\"attributes\":{},\"id\":\"4326\",\"type\":\"BasicTicker\"},{\"attributes\":{\"axis\":{\"id\":\"4325\"},\"ticker\":null},\"id\":\"4328\",\"type\":\"Grid\"},{\"attributes\":{\"active_drag\":\"auto\",\"active_inspect\":\"auto\",\"active_multi\":null,\"active_scroll\":\"auto\",\"active_tap\":\"auto\",\"tools\":[{\"id\":\"4371\"},{\"id\":\"4372\"},{\"id\":\"4373\"},{\"id\":\"4374\"},{\"id\":\"4375\"},{\"id\":\"4376\"}]},\"id\":\"4378\",\"type\":\"Toolbar\"},{\"attributes\":{\"axis_label\":\"Sepal Length\",\"formatter\":{\"id\":\"4640\"},\"ticker\":{\"id\":\"4330\"}},\"id\":\"4329\",\"type\":\"LinearAxis\"},{\"attributes\":{},\"id\":\"4330\",\"type\":\"BasicTicker\"},{\"attributes\":{\"children\":[{\"id\":\"4314\"},{\"id\":\"4352\"}]},\"id\":\"4466\",\"type\":\"Row\"},{\"attributes\":{\"axis\":{\"id\":\"4329\"},\"dimension\":1,\"ticker\":null},\"id\":\"4332\",\"type\":\"Grid\"},{\"attributes\":{\"fill_color\":{\"value\":\"gold\"},\"line_color\":{\"value\":\"gold\"},\"x\":{\"field\":\"sepal_width\"},\"y\":{\"field\":\"petal_width\"}},\"id\":\"4462\",\"type\":\"Circle\"},{\"attributes\":{\"bottom_units\":\"screen\",\"fill_alpha\":0.5,\"fill_color\":\"lightgrey\",\"left_units\":\"screen\",\"level\":\"overlay\",\"line_alpha\":1.0,\"line_color\":\"black\",\"line_dash\":[4,4],\"line_width\":2,\"right_units\":\"screen\",\"top_units\":\"screen\"},\"id\":\"4377\",\"type\":\"BoxAnnotation\"},{\"attributes\":{\"fill_color\":{\"value\":\"red\"},\"line_color\":{\"value\":\"red\"},\"x\":{\"field\":\"petal_length\"},\"y\":{\"field\":\"sepal_length\"}},\"id\":\"4348\",\"type\":\"Circle\"},{\"attributes\":{\"fill_alpha\":{\"value\":0.1},\"fill_color\":{\"value\":\"blue\"},\"line_alpha\":{\"value\":0.1},\"line_color\":{\"value\":\"blue\"},\"x\":{\"field\":\"petal_length\"},\"y\":{\"field\":\"petal_width\"}},\"id\":\"4387\",\"type\":\"Circle\"},{\"attributes\":{\"source\":{\"id\":\"4313\"}},\"id\":\"4389\",\"type\":\"CDSView\"},{\"attributes\":{\"fill_alpha\":{\"value\":0.1},\"fill_color\":{\"value\":\"green\"},\"line_alpha\":{\"value\":0.1},\"line_color\":{\"value\":\"green\"},\"x\":{\"field\":\"sepal_width\"},\"y\":{\"field\":\"sepal_length\"}},\"id\":\"4425\",\"type\":\"Circle\"},{\"attributes\":{\"fill_alpha\":{\"value\":0.1},\"fill_color\":{\"value\":\"red\"},\"line_alpha\":{\"value\":0.1},\"line_color\":{\"value\":\"red\"},\"x\":{\"field\":\"petal_length\"},\"y\":{\"field\":\"sepal_length\"}},\"id\":\"4349\",\"type\":\"Circle\"},{\"attributes\":{},\"id\":\"4321\",\"type\":\"LinearScale\"},{\"attributes\":{},\"id\":\"4333\",\"type\":\"PanTool\"},{\"attributes\":{},\"id\":\"4334\",\"type\":\"WheelZoomTool\"},{\"attributes\":{\"data_source\":{\"id\":\"4313\"},\"glyph\":{\"id\":\"4386\"},\"hover_glyph\":null,\"muted_glyph\":null,\"nonselection_glyph\":{\"id\":\"4387\"},\"selection_glyph\":null,\"view\":{\"id\":\"4389\"}},\"id\":\"4388\",\"type\":\"GlyphRenderer\"},{\"attributes\":{\"text\":\"Sepal Width vs. Sepal Length\"},\"id\":\"4391\",\"type\":\"Title\"},{\"attributes\":{\"overlay\":{\"id\":\"4339\"}},\"id\":\"4335\",\"type\":\"BoxZoomTool\"},{\"attributes\":{},\"id\":\"4393\",\"type\":\"DataRange1d\"},{\"attributes\":{},\"id\":\"4336\",\"type\":\"SaveTool\"},{\"attributes\":{},\"id\":\"4395\",\"type\":\"DataRange1d\"},{\"attributes\":{},\"id\":\"4337\",\"type\":\"ResetTool\"},{\"attributes\":{},\"id\":\"4397\",\"type\":\"LinearScale\"},{\"attributes\":{},\"id\":\"4338\",\"type\":\"HelpTool\"},{\"attributes\":{},\"id\":\"4399\",\"type\":\"LinearScale\"},{\"attributes\":{\"fill_color\":{\"value\":\"blue\"},\"line_color\":{\"value\":\"blue\"},\"x\":{\"field\":\"petal_length\"},\"y\":{\"field\":\"petal_width\"}},\"id\":\"4386\",\"type\":\"Circle\"},{\"attributes\":{\"active_drag\":\"auto\",\"active_inspect\":\"auto\",\"active_multi\":null,\"active_scroll\":\"auto\",\"active_tap\":\"auto\",\"tools\":[{\"id\":\"4333\"},{\"id\":\"4334\"},{\"id\":\"4335\"},{\"id\":\"4336\"},{\"id\":\"4337\"},{\"id\":\"4338\"}]},\"id\":\"4340\",\"type\":\"Toolbar\"},{\"attributes\":{\"axis_label\":\"Sepal Width\",\"formatter\":{\"id\":\"4650\"},\"ticker\":{\"id\":\"4402\"}},\"id\":\"4401\",\"type\":\"LinearAxis\"},{\"attributes\":{\"axis\":{\"id\":\"4367\"},\"dimension\":1,\"ticker\":null},\"id\":\"4370\",\"type\":\"Grid\"},{\"attributes\":{},\"id\":\"4402\",\"type\":\"BasicTicker\"},{\"attributes\":{\"axis\":{\"id\":\"4401\"},\"ticker\":null},\"id\":\"4404\",\"type\":\"Grid\"},{\"attributes\":{},\"id\":\"4368\",\"type\":\"BasicTicker\"},{\"attributes\":{\"axis_label\":\"Sepal Length\",\"formatter\":{\"id\":\"4648\"},\"ticker\":{\"id\":\"4406\"}},\"id\":\"4405\",\"type\":\"LinearAxis\"},{\"attributes\":{\"bottom_units\":\"screen\",\"fill_alpha\":0.5,\"fill_color\":\"lightgrey\",\"left_units\":\"screen\",\"level\":\"overlay\",\"line_alpha\":1.0,\"line_color\":\"black\",\"line_dash\":[4,4],\"line_width\":2,\"right_units\":\"screen\",\"top_units\":\"screen\"},\"id\":\"4339\",\"type\":\"BoxAnnotation\"},{\"attributes\":{},\"id\":\"4406\",\"type\":\"BasicTicker\"},{\"attributes\":{\"axis\":{\"id\":\"4405\"},\"dimension\":1,\"ticker\":null},\"id\":\"4408\",\"type\":\"Grid\"},{\"attributes\":{\"data_source\":{\"id\":\"4313\"},\"glyph\":{\"id\":\"4348\"},\"hover_glyph\":null,\"muted_glyph\":null,\"nonselection_glyph\":{\"id\":\"4349\"},\"selection_glyph\":null,\"view\":{\"id\":\"4351\"}},\"id\":\"4350\",\"type\":\"GlyphRenderer\"},{\"attributes\":{\"fill_color\":{\"value\":\"green\"},\"line_color\":{\"value\":\"green\"},\"x\":{\"field\":\"sepal_width\"},\"y\":{\"field\":\"sepal_length\"}},\"id\":\"4424\",\"type\":\"Circle\"},{\"attributes\":{\"below\":[{\"id\":\"4439\"}],\"center\":[{\"id\":\"4442\"},{\"id\":\"4446\"}],\"left\":[{\"id\":\"4443\"}],\"plot_height\":400,\"plot_width\":400,\"renderers\":[{\"id\":\"4464\"}],\"title\":{\"id\":\"4429\"},\"toolbar\":{\"id\":\"4454\"},\"x_range\":{\"id\":\"4431\"},\"x_scale\":{\"id\":\"4435\"},\"y_range\":{\"id\":\"4433\"},\"y_scale\":{\"id\":\"4437\"}},\"id\":\"4428\",\"subtype\":\"Figure\",\"type\":\"Plot\"},{\"attributes\":{\"source\":{\"id\":\"4313\"}},\"id\":\"4351\",\"type\":\"CDSView\"},{\"attributes\":{\"text\":\"Petal Length vs. Petal Width\"},\"id\":\"4353\",\"type\":\"Title\"},{\"attributes\":{},\"id\":\"4409\",\"type\":\"PanTool\"},{\"attributes\":{},\"id\":\"4355\",\"type\":\"DataRange1d\"},{\"attributes\":{},\"id\":\"4640\",\"type\":\"BasicTickFormatter\"},{\"attributes\":{},\"id\":\"4410\",\"type\":\"WheelZoomTool\"},{\"attributes\":{},\"id\":\"4357\",\"type\":\"DataRange1d\"},{\"attributes\":{\"overlay\":{\"id\":\"4415\"}},\"id\":\"4411\",\"type\":\"BoxZoomTool\"},{\"attributes\":{},\"id\":\"4359\",\"type\":\"LinearScale\"},{\"attributes\":{\"data\":{\"index\":[0,1,2,3,4,5,6,7,8,9,10,11,12,13,14,15,16,17,18,19,20,21,22,23,24,25,26,27,28,29,30,31,32,33,34,35,36,37,38,39,40,41,42,43,44,45,46,47,48,49,50,51,52,53,54,55,56,57,58,59,60,61,62,63,64,65,66,67,68,69,70,71,72,73,74,75,76,77,78,79,80,81,82,83,84,85,86,87,88,89,90,91,92,93,94,95,96,97,98,99,100,101,102,103,104,105,106,107,108,109,110,111,112,113,114,115,116,117,118,119,120,121,122,123,124,125,126,127,128,129,130,131,132,133,134,135,136,137,138,139,140,141,142,143,144,145,146,147,148,149],\"petal_length\":{\"__ndarray__\":\"ZmZmZmZm9j9mZmZmZmb2P83MzMzMzPQ/AAAAAAAA+D9mZmZmZmb2PzMzMzMzM/s/ZmZmZmZm9j8AAAAAAAD4P2ZmZmZmZvY/AAAAAAAA+D8AAAAAAAD4P5qZmZmZmfk/ZmZmZmZm9j+amZmZmZnxPzMzMzMzM/M/AAAAAAAA+D/NzMzMzMz0P2ZmZmZmZvY/MzMzMzMz+z8AAAAAAAD4PzMzMzMzM/s/AAAAAAAA+D8AAAAAAADwPzMzMzMzM/s/ZmZmZmZm/j+amZmZmZn5P5qZmZmZmfk/AAAAAAAA+D9mZmZmZmb2P5qZmZmZmfk/mpmZmZmZ+T8AAAAAAAD4PwAAAAAAAPg/ZmZmZmZm9j8AAAAAAAD4PzMzMzMzM/M/zczMzMzM9D9mZmZmZmb2P83MzMzMzPQ/AAAAAAAA+D/NzMzMzMz0P83MzMzMzPQ/zczMzMzM9D+amZmZmZn5P2ZmZmZmZv4/ZmZmZmZm9j+amZmZmZn5P2ZmZmZmZvY/AAAAAAAA+D9mZmZmZmb2P83MzMzMzBJAAAAAAAAAEkCamZmZmZkTQAAAAAAAABBAZmZmZmZmEkAAAAAAAAASQM3MzMzMzBJAZmZmZmZmCkBmZmZmZmYSQDMzMzMzMw9AAAAAAAAADEDNzMzMzMwQQAAAAAAAABBAzczMzMzMEkDNzMzMzMwMQJqZmZmZmRFAAAAAAAAAEkBmZmZmZmYQQAAAAAAAABJAMzMzMzMzD0AzMzMzMzMTQAAAAAAAABBAmpmZmZmZE0DNzMzMzMwSQDMzMzMzMxFAmpmZmZmZEUAzMzMzMzMTQAAAAAAAABRAAAAAAAAAEkAAAAAAAAAMQGZmZmZmZg5AmpmZmZmZDUAzMzMzMzMPQGZmZmZmZhRAAAAAAAAAEkAAAAAAAAASQM3MzMzMzBJAmpmZmZmZEUBmZmZmZmYQQAAAAAAAABBAmpmZmZmZEUBmZmZmZmYSQAAAAAAAABBAZmZmZmZmCkDNzMzMzMwQQM3MzMzMzBBAzczMzMzMEEAzMzMzMzMRQAAAAAAAAAhAZmZmZmZmEEAAAAAAAAAYQGZmZmZmZhRAmpmZmZmZF0BmZmZmZmYWQDMzMzMzMxdAZmZmZmZmGkAAAAAAAAASQDMzMzMzMxlAMzMzMzMzF0BmZmZmZmYYQGZmZmZmZhRAMzMzMzMzFUAAAAAAAAAWQAAAAAAAABRAZmZmZmZmFEAzMzMzMzMVQAAAAAAAABZAzczMzMzMGkCamZmZmZkbQAAAAAAAABRAzczMzMzMFkCamZmZmZkTQM3MzMzMzBpAmpmZmZmZE0DNzMzMzMwWQAAAAAAAABhAMzMzMzMzE0CamZmZmZkTQGZmZmZmZhZAMzMzMzMzF0BmZmZmZmYYQJqZmZmZmRlAZmZmZmZmFkBmZmZmZmYUQGZmZmZmZhZAZmZmZmZmGEBmZmZmZmYWQAAAAAAAABZAMzMzMzMzE0CamZmZmZkVQGZmZmZmZhZAZmZmZmZmFEBmZmZmZmYUQJqZmZmZmRdAzczMzMzMFkDNzMzMzMwUQAAAAAAAABRAzczMzMzMFECamZmZmZkVQGZmZmZmZhRA\",\"dtype\":\"float64\",\"order\":\"little\",\"shape\":[150]},\"petal_width\":{\"__ndarray__\":\"mpmZmZmZyT+amZmZmZnJP5qZmZmZmck/mpmZmZmZyT+amZmZmZnJP5qZmZmZmdk/MzMzMzMz0z+amZmZmZnJP5qZmZmZmck/mpmZmZmZuT+amZmZmZnJP5qZmZmZmck/mpmZmZmZuT+amZmZmZm5P5qZmZmZmck/mpmZmZmZ2T+amZmZmZnZPzMzMzMzM9M/MzMzMzMz0z8zMzMzMzPTP5qZmZmZmck/mpmZmZmZ2T+amZmZmZnJPwAAAAAAAOA/mpmZmZmZyT+amZmZmZnJP5qZmZmZmdk/mpmZmZmZyT+amZmZmZnJP5qZmZmZmck/mpmZmZmZyT+amZmZmZnZP5qZmZmZmbk/mpmZmZmZyT+amZmZmZnJP5qZmZmZmck/mpmZmZmZyT+amZmZmZm5P5qZmZmZmck/mpmZmZmZyT8zMzMzMzPTPzMzMzMzM9M/mpmZmZmZyT8zMzMzMzPjP5qZmZmZmdk/MzMzMzMz0z+amZmZmZnJP5qZmZmZmck/mpmZmZmZyT+amZmZmZnJP2ZmZmZmZvY/AAAAAAAA+D8AAAAAAAD4P83MzMzMzPQ/AAAAAAAA+D/NzMzMzMz0P5qZmZmZmfk/AAAAAAAA8D/NzMzMzMz0P2ZmZmZmZvY/AAAAAAAA8D8AAAAAAAD4PwAAAAAAAPA/ZmZmZmZm9j/NzMzMzMz0P2ZmZmZmZvY/AAAAAAAA+D8AAAAAAADwPwAAAAAAAPg/mpmZmZmZ8T/NzMzMzMz8P83MzMzMzPQ/AAAAAAAA+D8zMzMzMzPzP83MzMzMzPQ/ZmZmZmZm9j9mZmZmZmb2PzMzMzMzM/s/AAAAAAAA+D8AAAAAAADwP5qZmZmZmfE/AAAAAAAA8D8zMzMzMzPzP5qZmZmZmfk/AAAAAAAA+D+amZmZmZn5PwAAAAAAAPg/zczMzMzM9D/NzMzMzMz0P83MzMzMzPQ/MzMzMzMz8z9mZmZmZmb2PzMzMzMzM/M/AAAAAAAA8D/NzMzMzMz0PzMzMzMzM/M/zczMzMzM9D/NzMzMzMz0P5qZmZmZmfE/zczMzMzM9D8AAAAAAAAEQGZmZmZmZv4/zczMzMzMAEDNzMzMzMz8P5qZmZmZmQFAzczMzMzMAEAzMzMzMzP7P83MzMzMzPw/zczMzMzM/D8AAAAAAAAEQAAAAAAAAABAZmZmZmZm/j/NzMzMzMwAQAAAAAAAAABAMzMzMzMzA0BmZmZmZmYCQM3MzMzMzPw/mpmZmZmZAUBmZmZmZmYCQAAAAAAAAPg/ZmZmZmZmAkAAAAAAAAAAQAAAAAAAAABAzczMzMzM/D/NzMzMzMwAQM3MzMzMzPw/zczMzMzM/D/NzMzMzMz8P83MzMzMzABAmpmZmZmZ+T9mZmZmZmb+PwAAAAAAAABAmpmZmZmZAUAAAAAAAAD4P2ZmZmZmZvY/ZmZmZmZmAkAzMzMzMzMDQM3MzMzMzPw/zczMzMzM/D/NzMzMzMwAQDMzMzMzMwNAZmZmZmZmAkBmZmZmZmb+P2ZmZmZmZgJAAAAAAAAABEBmZmZmZmYCQGZmZmZmZv4/AAAAAAAAAEBmZmZmZmYCQM3MzMzMzPw/\",\"dtype\":\"float64\",\"order\":\"little\",\"shape\":[150]},\"sepal_length\":{\"__ndarray__\":\"ZmZmZmZmFECamZmZmZkTQM3MzMzMzBJAZmZmZmZmEkAAAAAAAAAUQJqZmZmZmRVAZmZmZmZmEkAAAAAAAAAUQJqZmZmZmRFAmpmZmZmZE0CamZmZmZkVQDMzMzMzMxNAMzMzMzMzE0AzMzMzMzMRQDMzMzMzMxdAzczMzMzMFkCamZmZmZkVQGZmZmZmZhRAzczMzMzMFkBmZmZmZmYUQJqZmZmZmRVAZmZmZmZmFEBmZmZmZmYSQGZmZmZmZhRAMzMzMzMzE0AAAAAAAAAUQAAAAAAAABRAzczMzMzMFEDNzMzMzMwUQM3MzMzMzBJAMzMzMzMzE0CamZmZmZkVQM3MzMzMzBRAAAAAAAAAFkCamZmZmZkTQAAAAAAAABRAAAAAAAAAFkCamZmZmZkTQJqZmZmZmRFAZmZmZmZmFEAAAAAAAAAUQAAAAAAAABJAmpmZmZmZEUAAAAAAAAAUQGZmZmZmZhRAMzMzMzMzE0BmZmZmZmYUQGZmZmZmZhJAMzMzMzMzFUAAAAAAAAAUQAAAAAAAABxAmpmZmZmZGUCamZmZmZkbQAAAAAAAABZAAAAAAAAAGkDNzMzMzMwWQDMzMzMzMxlAmpmZmZmZE0BmZmZmZmYaQM3MzMzMzBRAAAAAAAAAFECamZmZmZkXQAAAAAAAABhAZmZmZmZmGEBmZmZmZmYWQM3MzMzMzBpAZmZmZmZmFkAzMzMzMzMXQM3MzMzMzBhAZmZmZmZmFkCamZmZmZkXQGZmZmZmZhhAMzMzMzMzGUBmZmZmZmYYQJqZmZmZmRlAZmZmZmZmGkAzMzMzMzMbQM3MzMzMzBpAAAAAAAAAGEDNzMzMzMwWQAAAAAAAABZAAAAAAAAAFkAzMzMzMzMXQAAAAAAAABhAmpmZmZmZFUAAAAAAAAAYQM3MzMzMzBpAMzMzMzMzGUBmZmZmZmYWQAAAAAAAABZAAAAAAAAAFkBmZmZmZmYYQDMzMzMzMxdAAAAAAAAAFEBmZmZmZmYWQM3MzMzMzBZAzczMzMzMFkDNzMzMzMwYQGZmZmZmZhRAzczMzMzMFkAzMzMzMzMZQDMzMzMzMxdAZmZmZmZmHEAzMzMzMzMZQAAAAAAAABpAZmZmZmZmHkCamZmZmZkTQDMzMzMzMx1AzczMzMzMGkDNzMzMzMwcQAAAAAAAABpAmpmZmZmZGUAzMzMzMzMbQM3MzMzMzBZAMzMzMzMzF0CamZmZmZkZQAAAAAAAABpAzczMzMzMHkDNzMzMzMweQAAAAAAAABhAmpmZmZmZG0BmZmZmZmYWQM3MzMzMzB5AMzMzMzMzGUDNzMzMzMwaQM3MzMzMzBxAzczMzMzMGEBmZmZmZmYYQJqZmZmZmRlAzczMzMzMHECamZmZmZkdQJqZmZmZmR9AmpmZmZmZGUAzMzMzMzMZQGZmZmZmZhhAzczMzMzMHkAzMzMzMzMZQJqZmZmZmRlAAAAAAAAAGECamZmZmZkbQM3MzMzMzBpAmpmZmZmZG0AzMzMzMzMXQDMzMzMzMxtAzczMzMzMGkDNzMzMzMwaQDMzMzMzMxlAAAAAAAAAGkDNzMzMzMwYQJqZmZmZmRdA\",\"dtype\":\"float64\",\"order\":\"little\",\"shape\":[150]},\"sepal_width\":{\"__ndarray__\":\"AAAAAAAADEAAAAAAAAAIQJqZmZmZmQlAzczMzMzMCEDNzMzMzMwMQDMzMzMzMw9AMzMzMzMzC0AzMzMzMzMLQDMzMzMzMwdAzczMzMzMCECamZmZmZkNQDMzMzMzMwtAAAAAAAAACEAAAAAAAAAIQAAAAAAAABBAmpmZmZmZEUAzMzMzMzMPQAAAAAAAAAxAZmZmZmZmDkBmZmZmZmYOQDMzMzMzMwtAmpmZmZmZDUDNzMzMzMwMQGZmZmZmZgpAMzMzMzMzC0AAAAAAAAAIQDMzMzMzMwtAAAAAAAAADEAzMzMzMzMLQJqZmZmZmQlAzczMzMzMCEAzMzMzMzMLQGZmZmZmZhBAzczMzMzMEEDNzMzMzMwIQJqZmZmZmQlAAAAAAAAADEDNzMzMzMwMQAAAAAAAAAhAMzMzMzMzC0AAAAAAAAAMQGZmZmZmZgJAmpmZmZmZCUAAAAAAAAAMQGZmZmZmZg5AAAAAAAAACEBmZmZmZmYOQJqZmZmZmQlAmpmZmZmZDUBmZmZmZmYKQJqZmZmZmQlAmpmZmZmZCUDNzMzMzMwIQGZmZmZmZgJAZmZmZmZmBkBmZmZmZmYGQGZmZmZmZgpAMzMzMzMzA0AzMzMzMzMHQJqZmZmZmQVAAAAAAAAAAEAAAAAAAAAIQJqZmZmZmQFAMzMzMzMzB0AzMzMzMzMHQM3MzMzMzAhAAAAAAAAACECamZmZmZkFQJqZmZmZmQFAAAAAAAAABECamZmZmZkJQGZmZmZmZgZAAAAAAAAABEBmZmZmZmYGQDMzMzMzMwdAAAAAAAAACEBmZmZmZmYGQAAAAAAAAAhAMzMzMzMzB0DNzMzMzMwEQDMzMzMzMwNAMzMzMzMzA0CamZmZmZkFQJqZmZmZmQVAAAAAAAAACEAzMzMzMzMLQM3MzMzMzAhAZmZmZmZmAkAAAAAAAAAIQAAAAAAAAARAzczMzMzMBEAAAAAAAAAIQM3MzMzMzARAZmZmZmZmAkCamZmZmZkFQAAAAAAAAAhAMzMzMzMzB0AzMzMzMzMHQAAAAAAAAARAZmZmZmZmBkBmZmZmZmYKQJqZmZmZmQVAAAAAAAAACEAzMzMzMzMHQAAAAAAAAAhAAAAAAAAACEAAAAAAAAAEQDMzMzMzMwdAAAAAAAAABEDNzMzMzMwMQJqZmZmZmQlAmpmZmZmZBUAAAAAAAAAIQAAAAAAAAARAZmZmZmZmBkCamZmZmZkJQAAAAAAAAAhAZmZmZmZmDkDNzMzMzMwEQJqZmZmZmQFAmpmZmZmZCUBmZmZmZmYGQGZmZmZmZgZAmpmZmZmZBUBmZmZmZmYKQJqZmZmZmQlAZmZmZmZmBkAAAAAAAAAIQGZmZmZmZgZAAAAAAAAACEBmZmZmZmYGQGZmZmZmZg5AZmZmZmZmBkBmZmZmZmYGQM3MzMzMzARAAAAAAAAACEAzMzMzMzMLQM3MzMzMzAhAAAAAAAAACEDNzMzMzMwIQM3MzMzMzAhAzczMzMzMCECamZmZmZkFQJqZmZmZmQlAZmZmZmZmCkAAAAAAAAAIQAAAAAAAAARAAAAAAAAACEAzMzMzMzMLQAAAAAAAAAhA\",\"dtype\":\"float64\",\"order\":\"little\",\"shape\":[150]},\"species\":[\"setosa\",\"setosa\",\"setosa\",\"setosa\",\"setosa\",\"setosa\",\"setosa\",\"setosa\",\"setosa\",\"setosa\",\"setosa\",\"setosa\",\"setosa\",\"setosa\",\"setosa\",\"setosa\",\"setosa\",\"setosa\",\"setosa\",\"setosa\",\"setosa\",\"setosa\",\"setosa\",\"setosa\",\"setosa\",\"setosa\",\"setosa\",\"setosa\",\"setosa\",\"setosa\",\"setosa\",\"setosa\",\"setosa\",\"setosa\",\"setosa\",\"setosa\",\"setosa\",\"setosa\",\"setosa\",\"setosa\",\"setosa\",\"setosa\",\"setosa\",\"setosa\",\"setosa\",\"setosa\",\"setosa\",\"setosa\",\"setosa\",\"setosa\",\"versicolor\",\"versicolor\",\"versicolor\",\"versicolor\",\"versicolor\",\"versicolor\",\"versicolor\",\"versicolor\",\"versicolor\",\"versicolor\",\"versicolor\",\"versicolor\",\"versicolor\",\"versicolor\",\"versicolor\",\"versicolor\",\"versicolor\",\"versicolor\",\"versicolor\",\"versicolor\",\"versicolor\",\"versicolor\",\"versicolor\",\"versicolor\",\"versicolor\",\"versicolor\",\"versicolor\",\"versicolor\",\"versicolor\",\"versicolor\",\"versicolor\",\"versicolor\",\"versicolor\",\"versicolor\",\"versicolor\",\"versicolor\",\"versicolor\",\"versicolor\",\"versicolor\",\"versicolor\",\"versicolor\",\"versicolor\",\"versicolor\",\"versicolor\",\"versicolor\",\"versicolor\",\"versicolor\",\"versicolor\",\"versicolor\",\"versicolor\",\"virginica\",\"virginica\",\"virginica\",\"virginica\",\"virginica\",\"virginica\",\"virginica\",\"virginica\",\"virginica\",\"virginica\",\"virginica\",\"virginica\",\"virginica\",\"virginica\",\"virginica\",\"virginica\",\"virginica\",\"virginica\",\"virginica\",\"virginica\",\"virginica\",\"virginica\",\"virginica\",\"virginica\",\"virginica\",\"virginica\",\"virginica\",\"virginica\",\"virginica\",\"virginica\",\"virginica\",\"virginica\",\"virginica\",\"virginica\",\"virginica\",\"virginica\",\"virginica\",\"virginica\",\"virginica\",\"virginica\",\"virginica\",\"virginica\",\"virginica\",\"virginica\",\"virginica\",\"virginica\",\"virginica\",\"virginica\",\"virginica\",\"virginica\"]},\"selected\":{\"id\":\"4656\"},\"selection_policy\":{\"id\":\"4657\"}},\"id\":\"4313\",\"type\":\"ColumnDataSource\"},{\"attributes\":{\"axis\":{\"id\":\"4439\"},\"ticker\":null},\"id\":\"4442\",\"type\":\"Grid\"},{\"attributes\":{},\"id\":\"4412\",\"type\":\"SaveTool\"},{\"attributes\":{},\"id\":\"4361\",\"type\":\"LinearScale\"},{\"attributes\":{\"fill_alpha\":{\"value\":0.1},\"fill_color\":{\"value\":\"gold\"},\"line_alpha\":{\"value\":0.1},\"line_color\":{\"value\":\"gold\"},\"x\":{\"field\":\"sepal_width\"},\"y\":{\"field\":\"petal_width\"}},\"id\":\"4463\",\"type\":\"Circle\"},{\"attributes\":{},\"id\":\"4413\",\"type\":\"ResetTool\"},{\"attributes\":{\"axis_label\":\"Petal Length\",\"formatter\":{\"id\":\"4646\"},\"ticker\":{\"id\":\"4364\"}},\"id\":\"4363\",\"type\":\"LinearAxis\"},{\"attributes\":{\"text\":\"Petal Length vs. Sepal Length\"},\"id\":\"4315\",\"type\":\"Title\"},{\"attributes\":{},\"id\":\"4414\",\"type\":\"HelpTool\"},{\"attributes\":{},\"id\":\"4364\",\"type\":\"BasicTicker\"},{\"attributes\":{\"below\":[{\"id\":\"4401\"}],\"center\":[{\"id\":\"4404\"},{\"id\":\"4408\"}],\"left\":[{\"id\":\"4405\"}],\"plot_height\":400,\"plot_width\":400,\"renderers\":[{\"id\":\"4426\"}],\"title\":{\"id\":\"4391\"},\"toolbar\":{\"id\":\"4416\"},\"x_range\":{\"id\":\"4393\"},\"x_scale\":{\"id\":\"4397\"},\"y_range\":{\"id\":\"4395\"},\"y_scale\":{\"id\":\"4399\"}},\"id\":\"4390\",\"subtype\":\"Figure\",\"type\":\"Plot\"},{\"attributes\":{\"active_drag\":\"auto\",\"active_inspect\":\"auto\",\"active_multi\":null,\"active_scroll\":\"auto\",\"active_tap\":\"auto\",\"tools\":[{\"id\":\"4409\"},{\"id\":\"4410\"},{\"id\":\"4411\"},{\"id\":\"4412\"},{\"id\":\"4413\"},{\"id\":\"4414\"}]},\"id\":\"4416\",\"type\":\"Toolbar\"},{\"attributes\":{\"below\":[{\"id\":\"4363\"}],\"center\":[{\"id\":\"4366\"},{\"id\":\"4370\"}],\"left\":[{\"id\":\"4367\"}],\"plot_height\":400,\"plot_width\":400,\"renderers\":[{\"id\":\"4388\"}],\"title\":{\"id\":\"4353\"},\"toolbar\":{\"id\":\"4378\"},\"x_range\":{\"id\":\"4355\"},\"x_scale\":{\"id\":\"4359\"},\"y_range\":{\"id\":\"4357\"},\"y_scale\":{\"id\":\"4361\"}},\"id\":\"4352\",\"subtype\":\"Figure\",\"type\":\"Plot\"},{\"attributes\":{},\"id\":\"4371\",\"type\":\"PanTool\"},{\"attributes\":{\"active_drag\":\"auto\",\"active_inspect\":\"auto\",\"active_multi\":null,\"active_scroll\":\"auto\",\"active_tap\":\"auto\",\"tools\":[{\"id\":\"4447\"},{\"id\":\"4448\"},{\"id\":\"4449\"},{\"id\":\"4450\"},{\"id\":\"4451\"},{\"id\":\"4452\"}]},\"id\":\"4454\",\"type\":\"Toolbar\"},{\"attributes\":{},\"id\":\"4319\",\"type\":\"DataRange1d\"},{\"attributes\":{},\"id\":\"4372\",\"type\":\"WheelZoomTool\"},{\"attributes\":{},\"id\":\"4317\",\"type\":\"DataRange1d\"},{\"attributes\":{\"bottom_units\":\"screen\",\"fill_alpha\":0.5,\"fill_color\":\"lightgrey\",\"left_units\":\"screen\",\"level\":\"overlay\",\"line_alpha\":1.0,\"line_color\":\"black\",\"line_dash\":[4,4],\"line_width\":2,\"right_units\":\"screen\",\"top_units\":\"screen\"},\"id\":\"4453\",\"type\":\"BoxAnnotation\"},{\"attributes\":{\"overlay\":{\"id\":\"4377\"}},\"id\":\"4373\",\"type\":\"BoxZoomTool\"},{\"attributes\":{\"below\":[{\"id\":\"4325\"}],\"center\":[{\"id\":\"4328\"},{\"id\":\"4332\"}],\"left\":[{\"id\":\"4329\"}],\"plot_height\":400,\"plot_width\":400,\"renderers\":[{\"id\":\"4350\"}],\"title\":{\"id\":\"4315\"},\"toolbar\":{\"id\":\"4340\"},\"x_range\":{\"id\":\"4317\"},\"x_scale\":{\"id\":\"4321\"},\"y_range\":{\"id\":\"4319\"},\"y_scale\":{\"id\":\"4323\"}},\"id\":\"4314\",\"subtype\":\"Figure\",\"type\":\"Plot\"},{\"attributes\":{\"bottom_units\":\"screen\",\"fill_alpha\":0.5,\"fill_color\":\"lightgrey\",\"left_units\":\"screen\",\"level\":\"overlay\",\"line_alpha\":1.0,\"line_color\":\"black\",\"line_dash\":[4,4],\"line_width\":2,\"right_units\":\"screen\",\"top_units\":\"screen\"},\"id\":\"4415\",\"type\":\"BoxAnnotation\"},{\"attributes\":{\"data_source\":{\"id\":\"4313\"},\"glyph\":{\"id\":\"4424\"},\"hover_glyph\":null,\"muted_glyph\":null,\"nonselection_glyph\":{\"id\":\"4425\"},\"selection_glyph\":null,\"view\":{\"id\":\"4427\"}},\"id\":\"4426\",\"type\":\"GlyphRenderer\"},{\"attributes\":{\"source\":{\"id\":\"4313\"}},\"id\":\"4427\",\"type\":\"CDSView\"},{\"attributes\":{\"text\":\"Sepal Width vs. Petal Width\"},\"id\":\"4429\",\"type\":\"Title\"},{\"attributes\":{},\"id\":\"4431\",\"type\":\"DataRange1d\"},{\"attributes\":{},\"id\":\"4433\",\"type\":\"DataRange1d\"},{\"attributes\":{},\"id\":\"4435\",\"type\":\"LinearScale\"},{\"attributes\":{},\"id\":\"4437\",\"type\":\"LinearScale\"},{\"attributes\":{\"axis_label\":\"Sepal Width\",\"formatter\":{\"id\":\"4654\"},\"ticker\":{\"id\":\"4440\"}},\"id\":\"4439\",\"type\":\"LinearAxis\"},{\"attributes\":{},\"id\":\"4440\",\"type\":\"BasicTicker\"},{\"attributes\":{\"axis_label\":\"Petal Width\",\"formatter\":{\"id\":\"4652\"},\"ticker\":{\"id\":\"4444\"}},\"id\":\"4443\",\"type\":\"LinearAxis\"},{\"attributes\":{},\"id\":\"4444\",\"type\":\"BasicTicker\"},{\"attributes\":{\"axis\":{\"id\":\"4443\"},\"dimension\":1,\"ticker\":null},\"id\":\"4446\",\"type\":\"Grid\"},{\"attributes\":{\"axis_label\":\"Petal Width\",\"formatter\":{\"id\":\"4644\"},\"ticker\":{\"id\":\"4368\"}},\"id\":\"4367\",\"type\":\"LinearAxis\"},{\"attributes\":{\"source\":{\"id\":\"4313\"}},\"id\":\"4465\",\"type\":\"CDSView\"},{\"attributes\":{},\"id\":\"4447\",\"type\":\"PanTool\"},{\"attributes\":{},\"id\":\"4448\",\"type\":\"WheelZoomTool\"},{\"attributes\":{\"overlay\":{\"id\":\"4453\"}},\"id\":\"4449\",\"type\":\"BoxZoomTool\"},{\"attributes\":{},\"id\":\"4450\",\"type\":\"SaveTool\"},{\"attributes\":{},\"id\":\"4451\",\"type\":\"ResetTool\"},{\"attributes\":{},\"id\":\"4452\",\"type\":\"HelpTool\"},{\"attributes\":{\"children\":[{\"id\":\"4390\"},{\"id\":\"4428\"}]},\"id\":\"4467\",\"type\":\"Row\"},{\"attributes\":{\"data_source\":{\"id\":\"4313\"},\"glyph\":{\"id\":\"4462\"},\"hover_glyph\":null,\"muted_glyph\":null,\"nonselection_glyph\":{\"id\":\"4463\"},\"selection_glyph\":null,\"view\":{\"id\":\"4465\"}},\"id\":\"4464\",\"type\":\"GlyphRenderer\"},{\"attributes\":{},\"id\":\"4642\",\"type\":\"BasicTickFormatter\"},{\"attributes\":{},\"id\":\"4644\",\"type\":\"BasicTickFormatter\"},{\"attributes\":{},\"id\":\"4646\",\"type\":\"BasicTickFormatter\"},{\"attributes\":{},\"id\":\"4648\",\"type\":\"BasicTickFormatter\"},{\"attributes\":{},\"id\":\"4650\",\"type\":\"BasicTickFormatter\"},{\"attributes\":{},\"id\":\"4652\",\"type\":\"BasicTickFormatter\"},{\"attributes\":{},\"id\":\"4654\",\"type\":\"BasicTickFormatter\"},{\"attributes\":{},\"id\":\"4656\",\"type\":\"Selection\"},{\"attributes\":{},\"id\":\"4657\",\"type\":\"UnionRenderers\"}],\"root_ids\":[\"4468\"]},\"title\":\"Bokeh Application\",\"version\":\"2.1.1\"}};\n",
       "  var render_items = [{\"docid\":\"7f7db256-572e-4a2a-b2e7-72a59526fd3a\",\"root_ids\":[\"4468\"],\"roots\":{\"4468\":\"a7b5858b-2b8b-4d18-9933-8479a21ce7d9\"}}];\n",
       "  root.Bokeh.embed.embed_items_notebook(docs_json, render_items);\n",
       "\n",
       "  }\n",
       "  if (root.Bokeh !== undefined) {\n",
       "    embed_document(root);\n",
       "  } else {\n",
       "    var attempts = 0;\n",
       "    var timer = setInterval(function(root) {\n",
       "      if (root.Bokeh !== undefined) {\n",
       "        clearInterval(timer);\n",
       "        embed_document(root);\n",
       "      } else {\n",
       "        attempts++;\n",
       "        if (attempts > 100) {\n",
       "          clearInterval(timer);\n",
       "          console.log(\"Bokeh: ERROR: Unable to run BokehJS code because BokehJS library is missing\");\n",
       "        }\n",
       "      }\n",
       "    }, 10, root)\n",
       "  }\n",
       "})(window);"
      ],
      "application/vnd.bokehjs_exec.v0+json": ""
     },
     "metadata": {
      "application/vnd.bokehjs_exec.v0+json": {
       "id": "4468"
      }
     },
     "output_type": "display_data"
    }
   ],
   "source": [
    "source = ColumnDataSource(flowers)\n",
    "\n",
    "p1 = figure(plot_width=400, plot_height=400, \n",
    "            x_axis_label='Petal Length', y_axis_label='Sepal Length',\n",
    "           title='Petal Length vs. Sepal Length')\n",
    "p1.circle('petal_length', 'sepal_length', source=source, color='red')\n",
    "\n",
    "p2 = figure(plot_width=400, plot_height=400, \n",
    "            x_axis_label='Petal Length', y_axis_label='Petal Width',\n",
    "           title='Petal Length vs. Petal Width')\n",
    "p2.circle('petal_length', 'petal_width', source=source, color='blue')\n",
    "\n",
    "p3 = figure(plot_width=400, plot_height=400, \n",
    "            x_axis_label='Sepal Width', y_axis_label='Sepal Length',\n",
    "           title='Sepal Width vs. Sepal Length')\n",
    "p3.circle('sepal_width', 'sepal_length', source=source, color='green')\n",
    "\n",
    "p4 = figure(plot_width=400, plot_height=400, \n",
    "            x_axis_label='Sepal Width', y_axis_label='Petal Width',\n",
    "           title='Sepal Width vs. Petal Width')\n",
    "p4.circle('sepal_width', 'petal_width', source=source, color='gold')\n",
    "\n",
    "layout = column(row(p1, p2), row(p3, p4))\n",
    "show(layout)"
   ]
  },
  {
   "cell_type": "code",
   "execution_count": 40,
   "metadata": {},
   "outputs": [
    {
     "data": {
      "text/html": [
       "\n",
       "\n",
       "\n",
       "\n",
       "\n",
       "\n",
       "  <div class=\"bk-root\" id=\"92a9868f-21db-4a81-b51e-d8839332aaa6\" data-root-id=\"5015\"></div>\n"
      ]
     },
     "metadata": {},
     "output_type": "display_data"
    },
    {
     "data": {
      "application/javascript": [
       "(function(root) {\n",
       "  function embed_document(root) {\n",
       "    \n",
       "  var docs_json = {\"74fc9e6a-831c-4a35-8144-271ea900fe5f\":{\"roots\":{\"references\":[{\"attributes\":{\"children\":[{\"id\":\"5014\"},{\"id\":\"5012\"}]},\"id\":\"5015\",\"type\":\"Column\"},{\"attributes\":{},\"id\":\"4878\",\"type\":\"BasicTicker\"},{\"attributes\":{},\"id\":\"5007\",\"type\":\"BasicTickFormatter\"},{\"attributes\":{\"axis\":{\"id\":\"4877\"},\"dimension\":1,\"ticker\":null},\"id\":\"4880\",\"type\":\"Grid\"},{\"attributes\":{\"active_drag\":\"auto\",\"active_inspect\":\"auto\",\"active_multi\":null,\"active_scroll\":\"auto\",\"active_tap\":\"auto\",\"tools\":[{\"id\":\"4957\"},{\"id\":\"4958\"},{\"id\":\"4959\"},{\"id\":\"4960\"},{\"id\":\"4961\"},{\"id\":\"4962\"}]},\"id\":\"4964\",\"type\":\"Toolbar\"},{\"attributes\":{\"axis_label\":\"Petal Width\",\"formatter\":{\"id\":\"5005\"},\"ticker\":{\"id\":\"4954\"}},\"id\":\"4953\",\"type\":\"LinearAxis\"},{\"attributes\":{\"source\":{\"id\":\"4823\"}},\"id\":\"4899\",\"type\":\"CDSView\"},{\"attributes\":{},\"id\":\"5005\",\"type\":\"BasicTickFormatter\"},{\"attributes\":{},\"id\":\"4881\",\"type\":\"PanTool\"},{\"attributes\":{},\"id\":\"4882\",\"type\":\"WheelZoomTool\"},{\"attributes\":{\"fill_alpha\":{\"value\":0.1},\"fill_color\":{\"value\":\"red\"},\"line_alpha\":{\"value\":0.1},\"line_color\":{\"value\":\"red\"},\"x\":{\"field\":\"petal_length\"},\"y\":{\"field\":\"sepal_length\"}},\"id\":\"4859\",\"type\":\"Circle\"},{\"attributes\":{\"overlay\":{\"id\":\"4887\"}},\"id\":\"4883\",\"type\":\"BoxZoomTool\"},{\"attributes\":{},\"id\":\"4884\",\"type\":\"SaveTool\"},{\"attributes\":{},\"id\":\"4885\",\"type\":\"ResetTool\"},{\"attributes\":{},\"id\":\"4886\",\"type\":\"HelpTool\"},{\"attributes\":{},\"id\":\"4957\",\"type\":\"PanTool\"},{\"attributes\":{\"bottom_units\":\"screen\",\"fill_alpha\":0.5,\"fill_color\":\"lightgrey\",\"left_units\":\"screen\",\"level\":\"overlay\",\"line_alpha\":1.0,\"line_color\":\"black\",\"line_dash\":[4,4],\"line_width\":2,\"right_units\":\"screen\",\"top_units\":\"screen\"},\"id\":\"4887\",\"type\":\"BoxAnnotation\"},{\"attributes\":{\"axis\":{\"id\":\"4953\"},\"dimension\":1,\"ticker\":null},\"id\":\"4956\",\"type\":\"Grid\"},{\"attributes\":{},\"id\":\"4954\",\"type\":\"BasicTicker\"},{\"attributes\":{\"fill_alpha\":{\"value\":0.1},\"fill_color\":{\"value\":\"green\"},\"line_alpha\":{\"value\":0.1},\"line_color\":{\"value\":\"green\"},\"x\":{\"field\":\"sepal_width\"},\"y\":{\"field\":\"sepal_length\"}},\"id\":\"4935\",\"type\":\"Circle\"},{\"attributes\":{\"data_source\":{\"id\":\"4823\"},\"glyph\":{\"id\":\"4896\"},\"hover_glyph\":null,\"muted_glyph\":null,\"nonselection_glyph\":{\"id\":\"4897\"},\"selection_glyph\":null,\"view\":{\"id\":\"4899\"}},\"id\":\"4898\",\"type\":\"GlyphRenderer\"},{\"attributes\":{\"fill_alpha\":{\"value\":0.1},\"fill_color\":{\"value\":\"blue\"},\"line_alpha\":{\"value\":0.1},\"line_color\":{\"value\":\"blue\"},\"x\":{\"field\":\"petal_length\"},\"y\":{\"field\":\"petal_width\"}},\"id\":\"4897\",\"type\":\"Circle\"},{\"attributes\":{\"text\":\"Sepal Width vs. Sepal Length\"},\"id\":\"4901\",\"type\":\"Title\"},{\"attributes\":{},\"id\":\"4903\",\"type\":\"DataRange1d\"},{\"attributes\":{},\"id\":\"4905\",\"type\":\"DataRange1d\"},{\"attributes\":{},\"id\":\"4907\",\"type\":\"LinearScale\"},{\"attributes\":{},\"id\":\"4909\",\"type\":\"LinearScale\"},{\"attributes\":{\"overlay\":{\"id\":\"4963\"}},\"id\":\"4959\",\"type\":\"BoxZoomTool\"},{\"attributes\":{\"axis_label\":\"Sepal Width\",\"formatter\":{\"id\":\"4998\"},\"ticker\":{\"id\":\"4912\"}},\"id\":\"4911\",\"type\":\"LinearAxis\"},{\"attributes\":{},\"id\":\"4912\",\"type\":\"BasicTicker\"},{\"attributes\":{\"axis\":{\"id\":\"4911\"},\"ticker\":null},\"id\":\"4914\",\"type\":\"Grid\"},{\"attributes\":{},\"id\":\"4961\",\"type\":\"ResetTool\"},{\"attributes\":{\"axis_label\":\"Sepal Length\",\"formatter\":{\"id\":\"4996\"},\"ticker\":{\"id\":\"4916\"}},\"id\":\"4915\",\"type\":\"LinearAxis\"},{\"attributes\":{},\"id\":\"4960\",\"type\":\"SaveTool\"},{\"attributes\":{},\"id\":\"4916\",\"type\":\"BasicTicker\"},{\"attributes\":{\"axis\":{\"id\":\"4915\"},\"dimension\":1,\"ticker\":null},\"id\":\"4918\",\"type\":\"Grid\"},{\"attributes\":{},\"id\":\"4962\",\"type\":\"HelpTool\"},{\"attributes\":{\"fill_color\":{\"value\":\"green\"},\"line_color\":{\"value\":\"green\"},\"x\":{\"field\":\"sepal_width\"},\"y\":{\"field\":\"sepal_length\"}},\"id\":\"4934\",\"type\":\"Circle\"},{\"attributes\":{\"below\":[{\"id\":\"4949\"}],\"center\":[{\"id\":\"4952\"},{\"id\":\"4956\"}],\"left\":[{\"id\":\"4953\"}],\"plot_height\":400,\"plot_width\":400,\"renderers\":[{\"id\":\"4974\"}],\"title\":{\"id\":\"4939\"},\"toolbar\":{\"id\":\"4964\"},\"toolbar_location\":null,\"x_range\":{\"id\":\"4941\"},\"x_scale\":{\"id\":\"4945\"},\"y_range\":{\"id\":\"4943\"},\"y_scale\":{\"id\":\"4947\"}},\"id\":\"4938\",\"subtype\":\"Figure\",\"type\":\"Plot\"},{\"attributes\":{},\"id\":\"4919\",\"type\":\"PanTool\"},{\"attributes\":{},\"id\":\"4920\",\"type\":\"WheelZoomTool\"},{\"attributes\":{},\"id\":\"4958\",\"type\":\"WheelZoomTool\"},{\"attributes\":{\"overlay\":{\"id\":\"4925\"}},\"id\":\"4921\",\"type\":\"BoxZoomTool\"},{\"attributes\":{},\"id\":\"4922\",\"type\":\"SaveTool\"},{\"attributes\":{},\"id\":\"4923\",\"type\":\"ResetTool\"},{\"attributes\":{\"below\":[{\"id\":\"4835\"}],\"center\":[{\"id\":\"4838\"},{\"id\":\"4842\"}],\"left\":[{\"id\":\"4839\"}],\"plot_height\":400,\"plot_width\":400,\"renderers\":[{\"id\":\"4860\"}],\"title\":{\"id\":\"4825\"},\"toolbar\":{\"id\":\"4850\"},\"toolbar_location\":null,\"x_range\":{\"id\":\"4827\"},\"x_scale\":{\"id\":\"4831\"},\"y_range\":{\"id\":\"4829\"},\"y_scale\":{\"id\":\"4833\"}},\"id\":\"4824\",\"subtype\":\"Figure\",\"type\":\"Plot\"},{\"attributes\":{},\"id\":\"4924\",\"type\":\"HelpTool\"},{\"attributes\":{\"active_drag\":\"auto\",\"active_inspect\":\"auto\",\"active_multi\":null,\"active_scroll\":\"auto\",\"active_tap\":\"auto\",\"tools\":[{\"id\":\"4919\"},{\"id\":\"4920\"},{\"id\":\"4921\"},{\"id\":\"4922\"},{\"id\":\"4923\"},{\"id\":\"4924\"}]},\"id\":\"4926\",\"type\":\"Toolbar\"},{\"attributes\":{},\"id\":\"4827\",\"type\":\"DataRange1d\"},{\"attributes\":{},\"id\":\"4978\",\"type\":\"BasicTickFormatter\"},{\"attributes\":{\"source\":{\"id\":\"4823\"}},\"id\":\"4861\",\"type\":\"CDSView\"},{\"attributes\":{},\"id\":\"4829\",\"type\":\"DataRange1d\"},{\"attributes\":{\"fill_color\":{\"value\":\"blue\"},\"line_color\":{\"value\":\"blue\"},\"x\":{\"field\":\"petal_length\"},\"y\":{\"field\":\"petal_width\"}},\"id\":\"4896\",\"type\":\"Circle\"},{\"attributes\":{\"active_drag\":\"auto\",\"active_inspect\":\"auto\",\"active_multi\":null,\"active_scroll\":\"auto\",\"active_tap\":\"auto\",\"tools\":[{\"id\":\"4881\"},{\"id\":\"4882\"},{\"id\":\"4883\"},{\"id\":\"4884\"},{\"id\":\"4885\"},{\"id\":\"4886\"}]},\"id\":\"4888\",\"type\":\"Toolbar\"},{\"attributes\":{\"text\":\"Petal Length vs. Sepal Length\"},\"id\":\"4825\",\"type\":\"Title\"},{\"attributes\":{\"fill_color\":{\"value\":\"red\"},\"line_color\":{\"value\":\"red\"},\"x\":{\"field\":\"petal_length\"},\"y\":{\"field\":\"sepal_length\"}},\"id\":\"4858\",\"type\":\"Circle\"},{\"attributes\":{},\"id\":\"4831\",\"type\":\"LinearScale\"},{\"attributes\":{\"data_source\":{\"id\":\"4823\"},\"glyph\":{\"id\":\"4972\"},\"hover_glyph\":null,\"muted_glyph\":null,\"nonselection_glyph\":{\"id\":\"4973\"},\"selection_glyph\":null,\"view\":{\"id\":\"4975\"}},\"id\":\"4974\",\"type\":\"GlyphRenderer\"},{\"attributes\":{},\"id\":\"4833\",\"type\":\"LinearScale\"},{\"attributes\":{\"fill_alpha\":{\"value\":0.1},\"fill_color\":{\"value\":\"gold\"},\"line_alpha\":{\"value\":0.1},\"line_color\":{\"value\":\"gold\"},\"x\":{\"field\":\"sepal_width\"},\"y\":{\"field\":\"petal_width\"}},\"id\":\"4973\",\"type\":\"Circle\"},{\"attributes\":{\"axis_label\":\"Petal Length\",\"formatter\":{\"id\":\"4980\"},\"ticker\":{\"id\":\"4836\"}},\"id\":\"4835\",\"type\":\"LinearAxis\"},{\"attributes\":{\"bottom_units\":\"screen\",\"fill_alpha\":0.5,\"fill_color\":\"lightgrey\",\"left_units\":\"screen\",\"level\":\"overlay\",\"line_alpha\":1.0,\"line_color\":\"black\",\"line_dash\":[4,4],\"line_width\":2,\"right_units\":\"screen\",\"top_units\":\"screen\"},\"id\":\"4925\",\"type\":\"BoxAnnotation\"},{\"attributes\":{},\"id\":\"4836\",\"type\":\"BasicTicker\"},{\"attributes\":{\"source\":{\"id\":\"4823\"}},\"id\":\"4937\",\"type\":\"CDSView\"},{\"attributes\":{\"axis\":{\"id\":\"4835\"},\"ticker\":null},\"id\":\"4838\",\"type\":\"Grid\"},{\"attributes\":{\"toolbars\":[{\"id\":\"4850\"},{\"id\":\"4888\"},{\"id\":\"4926\"},{\"id\":\"4964\"}],\"tools\":[{\"id\":\"4843\"},{\"id\":\"4844\"},{\"id\":\"4845\"},{\"id\":\"4846\"},{\"id\":\"4847\"},{\"id\":\"4848\"},{\"id\":\"4881\"},{\"id\":\"4882\"},{\"id\":\"4883\"},{\"id\":\"4884\"},{\"id\":\"4885\"},{\"id\":\"4886\"},{\"id\":\"4919\"},{\"id\":\"4920\"},{\"id\":\"4921\"},{\"id\":\"4922\"},{\"id\":\"4923\"},{\"id\":\"4924\"},{\"id\":\"4957\"},{\"id\":\"4958\"},{\"id\":\"4959\"},{\"id\":\"4960\"},{\"id\":\"4961\"},{\"id\":\"4962\"}]},\"id\":\"5013\",\"type\":\"ProxyToolbar\"},{\"attributes\":{\"source\":{\"id\":\"4823\"}},\"id\":\"4975\",\"type\":\"CDSView\"},{\"attributes\":{\"axis_label\":\"Sepal Length\",\"formatter\":{\"id\":\"4978\"},\"ticker\":{\"id\":\"4840\"}},\"id\":\"4839\",\"type\":\"LinearAxis\"},{\"attributes\":{},\"id\":\"4840\",\"type\":\"BasicTicker\"},{\"attributes\":{\"children\":[[{\"id\":\"4824\"},0,0],[{\"id\":\"4862\"},0,1],[{\"id\":\"4900\"},1,0],[{\"id\":\"4938\"},1,1]]},\"id\":\"5012\",\"type\":\"GridBox\"},{\"attributes\":{\"data_source\":{\"id\":\"4823\"},\"glyph\":{\"id\":\"4934\"},\"hover_glyph\":null,\"muted_glyph\":null,\"nonselection_glyph\":{\"id\":\"4935\"},\"selection_glyph\":null,\"view\":{\"id\":\"4937\"}},\"id\":\"4936\",\"type\":\"GlyphRenderer\"},{\"attributes\":{\"axis\":{\"id\":\"4839\"},\"dimension\":1,\"ticker\":null},\"id\":\"4842\",\"type\":\"Grid\"},{\"attributes\":{\"text\":\"Sepal Width vs. Petal Width\"},\"id\":\"4939\",\"type\":\"Title\"},{\"attributes\":{},\"id\":\"4941\",\"type\":\"DataRange1d\"},{\"attributes\":{\"data_source\":{\"id\":\"4823\"},\"glyph\":{\"id\":\"4858\"},\"hover_glyph\":null,\"muted_glyph\":null,\"nonselection_glyph\":{\"id\":\"4859\"},\"selection_glyph\":null,\"view\":{\"id\":\"4861\"}},\"id\":\"4860\",\"type\":\"GlyphRenderer\"},{\"attributes\":{},\"id\":\"4943\",\"type\":\"DataRange1d\"},{\"attributes\":{\"below\":[{\"id\":\"4873\"}],\"center\":[{\"id\":\"4876\"},{\"id\":\"4880\"}],\"left\":[{\"id\":\"4877\"}],\"plot_height\":400,\"plot_width\":400,\"renderers\":[{\"id\":\"4898\"}],\"title\":{\"id\":\"4863\"},\"toolbar\":{\"id\":\"4888\"},\"toolbar_location\":null,\"x_range\":{\"id\":\"4865\"},\"x_scale\":{\"id\":\"4869\"},\"y_range\":{\"id\":\"4867\"},\"y_scale\":{\"id\":\"4871\"}},\"id\":\"4862\",\"subtype\":\"Figure\",\"type\":\"Plot\"},{\"attributes\":{},\"id\":\"4945\",\"type\":\"LinearScale\"},{\"attributes\":{\"text\":\"Petal Length vs. Petal Width\"},\"id\":\"4863\",\"type\":\"Title\"},{\"attributes\":{},\"id\":\"4843\",\"type\":\"PanTool\"},{\"attributes\":{},\"id\":\"4947\",\"type\":\"LinearScale\"},{\"attributes\":{},\"id\":\"4844\",\"type\":\"WheelZoomTool\"},{\"attributes\":{\"axis_label\":\"Sepal Width\",\"formatter\":{\"id\":\"5007\"},\"ticker\":{\"id\":\"4950\"}},\"id\":\"4949\",\"type\":\"LinearAxis\"},{\"attributes\":{\"overlay\":{\"id\":\"4849\"}},\"id\":\"4845\",\"type\":\"BoxZoomTool\"},{\"attributes\":{},\"id\":\"4950\",\"type\":\"BasicTicker\"},{\"attributes\":{},\"id\":\"4846\",\"type\":\"SaveTool\"},{\"attributes\":{},\"id\":\"4980\",\"type\":\"BasicTickFormatter\"},{\"attributes\":{},\"id\":\"4847\",\"type\":\"ResetTool\"},{\"attributes\":{},\"id\":\"4982\",\"type\":\"Selection\"},{\"attributes\":{},\"id\":\"4848\",\"type\":\"HelpTool\"},{\"attributes\":{},\"id\":\"4865\",\"type\":\"DataRange1d\"},{\"attributes\":{\"active_drag\":\"auto\",\"active_inspect\":\"auto\",\"active_multi\":null,\"active_scroll\":\"auto\",\"active_tap\":\"auto\",\"tools\":[{\"id\":\"4843\"},{\"id\":\"4844\"},{\"id\":\"4845\"},{\"id\":\"4846\"},{\"id\":\"4847\"},{\"id\":\"4848\"}]},\"id\":\"4850\",\"type\":\"Toolbar\"},{\"attributes\":{},\"id\":\"4983\",\"type\":\"UnionRenderers\"},{\"attributes\":{\"toolbar\":{\"id\":\"5013\"},\"toolbar_location\":\"above\"},\"id\":\"5014\",\"type\":\"ToolbarBox\"},{\"attributes\":{},\"id\":\"4987\",\"type\":\"BasicTickFormatter\"},{\"attributes\":{\"below\":[{\"id\":\"4911\"}],\"center\":[{\"id\":\"4914\"},{\"id\":\"4918\"}],\"left\":[{\"id\":\"4915\"}],\"plot_height\":400,\"plot_width\":400,\"renderers\":[{\"id\":\"4936\"}],\"title\":{\"id\":\"4901\"},\"toolbar\":{\"id\":\"4926\"},\"toolbar_location\":null,\"x_range\":{\"id\":\"4903\"},\"x_scale\":{\"id\":\"4907\"},\"y_range\":{\"id\":\"4905\"},\"y_scale\":{\"id\":\"4909\"}},\"id\":\"4900\",\"subtype\":\"Figure\",\"type\":\"Plot\"},{\"attributes\":{\"axis\":{\"id\":\"4949\"},\"ticker\":null},\"id\":\"4952\",\"type\":\"Grid\"},{\"attributes\":{},\"id\":\"4989\",\"type\":\"BasicTickFormatter\"},{\"attributes\":{},\"id\":\"4996\",\"type\":\"BasicTickFormatter\"},{\"attributes\":{\"bottom_units\":\"screen\",\"fill_alpha\":0.5,\"fill_color\":\"lightgrey\",\"left_units\":\"screen\",\"level\":\"overlay\",\"line_alpha\":1.0,\"line_color\":\"black\",\"line_dash\":[4,4],\"line_width\":2,\"right_units\":\"screen\",\"top_units\":\"screen\"},\"id\":\"4849\",\"type\":\"BoxAnnotation\"},{\"attributes\":{\"fill_color\":{\"value\":\"gold\"},\"line_color\":{\"value\":\"gold\"},\"x\":{\"field\":\"sepal_width\"},\"y\":{\"field\":\"petal_width\"}},\"id\":\"4972\",\"type\":\"Circle\"},{\"attributes\":{},\"id\":\"4998\",\"type\":\"BasicTickFormatter\"},{\"attributes\":{\"bottom_units\":\"screen\",\"fill_alpha\":0.5,\"fill_color\":\"lightgrey\",\"left_units\":\"screen\",\"level\":\"overlay\",\"line_alpha\":1.0,\"line_color\":\"black\",\"line_dash\":[4,4],\"line_width\":2,\"right_units\":\"screen\",\"top_units\":\"screen\"},\"id\":\"4963\",\"type\":\"BoxAnnotation\"},{\"attributes\":{},\"id\":\"4871\",\"type\":\"LinearScale\"},{\"attributes\":{\"axis_label\":\"Petal Length\",\"formatter\":{\"id\":\"4989\"},\"ticker\":{\"id\":\"4874\"}},\"id\":\"4873\",\"type\":\"LinearAxis\"},{\"attributes\":{},\"id\":\"4867\",\"type\":\"DataRange1d\"},{\"attributes\":{},\"id\":\"4869\",\"type\":\"LinearScale\"},{\"attributes\":{},\"id\":\"4874\",\"type\":\"BasicTicker\"},{\"attributes\":{\"axis\":{\"id\":\"4873\"},\"ticker\":null},\"id\":\"4876\",\"type\":\"Grid\"},{\"attributes\":{\"axis_label\":\"Petal Width\",\"formatter\":{\"id\":\"4987\"},\"ticker\":{\"id\":\"4878\"}},\"id\":\"4877\",\"type\":\"LinearAxis\"},{\"attributes\":{\"data\":{\"index\":[0,1,2,3,4,5,6,7,8,9,10,11,12,13,14,15,16,17,18,19,20,21,22,23,24,25,26,27,28,29,30,31,32,33,34,35,36,37,38,39,40,41,42,43,44,45,46,47,48,49,50,51,52,53,54,55,56,57,58,59,60,61,62,63,64,65,66,67,68,69,70,71,72,73,74,75,76,77,78,79,80,81,82,83,84,85,86,87,88,89,90,91,92,93,94,95,96,97,98,99,100,101,102,103,104,105,106,107,108,109,110,111,112,113,114,115,116,117,118,119,120,121,122,123,124,125,126,127,128,129,130,131,132,133,134,135,136,137,138,139,140,141,142,143,144,145,146,147,148,149],\"petal_length\":{\"__ndarray__\":\"ZmZmZmZm9j9mZmZmZmb2P83MzMzMzPQ/AAAAAAAA+D9mZmZmZmb2PzMzMzMzM/s/ZmZmZmZm9j8AAAAAAAD4P2ZmZmZmZvY/AAAAAAAA+D8AAAAAAAD4P5qZmZmZmfk/ZmZmZmZm9j+amZmZmZnxPzMzMzMzM/M/AAAAAAAA+D/NzMzMzMz0P2ZmZmZmZvY/MzMzMzMz+z8AAAAAAAD4PzMzMzMzM/s/AAAAAAAA+D8AAAAAAADwPzMzMzMzM/s/ZmZmZmZm/j+amZmZmZn5P5qZmZmZmfk/AAAAAAAA+D9mZmZmZmb2P5qZmZmZmfk/mpmZmZmZ+T8AAAAAAAD4PwAAAAAAAPg/ZmZmZmZm9j8AAAAAAAD4PzMzMzMzM/M/zczMzMzM9D9mZmZmZmb2P83MzMzMzPQ/AAAAAAAA+D/NzMzMzMz0P83MzMzMzPQ/zczMzMzM9D+amZmZmZn5P2ZmZmZmZv4/ZmZmZmZm9j+amZmZmZn5P2ZmZmZmZvY/AAAAAAAA+D9mZmZmZmb2P83MzMzMzBJAAAAAAAAAEkCamZmZmZkTQAAAAAAAABBAZmZmZmZmEkAAAAAAAAASQM3MzMzMzBJAZmZmZmZmCkBmZmZmZmYSQDMzMzMzMw9AAAAAAAAADEDNzMzMzMwQQAAAAAAAABBAzczMzMzMEkDNzMzMzMwMQJqZmZmZmRFAAAAAAAAAEkBmZmZmZmYQQAAAAAAAABJAMzMzMzMzD0AzMzMzMzMTQAAAAAAAABBAmpmZmZmZE0DNzMzMzMwSQDMzMzMzMxFAmpmZmZmZEUAzMzMzMzMTQAAAAAAAABRAAAAAAAAAEkAAAAAAAAAMQGZmZmZmZg5AmpmZmZmZDUAzMzMzMzMPQGZmZmZmZhRAAAAAAAAAEkAAAAAAAAASQM3MzMzMzBJAmpmZmZmZEUBmZmZmZmYQQAAAAAAAABBAmpmZmZmZEUBmZmZmZmYSQAAAAAAAABBAZmZmZmZmCkDNzMzMzMwQQM3MzMzMzBBAzczMzMzMEEAzMzMzMzMRQAAAAAAAAAhAZmZmZmZmEEAAAAAAAAAYQGZmZmZmZhRAmpmZmZmZF0BmZmZmZmYWQDMzMzMzMxdAZmZmZmZmGkAAAAAAAAASQDMzMzMzMxlAMzMzMzMzF0BmZmZmZmYYQGZmZmZmZhRAMzMzMzMzFUAAAAAAAAAWQAAAAAAAABRAZmZmZmZmFEAzMzMzMzMVQAAAAAAAABZAzczMzMzMGkCamZmZmZkbQAAAAAAAABRAzczMzMzMFkCamZmZmZkTQM3MzMzMzBpAmpmZmZmZE0DNzMzMzMwWQAAAAAAAABhAMzMzMzMzE0CamZmZmZkTQGZmZmZmZhZAMzMzMzMzF0BmZmZmZmYYQJqZmZmZmRlAZmZmZmZmFkBmZmZmZmYUQGZmZmZmZhZAZmZmZmZmGEBmZmZmZmYWQAAAAAAAABZAMzMzMzMzE0CamZmZmZkVQGZmZmZmZhZAZmZmZmZmFEBmZmZmZmYUQJqZmZmZmRdAzczMzMzMFkDNzMzMzMwUQAAAAAAAABRAzczMzMzMFECamZmZmZkVQGZmZmZmZhRA\",\"dtype\":\"float64\",\"order\":\"little\",\"shape\":[150]},\"petal_width\":{\"__ndarray__\":\"mpmZmZmZyT+amZmZmZnJP5qZmZmZmck/mpmZmZmZyT+amZmZmZnJP5qZmZmZmdk/MzMzMzMz0z+amZmZmZnJP5qZmZmZmck/mpmZmZmZuT+amZmZmZnJP5qZmZmZmck/mpmZmZmZuT+amZmZmZm5P5qZmZmZmck/mpmZmZmZ2T+amZmZmZnZPzMzMzMzM9M/MzMzMzMz0z8zMzMzMzPTP5qZmZmZmck/mpmZmZmZ2T+amZmZmZnJPwAAAAAAAOA/mpmZmZmZyT+amZmZmZnJP5qZmZmZmdk/mpmZmZmZyT+amZmZmZnJP5qZmZmZmck/mpmZmZmZyT+amZmZmZnZP5qZmZmZmbk/mpmZmZmZyT+amZmZmZnJP5qZmZmZmck/mpmZmZmZyT+amZmZmZm5P5qZmZmZmck/mpmZmZmZyT8zMzMzMzPTPzMzMzMzM9M/mpmZmZmZyT8zMzMzMzPjP5qZmZmZmdk/MzMzMzMz0z+amZmZmZnJP5qZmZmZmck/mpmZmZmZyT+amZmZmZnJP2ZmZmZmZvY/AAAAAAAA+D8AAAAAAAD4P83MzMzMzPQ/AAAAAAAA+D/NzMzMzMz0P5qZmZmZmfk/AAAAAAAA8D/NzMzMzMz0P2ZmZmZmZvY/AAAAAAAA8D8AAAAAAAD4PwAAAAAAAPA/ZmZmZmZm9j/NzMzMzMz0P2ZmZmZmZvY/AAAAAAAA+D8AAAAAAADwPwAAAAAAAPg/mpmZmZmZ8T/NzMzMzMz8P83MzMzMzPQ/AAAAAAAA+D8zMzMzMzPzP83MzMzMzPQ/ZmZmZmZm9j9mZmZmZmb2PzMzMzMzM/s/AAAAAAAA+D8AAAAAAADwP5qZmZmZmfE/AAAAAAAA8D8zMzMzMzPzP5qZmZmZmfk/AAAAAAAA+D+amZmZmZn5PwAAAAAAAPg/zczMzMzM9D/NzMzMzMz0P83MzMzMzPQ/MzMzMzMz8z9mZmZmZmb2PzMzMzMzM/M/AAAAAAAA8D/NzMzMzMz0PzMzMzMzM/M/zczMzMzM9D/NzMzMzMz0P5qZmZmZmfE/zczMzMzM9D8AAAAAAAAEQGZmZmZmZv4/zczMzMzMAEDNzMzMzMz8P5qZmZmZmQFAzczMzMzMAEAzMzMzMzP7P83MzMzMzPw/zczMzMzM/D8AAAAAAAAEQAAAAAAAAABAZmZmZmZm/j/NzMzMzMwAQAAAAAAAAABAMzMzMzMzA0BmZmZmZmYCQM3MzMzMzPw/mpmZmZmZAUBmZmZmZmYCQAAAAAAAAPg/ZmZmZmZmAkAAAAAAAAAAQAAAAAAAAABAzczMzMzM/D/NzMzMzMwAQM3MzMzMzPw/zczMzMzM/D/NzMzMzMz8P83MzMzMzABAmpmZmZmZ+T9mZmZmZmb+PwAAAAAAAABAmpmZmZmZAUAAAAAAAAD4P2ZmZmZmZvY/ZmZmZmZmAkAzMzMzMzMDQM3MzMzMzPw/zczMzMzM/D/NzMzMzMwAQDMzMzMzMwNAZmZmZmZmAkBmZmZmZmb+P2ZmZmZmZgJAAAAAAAAABEBmZmZmZmYCQGZmZmZmZv4/AAAAAAAAAEBmZmZmZmYCQM3MzMzMzPw/\",\"dtype\":\"float64\",\"order\":\"little\",\"shape\":[150]},\"sepal_length\":{\"__ndarray__\":\"ZmZmZmZmFECamZmZmZkTQM3MzMzMzBJAZmZmZmZmEkAAAAAAAAAUQJqZmZmZmRVAZmZmZmZmEkAAAAAAAAAUQJqZmZmZmRFAmpmZmZmZE0CamZmZmZkVQDMzMzMzMxNAMzMzMzMzE0AzMzMzMzMRQDMzMzMzMxdAzczMzMzMFkCamZmZmZkVQGZmZmZmZhRAzczMzMzMFkBmZmZmZmYUQJqZmZmZmRVAZmZmZmZmFEBmZmZmZmYSQGZmZmZmZhRAMzMzMzMzE0AAAAAAAAAUQAAAAAAAABRAzczMzMzMFEDNzMzMzMwUQM3MzMzMzBJAMzMzMzMzE0CamZmZmZkVQM3MzMzMzBRAAAAAAAAAFkCamZmZmZkTQAAAAAAAABRAAAAAAAAAFkCamZmZmZkTQJqZmZmZmRFAZmZmZmZmFEAAAAAAAAAUQAAAAAAAABJAmpmZmZmZEUAAAAAAAAAUQGZmZmZmZhRAMzMzMzMzE0BmZmZmZmYUQGZmZmZmZhJAMzMzMzMzFUAAAAAAAAAUQAAAAAAAABxAmpmZmZmZGUCamZmZmZkbQAAAAAAAABZAAAAAAAAAGkDNzMzMzMwWQDMzMzMzMxlAmpmZmZmZE0BmZmZmZmYaQM3MzMzMzBRAAAAAAAAAFECamZmZmZkXQAAAAAAAABhAZmZmZmZmGEBmZmZmZmYWQM3MzMzMzBpAZmZmZmZmFkAzMzMzMzMXQM3MzMzMzBhAZmZmZmZmFkCamZmZmZkXQGZmZmZmZhhAMzMzMzMzGUBmZmZmZmYYQJqZmZmZmRlAZmZmZmZmGkAzMzMzMzMbQM3MzMzMzBpAAAAAAAAAGEDNzMzMzMwWQAAAAAAAABZAAAAAAAAAFkAzMzMzMzMXQAAAAAAAABhAmpmZmZmZFUAAAAAAAAAYQM3MzMzMzBpAMzMzMzMzGUBmZmZmZmYWQAAAAAAAABZAAAAAAAAAFkBmZmZmZmYYQDMzMzMzMxdAAAAAAAAAFEBmZmZmZmYWQM3MzMzMzBZAzczMzMzMFkDNzMzMzMwYQGZmZmZmZhRAzczMzMzMFkAzMzMzMzMZQDMzMzMzMxdAZmZmZmZmHEAzMzMzMzMZQAAAAAAAABpAZmZmZmZmHkCamZmZmZkTQDMzMzMzMx1AzczMzMzMGkDNzMzMzMwcQAAAAAAAABpAmpmZmZmZGUAzMzMzMzMbQM3MzMzMzBZAMzMzMzMzF0CamZmZmZkZQAAAAAAAABpAzczMzMzMHkDNzMzMzMweQAAAAAAAABhAmpmZmZmZG0BmZmZmZmYWQM3MzMzMzB5AMzMzMzMzGUDNzMzMzMwaQM3MzMzMzBxAzczMzMzMGEBmZmZmZmYYQJqZmZmZmRlAzczMzMzMHECamZmZmZkdQJqZmZmZmR9AmpmZmZmZGUAzMzMzMzMZQGZmZmZmZhhAzczMzMzMHkAzMzMzMzMZQJqZmZmZmRlAAAAAAAAAGECamZmZmZkbQM3MzMzMzBpAmpmZmZmZG0AzMzMzMzMXQDMzMzMzMxtAzczMzMzMGkDNzMzMzMwaQDMzMzMzMxlAAAAAAAAAGkDNzMzMzMwYQJqZmZmZmRdA\",\"dtype\":\"float64\",\"order\":\"little\",\"shape\":[150]},\"sepal_width\":{\"__ndarray__\":\"AAAAAAAADEAAAAAAAAAIQJqZmZmZmQlAzczMzMzMCEDNzMzMzMwMQDMzMzMzMw9AMzMzMzMzC0AzMzMzMzMLQDMzMzMzMwdAzczMzMzMCECamZmZmZkNQDMzMzMzMwtAAAAAAAAACEAAAAAAAAAIQAAAAAAAABBAmpmZmZmZEUAzMzMzMzMPQAAAAAAAAAxAZmZmZmZmDkBmZmZmZmYOQDMzMzMzMwtAmpmZmZmZDUDNzMzMzMwMQGZmZmZmZgpAMzMzMzMzC0AAAAAAAAAIQDMzMzMzMwtAAAAAAAAADEAzMzMzMzMLQJqZmZmZmQlAzczMzMzMCEAzMzMzMzMLQGZmZmZmZhBAzczMzMzMEEDNzMzMzMwIQJqZmZmZmQlAAAAAAAAADEDNzMzMzMwMQAAAAAAAAAhAMzMzMzMzC0AAAAAAAAAMQGZmZmZmZgJAmpmZmZmZCUAAAAAAAAAMQGZmZmZmZg5AAAAAAAAACEBmZmZmZmYOQJqZmZmZmQlAmpmZmZmZDUBmZmZmZmYKQJqZmZmZmQlAmpmZmZmZCUDNzMzMzMwIQGZmZmZmZgJAZmZmZmZmBkBmZmZmZmYGQGZmZmZmZgpAMzMzMzMzA0AzMzMzMzMHQJqZmZmZmQVAAAAAAAAAAEAAAAAAAAAIQJqZmZmZmQFAMzMzMzMzB0AzMzMzMzMHQM3MzMzMzAhAAAAAAAAACECamZmZmZkFQJqZmZmZmQFAAAAAAAAABECamZmZmZkJQGZmZmZmZgZAAAAAAAAABEBmZmZmZmYGQDMzMzMzMwdAAAAAAAAACEBmZmZmZmYGQAAAAAAAAAhAMzMzMzMzB0DNzMzMzMwEQDMzMzMzMwNAMzMzMzMzA0CamZmZmZkFQJqZmZmZmQVAAAAAAAAACEAzMzMzMzMLQM3MzMzMzAhAZmZmZmZmAkAAAAAAAAAIQAAAAAAAAARAzczMzMzMBEAAAAAAAAAIQM3MzMzMzARAZmZmZmZmAkCamZmZmZkFQAAAAAAAAAhAMzMzMzMzB0AzMzMzMzMHQAAAAAAAAARAZmZmZmZmBkBmZmZmZmYKQJqZmZmZmQVAAAAAAAAACEAzMzMzMzMHQAAAAAAAAAhAAAAAAAAACEAAAAAAAAAEQDMzMzMzMwdAAAAAAAAABEDNzMzMzMwMQJqZmZmZmQlAmpmZmZmZBUAAAAAAAAAIQAAAAAAAAARAZmZmZmZmBkCamZmZmZkJQAAAAAAAAAhAZmZmZmZmDkDNzMzMzMwEQJqZmZmZmQFAmpmZmZmZCUBmZmZmZmYGQGZmZmZmZgZAmpmZmZmZBUBmZmZmZmYKQJqZmZmZmQlAZmZmZmZmBkAAAAAAAAAIQGZmZmZmZgZAAAAAAAAACEBmZmZmZmYGQGZmZmZmZg5AZmZmZmZmBkBmZmZmZmYGQM3MzMzMzARAAAAAAAAACEAzMzMzMzMLQM3MzMzMzAhAAAAAAAAACEDNzMzMzMwIQM3MzMzMzAhAzczMzMzMCECamZmZmZkFQJqZmZmZmQlAZmZmZmZmCkAAAAAAAAAIQAAAAAAAAARAAAAAAAAACEAzMzMzMzMLQAAAAAAAAAhA\",\"dtype\":\"float64\",\"order\":\"little\",\"shape\":[150]},\"species\":[\"setosa\",\"setosa\",\"setosa\",\"setosa\",\"setosa\",\"setosa\",\"setosa\",\"setosa\",\"setosa\",\"setosa\",\"setosa\",\"setosa\",\"setosa\",\"setosa\",\"setosa\",\"setosa\",\"setosa\",\"setosa\",\"setosa\",\"setosa\",\"setosa\",\"setosa\",\"setosa\",\"setosa\",\"setosa\",\"setosa\",\"setosa\",\"setosa\",\"setosa\",\"setosa\",\"setosa\",\"setosa\",\"setosa\",\"setosa\",\"setosa\",\"setosa\",\"setosa\",\"setosa\",\"setosa\",\"setosa\",\"setosa\",\"setosa\",\"setosa\",\"setosa\",\"setosa\",\"setosa\",\"setosa\",\"setosa\",\"setosa\",\"setosa\",\"versicolor\",\"versicolor\",\"versicolor\",\"versicolor\",\"versicolor\",\"versicolor\",\"versicolor\",\"versicolor\",\"versicolor\",\"versicolor\",\"versicolor\",\"versicolor\",\"versicolor\",\"versicolor\",\"versicolor\",\"versicolor\",\"versicolor\",\"versicolor\",\"versicolor\",\"versicolor\",\"versicolor\",\"versicolor\",\"versicolor\",\"versicolor\",\"versicolor\",\"versicolor\",\"versicolor\",\"versicolor\",\"versicolor\",\"versicolor\",\"versicolor\",\"versicolor\",\"versicolor\",\"versicolor\",\"versicolor\",\"versicolor\",\"versicolor\",\"versicolor\",\"versicolor\",\"versicolor\",\"versicolor\",\"versicolor\",\"versicolor\",\"versicolor\",\"versicolor\",\"versicolor\",\"versicolor\",\"versicolor\",\"versicolor\",\"versicolor\",\"virginica\",\"virginica\",\"virginica\",\"virginica\",\"virginica\",\"virginica\",\"virginica\",\"virginica\",\"virginica\",\"virginica\",\"virginica\",\"virginica\",\"virginica\",\"virginica\",\"virginica\",\"virginica\",\"virginica\",\"virginica\",\"virginica\",\"virginica\",\"virginica\",\"virginica\",\"virginica\",\"virginica\",\"virginica\",\"virginica\",\"virginica\",\"virginica\",\"virginica\",\"virginica\",\"virginica\",\"virginica\",\"virginica\",\"virginica\",\"virginica\",\"virginica\",\"virginica\",\"virginica\",\"virginica\",\"virginica\",\"virginica\",\"virginica\",\"virginica\",\"virginica\",\"virginica\",\"virginica\",\"virginica\",\"virginica\",\"virginica\",\"virginica\"]},\"selected\":{\"id\":\"4982\"},\"selection_policy\":{\"id\":\"4983\"}},\"id\":\"4823\",\"type\":\"ColumnDataSource\"}],\"root_ids\":[\"5015\"]},\"title\":\"Bokeh Application\",\"version\":\"2.1.1\"}};\n",
       "  var render_items = [{\"docid\":\"74fc9e6a-831c-4a35-8144-271ea900fe5f\",\"root_ids\":[\"5015\"],\"roots\":{\"5015\":\"92a9868f-21db-4a81-b51e-d8839332aaa6\"}}];\n",
       "  root.Bokeh.embed.embed_items_notebook(docs_json, render_items);\n",
       "\n",
       "  }\n",
       "  if (root.Bokeh !== undefined) {\n",
       "    embed_document(root);\n",
       "  } else {\n",
       "    var attempts = 0;\n",
       "    var timer = setInterval(function(root) {\n",
       "      if (root.Bokeh !== undefined) {\n",
       "        clearInterval(timer);\n",
       "        embed_document(root);\n",
       "      } else {\n",
       "        attempts++;\n",
       "        if (attempts > 100) {\n",
       "          clearInterval(timer);\n",
       "          console.log(\"Bokeh: ERROR: Unable to run BokehJS code because BokehJS library is missing\");\n",
       "        }\n",
       "      }\n",
       "    }, 10, root)\n",
       "  }\n",
       "})(window);"
      ],
      "application/vnd.bokehjs_exec.v0+json": ""
     },
     "metadata": {
      "application/vnd.bokehjs_exec.v0+json": {
       "id": "5015"
      }
     },
     "output_type": "display_data"
    }
   ],
   "source": [
    "from bokeh.layouts import gridplot\n",
    "source = ColumnDataSource(flowers)\n",
    "\n",
    "p1 = figure(plot_width=400, plot_height=400, \n",
    "            x_axis_label='Petal Length', y_axis_label='Sepal Length',\n",
    "           title='Petal Length vs. Sepal Length')\n",
    "p1.circle('petal_length', 'sepal_length', source=source, color='red')\n",
    "\n",
    "p2 = figure(plot_width=400, plot_height=400, \n",
    "            x_axis_label='Petal Length', y_axis_label='Petal Width',\n",
    "           title='Petal Length vs. Petal Width')\n",
    "p2.circle('petal_length', 'petal_width', source=source, color='blue')\n",
    "\n",
    "p3 = figure(plot_width=400, plot_height=400, \n",
    "            x_axis_label='Sepal Width', y_axis_label='Sepal Length',\n",
    "           title='Sepal Width vs. Sepal Length')\n",
    "p3.circle('sepal_width', 'sepal_length', source=source, color='green')\n",
    "\n",
    "p4 = figure(plot_width=400, plot_height=400, \n",
    "            x_axis_label='Sepal Width', y_axis_label='Petal Width',\n",
    "           title='Sepal Width vs. Petal Width')\n",
    "p4.circle('sepal_width', 'petal_width', source=source, color='gold')\n",
    "\n",
    "layout = gridplot([[p1, p2], [p3, p4]])\n",
    "show(layout)"
   ]
  },
  {
   "cell_type": "markdown",
   "metadata": {},
   "source": [
    "## 5) Linking Axes"
   ]
  },
  {
   "cell_type": "code",
   "execution_count": 41,
   "metadata": {},
   "outputs": [
    {
     "data": {
      "text/html": [
       "\n",
       "\n",
       "\n",
       "\n",
       "\n",
       "\n",
       "  <div class=\"bk-root\" id=\"9116cd52-6693-469f-82fb-f291688ebf69\" data-root-id=\"5588\"></div>\n"
      ]
     },
     "metadata": {},
     "output_type": "display_data"
    },
    {
     "data": {
      "application/javascript": [
       "(function(root) {\n",
       "  function embed_document(root) {\n",
       "    \n",
       "  var docs_json = {\"db1e0705-716a-404f-9233-a4c1b2c636a8\":{\"roots\":{\"references\":[{\"attributes\":{\"children\":[{\"id\":\"5587\"},{\"id\":\"5585\"}]},\"id\":\"5588\",\"type\":\"Column\"},{\"attributes\":{\"data_source\":{\"id\":\"5396\"},\"glyph\":{\"id\":\"5431\"},\"hover_glyph\":null,\"muted_glyph\":null,\"nonselection_glyph\":{\"id\":\"5432\"},\"selection_glyph\":null,\"view\":{\"id\":\"5434\"}},\"id\":\"5433\",\"type\":\"GlyphRenderer\"},{\"attributes\":{\"axis\":{\"id\":\"5484\"},\"ticker\":null},\"id\":\"5487\",\"type\":\"Grid\"},{\"attributes\":{\"axis\":{\"id\":\"5526\"},\"dimension\":1,\"ticker\":null},\"id\":\"5529\",\"type\":\"Grid\"},{\"attributes\":{\"source\":{\"id\":\"5396\"}},\"id\":\"5434\",\"type\":\"CDSView\"},{\"attributes\":{\"active_drag\":\"auto\",\"active_inspect\":\"auto\",\"active_multi\":null,\"active_scroll\":\"auto\",\"active_tap\":\"auto\",\"tools\":[{\"id\":\"5530\"},{\"id\":\"5531\"},{\"id\":\"5532\"},{\"id\":\"5533\"},{\"id\":\"5534\"},{\"id\":\"5535\"}]},\"id\":\"5537\",\"type\":\"Toolbar\"},{\"attributes\":{\"axis_label\":\"Sepal Width\",\"formatter\":{\"id\":\"5569\"},\"ticker\":{\"id\":\"5489\"}},\"id\":\"5488\",\"type\":\"LinearAxis\"},{\"attributes\":{\"fill_color\":{\"value\":\"red\"},\"line_color\":{\"value\":\"red\"},\"x\":{\"field\":\"petal_length\"},\"y\":{\"field\":\"sepal_length\"}},\"id\":\"5431\",\"type\":\"Circle\"},{\"attributes\":{\"bottom_units\":\"screen\",\"fill_alpha\":0.5,\"fill_color\":\"lightgrey\",\"left_units\":\"screen\",\"level\":\"overlay\",\"line_alpha\":1.0,\"line_color\":\"black\",\"line_dash\":[4,4],\"line_width\":2,\"right_units\":\"screen\",\"top_units\":\"screen\"},\"id\":\"5422\",\"type\":\"BoxAnnotation\"},{\"attributes\":{},\"id\":\"5419\",\"type\":\"SaveTool\"},{\"attributes\":{},\"id\":\"5489\",\"type\":\"BasicTicker\"},{\"attributes\":{},\"id\":\"5440\",\"type\":\"DataRange1d\"},{\"attributes\":{\"axis\":{\"id\":\"5488\"},\"dimension\":1,\"ticker\":null},\"id\":\"5491\",\"type\":\"Grid\"},{\"attributes\":{\"bottom_units\":\"screen\",\"fill_alpha\":0.5,\"fill_color\":\"lightgrey\",\"left_units\":\"screen\",\"level\":\"overlay\",\"line_alpha\":1.0,\"line_color\":\"black\",\"line_dash\":[4,4],\"line_width\":2,\"right_units\":\"screen\",\"top_units\":\"screen\"},\"id\":\"5536\",\"type\":\"BoxAnnotation\"},{\"attributes\":{},\"id\":\"5533\",\"type\":\"SaveTool\"},{\"attributes\":{\"fill_color\":{\"value\":\"green\"},\"line_color\":{\"value\":\"green\"},\"x\":{\"field\":\"sepal_length\"},\"y\":{\"field\":\"sepal_width\"}},\"id\":\"5507\",\"type\":\"Circle\"},{\"attributes\":{\"fill_alpha\":{\"value\":0.1},\"fill_color\":{\"value\":\"gold\"},\"line_alpha\":{\"value\":0.1},\"line_color\":{\"value\":\"gold\"},\"x\":{\"field\":\"sepal_width\"},\"y\":{\"field\":\"petal_width\"}},\"id\":\"5546\",\"type\":\"Circle\"},{\"attributes\":{\"source\":{\"id\":\"5396\"}},\"id\":\"5548\",\"type\":\"CDSView\"},{\"attributes\":{\"axis_label\":\"Petal Length\",\"formatter\":{\"id\":\"5553\"},\"ticker\":{\"id\":\"5409\"}},\"id\":\"5408\",\"type\":\"LinearAxis\"},{\"attributes\":{\"axis\":{\"id\":\"5412\"},\"dimension\":1,\"ticker\":null},\"id\":\"5415\",\"type\":\"Grid\"},{\"attributes\":{\"fill_alpha\":{\"value\":0.1},\"fill_color\":{\"value\":\"green\"},\"line_alpha\":{\"value\":0.1},\"line_color\":{\"value\":\"green\"},\"x\":{\"field\":\"sepal_length\"},\"y\":{\"field\":\"sepal_width\"}},\"id\":\"5508\",\"type\":\"Circle\"},{\"attributes\":{},\"id\":\"5562\",\"type\":\"BasicTickFormatter\"},{\"attributes\":{},\"id\":\"5492\",\"type\":\"PanTool\"},{\"attributes\":{},\"id\":\"5531\",\"type\":\"WheelZoomTool\"},{\"attributes\":{\"axis_label\":\"Sepal Length\",\"formatter\":{\"id\":\"5551\"},\"ticker\":{\"id\":\"5413\"}},\"id\":\"5412\",\"type\":\"LinearAxis\"},{\"attributes\":{},\"id\":\"5493\",\"type\":\"WheelZoomTool\"},{\"attributes\":{\"axis\":{\"id\":\"5408\"},\"ticker\":null},\"id\":\"5411\",\"type\":\"Grid\"},{\"attributes\":{},\"id\":\"5560\",\"type\":\"BasicTickFormatter\"},{\"attributes\":{\"data_source\":{\"id\":\"5396\"},\"glyph\":{\"id\":\"5545\"},\"hover_glyph\":null,\"muted_glyph\":null,\"nonselection_glyph\":{\"id\":\"5546\"},\"selection_glyph\":null,\"view\":{\"id\":\"5548\"}},\"id\":\"5547\",\"type\":\"GlyphRenderer\"},{\"attributes\":{\"overlay\":{\"id\":\"5498\"}},\"id\":\"5494\",\"type\":\"BoxZoomTool\"},{\"attributes\":{},\"id\":\"5569\",\"type\":\"BasicTickFormatter\"},{\"attributes\":{},\"id\":\"5417\",\"type\":\"WheelZoomTool\"},{\"attributes\":{},\"id\":\"5495\",\"type\":\"SaveTool\"},{\"attributes\":{},\"id\":\"5571\",\"type\":\"BasicTickFormatter\"},{\"attributes\":{},\"id\":\"5496\",\"type\":\"ResetTool\"},{\"attributes\":{},\"id\":\"5442\",\"type\":\"LinearScale\"},{\"attributes\":{},\"id\":\"5578\",\"type\":\"BasicTickFormatter\"},{\"attributes\":{},\"id\":\"5497\",\"type\":\"HelpTool\"},{\"attributes\":{\"below\":[{\"id\":\"5446\"}],\"center\":[{\"id\":\"5449\"},{\"id\":\"5453\"}],\"left\":[{\"id\":\"5450\"}],\"plot_height\":400,\"plot_width\":400,\"renderers\":[{\"id\":\"5471\"}],\"title\":{\"id\":\"5436\"},\"toolbar\":{\"id\":\"5461\"},\"toolbar_location\":null,\"x_range\":{\"id\":\"5400\"},\"x_scale\":{\"id\":\"5442\"},\"y_range\":{\"id\":\"5440\"},\"y_scale\":{\"id\":\"5444\"}},\"id\":\"5435\",\"subtype\":\"Figure\",\"type\":\"Plot\"},{\"attributes\":{\"active_drag\":\"auto\",\"active_inspect\":\"auto\",\"active_multi\":null,\"active_scroll\":\"auto\",\"active_tap\":\"auto\",\"tools\":[{\"id\":\"5492\"},{\"id\":\"5493\"},{\"id\":\"5494\"},{\"id\":\"5495\"},{\"id\":\"5496\"},{\"id\":\"5497\"}]},\"id\":\"5499\",\"type\":\"Toolbar\"},{\"attributes\":{},\"id\":\"5420\",\"type\":\"ResetTool\"},{\"attributes\":{\"children\":[[{\"id\":\"5397\"},0,0],[{\"id\":\"5435\"},0,1],[{\"id\":\"5473\"},1,0],[{\"id\":\"5511\"},1,1]]},\"id\":\"5585\",\"type\":\"GridBox\"},{\"attributes\":{},\"id\":\"5413\",\"type\":\"BasicTicker\"},{\"attributes\":{},\"id\":\"5556\",\"type\":\"UnionRenderers\"},{\"attributes\":{\"fill_color\":{\"value\":\"gold\"},\"line_color\":{\"value\":\"gold\"},\"x\":{\"field\":\"sepal_width\"},\"y\":{\"field\":\"petal_width\"}},\"id\":\"5545\",\"type\":\"Circle\"},{\"attributes\":{},\"id\":\"5444\",\"type\":\"LinearScale\"},{\"attributes\":{\"data\":{\"index\":[0,1,2,3,4,5,6,7,8,9,10,11,12,13,14,15,16,17,18,19,20,21,22,23,24,25,26,27,28,29,30,31,32,33,34,35,36,37,38,39,40,41,42,43,44,45,46,47,48,49,50,51,52,53,54,55,56,57,58,59,60,61,62,63,64,65,66,67,68,69,70,71,72,73,74,75,76,77,78,79,80,81,82,83,84,85,86,87,88,89,90,91,92,93,94,95,96,97,98,99,100,101,102,103,104,105,106,107,108,109,110,111,112,113,114,115,116,117,118,119,120,121,122,123,124,125,126,127,128,129,130,131,132,133,134,135,136,137,138,139,140,141,142,143,144,145,146,147,148,149],\"petal_length\":{\"__ndarray__\":\"ZmZmZmZm9j9mZmZmZmb2P83MzMzMzPQ/AAAAAAAA+D9mZmZmZmb2PzMzMzMzM/s/ZmZmZmZm9j8AAAAAAAD4P2ZmZmZmZvY/AAAAAAAA+D8AAAAAAAD4P5qZmZmZmfk/ZmZmZmZm9j+amZmZmZnxPzMzMzMzM/M/AAAAAAAA+D/NzMzMzMz0P2ZmZmZmZvY/MzMzMzMz+z8AAAAAAAD4PzMzMzMzM/s/AAAAAAAA+D8AAAAAAADwPzMzMzMzM/s/ZmZmZmZm/j+amZmZmZn5P5qZmZmZmfk/AAAAAAAA+D9mZmZmZmb2P5qZmZmZmfk/mpmZmZmZ+T8AAAAAAAD4PwAAAAAAAPg/ZmZmZmZm9j8AAAAAAAD4PzMzMzMzM/M/zczMzMzM9D9mZmZmZmb2P83MzMzMzPQ/AAAAAAAA+D/NzMzMzMz0P83MzMzMzPQ/zczMzMzM9D+amZmZmZn5P2ZmZmZmZv4/ZmZmZmZm9j+amZmZmZn5P2ZmZmZmZvY/AAAAAAAA+D9mZmZmZmb2P83MzMzMzBJAAAAAAAAAEkCamZmZmZkTQAAAAAAAABBAZmZmZmZmEkAAAAAAAAASQM3MzMzMzBJAZmZmZmZmCkBmZmZmZmYSQDMzMzMzMw9AAAAAAAAADEDNzMzMzMwQQAAAAAAAABBAzczMzMzMEkDNzMzMzMwMQJqZmZmZmRFAAAAAAAAAEkBmZmZmZmYQQAAAAAAAABJAMzMzMzMzD0AzMzMzMzMTQAAAAAAAABBAmpmZmZmZE0DNzMzMzMwSQDMzMzMzMxFAmpmZmZmZEUAzMzMzMzMTQAAAAAAAABRAAAAAAAAAEkAAAAAAAAAMQGZmZmZmZg5AmpmZmZmZDUAzMzMzMzMPQGZmZmZmZhRAAAAAAAAAEkAAAAAAAAASQM3MzMzMzBJAmpmZmZmZEUBmZmZmZmYQQAAAAAAAABBAmpmZmZmZEUBmZmZmZmYSQAAAAAAAABBAZmZmZmZmCkDNzMzMzMwQQM3MzMzMzBBAzczMzMzMEEAzMzMzMzMRQAAAAAAAAAhAZmZmZmZmEEAAAAAAAAAYQGZmZmZmZhRAmpmZmZmZF0BmZmZmZmYWQDMzMzMzMxdAZmZmZmZmGkAAAAAAAAASQDMzMzMzMxlAMzMzMzMzF0BmZmZmZmYYQGZmZmZmZhRAMzMzMzMzFUAAAAAAAAAWQAAAAAAAABRAZmZmZmZmFEAzMzMzMzMVQAAAAAAAABZAzczMzMzMGkCamZmZmZkbQAAAAAAAABRAzczMzMzMFkCamZmZmZkTQM3MzMzMzBpAmpmZmZmZE0DNzMzMzMwWQAAAAAAAABhAMzMzMzMzE0CamZmZmZkTQGZmZmZmZhZAMzMzMzMzF0BmZmZmZmYYQJqZmZmZmRlAZmZmZmZmFkBmZmZmZmYUQGZmZmZmZhZAZmZmZmZmGEBmZmZmZmYWQAAAAAAAABZAMzMzMzMzE0CamZmZmZkVQGZmZmZmZhZAZmZmZmZmFEBmZmZmZmYUQJqZmZmZmRdAzczMzMzMFkDNzMzMzMwUQAAAAAAAABRAzczMzMzMFECamZmZmZkVQGZmZmZmZhRA\",\"dtype\":\"float64\",\"order\":\"little\",\"shape\":[150]},\"petal_width\":{\"__ndarray__\":\"mpmZmZmZyT+amZmZmZnJP5qZmZmZmck/mpmZmZmZyT+amZmZmZnJP5qZmZmZmdk/MzMzMzMz0z+amZmZmZnJP5qZmZmZmck/mpmZmZmZuT+amZmZmZnJP5qZmZmZmck/mpmZmZmZuT+amZmZmZm5P5qZmZmZmck/mpmZmZmZ2T+amZmZmZnZPzMzMzMzM9M/MzMzMzMz0z8zMzMzMzPTP5qZmZmZmck/mpmZmZmZ2T+amZmZmZnJPwAAAAAAAOA/mpmZmZmZyT+amZmZmZnJP5qZmZmZmdk/mpmZmZmZyT+amZmZmZnJP5qZmZmZmck/mpmZmZmZyT+amZmZmZnZP5qZmZmZmbk/mpmZmZmZyT+amZmZmZnJP5qZmZmZmck/mpmZmZmZyT+amZmZmZm5P5qZmZmZmck/mpmZmZmZyT8zMzMzMzPTPzMzMzMzM9M/mpmZmZmZyT8zMzMzMzPjP5qZmZmZmdk/MzMzMzMz0z+amZmZmZnJP5qZmZmZmck/mpmZmZmZyT+amZmZmZnJP2ZmZmZmZvY/AAAAAAAA+D8AAAAAAAD4P83MzMzMzPQ/AAAAAAAA+D/NzMzMzMz0P5qZmZmZmfk/AAAAAAAA8D/NzMzMzMz0P2ZmZmZmZvY/AAAAAAAA8D8AAAAAAAD4PwAAAAAAAPA/ZmZmZmZm9j/NzMzMzMz0P2ZmZmZmZvY/AAAAAAAA+D8AAAAAAADwPwAAAAAAAPg/mpmZmZmZ8T/NzMzMzMz8P83MzMzMzPQ/AAAAAAAA+D8zMzMzMzPzP83MzMzMzPQ/ZmZmZmZm9j9mZmZmZmb2PzMzMzMzM/s/AAAAAAAA+D8AAAAAAADwP5qZmZmZmfE/AAAAAAAA8D8zMzMzMzPzP5qZmZmZmfk/AAAAAAAA+D+amZmZmZn5PwAAAAAAAPg/zczMzMzM9D/NzMzMzMz0P83MzMzMzPQ/MzMzMzMz8z9mZmZmZmb2PzMzMzMzM/M/AAAAAAAA8D/NzMzMzMz0PzMzMzMzM/M/zczMzMzM9D/NzMzMzMz0P5qZmZmZmfE/zczMzMzM9D8AAAAAAAAEQGZmZmZmZv4/zczMzMzMAEDNzMzMzMz8P5qZmZmZmQFAzczMzMzMAEAzMzMzMzP7P83MzMzMzPw/zczMzMzM/D8AAAAAAAAEQAAAAAAAAABAZmZmZmZm/j/NzMzMzMwAQAAAAAAAAABAMzMzMzMzA0BmZmZmZmYCQM3MzMzMzPw/mpmZmZmZAUBmZmZmZmYCQAAAAAAAAPg/ZmZmZmZmAkAAAAAAAAAAQAAAAAAAAABAzczMzMzM/D/NzMzMzMwAQM3MzMzMzPw/zczMzMzM/D/NzMzMzMz8P83MzMzMzABAmpmZmZmZ+T9mZmZmZmb+PwAAAAAAAABAmpmZmZmZAUAAAAAAAAD4P2ZmZmZmZvY/ZmZmZmZmAkAzMzMzMzMDQM3MzMzMzPw/zczMzMzM/D/NzMzMzMwAQDMzMzMzMwNAZmZmZmZmAkBmZmZmZmb+P2ZmZmZmZgJAAAAAAAAABEBmZmZmZmYCQGZmZmZmZv4/AAAAAAAAAEBmZmZmZmYCQM3MzMzMzPw/\",\"dtype\":\"float64\",\"order\":\"little\",\"shape\":[150]},\"sepal_length\":{\"__ndarray__\":\"ZmZmZmZmFECamZmZmZkTQM3MzMzMzBJAZmZmZmZmEkAAAAAAAAAUQJqZmZmZmRVAZmZmZmZmEkAAAAAAAAAUQJqZmZmZmRFAmpmZmZmZE0CamZmZmZkVQDMzMzMzMxNAMzMzMzMzE0AzMzMzMzMRQDMzMzMzMxdAzczMzMzMFkCamZmZmZkVQGZmZmZmZhRAzczMzMzMFkBmZmZmZmYUQJqZmZmZmRVAZmZmZmZmFEBmZmZmZmYSQGZmZmZmZhRAMzMzMzMzE0AAAAAAAAAUQAAAAAAAABRAzczMzMzMFEDNzMzMzMwUQM3MzMzMzBJAMzMzMzMzE0CamZmZmZkVQM3MzMzMzBRAAAAAAAAAFkCamZmZmZkTQAAAAAAAABRAAAAAAAAAFkCamZmZmZkTQJqZmZmZmRFAZmZmZmZmFEAAAAAAAAAUQAAAAAAAABJAmpmZmZmZEUAAAAAAAAAUQGZmZmZmZhRAMzMzMzMzE0BmZmZmZmYUQGZmZmZmZhJAMzMzMzMzFUAAAAAAAAAUQAAAAAAAABxAmpmZmZmZGUCamZmZmZkbQAAAAAAAABZAAAAAAAAAGkDNzMzMzMwWQDMzMzMzMxlAmpmZmZmZE0BmZmZmZmYaQM3MzMzMzBRAAAAAAAAAFECamZmZmZkXQAAAAAAAABhAZmZmZmZmGEBmZmZmZmYWQM3MzMzMzBpAZmZmZmZmFkAzMzMzMzMXQM3MzMzMzBhAZmZmZmZmFkCamZmZmZkXQGZmZmZmZhhAMzMzMzMzGUBmZmZmZmYYQJqZmZmZmRlAZmZmZmZmGkAzMzMzMzMbQM3MzMzMzBpAAAAAAAAAGEDNzMzMzMwWQAAAAAAAABZAAAAAAAAAFkAzMzMzMzMXQAAAAAAAABhAmpmZmZmZFUAAAAAAAAAYQM3MzMzMzBpAMzMzMzMzGUBmZmZmZmYWQAAAAAAAABZAAAAAAAAAFkBmZmZmZmYYQDMzMzMzMxdAAAAAAAAAFEBmZmZmZmYWQM3MzMzMzBZAzczMzMzMFkDNzMzMzMwYQGZmZmZmZhRAzczMzMzMFkAzMzMzMzMZQDMzMzMzMxdAZmZmZmZmHEAzMzMzMzMZQAAAAAAAABpAZmZmZmZmHkCamZmZmZkTQDMzMzMzMx1AzczMzMzMGkDNzMzMzMwcQAAAAAAAABpAmpmZmZmZGUAzMzMzMzMbQM3MzMzMzBZAMzMzMzMzF0CamZmZmZkZQAAAAAAAABpAzczMzMzMHkDNzMzMzMweQAAAAAAAABhAmpmZmZmZG0BmZmZmZmYWQM3MzMzMzB5AMzMzMzMzGUDNzMzMzMwaQM3MzMzMzBxAzczMzMzMGEBmZmZmZmYYQJqZmZmZmRlAzczMzMzMHECamZmZmZkdQJqZmZmZmR9AmpmZmZmZGUAzMzMzMzMZQGZmZmZmZhhAzczMzMzMHkAzMzMzMzMZQJqZmZmZmRlAAAAAAAAAGECamZmZmZkbQM3MzMzMzBpAmpmZmZmZG0AzMzMzMzMXQDMzMzMzMxtAzczMzMzMGkDNzMzMzMwaQDMzMzMzMxlAAAAAAAAAGkDNzMzMzMwYQJqZmZmZmRdA\",\"dtype\":\"float64\",\"order\":\"little\",\"shape\":[150]},\"sepal_width\":{\"__ndarray__\":\"AAAAAAAADEAAAAAAAAAIQJqZmZmZmQlAzczMzMzMCEDNzMzMzMwMQDMzMzMzMw9AMzMzMzMzC0AzMzMzMzMLQDMzMzMzMwdAzczMzMzMCECamZmZmZkNQDMzMzMzMwtAAAAAAAAACEAAAAAAAAAIQAAAAAAAABBAmpmZmZmZEUAzMzMzMzMPQAAAAAAAAAxAZmZmZmZmDkBmZmZmZmYOQDMzMzMzMwtAmpmZmZmZDUDNzMzMzMwMQGZmZmZmZgpAMzMzMzMzC0AAAAAAAAAIQDMzMzMzMwtAAAAAAAAADEAzMzMzMzMLQJqZmZmZmQlAzczMzMzMCEAzMzMzMzMLQGZmZmZmZhBAzczMzMzMEEDNzMzMzMwIQJqZmZmZmQlAAAAAAAAADEDNzMzMzMwMQAAAAAAAAAhAMzMzMzMzC0AAAAAAAAAMQGZmZmZmZgJAmpmZmZmZCUAAAAAAAAAMQGZmZmZmZg5AAAAAAAAACEBmZmZmZmYOQJqZmZmZmQlAmpmZmZmZDUBmZmZmZmYKQJqZmZmZmQlAmpmZmZmZCUDNzMzMzMwIQGZmZmZmZgJAZmZmZmZmBkBmZmZmZmYGQGZmZmZmZgpAMzMzMzMzA0AzMzMzMzMHQJqZmZmZmQVAAAAAAAAAAEAAAAAAAAAIQJqZmZmZmQFAMzMzMzMzB0AzMzMzMzMHQM3MzMzMzAhAAAAAAAAACECamZmZmZkFQJqZmZmZmQFAAAAAAAAABECamZmZmZkJQGZmZmZmZgZAAAAAAAAABEBmZmZmZmYGQDMzMzMzMwdAAAAAAAAACEBmZmZmZmYGQAAAAAAAAAhAMzMzMzMzB0DNzMzMzMwEQDMzMzMzMwNAMzMzMzMzA0CamZmZmZkFQJqZmZmZmQVAAAAAAAAACEAzMzMzMzMLQM3MzMzMzAhAZmZmZmZmAkAAAAAAAAAIQAAAAAAAAARAzczMzMzMBEAAAAAAAAAIQM3MzMzMzARAZmZmZmZmAkCamZmZmZkFQAAAAAAAAAhAMzMzMzMzB0AzMzMzMzMHQAAAAAAAAARAZmZmZmZmBkBmZmZmZmYKQJqZmZmZmQVAAAAAAAAACEAzMzMzMzMHQAAAAAAAAAhAAAAAAAAACEAAAAAAAAAEQDMzMzMzMwdAAAAAAAAABEDNzMzMzMwMQJqZmZmZmQlAmpmZmZmZBUAAAAAAAAAIQAAAAAAAAARAZmZmZmZmBkCamZmZmZkJQAAAAAAAAAhAZmZmZmZmDkDNzMzMzMwEQJqZmZmZmQFAmpmZmZmZCUBmZmZmZmYGQGZmZmZmZgZAmpmZmZmZBUBmZmZmZmYKQJqZmZmZmQlAZmZmZmZmBkAAAAAAAAAIQGZmZmZmZgZAAAAAAAAACEBmZmZmZmYGQGZmZmZmZg5AZmZmZmZmBkBmZmZmZmYGQM3MzMzMzARAAAAAAAAACEAzMzMzMzMLQM3MzMzMzAhAAAAAAAAACEDNzMzMzMwIQM3MzMzMzAhAzczMzMzMCECamZmZmZkFQJqZmZmZmQlAZmZmZmZmCkAAAAAAAAAIQAAAAAAAAARAAAAAAAAACEAzMzMzMzMLQAAAAAAAAAhA\",\"dtype\":\"float64\",\"order\":\"little\",\"shape\":[150]},\"species\":[\"setosa\",\"setosa\",\"setosa\",\"setosa\",\"setosa\",\"setosa\",\"setosa\",\"setosa\",\"setosa\",\"setosa\",\"setosa\",\"setosa\",\"setosa\",\"setosa\",\"setosa\",\"setosa\",\"setosa\",\"setosa\",\"setosa\",\"setosa\",\"setosa\",\"setosa\",\"setosa\",\"setosa\",\"setosa\",\"setosa\",\"setosa\",\"setosa\",\"setosa\",\"setosa\",\"setosa\",\"setosa\",\"setosa\",\"setosa\",\"setosa\",\"setosa\",\"setosa\",\"setosa\",\"setosa\",\"setosa\",\"setosa\",\"setosa\",\"setosa\",\"setosa\",\"setosa\",\"setosa\",\"setosa\",\"setosa\",\"setosa\",\"setosa\",\"versicolor\",\"versicolor\",\"versicolor\",\"versicolor\",\"versicolor\",\"versicolor\",\"versicolor\",\"versicolor\",\"versicolor\",\"versicolor\",\"versicolor\",\"versicolor\",\"versicolor\",\"versicolor\",\"versicolor\",\"versicolor\",\"versicolor\",\"versicolor\",\"versicolor\",\"versicolor\",\"versicolor\",\"versicolor\",\"versicolor\",\"versicolor\",\"versicolor\",\"versicolor\",\"versicolor\",\"versicolor\",\"versicolor\",\"versicolor\",\"versicolor\",\"versicolor\",\"versicolor\",\"versicolor\",\"versicolor\",\"versicolor\",\"versicolor\",\"versicolor\",\"versicolor\",\"versicolor\",\"versicolor\",\"versicolor\",\"versicolor\",\"versicolor\",\"versicolor\",\"versicolor\",\"versicolor\",\"versicolor\",\"versicolor\",\"versicolor\",\"virginica\",\"virginica\",\"virginica\",\"virginica\",\"virginica\",\"virginica\",\"virginica\",\"virginica\",\"virginica\",\"virginica\",\"virginica\",\"virginica\",\"virginica\",\"virginica\",\"virginica\",\"virginica\",\"virginica\",\"virginica\",\"virginica\",\"virginica\",\"virginica\",\"virginica\",\"virginica\",\"virginica\",\"virginica\",\"virginica\",\"virginica\",\"virginica\",\"virginica\",\"virginica\",\"virginica\",\"virginica\",\"virginica\",\"virginica\",\"virginica\",\"virginica\",\"virginica\",\"virginica\",\"virginica\",\"virginica\",\"virginica\",\"virginica\",\"virginica\",\"virginica\",\"virginica\",\"virginica\",\"virginica\",\"virginica\",\"virginica\",\"virginica\"]},\"selected\":{\"id\":\"5555\"},\"selection_policy\":{\"id\":\"5556\"}},\"id\":\"5396\",\"type\":\"ColumnDataSource\"},{\"attributes\":{\"below\":[{\"id\":\"5408\"}],\"center\":[{\"id\":\"5411\"},{\"id\":\"5415\"}],\"left\":[{\"id\":\"5412\"}],\"plot_height\":400,\"plot_width\":400,\"renderers\":[{\"id\":\"5433\"}],\"title\":{\"id\":\"5398\"},\"toolbar\":{\"id\":\"5423\"},\"toolbar_location\":null,\"x_range\":{\"id\":\"5400\"},\"x_scale\":{\"id\":\"5404\"},\"y_range\":{\"id\":\"5402\"},\"y_scale\":{\"id\":\"5406\"}},\"id\":\"5397\",\"subtype\":\"Figure\",\"type\":\"Plot\"},{\"attributes\":{\"toolbars\":[{\"id\":\"5423\"},{\"id\":\"5461\"},{\"id\":\"5499\"},{\"id\":\"5537\"}],\"tools\":[{\"id\":\"5416\"},{\"id\":\"5417\"},{\"id\":\"5418\"},{\"id\":\"5419\"},{\"id\":\"5420\"},{\"id\":\"5421\"},{\"id\":\"5454\"},{\"id\":\"5455\"},{\"id\":\"5456\"},{\"id\":\"5457\"},{\"id\":\"5458\"},{\"id\":\"5459\"},{\"id\":\"5492\"},{\"id\":\"5493\"},{\"id\":\"5494\"},{\"id\":\"5495\"},{\"id\":\"5496\"},{\"id\":\"5497\"},{\"id\":\"5530\"},{\"id\":\"5531\"},{\"id\":\"5532\"},{\"id\":\"5533\"},{\"id\":\"5534\"},{\"id\":\"5535\"}]},\"id\":\"5586\",\"type\":\"ProxyToolbar\"},{\"attributes\":{},\"id\":\"5421\",\"type\":\"HelpTool\"},{\"attributes\":{},\"id\":\"5530\",\"type\":\"PanTool\"},{\"attributes\":{\"active_drag\":\"auto\",\"active_inspect\":\"auto\",\"active_multi\":null,\"active_scroll\":\"auto\",\"active_tap\":\"auto\",\"tools\":[{\"id\":\"5416\"},{\"id\":\"5417\"},{\"id\":\"5418\"},{\"id\":\"5419\"},{\"id\":\"5420\"},{\"id\":\"5421\"}]},\"id\":\"5423\",\"type\":\"Toolbar\"},{\"attributes\":{\"bottom_units\":\"screen\",\"fill_alpha\":0.5,\"fill_color\":\"lightgrey\",\"left_units\":\"screen\",\"level\":\"overlay\",\"line_alpha\":1.0,\"line_color\":\"black\",\"line_dash\":[4,4],\"line_width\":2,\"right_units\":\"screen\",\"top_units\":\"screen\"},\"id\":\"5498\",\"type\":\"BoxAnnotation\"},{\"attributes\":{\"axis_label\":\"Petal Length\",\"formatter\":{\"id\":\"5562\"},\"ticker\":{\"id\":\"5447\"}},\"id\":\"5446\",\"type\":\"LinearAxis\"},{\"attributes\":{},\"id\":\"5580\",\"type\":\"BasicTickFormatter\"},{\"attributes\":{\"overlay\":{\"id\":\"5422\"}},\"id\":\"5418\",\"type\":\"BoxZoomTool\"},{\"attributes\":{\"axis\":{\"id\":\"5446\"},\"ticker\":null},\"id\":\"5449\",\"type\":\"Grid\"},{\"attributes\":{},\"id\":\"5416\",\"type\":\"PanTool\"},{\"attributes\":{\"data_source\":{\"id\":\"5396\"},\"glyph\":{\"id\":\"5507\"},\"hover_glyph\":null,\"muted_glyph\":null,\"nonselection_glyph\":{\"id\":\"5508\"},\"selection_glyph\":null,\"view\":{\"id\":\"5510\"}},\"id\":\"5509\",\"type\":\"GlyphRenderer\"},{\"attributes\":{},\"id\":\"5400\",\"type\":\"DataRange1d\"},{\"attributes\":{\"source\":{\"id\":\"5396\"}},\"id\":\"5510\",\"type\":\"CDSView\"},{\"attributes\":{\"text\":\"Sepal Width vs. Petal Width\"},\"id\":\"5512\",\"type\":\"Title\"},{\"attributes\":{},\"id\":\"5447\",\"type\":\"BasicTicker\"},{\"attributes\":{},\"id\":\"5454\",\"type\":\"PanTool\"},{\"attributes\":{},\"id\":\"5402\",\"type\":\"DataRange1d\"},{\"attributes\":{},\"id\":\"5485\",\"type\":\"BasicTicker\"},{\"attributes\":{\"overlay\":{\"id\":\"5536\"}},\"id\":\"5532\",\"type\":\"BoxZoomTool\"},{\"attributes\":{},\"id\":\"5555\",\"type\":\"Selection\"},{\"attributes\":{\"below\":[{\"id\":\"5484\"}],\"center\":[{\"id\":\"5487\"},{\"id\":\"5491\"}],\"left\":[{\"id\":\"5488\"}],\"plot_height\":400,\"plot_width\":400,\"renderers\":[{\"id\":\"5509\"}],\"title\":{\"id\":\"5474\"},\"toolbar\":{\"id\":\"5499\"},\"toolbar_location\":null,\"x_range\":{\"id\":\"5476\"},\"x_scale\":{\"id\":\"5480\"},\"y_range\":{\"id\":\"5402\"},\"y_scale\":{\"id\":\"5482\"}},\"id\":\"5473\",\"subtype\":\"Figure\",\"type\":\"Plot\"},{\"attributes\":{},\"id\":\"5404\",\"type\":\"LinearScale\"},{\"attributes\":{\"text\":\"Petal Length vs. Petal Width\"},\"id\":\"5436\",\"type\":\"Title\"},{\"attributes\":{},\"id\":\"5553\",\"type\":\"BasicTickFormatter\"},{\"attributes\":{},\"id\":\"5518\",\"type\":\"LinearScale\"},{\"attributes\":{\"fill_alpha\":{\"value\":0.1},\"fill_color\":{\"value\":\"red\"},\"line_alpha\":{\"value\":0.1},\"line_color\":{\"value\":\"red\"},\"x\":{\"field\":\"petal_length\"},\"y\":{\"field\":\"sepal_length\"}},\"id\":\"5432\",\"type\":\"Circle\"},{\"attributes\":{},\"id\":\"5455\",\"type\":\"WheelZoomTool\"},{\"attributes\":{\"text\":\"Petal Length vs. Sepal Length\"},\"id\":\"5398\",\"type\":\"Title\"},{\"attributes\":{},\"id\":\"5520\",\"type\":\"LinearScale\"},{\"attributes\":{\"axis_label\":\"Petal Width\",\"formatter\":{\"id\":\"5560\"},\"ticker\":{\"id\":\"5451\"}},\"id\":\"5450\",\"type\":\"LinearAxis\"},{\"attributes\":{\"axis_label\":\"Sepal Width\",\"formatter\":{\"id\":\"5580\"},\"ticker\":{\"id\":\"5523\"}},\"id\":\"5522\",\"type\":\"LinearAxis\"},{\"attributes\":{},\"id\":\"5406\",\"type\":\"LinearScale\"},{\"attributes\":{\"fill_color\":{\"value\":\"blue\"},\"line_color\":{\"value\":\"blue\"},\"x\":{\"field\":\"petal_length\"},\"y\":{\"field\":\"petal_width\"}},\"id\":\"5469\",\"type\":\"Circle\"},{\"attributes\":{},\"id\":\"5523\",\"type\":\"BasicTicker\"},{\"attributes\":{\"axis\":{\"id\":\"5522\"},\"ticker\":null},\"id\":\"5525\",\"type\":\"Grid\"},{\"attributes\":{},\"id\":\"5409\",\"type\":\"BasicTicker\"},{\"attributes\":{},\"id\":\"5451\",\"type\":\"BasicTicker\"},{\"attributes\":{\"axis_label\":\"Petal Width\",\"formatter\":{\"id\":\"5578\"},\"ticker\":{\"id\":\"5527\"}},\"id\":\"5526\",\"type\":\"LinearAxis\"},{\"attributes\":{\"axis\":{\"id\":\"5450\"},\"dimension\":1,\"ticker\":null},\"id\":\"5453\",\"type\":\"Grid\"},{\"attributes\":{},\"id\":\"5527\",\"type\":\"BasicTicker\"},{\"attributes\":{},\"id\":\"5480\",\"type\":\"LinearScale\"},{\"attributes\":{\"axis_label\":\"Sepal Length\",\"formatter\":{\"id\":\"5571\"},\"ticker\":{\"id\":\"5485\"}},\"id\":\"5484\",\"type\":\"LinearAxis\"},{\"attributes\":{\"data_source\":{\"id\":\"5396\"},\"glyph\":{\"id\":\"5469\"},\"hover_glyph\":null,\"muted_glyph\":null,\"nonselection_glyph\":{\"id\":\"5470\"},\"selection_glyph\":null,\"view\":{\"id\":\"5472\"}},\"id\":\"5471\",\"type\":\"GlyphRenderer\"},{\"attributes\":{\"below\":[{\"id\":\"5522\"}],\"center\":[{\"id\":\"5525\"},{\"id\":\"5529\"}],\"left\":[{\"id\":\"5526\"}],\"plot_height\":400,\"plot_width\":400,\"renderers\":[{\"id\":\"5547\"}],\"title\":{\"id\":\"5512\"},\"toolbar\":{\"id\":\"5537\"},\"toolbar_location\":null,\"x_range\":{\"id\":\"5476\"},\"x_scale\":{\"id\":\"5518\"},\"y_range\":{\"id\":\"5440\"},\"y_scale\":{\"id\":\"5520\"}},\"id\":\"5511\",\"subtype\":\"Figure\",\"type\":\"Plot\"},{\"attributes\":{\"source\":{\"id\":\"5396\"}},\"id\":\"5472\",\"type\":\"CDSView\"},{\"attributes\":{},\"id\":\"5458\",\"type\":\"ResetTool\"},{\"attributes\":{},\"id\":\"5535\",\"type\":\"HelpTool\"},{\"attributes\":{\"active_drag\":\"auto\",\"active_inspect\":\"auto\",\"active_multi\":null,\"active_scroll\":\"auto\",\"active_tap\":\"auto\",\"tools\":[{\"id\":\"5454\"},{\"id\":\"5455\"},{\"id\":\"5456\"},{\"id\":\"5457\"},{\"id\":\"5458\"},{\"id\":\"5459\"}]},\"id\":\"5461\",\"type\":\"Toolbar\"},{\"attributes\":{},\"id\":\"5459\",\"type\":\"HelpTool\"},{\"attributes\":{\"toolbar\":{\"id\":\"5586\"},\"toolbar_location\":\"above\"},\"id\":\"5587\",\"type\":\"ToolbarBox\"},{\"attributes\":{\"overlay\":{\"id\":\"5460\"}},\"id\":\"5456\",\"type\":\"BoxZoomTool\"},{\"attributes\":{\"bottom_units\":\"screen\",\"fill_alpha\":0.5,\"fill_color\":\"lightgrey\",\"left_units\":\"screen\",\"level\":\"overlay\",\"line_alpha\":1.0,\"line_color\":\"black\",\"line_dash\":[4,4],\"line_width\":2,\"right_units\":\"screen\",\"top_units\":\"screen\"},\"id\":\"5460\",\"type\":\"BoxAnnotation\"},{\"attributes\":{},\"id\":\"5457\",\"type\":\"SaveTool\"},{\"attributes\":{},\"id\":\"5551\",\"type\":\"BasicTickFormatter\"},{\"attributes\":{\"text\":\"Sepal Length vs. Sepal Width\"},\"id\":\"5474\",\"type\":\"Title\"},{\"attributes\":{},\"id\":\"5534\",\"type\":\"ResetTool\"},{\"attributes\":{},\"id\":\"5476\",\"type\":\"DataRange1d\"},{\"attributes\":{},\"id\":\"5482\",\"type\":\"LinearScale\"},{\"attributes\":{\"fill_alpha\":{\"value\":0.1},\"fill_color\":{\"value\":\"blue\"},\"line_alpha\":{\"value\":0.1},\"line_color\":{\"value\":\"blue\"},\"x\":{\"field\":\"petal_length\"},\"y\":{\"field\":\"petal_width\"}},\"id\":\"5470\",\"type\":\"Circle\"}],\"root_ids\":[\"5588\"]},\"title\":\"Bokeh Application\",\"version\":\"2.1.1\"}};\n",
       "  var render_items = [{\"docid\":\"db1e0705-716a-404f-9233-a4c1b2c636a8\",\"root_ids\":[\"5588\"],\"roots\":{\"5588\":\"9116cd52-6693-469f-82fb-f291688ebf69\"}}];\n",
       "  root.Bokeh.embed.embed_items_notebook(docs_json, render_items);\n",
       "\n",
       "  }\n",
       "  if (root.Bokeh !== undefined) {\n",
       "    embed_document(root);\n",
       "  } else {\n",
       "    var attempts = 0;\n",
       "    var timer = setInterval(function(root) {\n",
       "      if (root.Bokeh !== undefined) {\n",
       "        clearInterval(timer);\n",
       "        embed_document(root);\n",
       "      } else {\n",
       "        attempts++;\n",
       "        if (attempts > 100) {\n",
       "          clearInterval(timer);\n",
       "          console.log(\"Bokeh: ERROR: Unable to run BokehJS code because BokehJS library is missing\");\n",
       "        }\n",
       "      }\n",
       "    }, 10, root)\n",
       "  }\n",
       "})(window);"
      ],
      "application/vnd.bokehjs_exec.v0+json": ""
     },
     "metadata": {
      "application/vnd.bokehjs_exec.v0+json": {
       "id": "5588"
      }
     },
     "output_type": "display_data"
    }
   ],
   "source": [
    "source = ColumnDataSource(flowers)\n",
    "\n",
    "p1 = figure(plot_width=400, plot_height=400, \n",
    "            x_axis_label='Petal Length', y_axis_label='Sepal Length',\n",
    "           title='Petal Length vs. Sepal Length')\n",
    "p1.circle('petal_length', 'sepal_length', source=source, color='red')\n",
    "\n",
    "p2 = figure(plot_width=400, plot_height=400, \n",
    "            x_axis_label='Petal Length', y_axis_label='Petal Width',\n",
    "           title='Petal Length vs. Petal Width')\n",
    "p2.circle('petal_length', 'petal_width', source=source, color='blue')\n",
    "\n",
    "p3 = figure(plot_width=400, plot_height=400, \n",
    "            x_axis_label='Sepal Length', y_axis_label='Sepal Width',\n",
    "           title='Sepal Length vs. Sepal Width')\n",
    "p3.circle('sepal_length', 'sepal_width', source=source, color='green')\n",
    "\n",
    "p4 = figure(plot_width=400, plot_height=400, \n",
    "            x_axis_label='Sepal Width', y_axis_label='Petal Width',\n",
    "           title='Sepal Width vs. Petal Width')\n",
    "p4.circle('sepal_width', 'petal_width', source=source, color='gold')\n",
    "\n",
    "# axis를 연결함으로써 같이 움직이도록 설정!\n",
    "p2.x_range = p1.x_range\n",
    "p3.y_range = p1.y_range\n",
    "p4.x_range = p3.x_range\n",
    "p4.y_range = p2.y_range\n",
    "\n",
    "layout = gridplot([[p1, p2], [p3, p4]])\n",
    "show(layout)"
   ]
  },
  {
   "cell_type": "markdown",
   "metadata": {},
   "source": [
    "## 6) Linking Selections\n",
    "- 별다른 명령어 없이 source가 같으면 selection도 연결!\n",
    "- 다만 tools에는 모두 box_select 포함해야함"
   ]
  },
  {
   "cell_type": "code",
   "execution_count": null,
   "metadata": {},
   "outputs": [],
   "source": [
    "source = ColumnDataSource(flowers)\n",
    "\n",
    "p1 = figure(plot_width=400, plot_height=400, \n",
    "            x_axis_label='Petal Length', y_axis_label='Sepal Length',\n",
    "           title='Petal Length vs. Sepal Length', tools='box_select, reset')\n",
    "p1.circle('petal_length', 'sepal_length', source=source, color='red')\n",
    "\n",
    "p2 = figure(plot_width=400, plot_height=400, \n",
    "            x_axis_label='Petal Length', y_axis_label='Petal Width',\n",
    "           title='Petal Length vs. Petal Width', tools='box_select, reset')\n",
    "p2.circle('petal_length', 'petal_width', source=source, color='blue')\n",
    "\n",
    "p3 = figure(plot_width=400, plot_height=400, \n",
    "            x_axis_label='Sepal Length', y_axis_label='Sepal Width',\n",
    "           title='Sepal Length vs. Sepal Width', tools='box_select, reset')\n",
    "p3.circle('sepal_length', 'sepal_width', source=source, color='green')\n",
    "\n",
    "p4 = figure(plot_width=400, plot_height=400, \n",
    "            x_axis_label='Sepal Width', y_axis_label='Petal Width',\n",
    "           title='Sepal Width vs. Petal Width', tools='box_select, reset')\n",
    "p4.circle('sepal_width', 'petal_width', source=source, color='gold')\n",
    "\n",
    "layout = gridplot([[p1, p2], [p3, p4]])\n",
    "show(layout)"
   ]
  },
  {
   "cell_type": "markdown",
   "metadata": {},
   "source": [
    "# 3. Tabbed Layouts"
   ]
  },
  {
   "cell_type": "code",
   "execution_count": 42,
   "metadata": {},
   "outputs": [],
   "source": [
    "from bokeh.models.widgets import Panel, Tabs"
   ]
  },
  {
   "cell_type": "code",
   "execution_count": 43,
   "metadata": {},
   "outputs": [
    {
     "data": {
      "text/html": [
       "\n",
       "\n",
       "\n",
       "\n",
       "\n",
       "\n",
       "  <div class=\"bk-root\" id=\"b8b14811-c959-47e9-9c83-87b6b1b37abe\" data-root-id=\"6152\"></div>\n"
      ]
     },
     "metadata": {},
     "output_type": "display_data"
    },
    {
     "data": {
      "application/javascript": [
       "(function(root) {\n",
       "  function embed_document(root) {\n",
       "    \n",
       "  var docs_json = {\"9cfef8ea-9108-406e-a366-46c05ad5a615\":{\"roots\":{\"references\":[{\"attributes\":{\"tabs\":[{\"id\":\"6148\"},{\"id\":\"6149\"},{\"id\":\"6151\"}]},\"id\":\"6152\",\"type\":\"Tabs\"},{\"attributes\":{\"fill_alpha\":{\"value\":0.1},\"fill_color\":{\"value\":\"red\"},\"line_alpha\":{\"value\":0.1},\"line_color\":{\"value\":\"red\"},\"x\":{\"field\":\"petal_length\"},\"y\":{\"field\":\"sepal_length\"}},\"id\":\"6031\",\"type\":\"Circle\"},{\"attributes\":{\"source\":{\"id\":\"5995\"}},\"id\":\"6033\",\"type\":\"CDSView\"},{\"attributes\":{},\"id\":\"6126\",\"type\":\"BasicTicker\"},{\"attributes\":{},\"id\":\"6084\",\"type\":\"BasicTicker\"},{\"attributes\":{},\"id\":\"6015\",\"type\":\"PanTool\"},{\"attributes\":{\"axis\":{\"id\":\"6125\"},\"dimension\":1,\"ticker\":null},\"id\":\"6128\",\"type\":\"Grid\"},{\"attributes\":{},\"id\":\"6016\",\"type\":\"WheelZoomTool\"},{\"attributes\":{\"fill_color\":{\"value\":\"gold\"},\"line_color\":{\"value\":\"gold\"},\"x\":{\"field\":\"sepal_width\"},\"y\":{\"field\":\"petal_width\"}},\"id\":\"6144\",\"type\":\"Circle\"},{\"attributes\":{\"overlay\":{\"id\":\"6021\"}},\"id\":\"6017\",\"type\":\"BoxZoomTool\"},{\"attributes\":{\"fill_alpha\":{\"value\":0.1},\"fill_color\":{\"value\":\"gold\"},\"line_alpha\":{\"value\":0.1},\"line_color\":{\"value\":\"gold\"},\"x\":{\"field\":\"sepal_width\"},\"y\":{\"field\":\"petal_width\"}},\"id\":\"6145\",\"type\":\"Circle\"},{\"attributes\":{},\"id\":\"6018\",\"type\":\"SaveTool\"},{\"attributes\":{},\"id\":\"6420\",\"type\":\"BasicTickFormatter\"},{\"attributes\":{},\"id\":\"6129\",\"type\":\"PanTool\"},{\"attributes\":{},\"id\":\"6019\",\"type\":\"ResetTool\"},{\"attributes\":{},\"id\":\"6130\",\"type\":\"WheelZoomTool\"},{\"attributes\":{},\"id\":\"6020\",\"type\":\"HelpTool\"},{\"attributes\":{\"overlay\":{\"id\":\"6135\"}},\"id\":\"6131\",\"type\":\"BoxZoomTool\"},{\"attributes\":{\"axis\":{\"id\":\"6083\"},\"ticker\":null},\"id\":\"6086\",\"type\":\"Grid\"},{\"attributes\":{},\"id\":\"6132\",\"type\":\"SaveTool\"},{\"attributes\":{},\"id\":\"6133\",\"type\":\"ResetTool\"},{\"attributes\":{\"axis_label\":\"Sepal Length\",\"formatter\":{\"id\":\"6416\"},\"ticker\":{\"id\":\"6084\"}},\"id\":\"6083\",\"type\":\"LinearAxis\"},{\"attributes\":{\"children\":[{\"id\":\"6072\"},{\"id\":\"6110\"}]},\"id\":\"6150\",\"type\":\"Row\"},{\"attributes\":{},\"id\":\"6134\",\"type\":\"HelpTool\"},{\"attributes\":{},\"id\":\"6081\",\"type\":\"LinearScale\"},{\"attributes\":{\"active_drag\":\"auto\",\"active_inspect\":\"auto\",\"active_multi\":null,\"active_scroll\":\"auto\",\"active_tap\":\"auto\",\"tools\":[{\"id\":\"6129\"},{\"id\":\"6130\"},{\"id\":\"6131\"},{\"id\":\"6132\"},{\"id\":\"6133\"},{\"id\":\"6134\"}]},\"id\":\"6136\",\"type\":\"Toolbar\"},{\"attributes\":{\"bottom_units\":\"screen\",\"fill_alpha\":0.5,\"fill_color\":\"lightgrey\",\"left_units\":\"screen\",\"level\":\"overlay\",\"line_alpha\":1.0,\"line_color\":\"black\",\"line_dash\":[4,4],\"line_width\":2,\"right_units\":\"screen\",\"top_units\":\"screen\"},\"id\":\"6021\",\"type\":\"BoxAnnotation\"},{\"attributes\":{},\"id\":\"6418\",\"type\":\"BasicTickFormatter\"},{\"attributes\":{},\"id\":\"6003\",\"type\":\"LinearScale\"},{\"attributes\":{\"fill_alpha\":{\"value\":0.1},\"fill_color\":{\"value\":\"blue\"},\"line_alpha\":{\"value\":0.1},\"line_color\":{\"value\":\"blue\"},\"x\":{\"field\":\"petal_length\"},\"y\":{\"field\":\"petal_width\"}},\"id\":\"6069\",\"type\":\"Circle\"},{\"attributes\":{\"data_source\":{\"id\":\"5995\"},\"glyph\":{\"id\":\"6030\"},\"hover_glyph\":null,\"muted_glyph\":null,\"nonselection_glyph\":{\"id\":\"6031\"},\"selection_glyph\":null,\"view\":{\"id\":\"6033\"}},\"id\":\"6032\",\"type\":\"GlyphRenderer\"},{\"attributes\":{},\"id\":\"6416\",\"type\":\"BasicTickFormatter\"},{\"attributes\":{},\"id\":\"6077\",\"type\":\"DataRange1d\"},{\"attributes\":{\"bottom_units\":\"screen\",\"fill_alpha\":0.5,\"fill_color\":\"lightgrey\",\"left_units\":\"screen\",\"level\":\"overlay\",\"line_alpha\":1.0,\"line_color\":\"black\",\"line_dash\":[4,4],\"line_width\":2,\"right_units\":\"screen\",\"top_units\":\"screen\"},\"id\":\"6135\",\"type\":\"BoxAnnotation\"},{\"attributes\":{\"text\":\"Petal Length vs. Petal Width\"},\"id\":\"6035\",\"type\":\"Title\"},{\"attributes\":{\"fill_color\":{\"value\":\"red\"},\"line_color\":{\"value\":\"red\"},\"x\":{\"field\":\"petal_length\"},\"y\":{\"field\":\"sepal_length\"}},\"id\":\"6030\",\"type\":\"Circle\"},{\"attributes\":{},\"id\":\"6037\",\"type\":\"DataRange1d\"},{\"attributes\":{\"child\":{\"id\":\"6034\"},\"title\":\"Tab 2\"},\"id\":\"6149\",\"type\":\"Panel\"},{\"attributes\":{},\"id\":\"6039\",\"type\":\"DataRange1d\"},{\"attributes\":{},\"id\":\"6012\",\"type\":\"BasicTicker\"},{\"attributes\":{},\"id\":\"6041\",\"type\":\"LinearScale\"},{\"attributes\":{\"data_source\":{\"id\":\"5995\"},\"glyph\":{\"id\":\"6144\"},\"hover_glyph\":null,\"muted_glyph\":null,\"nonselection_glyph\":{\"id\":\"6145\"},\"selection_glyph\":null,\"view\":{\"id\":\"6147\"}},\"id\":\"6146\",\"type\":\"GlyphRenderer\"},{\"attributes\":{},\"id\":\"6043\",\"type\":\"LinearScale\"},{\"attributes\":{\"source\":{\"id\":\"5995\"}},\"id\":\"6147\",\"type\":\"CDSView\"},{\"attributes\":{\"child\":{\"id\":\"6150\"},\"title\":\"Tab 3\"},\"id\":\"6151\",\"type\":\"Panel\"},{\"attributes\":{\"axis_label\":\"Petal Length\",\"formatter\":{\"id\":\"6406\"},\"ticker\":{\"id\":\"6046\"}},\"id\":\"6045\",\"type\":\"LinearAxis\"},{\"attributes\":{\"below\":[{\"id\":\"6045\"}],\"center\":[{\"id\":\"6048\"},{\"id\":\"6052\"}],\"left\":[{\"id\":\"6049\"}],\"plot_height\":400,\"plot_width\":400,\"renderers\":[{\"id\":\"6070\"}],\"title\":{\"id\":\"6035\"},\"toolbar\":{\"id\":\"6060\"},\"x_range\":{\"id\":\"6037\"},\"x_scale\":{\"id\":\"6041\"},\"y_range\":{\"id\":\"6039\"},\"y_scale\":{\"id\":\"6043\"}},\"id\":\"6034\",\"subtype\":\"Figure\",\"type\":\"Plot\"},{\"attributes\":{},\"id\":\"6046\",\"type\":\"BasicTicker\"},{\"attributes\":{\"active_drag\":\"auto\",\"active_inspect\":\"auto\",\"active_multi\":null,\"active_scroll\":\"auto\",\"active_tap\":\"auto\",\"tools\":[{\"id\":\"6015\"},{\"id\":\"6016\"},{\"id\":\"6017\"},{\"id\":\"6018\"},{\"id\":\"6019\"},{\"id\":\"6020\"}]},\"id\":\"6022\",\"type\":\"Toolbar\"},{\"attributes\":{\"axis\":{\"id\":\"6045\"},\"ticker\":null},\"id\":\"6048\",\"type\":\"Grid\"},{\"attributes\":{},\"id\":\"6400\",\"type\":\"BasicTickFormatter\"},{\"attributes\":{\"axis_label\":\"Petal Width\",\"formatter\":{\"id\":\"6404\"},\"ticker\":{\"id\":\"6050\"}},\"id\":\"6049\",\"type\":\"LinearAxis\"},{\"attributes\":{},\"id\":\"6075\",\"type\":\"DataRange1d\"},{\"attributes\":{},\"id\":\"5999\",\"type\":\"DataRange1d\"},{\"attributes\":{},\"id\":\"6050\",\"type\":\"BasicTicker\"},{\"attributes\":{\"axis\":{\"id\":\"6049\"},\"dimension\":1,\"ticker\":null},\"id\":\"6052\",\"type\":\"Grid\"},{\"attributes\":{\"data\":{\"index\":[0,1,2,3,4,5,6,7,8,9,10,11,12,13,14,15,16,17,18,19,20,21,22,23,24,25,26,27,28,29,30,31,32,33,34,35,36,37,38,39,40,41,42,43,44,45,46,47,48,49,50,51,52,53,54,55,56,57,58,59,60,61,62,63,64,65,66,67,68,69,70,71,72,73,74,75,76,77,78,79,80,81,82,83,84,85,86,87,88,89,90,91,92,93,94,95,96,97,98,99,100,101,102,103,104,105,106,107,108,109,110,111,112,113,114,115,116,117,118,119,120,121,122,123,124,125,126,127,128,129,130,131,132,133,134,135,136,137,138,139,140,141,142,143,144,145,146,147,148,149],\"petal_length\":{\"__ndarray__\":\"ZmZmZmZm9j9mZmZmZmb2P83MzMzMzPQ/AAAAAAAA+D9mZmZmZmb2PzMzMzMzM/s/ZmZmZmZm9j8AAAAAAAD4P2ZmZmZmZvY/AAAAAAAA+D8AAAAAAAD4P5qZmZmZmfk/ZmZmZmZm9j+amZmZmZnxPzMzMzMzM/M/AAAAAAAA+D/NzMzMzMz0P2ZmZmZmZvY/MzMzMzMz+z8AAAAAAAD4PzMzMzMzM/s/AAAAAAAA+D8AAAAAAADwPzMzMzMzM/s/ZmZmZmZm/j+amZmZmZn5P5qZmZmZmfk/AAAAAAAA+D9mZmZmZmb2P5qZmZmZmfk/mpmZmZmZ+T8AAAAAAAD4PwAAAAAAAPg/ZmZmZmZm9j8AAAAAAAD4PzMzMzMzM/M/zczMzMzM9D9mZmZmZmb2P83MzMzMzPQ/AAAAAAAA+D/NzMzMzMz0P83MzMzMzPQ/zczMzMzM9D+amZmZmZn5P2ZmZmZmZv4/ZmZmZmZm9j+amZmZmZn5P2ZmZmZmZvY/AAAAAAAA+D9mZmZmZmb2P83MzMzMzBJAAAAAAAAAEkCamZmZmZkTQAAAAAAAABBAZmZmZmZmEkAAAAAAAAASQM3MzMzMzBJAZmZmZmZmCkBmZmZmZmYSQDMzMzMzMw9AAAAAAAAADEDNzMzMzMwQQAAAAAAAABBAzczMzMzMEkDNzMzMzMwMQJqZmZmZmRFAAAAAAAAAEkBmZmZmZmYQQAAAAAAAABJAMzMzMzMzD0AzMzMzMzMTQAAAAAAAABBAmpmZmZmZE0DNzMzMzMwSQDMzMzMzMxFAmpmZmZmZEUAzMzMzMzMTQAAAAAAAABRAAAAAAAAAEkAAAAAAAAAMQGZmZmZmZg5AmpmZmZmZDUAzMzMzMzMPQGZmZmZmZhRAAAAAAAAAEkAAAAAAAAASQM3MzMzMzBJAmpmZmZmZEUBmZmZmZmYQQAAAAAAAABBAmpmZmZmZEUBmZmZmZmYSQAAAAAAAABBAZmZmZmZmCkDNzMzMzMwQQM3MzMzMzBBAzczMzMzMEEAzMzMzMzMRQAAAAAAAAAhAZmZmZmZmEEAAAAAAAAAYQGZmZmZmZhRAmpmZmZmZF0BmZmZmZmYWQDMzMzMzMxdAZmZmZmZmGkAAAAAAAAASQDMzMzMzMxlAMzMzMzMzF0BmZmZmZmYYQGZmZmZmZhRAMzMzMzMzFUAAAAAAAAAWQAAAAAAAABRAZmZmZmZmFEAzMzMzMzMVQAAAAAAAABZAzczMzMzMGkCamZmZmZkbQAAAAAAAABRAzczMzMzMFkCamZmZmZkTQM3MzMzMzBpAmpmZmZmZE0DNzMzMzMwWQAAAAAAAABhAMzMzMzMzE0CamZmZmZkTQGZmZmZmZhZAMzMzMzMzF0BmZmZmZmYYQJqZmZmZmRlAZmZmZmZmFkBmZmZmZmYUQGZmZmZmZhZAZmZmZmZmGEBmZmZmZmYWQAAAAAAAABZAMzMzMzMzE0CamZmZmZkVQGZmZmZmZhZAZmZmZmZmFEBmZmZmZmYUQJqZmZmZmRdAzczMzMzMFkDNzMzMzMwUQAAAAAAAABRAzczMzMzMFECamZmZmZkVQGZmZmZmZhRA\",\"dtype\":\"float64\",\"order\":\"little\",\"shape\":[150]},\"petal_width\":{\"__ndarray__\":\"mpmZmZmZyT+amZmZmZnJP5qZmZmZmck/mpmZmZmZyT+amZmZmZnJP5qZmZmZmdk/MzMzMzMz0z+amZmZmZnJP5qZmZmZmck/mpmZmZmZuT+amZmZmZnJP5qZmZmZmck/mpmZmZmZuT+amZmZmZm5P5qZmZmZmck/mpmZmZmZ2T+amZmZmZnZPzMzMzMzM9M/MzMzMzMz0z8zMzMzMzPTP5qZmZmZmck/mpmZmZmZ2T+amZmZmZnJPwAAAAAAAOA/mpmZmZmZyT+amZmZmZnJP5qZmZmZmdk/mpmZmZmZyT+amZmZmZnJP5qZmZmZmck/mpmZmZmZyT+amZmZmZnZP5qZmZmZmbk/mpmZmZmZyT+amZmZmZnJP5qZmZmZmck/mpmZmZmZyT+amZmZmZm5P5qZmZmZmck/mpmZmZmZyT8zMzMzMzPTPzMzMzMzM9M/mpmZmZmZyT8zMzMzMzPjP5qZmZmZmdk/MzMzMzMz0z+amZmZmZnJP5qZmZmZmck/mpmZmZmZyT+amZmZmZnJP2ZmZmZmZvY/AAAAAAAA+D8AAAAAAAD4P83MzMzMzPQ/AAAAAAAA+D/NzMzMzMz0P5qZmZmZmfk/AAAAAAAA8D/NzMzMzMz0P2ZmZmZmZvY/AAAAAAAA8D8AAAAAAAD4PwAAAAAAAPA/ZmZmZmZm9j/NzMzMzMz0P2ZmZmZmZvY/AAAAAAAA+D8AAAAAAADwPwAAAAAAAPg/mpmZmZmZ8T/NzMzMzMz8P83MzMzMzPQ/AAAAAAAA+D8zMzMzMzPzP83MzMzMzPQ/ZmZmZmZm9j9mZmZmZmb2PzMzMzMzM/s/AAAAAAAA+D8AAAAAAADwP5qZmZmZmfE/AAAAAAAA8D8zMzMzMzPzP5qZmZmZmfk/AAAAAAAA+D+amZmZmZn5PwAAAAAAAPg/zczMzMzM9D/NzMzMzMz0P83MzMzMzPQ/MzMzMzMz8z9mZmZmZmb2PzMzMzMzM/M/AAAAAAAA8D/NzMzMzMz0PzMzMzMzM/M/zczMzMzM9D/NzMzMzMz0P5qZmZmZmfE/zczMzMzM9D8AAAAAAAAEQGZmZmZmZv4/zczMzMzMAEDNzMzMzMz8P5qZmZmZmQFAzczMzMzMAEAzMzMzMzP7P83MzMzMzPw/zczMzMzM/D8AAAAAAAAEQAAAAAAAAABAZmZmZmZm/j/NzMzMzMwAQAAAAAAAAABAMzMzMzMzA0BmZmZmZmYCQM3MzMzMzPw/mpmZmZmZAUBmZmZmZmYCQAAAAAAAAPg/ZmZmZmZmAkAAAAAAAAAAQAAAAAAAAABAzczMzMzM/D/NzMzMzMwAQM3MzMzMzPw/zczMzMzM/D/NzMzMzMz8P83MzMzMzABAmpmZmZmZ+T9mZmZmZmb+PwAAAAAAAABAmpmZmZmZAUAAAAAAAAD4P2ZmZmZmZvY/ZmZmZmZmAkAzMzMzMzMDQM3MzMzMzPw/zczMzMzM/D/NzMzMzMwAQDMzMzMzMwNAZmZmZmZmAkBmZmZmZmb+P2ZmZmZmZgJAAAAAAAAABEBmZmZmZmYCQGZmZmZmZv4/AAAAAAAAAEBmZmZmZmYCQM3MzMzMzPw/\",\"dtype\":\"float64\",\"order\":\"little\",\"shape\":[150]},\"sepal_length\":{\"__ndarray__\":\"ZmZmZmZmFECamZmZmZkTQM3MzMzMzBJAZmZmZmZmEkAAAAAAAAAUQJqZmZmZmRVAZmZmZmZmEkAAAAAAAAAUQJqZmZmZmRFAmpmZmZmZE0CamZmZmZkVQDMzMzMzMxNAMzMzMzMzE0AzMzMzMzMRQDMzMzMzMxdAzczMzMzMFkCamZmZmZkVQGZmZmZmZhRAzczMzMzMFkBmZmZmZmYUQJqZmZmZmRVAZmZmZmZmFEBmZmZmZmYSQGZmZmZmZhRAMzMzMzMzE0AAAAAAAAAUQAAAAAAAABRAzczMzMzMFEDNzMzMzMwUQM3MzMzMzBJAMzMzMzMzE0CamZmZmZkVQM3MzMzMzBRAAAAAAAAAFkCamZmZmZkTQAAAAAAAABRAAAAAAAAAFkCamZmZmZkTQJqZmZmZmRFAZmZmZmZmFEAAAAAAAAAUQAAAAAAAABJAmpmZmZmZEUAAAAAAAAAUQGZmZmZmZhRAMzMzMzMzE0BmZmZmZmYUQGZmZmZmZhJAMzMzMzMzFUAAAAAAAAAUQAAAAAAAABxAmpmZmZmZGUCamZmZmZkbQAAAAAAAABZAAAAAAAAAGkDNzMzMzMwWQDMzMzMzMxlAmpmZmZmZE0BmZmZmZmYaQM3MzMzMzBRAAAAAAAAAFECamZmZmZkXQAAAAAAAABhAZmZmZmZmGEBmZmZmZmYWQM3MzMzMzBpAZmZmZmZmFkAzMzMzMzMXQM3MzMzMzBhAZmZmZmZmFkCamZmZmZkXQGZmZmZmZhhAMzMzMzMzGUBmZmZmZmYYQJqZmZmZmRlAZmZmZmZmGkAzMzMzMzMbQM3MzMzMzBpAAAAAAAAAGEDNzMzMzMwWQAAAAAAAABZAAAAAAAAAFkAzMzMzMzMXQAAAAAAAABhAmpmZmZmZFUAAAAAAAAAYQM3MzMzMzBpAMzMzMzMzGUBmZmZmZmYWQAAAAAAAABZAAAAAAAAAFkBmZmZmZmYYQDMzMzMzMxdAAAAAAAAAFEBmZmZmZmYWQM3MzMzMzBZAzczMzMzMFkDNzMzMzMwYQGZmZmZmZhRAzczMzMzMFkAzMzMzMzMZQDMzMzMzMxdAZmZmZmZmHEAzMzMzMzMZQAAAAAAAABpAZmZmZmZmHkCamZmZmZkTQDMzMzMzMx1AzczMzMzMGkDNzMzMzMwcQAAAAAAAABpAmpmZmZmZGUAzMzMzMzMbQM3MzMzMzBZAMzMzMzMzF0CamZmZmZkZQAAAAAAAABpAzczMzMzMHkDNzMzMzMweQAAAAAAAABhAmpmZmZmZG0BmZmZmZmYWQM3MzMzMzB5AMzMzMzMzGUDNzMzMzMwaQM3MzMzMzBxAzczMzMzMGEBmZmZmZmYYQJqZmZmZmRlAzczMzMzMHECamZmZmZkdQJqZmZmZmR9AmpmZmZmZGUAzMzMzMzMZQGZmZmZmZhhAzczMzMzMHkAzMzMzMzMZQJqZmZmZmRlAAAAAAAAAGECamZmZmZkbQM3MzMzMzBpAmpmZmZmZG0AzMzMzMzMXQDMzMzMzMxtAzczMzMzMGkDNzMzMzMwaQDMzMzMzMxlAAAAAAAAAGkDNzMzMzMwYQJqZmZmZmRdA\",\"dtype\":\"float64\",\"order\":\"little\",\"shape\":[150]},\"sepal_width\":{\"__ndarray__\":\"AAAAAAAADEAAAAAAAAAIQJqZmZmZmQlAzczMzMzMCEDNzMzMzMwMQDMzMzMzMw9AMzMzMzMzC0AzMzMzMzMLQDMzMzMzMwdAzczMzMzMCECamZmZmZkNQDMzMzMzMwtAAAAAAAAACEAAAAAAAAAIQAAAAAAAABBAmpmZmZmZEUAzMzMzMzMPQAAAAAAAAAxAZmZmZmZmDkBmZmZmZmYOQDMzMzMzMwtAmpmZmZmZDUDNzMzMzMwMQGZmZmZmZgpAMzMzMzMzC0AAAAAAAAAIQDMzMzMzMwtAAAAAAAAADEAzMzMzMzMLQJqZmZmZmQlAzczMzMzMCEAzMzMzMzMLQGZmZmZmZhBAzczMzMzMEEDNzMzMzMwIQJqZmZmZmQlAAAAAAAAADEDNzMzMzMwMQAAAAAAAAAhAMzMzMzMzC0AAAAAAAAAMQGZmZmZmZgJAmpmZmZmZCUAAAAAAAAAMQGZmZmZmZg5AAAAAAAAACEBmZmZmZmYOQJqZmZmZmQlAmpmZmZmZDUBmZmZmZmYKQJqZmZmZmQlAmpmZmZmZCUDNzMzMzMwIQGZmZmZmZgJAZmZmZmZmBkBmZmZmZmYGQGZmZmZmZgpAMzMzMzMzA0AzMzMzMzMHQJqZmZmZmQVAAAAAAAAAAEAAAAAAAAAIQJqZmZmZmQFAMzMzMzMzB0AzMzMzMzMHQM3MzMzMzAhAAAAAAAAACECamZmZmZkFQJqZmZmZmQFAAAAAAAAABECamZmZmZkJQGZmZmZmZgZAAAAAAAAABEBmZmZmZmYGQDMzMzMzMwdAAAAAAAAACEBmZmZmZmYGQAAAAAAAAAhAMzMzMzMzB0DNzMzMzMwEQDMzMzMzMwNAMzMzMzMzA0CamZmZmZkFQJqZmZmZmQVAAAAAAAAACEAzMzMzMzMLQM3MzMzMzAhAZmZmZmZmAkAAAAAAAAAIQAAAAAAAAARAzczMzMzMBEAAAAAAAAAIQM3MzMzMzARAZmZmZmZmAkCamZmZmZkFQAAAAAAAAAhAMzMzMzMzB0AzMzMzMzMHQAAAAAAAAARAZmZmZmZmBkBmZmZmZmYKQJqZmZmZmQVAAAAAAAAACEAzMzMzMzMHQAAAAAAAAAhAAAAAAAAACEAAAAAAAAAEQDMzMzMzMwdAAAAAAAAABEDNzMzMzMwMQJqZmZmZmQlAmpmZmZmZBUAAAAAAAAAIQAAAAAAAAARAZmZmZmZmBkCamZmZmZkJQAAAAAAAAAhAZmZmZmZmDkDNzMzMzMwEQJqZmZmZmQFAmpmZmZmZCUBmZmZmZmYGQGZmZmZmZgZAmpmZmZmZBUBmZmZmZmYKQJqZmZmZmQlAZmZmZmZmBkAAAAAAAAAIQGZmZmZmZgZAAAAAAAAACEBmZmZmZmYGQGZmZmZmZg5AZmZmZmZmBkBmZmZmZmYGQM3MzMzMzARAAAAAAAAACEAzMzMzMzMLQM3MzMzMzAhAAAAAAAAACEDNzMzMzMwIQM3MzMzMzAhAzczMzMzMCECamZmZmZkFQJqZmZmZmQlAZmZmZmZmCkAAAAAAAAAIQAAAAAAAAARAAAAAAAAACEAzMzMzMzMLQAAAAAAAAAhA\",\"dtype\":\"float64\",\"order\":\"little\",\"shape\":[150]},\"species\":[\"setosa\",\"setosa\",\"setosa\",\"setosa\",\"setosa\",\"setosa\",\"setosa\",\"setosa\",\"setosa\",\"setosa\",\"setosa\",\"setosa\",\"setosa\",\"setosa\",\"setosa\",\"setosa\",\"setosa\",\"setosa\",\"setosa\",\"setosa\",\"setosa\",\"setosa\",\"setosa\",\"setosa\",\"setosa\",\"setosa\",\"setosa\",\"setosa\",\"setosa\",\"setosa\",\"setosa\",\"setosa\",\"setosa\",\"setosa\",\"setosa\",\"setosa\",\"setosa\",\"setosa\",\"setosa\",\"setosa\",\"setosa\",\"setosa\",\"setosa\",\"setosa\",\"setosa\",\"setosa\",\"setosa\",\"setosa\",\"setosa\",\"setosa\",\"versicolor\",\"versicolor\",\"versicolor\",\"versicolor\",\"versicolor\",\"versicolor\",\"versicolor\",\"versicolor\",\"versicolor\",\"versicolor\",\"versicolor\",\"versicolor\",\"versicolor\",\"versicolor\",\"versicolor\",\"versicolor\",\"versicolor\",\"versicolor\",\"versicolor\",\"versicolor\",\"versicolor\",\"versicolor\",\"versicolor\",\"versicolor\",\"versicolor\",\"versicolor\",\"versicolor\",\"versicolor\",\"versicolor\",\"versicolor\",\"versicolor\",\"versicolor\",\"versicolor\",\"versicolor\",\"versicolor\",\"versicolor\",\"versicolor\",\"versicolor\",\"versicolor\",\"versicolor\",\"versicolor\",\"versicolor\",\"versicolor\",\"versicolor\",\"versicolor\",\"versicolor\",\"versicolor\",\"versicolor\",\"versicolor\",\"versicolor\",\"virginica\",\"virginica\",\"virginica\",\"virginica\",\"virginica\",\"virginica\",\"virginica\",\"virginica\",\"virginica\",\"virginica\",\"virginica\",\"virginica\",\"virginica\",\"virginica\",\"virginica\",\"virginica\",\"virginica\",\"virginica\",\"virginica\",\"virginica\",\"virginica\",\"virginica\",\"virginica\",\"virginica\",\"virginica\",\"virginica\",\"virginica\",\"virginica\",\"virginica\",\"virginica\",\"virginica\",\"virginica\",\"virginica\",\"virginica\",\"virginica\",\"virginica\",\"virginica\",\"virginica\",\"virginica\",\"virginica\",\"virginica\",\"virginica\",\"virginica\",\"virginica\",\"virginica\",\"virginica\",\"virginica\",\"virginica\",\"virginica\",\"virginica\"]},\"selected\":{\"id\":\"6410\"},\"selection_policy\":{\"id\":\"6411\"}},\"id\":\"5995\",\"type\":\"ColumnDataSource\"},{\"attributes\":{\"below\":[{\"id\":\"6007\"}],\"center\":[{\"id\":\"6010\"},{\"id\":\"6014\"}],\"left\":[{\"id\":\"6011\"}],\"plot_height\":400,\"plot_width\":400,\"renderers\":[{\"id\":\"6032\"}],\"title\":{\"id\":\"5997\"},\"toolbar\":{\"id\":\"6022\"},\"x_range\":{\"id\":\"5999\"},\"x_scale\":{\"id\":\"6003\"},\"y_range\":{\"id\":\"6001\"},\"y_scale\":{\"id\":\"6005\"}},\"id\":\"5996\",\"subtype\":\"Figure\",\"type\":\"Plot\"},{\"attributes\":{},\"id\":\"6001\",\"type\":\"DataRange1d\"},{\"attributes\":{\"fill_color\":{\"value\":\"blue\"},\"line_color\":{\"value\":\"blue\"},\"x\":{\"field\":\"petal_length\"},\"y\":{\"field\":\"petal_width\"}},\"id\":\"6068\",\"type\":\"Circle\"},{\"attributes\":{\"below\":[{\"id\":\"6083\"}],\"center\":[{\"id\":\"6086\"},{\"id\":\"6090\"}],\"left\":[{\"id\":\"6087\"}],\"plot_height\":400,\"plot_width\":400,\"renderers\":[{\"id\":\"6108\"}],\"title\":{\"id\":\"6073\"},\"toolbar\":{\"id\":\"6098\"},\"x_range\":{\"id\":\"6075\"},\"x_scale\":{\"id\":\"6079\"},\"y_range\":{\"id\":\"6077\"},\"y_scale\":{\"id\":\"6081\"}},\"id\":\"6072\",\"subtype\":\"Figure\",\"type\":\"Plot\"},{\"attributes\":{},\"id\":\"6079\",\"type\":\"LinearScale\"},{\"attributes\":{\"axis\":{\"id\":\"6007\"},\"ticker\":null},\"id\":\"6010\",\"type\":\"Grid\"},{\"attributes\":{},\"id\":\"6053\",\"type\":\"PanTool\"},{\"attributes\":{},\"id\":\"6054\",\"type\":\"WheelZoomTool\"},{\"attributes\":{\"axis_label\":\"Sepal Length\",\"formatter\":{\"id\":\"6400\"},\"ticker\":{\"id\":\"6012\"}},\"id\":\"6011\",\"type\":\"LinearAxis\"},{\"attributes\":{\"overlay\":{\"id\":\"6059\"}},\"id\":\"6055\",\"type\":\"BoxZoomTool\"},{\"attributes\":{},\"id\":\"6005\",\"type\":\"LinearScale\"},{\"attributes\":{},\"id\":\"6056\",\"type\":\"SaveTool\"},{\"attributes\":{},\"id\":\"6057\",\"type\":\"ResetTool\"},{\"attributes\":{},\"id\":\"6008\",\"type\":\"BasicTicker\"},{\"attributes\":{\"axis_label\":\"Petal Length\",\"formatter\":{\"id\":\"6402\"},\"ticker\":{\"id\":\"6008\"}},\"id\":\"6007\",\"type\":\"LinearAxis\"},{\"attributes\":{},\"id\":\"6058\",\"type\":\"HelpTool\"},{\"attributes\":{\"text\":\"Petal Length vs. Sepal Length\"},\"id\":\"5997\",\"type\":\"Title\"},{\"attributes\":{\"axis\":{\"id\":\"6011\"},\"dimension\":1,\"ticker\":null},\"id\":\"6014\",\"type\":\"Grid\"},{\"attributes\":{\"child\":{\"id\":\"5996\"},\"title\":\"Tab 1\"},\"id\":\"6148\",\"type\":\"Panel\"},{\"attributes\":{\"axis\":{\"id\":\"6087\"},\"dimension\":1,\"ticker\":null},\"id\":\"6090\",\"type\":\"Grid\"},{\"attributes\":{\"bottom_units\":\"screen\",\"fill_alpha\":0.5,\"fill_color\":\"lightgrey\",\"left_units\":\"screen\",\"level\":\"overlay\",\"line_alpha\":1.0,\"line_color\":\"black\",\"line_dash\":[4,4],\"line_width\":2,\"right_units\":\"screen\",\"top_units\":\"screen\"},\"id\":\"6059\",\"type\":\"BoxAnnotation\"},{\"attributes\":{\"active_drag\":\"auto\",\"active_inspect\":\"auto\",\"active_multi\":null,\"active_scroll\":\"auto\",\"active_tap\":\"auto\",\"tools\":[{\"id\":\"6053\"},{\"id\":\"6054\"},{\"id\":\"6055\"},{\"id\":\"6056\"},{\"id\":\"6057\"},{\"id\":\"6058\"}]},\"id\":\"6060\",\"type\":\"Toolbar\"},{\"attributes\":{},\"id\":\"6404\",\"type\":\"BasicTickFormatter\"},{\"attributes\":{\"data_source\":{\"id\":\"5995\"},\"glyph\":{\"id\":\"6068\"},\"hover_glyph\":null,\"muted_glyph\":null,\"nonselection_glyph\":{\"id\":\"6069\"},\"selection_glyph\":null,\"view\":{\"id\":\"6071\"}},\"id\":\"6070\",\"type\":\"GlyphRenderer\"},{\"attributes\":{\"source\":{\"id\":\"5995\"}},\"id\":\"6071\",\"type\":\"CDSView\"},{\"attributes\":{\"fill_color\":{\"value\":\"green\"},\"line_color\":{\"value\":\"green\"},\"x\":{\"field\":\"sepal_length\"},\"y\":{\"field\":\"sepal_width\"}},\"id\":\"6106\",\"type\":\"Circle\"},{\"attributes\":{\"text\":\"Sepal Length vs. Sepal Width\"},\"id\":\"6073\",\"type\":\"Title\"},{\"attributes\":{\"axis_label\":\"Sepal Width\",\"formatter\":{\"id\":\"6414\"},\"ticker\":{\"id\":\"6088\"}},\"id\":\"6087\",\"type\":\"LinearAxis\"},{\"attributes\":{},\"id\":\"6088\",\"type\":\"BasicTicker\"},{\"attributes\":{\"fill_alpha\":{\"value\":0.1},\"fill_color\":{\"value\":\"green\"},\"line_alpha\":{\"value\":0.1},\"line_color\":{\"value\":\"green\"},\"x\":{\"field\":\"sepal_length\"},\"y\":{\"field\":\"sepal_width\"}},\"id\":\"6107\",\"type\":\"Circle\"},{\"attributes\":{\"below\":[{\"id\":\"6121\"}],\"center\":[{\"id\":\"6124\"},{\"id\":\"6128\"}],\"left\":[{\"id\":\"6125\"}],\"plot_height\":400,\"plot_width\":400,\"renderers\":[{\"id\":\"6146\"}],\"title\":{\"id\":\"6111\"},\"toolbar\":{\"id\":\"6136\"},\"x_range\":{\"id\":\"6113\"},\"x_scale\":{\"id\":\"6117\"},\"y_range\":{\"id\":\"6115\"},\"y_scale\":{\"id\":\"6119\"}},\"id\":\"6110\",\"subtype\":\"Figure\",\"type\":\"Plot\"},{\"attributes\":{},\"id\":\"6411\",\"type\":\"UnionRenderers\"},{\"attributes\":{},\"id\":\"6091\",\"type\":\"PanTool\"},{\"attributes\":{},\"id\":\"6092\",\"type\":\"WheelZoomTool\"},{\"attributes\":{\"overlay\":{\"id\":\"6097\"}},\"id\":\"6093\",\"type\":\"BoxZoomTool\"},{\"attributes\":{},\"id\":\"6094\",\"type\":\"SaveTool\"},{\"attributes\":{},\"id\":\"6095\",\"type\":\"ResetTool\"},{\"attributes\":{},\"id\":\"6096\",\"type\":\"HelpTool\"},{\"attributes\":{},\"id\":\"6414\",\"type\":\"BasicTickFormatter\"},{\"attributes\":{\"active_drag\":\"auto\",\"active_inspect\":\"auto\",\"active_multi\":null,\"active_scroll\":\"auto\",\"active_tap\":\"auto\",\"tools\":[{\"id\":\"6091\"},{\"id\":\"6092\"},{\"id\":\"6093\"},{\"id\":\"6094\"},{\"id\":\"6095\"},{\"id\":\"6096\"}]},\"id\":\"6098\",\"type\":\"Toolbar\"},{\"attributes\":{},\"id\":\"6410\",\"type\":\"Selection\"},{\"attributes\":{},\"id\":\"6406\",\"type\":\"BasicTickFormatter\"},{\"attributes\":{\"bottom_units\":\"screen\",\"fill_alpha\":0.5,\"fill_color\":\"lightgrey\",\"left_units\":\"screen\",\"level\":\"overlay\",\"line_alpha\":1.0,\"line_color\":\"black\",\"line_dash\":[4,4],\"line_width\":2,\"right_units\":\"screen\",\"top_units\":\"screen\"},\"id\":\"6097\",\"type\":\"BoxAnnotation\"},{\"attributes\":{},\"id\":\"6402\",\"type\":\"BasicTickFormatter\"},{\"attributes\":{\"data_source\":{\"id\":\"5995\"},\"glyph\":{\"id\":\"6106\"},\"hover_glyph\":null,\"muted_glyph\":null,\"nonselection_glyph\":{\"id\":\"6107\"},\"selection_glyph\":null,\"view\":{\"id\":\"6109\"}},\"id\":\"6108\",\"type\":\"GlyphRenderer\"},{\"attributes\":{\"source\":{\"id\":\"5995\"}},\"id\":\"6109\",\"type\":\"CDSView\"},{\"attributes\":{\"text\":\"Sepal Width vs. Petal Width\"},\"id\":\"6111\",\"type\":\"Title\"},{\"attributes\":{},\"id\":\"6113\",\"type\":\"DataRange1d\"},{\"attributes\":{},\"id\":\"6115\",\"type\":\"DataRange1d\"},{\"attributes\":{},\"id\":\"6117\",\"type\":\"LinearScale\"},{\"attributes\":{},\"id\":\"6119\",\"type\":\"LinearScale\"},{\"attributes\":{\"axis_label\":\"Sepal Width\",\"formatter\":{\"id\":\"6420\"},\"ticker\":{\"id\":\"6122\"}},\"id\":\"6121\",\"type\":\"LinearAxis\"},{\"attributes\":{},\"id\":\"6122\",\"type\":\"BasicTicker\"},{\"attributes\":{\"axis\":{\"id\":\"6121\"},\"ticker\":null},\"id\":\"6124\",\"type\":\"Grid\"},{\"attributes\":{\"axis_label\":\"Petal Width\",\"formatter\":{\"id\":\"6418\"},\"ticker\":{\"id\":\"6126\"}},\"id\":\"6125\",\"type\":\"LinearAxis\"}],\"root_ids\":[\"6152\"]},\"title\":\"Bokeh Application\",\"version\":\"2.1.1\"}};\n",
       "  var render_items = [{\"docid\":\"9cfef8ea-9108-406e-a366-46c05ad5a615\",\"root_ids\":[\"6152\"],\"roots\":{\"6152\":\"b8b14811-c959-47e9-9c83-87b6b1b37abe\"}}];\n",
       "  root.Bokeh.embed.embed_items_notebook(docs_json, render_items);\n",
       "\n",
       "  }\n",
       "  if (root.Bokeh !== undefined) {\n",
       "    embed_document(root);\n",
       "  } else {\n",
       "    var attempts = 0;\n",
       "    var timer = setInterval(function(root) {\n",
       "      if (root.Bokeh !== undefined) {\n",
       "        clearInterval(timer);\n",
       "        embed_document(root);\n",
       "      } else {\n",
       "        attempts++;\n",
       "        if (attempts > 100) {\n",
       "          clearInterval(timer);\n",
       "          console.log(\"Bokeh: ERROR: Unable to run BokehJS code because BokehJS library is missing\");\n",
       "        }\n",
       "      }\n",
       "    }, 10, root)\n",
       "  }\n",
       "})(window);"
      ],
      "application/vnd.bokehjs_exec.v0+json": ""
     },
     "metadata": {
      "application/vnd.bokehjs_exec.v0+json": {
       "id": "6152"
      }
     },
     "output_type": "display_data"
    }
   ],
   "source": [
    "source = ColumnDataSource(flowers)\n",
    "\n",
    "p1 = figure(plot_width=400, plot_height=400, x_axis_label='Petal Length', y_axis_label='Sepal Length',\n",
    "           title='Petal Length vs. Sepal Length')\n",
    "p1.circle('petal_length', 'sepal_length', source=source, color='red')\n",
    "\n",
    "p2 = figure(plot_width=400, plot_height=400, x_axis_label='Petal Length', y_axis_label='Petal Width',\n",
    "           title='Petal Length vs. Petal Width')\n",
    "p2.circle('petal_length', 'petal_width', source=source, color='blue')\n",
    "\n",
    "p3 = figure(plot_width=400, plot_height=400, x_axis_label='Sepal Length', y_axis_label='Sepal Width',\n",
    "           title='Sepal Length vs. Sepal Width')\n",
    "p3.circle('sepal_length', 'sepal_width', source=source, color='green')\n",
    "\n",
    "p4 = figure(plot_width=400, plot_height=400, x_axis_label='Sepal Width', y_axis_label='Petal Width',\n",
    "           title='Sepal Width vs. Petal Width')\n",
    "p4.circle('sepal_width', 'petal_width', source=source, color='gold')\n",
    "\n",
    "# tab 설정\n",
    "\n",
    "tab1 = Panel(child=p1, title='Tab 1')\n",
    "tab2 = Panel(child=p2, title='Tab 2')\n",
    "tab3 = Panel(child=row(p3, p4), title='Tab 3')\n",
    "# child: tab 안에 딸릴 plots\n",
    "\n",
    "tabs = Tabs(tabs=[tab1, tab2, tab3])\n",
    "show(tabs) # tabs를 show해야함."
   ]
  },
  {
   "cell_type": "markdown",
   "metadata": {},
   "source": [
    "# 4. Various Widgets\n",
    "- 데이터 분석 결과를 확인할 때 input parameter 들을 바꾸는 과정에서 같은 코드를 여러번 반복하지 않고 효율적으로 볼 수 있다.\n",
    "- bokeh에만 한정된 것 아님"
   ]
  },
  {
   "cell_type": "markdown",
   "metadata": {},
   "source": [
    "## 1) Dropdowns & Sliders"
   ]
  },
  {
   "cell_type": "code",
   "execution_count": 44,
   "metadata": {
    "scrolled": true
   },
   "outputs": [
    {
     "data": {
      "text/html": [
       "<div>\n",
       "<style scoped>\n",
       "    .dataframe tbody tr th:only-of-type {\n",
       "        vertical-align: middle;\n",
       "    }\n",
       "\n",
       "    .dataframe tbody tr th {\n",
       "        vertical-align: top;\n",
       "    }\n",
       "\n",
       "    .dataframe thead th {\n",
       "        text-align: right;\n",
       "    }\n",
       "</style>\n",
       "<table border=\"1\" class=\"dataframe\">\n",
       "  <thead>\n",
       "    <tr style=\"text-align: right;\">\n",
       "      <th></th>\n",
       "      <th>date</th>\n",
       "      <th>avg_temp</th>\n",
       "      <th>min_temp</th>\n",
       "      <th>max_temp</th>\n",
       "    </tr>\n",
       "  </thead>\n",
       "  <tbody>\n",
       "    <tr>\n",
       "      <th>0</th>\n",
       "      <td>1</td>\n",
       "      <td>21.1</td>\n",
       "      <td>18.1</td>\n",
       "      <td>24.3</td>\n",
       "    </tr>\n",
       "    <tr>\n",
       "      <th>1</th>\n",
       "      <td>2</td>\n",
       "      <td>24.2</td>\n",
       "      <td>20.4</td>\n",
       "      <td>29.8</td>\n",
       "    </tr>\n",
       "    <tr>\n",
       "      <th>2</th>\n",
       "      <td>3</td>\n",
       "      <td>25.5</td>\n",
       "      <td>21.6</td>\n",
       "      <td>30.6</td>\n",
       "    </tr>\n",
       "    <tr>\n",
       "      <th>3</th>\n",
       "      <td>4</td>\n",
       "      <td>24.2</td>\n",
       "      <td>20.4</td>\n",
       "      <td>29.5</td>\n",
       "    </tr>\n",
       "    <tr>\n",
       "      <th>4</th>\n",
       "      <td>5</td>\n",
       "      <td>23.8</td>\n",
       "      <td>19.9</td>\n",
       "      <td>27.6</td>\n",
       "    </tr>\n",
       "  </tbody>\n",
       "</table>\n",
       "</div>"
      ],
      "text/plain": [
       "   date  avg_temp  min_temp  max_temp\n",
       "0     1      21.1      18.1      24.3\n",
       "1     2      24.2      20.4      29.8\n",
       "2     3      25.5      21.6      30.6\n",
       "3     4      24.2      20.4      29.5\n",
       "4     5      23.8      19.9      27.6"
      ]
     },
     "execution_count": 44,
     "metadata": {},
     "output_type": "execute_result"
    }
   ],
   "source": [
    "import pandas as pd\n",
    "import numpy as np\n",
    "temp = pd.read_csv('temp.csv')\n",
    "temp.head()"
   ]
  },
  {
   "cell_type": "code",
   "execution_count": 45,
   "metadata": {},
   "outputs": [],
   "source": [
    "from bokeh.io import push_notebook\n",
    "# 위젯 추가\n",
    "import ipywidgets as widgets\n",
    "from ipywidgets import interact\n",
    "from ipywidgets.embed import embed_minimal_html"
   ]
  },
  {
   "cell_type": "code",
   "execution_count": 84,
   "metadata": {
    "scrolled": false
   },
   "outputs": [
    {
     "data": {
      "text/html": [
       "\n",
       "\n",
       "\n",
       "\n",
       "\n",
       "\n",
       "  <div class=\"bk-root\" id=\"f2724ecf-6c3b-4d60-8dbb-8762f3a63e78\" data-root-id=\"14785\"></div>\n"
      ]
     },
     "metadata": {},
     "output_type": "display_data"
    },
    {
     "data": {
      "application/javascript": [
       "(function(root) {\n",
       "  function embed_document(root) {\n",
       "    \n",
       "  var docs_json = {\"31b47a9b-ac1d-484c-9a74-34d0e7e09066\":{\"roots\":{\"references\":[{\"attributes\":{\"below\":[{\"id\":\"14794\"}],\"center\":[{\"id\":\"14797\"},{\"id\":\"14801\"}],\"left\":[{\"id\":\"14798\"}],\"renderers\":[{\"id\":\"14819\"}],\"title\":{\"id\":\"15250\"},\"toolbar\":{\"id\":\"14809\"},\"x_range\":{\"id\":\"14786\"},\"x_scale\":{\"id\":\"14790\"},\"y_range\":{\"id\":\"14788\"},\"y_scale\":{\"id\":\"14792\"}},\"id\":\"14785\",\"subtype\":\"Figure\",\"type\":\"Plot\"},{\"attributes\":{},\"id\":\"14803\",\"type\":\"WheelZoomTool\"},{\"attributes\":{\"overlay\":{\"id\":\"14808\"}},\"id\":\"14804\",\"type\":\"BoxZoomTool\"},{\"attributes\":{},\"id\":\"14790\",\"type\":\"LinearScale\"},{\"attributes\":{},\"id\":\"14806\",\"type\":\"ResetTool\"},{\"attributes\":{},\"id\":\"14805\",\"type\":\"SaveTool\"},{\"attributes\":{},\"id\":\"15253\",\"type\":\"BasicTickFormatter\"},{\"attributes\":{},\"id\":\"14807\",\"type\":\"HelpTool\"},{\"attributes\":{\"axis\":{\"id\":\"14794\"},\"ticker\":null},\"id\":\"14797\",\"type\":\"Grid\"},{\"attributes\":{\"active_drag\":\"auto\",\"active_inspect\":\"auto\",\"active_multi\":null,\"active_scroll\":\"auto\",\"active_tap\":\"auto\",\"tools\":[{\"id\":\"14802\"},{\"id\":\"14803\"},{\"id\":\"14804\"},{\"id\":\"14805\"},{\"id\":\"14806\"},{\"id\":\"14807\"}]},\"id\":\"14809\",\"type\":\"Toolbar\"},{\"attributes\":{\"fill_alpha\":{\"value\":0.1},\"fill_color\":{\"value\":\"#1f77b4\"},\"line_alpha\":{\"value\":0.1},\"line_color\":{\"value\":\"#1f77b4\"},\"x\":{\"field\":\"min_temp\"},\"y\":{\"field\":\"max_temp\"}},\"id\":\"14818\",\"type\":\"Circle\"},{\"attributes\":{\"axis_label\":\"max_temp\",\"formatter\":{\"id\":\"15253\"},\"ticker\":{\"id\":\"14799\"}},\"id\":\"14798\",\"type\":\"LinearAxis\"},{\"attributes\":{},\"id\":\"14788\",\"type\":\"DataRange1d\"},{\"attributes\":{\"bottom_units\":\"screen\",\"fill_alpha\":0.5,\"fill_color\":\"lightgrey\",\"left_units\":\"screen\",\"level\":\"overlay\",\"line_alpha\":1.0,\"line_color\":\"black\",\"line_dash\":[4,4],\"line_width\":2,\"right_units\":\"screen\",\"top_units\":\"screen\"},\"id\":\"14808\",\"type\":\"BoxAnnotation\"},{\"attributes\":{\"source\":{\"id\":\"14784\"}},\"id\":\"14820\",\"type\":\"CDSView\"},{\"attributes\":{},\"id\":\"14799\",\"type\":\"BasicTicker\"},{\"attributes\":{\"data\":{\"avg_temp\":{\"__ndarray__\":\"mpmZmZkZNUAzMzMzMzM4QAAAAAAAgDlAMzMzMzMzOEDNzMzMzMw3QJqZmZmZmTlAmpmZmZkZOEAAAAAAAIA5QAAAAAAAgDtAAAAAAACAOEDNzMzMzMw5QAAAAAAAgDdAMzMzMzOzMkDNzMzMzEw0QGZmZmZmZjdAAAAAAAAAOUAAAAAAAAA6QJqZmZmZGTpAAAAAAAAAOEDNzMzMzMw3QAAAAAAAADlAMzMzMzOzN0CamZmZmRk1QAAAAAAAgDZAzczMzMxMOEBmZmZmZmY5QM3MzMzMTDhAZmZmZmZmOEAzMzMzM7M3QM3MzMzMTDlAMzMzMzMzOkA=\",\"dtype\":\"float64\",\"order\":\"little\",\"shape\":[31]},\"date\":[1,2,3,4,5,6,7,8,9,10,11,12,13,14,15,16,17,18,19,20,21,22,23,24,25,26,27,28,29,30,31],\"index\":[0,1,2,3,4,5,6,7,8,9,10,11,12,13,14,15,16,17,18,19,20,21,22,23,24,25,26,27,28,29,30],\"max_temp\":{\"__ndarray__\":\"zczMzMxMOEDNzMzMzMw9QJqZmZmZmT5AAAAAAACAPUCamZmZmZk7QGZmZmZm5j5AmpmZmZkZPEBmZmZmZmY+QDMzMzMzc0BAMzMzMzOzO0AzMzMzMzM+QAAAAAAAADpAMzMzMzOzNUDNzMzMzEw4QDMzMzMzszxAMzMzMzOzPUCamZmZmZk/QAAAAAAAAD9AmpmZmZmZOkCamZmZmZk6QAAAAAAAgD5AMzMzMzOzOUCamZmZmZk2QM3MzMzMzDpAAAAAAAAAPUCamZmZmZk9QAAAAAAAgDlAZmZmZmZmOkBmZmZmZuY4QGZmZmZmZjxAmpmZmZmZPUA=\",\"dtype\":\"float64\",\"order\":\"little\",\"shape\":[31]},\"min_temp\":{\"__ndarray__\":\"mpmZmZkZMkBmZmZmZmY0QJqZmZmZmTVAZmZmZmZmNEBmZmZmZuYzQM3MzMzMzDVAmpmZmZkZNkDNzMzMzEw1QM3MzMzMzDVAMzMzMzOzNkAzMzMzMzM2QDMzMzMzszVAMzMzMzOzMUAzMzMzMzMxQGZmZmZm5jJAZmZmZmZmNEAAAAAAAIA1QM3MzMzMzDZAmpmZmZmZNEBmZmZmZmY2QGZmZmZmZjVAmpmZmZmZNkAAAAAAAIAyQDMzMzMzszJAzczMzMxMNkCamZmZmZk1QGZmZmZm5jZAMzMzMzOzNkCamZmZmZk2QGZmZmZmZjdAzczMzMzMNkA=\",\"dtype\":\"float64\",\"order\":\"little\",\"shape\":[31]}},\"selected\":{\"id\":\"15257\"},\"selection_policy\":{\"id\":\"15258\"}},\"id\":\"14784\",\"type\":\"ColumnDataSource\"},{\"attributes\":{\"fill_color\":{\"value\":\"#1f77b4\"},\"line_color\":{\"value\":\"#1f77b4\"},\"x\":{\"field\":\"min_temp\"},\"y\":{\"field\":\"max_temp\"}},\"id\":\"14817\",\"type\":\"Circle\"},{\"attributes\":{},\"id\":\"14792\",\"type\":\"LinearScale\"},{\"attributes\":{},\"id\":\"15255\",\"type\":\"BasicTickFormatter\"},{\"attributes\":{\"data_source\":{\"id\":\"14784\"},\"glyph\":{\"id\":\"14817\"},\"hover_glyph\":null,\"muted_glyph\":null,\"nonselection_glyph\":{\"id\":\"14818\"},\"selection_glyph\":null,\"view\":{\"id\":\"14820\"}},\"id\":\"14819\",\"type\":\"GlyphRenderer\"},{\"attributes\":{},\"id\":\"15257\",\"type\":\"Selection\"},{\"attributes\":{},\"id\":\"14786\",\"type\":\"DataRange1d\"},{\"attributes\":{},\"id\":\"14802\",\"type\":\"PanTool\"},{\"attributes\":{},\"id\":\"15258\",\"type\":\"UnionRenderers\"},{\"attributes\":{},\"id\":\"14795\",\"type\":\"BasicTicker\"},{\"attributes\":{\"axis_label\":\"min_temp\",\"formatter\":{\"id\":\"15255\"},\"ticker\":{\"id\":\"14795\"}},\"id\":\"14794\",\"type\":\"LinearAxis\"},{\"attributes\":{\"text\":\"\"},\"id\":\"15250\",\"type\":\"Title\"},{\"attributes\":{\"axis\":{\"id\":\"14798\"},\"dimension\":1,\"ticker\":null},\"id\":\"14801\",\"type\":\"Grid\"}],\"root_ids\":[\"14785\"]},\"title\":\"Bokeh Application\",\"version\":\"2.1.1\"}};\n",
       "  var render_items = [{\"docid\":\"31b47a9b-ac1d-484c-9a74-34d0e7e09066\",\"notebook_comms_target\":\"15259\",\"root_ids\":[\"14785\"],\"roots\":{\"14785\":\"f2724ecf-6c3b-4d60-8dbb-8762f3a63e78\"}}];\n",
       "  root.Bokeh.embed.embed_items_notebook(docs_json, render_items);\n",
       "\n",
       "  }\n",
       "  if (root.Bokeh !== undefined) {\n",
       "    embed_document(root);\n",
       "  } else {\n",
       "    var attempts = 0;\n",
       "    var timer = setInterval(function(root) {\n",
       "      if (root.Bokeh !== undefined) {\n",
       "        clearInterval(timer);\n",
       "        embed_document(root);\n",
       "      } else {\n",
       "        attempts++;\n",
       "        if (attempts > 100) {\n",
       "          clearInterval(timer);\n",
       "          console.log(\"Bokeh: ERROR: Unable to run BokehJS code because BokehJS library is missing\");\n",
       "        }\n",
       "      }\n",
       "    }, 10, root)\n",
       "  }\n",
       "})(window);"
      ],
      "application/vnd.bokehjs_exec.v0+json": ""
     },
     "metadata": {
      "application/vnd.bokehjs_exec.v0+json": {
       "id": "14785"
      }
     },
     "output_type": "display_data"
    },
    {
     "data": {
      "application/vnd.jupyter.widget-view+json": {
       "model_id": "8a9f623758a147adba3087c5a8c4ac0e",
       "version_major": 2,
       "version_minor": 0
      },
      "text/plain": [
       "interactive(children=(IntSlider(value=1, description='v1', max=31, min=1), IntSlider(value=10, description='v2…"
      ]
     },
     "metadata": {},
     "output_type": "display_data"
    },
    {
     "data": {
      "text/plain": [
       "<function __main__.update(v1, v2)>"
      ]
     },
     "execution_count": 84,
     "metadata": {},
     "output_type": "execute_result"
    }
   ],
   "source": [
    "# 과정: 바꿔줄 변수 설정 -> 그것으로 위젯 설정\n",
    "source = ColumnDataSource(temp)\n",
    "\n",
    "# plot\n",
    "p = figure(x_axis_label='min_temp',y_axis_label='max_temp')\n",
    "p.circle('min_temp','max_temp',source=source)\n",
    "\n",
    "def update(v1,v2):\n",
    "    new_min = temp[(v1<temp['date']) & (temp['date']<=v2)]['min_temp']\n",
    "    new_max = temp[(v1<temp['date']) & (temp['date']<=v2)]['max_temp']\n",
    "    source.data = {'min_temp': new_min, 'max_temp':new_max} \n",
    "    # source.data: dictionary 형태로 되어있음\n",
    "    push_notebook()\n",
    "    \n",
    "show(p, notebook_handle=True) #jupyter에서 조절 가능\n",
    "interact(update, v1=widgets.IntSlider(min=1,max=31,step=1,value=1),\n",
    "        v2=widgets.IntSlider(min=1,max=31,step=1,value=10)) # value: 초기값"
   ]
  },
  {
   "cell_type": "markdown",
   "metadata": {},
   "source": [
    "### Decorator 이용"
   ]
  },
  {
   "cell_type": "code",
   "execution_count": 85,
   "metadata": {},
   "outputs": [
    {
     "data": {
      "application/vnd.jupyter.widget-view+json": {
       "model_id": "e5a4d73f986a4743b4ce0b354d1df522",
       "version_major": 2,
       "version_minor": 0
      },
      "text/plain": [
       "interactive(children=(Dropdown(description='c1', options=('red', 'blue', 'green'), value='red'), Dropdown(desc…"
      ]
     },
     "metadata": {},
     "output_type": "display_data"
    }
   ],
   "source": [
    "# @interact(조절하고 싶은 변수 넣어주기!)\n",
    "  # input을 따로 조정할 필요가 없이 input type을 바로 지정하는 것!\n",
    "  # list로 지정할 시 dropdown메뉴, tuple로 지정할 시 slide로 변수지정!\n",
    "\n",
    "source = ColumnDataSource(temp)\n",
    "\n",
    "cp = ['red','blue','green']\n",
    "@interact(c1=cp, c2=cp, c3=cp, w=(300,500), h=(400,600)) #decorator\n",
    "def color(c1, c2, c3, w, h):\n",
    "    p = figure(plot_width=w, plot_height=h)\n",
    "    p.circle(x='date', y='min_temp', color=c1,source=source)\n",
    "    p.line(x='date', y='avg_temp', color=c2,source=source)\n",
    "    p.circle(x='date', y='max_temp', color=c3,source=source)\n",
    "    show(p)"
   ]
  },
  {
   "cell_type": "code",
   "execution_count": 50,
   "metadata": {},
   "outputs": [
    {
     "data": {
      "application/vnd.jupyter.widget-view+json": {
       "model_id": "b65295ae307c4fbcbea1507f60571290",
       "version_major": 2,
       "version_minor": 0
      },
      "text/plain": [
       "interactive(children=(Dropdown(description='mu', options=(0, 1, 2, 3), value=0), IntSlider(value=3, descriptio…"
      ]
     },
     "metadata": {},
     "output_type": "display_data"
    }
   ],
   "source": [
    "x = np.linspace(-5,5,100)\n",
    "\n",
    "@interact(mu=[0,1,2,3],sigma=(1,5))\n",
    "def update(mu, sigma):\n",
    "    p = figure(plot_width=800, plot_height=400)\n",
    "    new_y = 1/(sigma * np.sqrt(2 * np.pi)) * np.exp(-(x-mu)**2 / \n",
    "                                                    (2 * sigma **2))\n",
    "    p.line(x,new_y, color=\"#2222aa\", line_width=3)\n",
    "    show(p)"
   ]
  },
  {
   "cell_type": "code",
   "execution_count": 51,
   "metadata": {},
   "outputs": [
    {
     "data": {
      "application/vnd.jupyter.widget-view+json": {
       "model_id": "a13aa5b843fe421fa3e1eefb23a708f5",
       "version_major": 2,
       "version_minor": 0
      },
      "text/plain": [
       "interactive(children=(IntSlider(value=3, description='shape', max=5, min=1), Play(value=1, description='Press …"
      ]
     },
     "metadata": {},
     "output_type": "display_data"
    }
   ],
   "source": [
    "from scipy.stats import gamma\n",
    "x = np.linspace(0,20,100)\n",
    "\n",
    "@interact(shape=(1,5), scale=widgets.Play(value=1,min=1,max=50,\n",
    "                                          step=1,interval=500,\n",
    "                                          description=\"Press play\"))\n",
    "def update(shape,scale):\n",
    "    p = figure(plot_width=800,plot_height=400)\n",
    "    new_y = gamma(shape, 0, scale).pdf(x)\n",
    "    p.line(x,new_y, color=\"#2222aa\", line_width=2)\n",
    "    show(p)"
   ]
  },
  {
   "cell_type": "markdown",
   "metadata": {},
   "source": [
    "### 2) with Matplotlib & Seaborn"
   ]
  },
  {
   "cell_type": "code",
   "execution_count": 86,
   "metadata": {},
   "outputs": [],
   "source": [
    "import matplotlib.pyplot as plt\n",
    "import seaborn as sns"
   ]
  },
  {
   "cell_type": "code",
   "execution_count": 90,
   "metadata": {},
   "outputs": [
    {
     "data": {
      "text/html": [
       "<div>\n",
       "<style scoped>\n",
       "    .dataframe tbody tr th:only-of-type {\n",
       "        vertical-align: middle;\n",
       "    }\n",
       "\n",
       "    .dataframe tbody tr th {\n",
       "        vertical-align: top;\n",
       "    }\n",
       "\n",
       "    .dataframe thead th {\n",
       "        text-align: right;\n",
       "    }\n",
       "</style>\n",
       "<table border=\"1\" class=\"dataframe\">\n",
       "  <thead>\n",
       "    <tr style=\"text-align: right;\">\n",
       "      <th></th>\n",
       "      <th>title</th>\n",
       "      <th>distributor</th>\n",
       "      <th>genre</th>\n",
       "      <th>release_time</th>\n",
       "      <th>time</th>\n",
       "      <th>screening_rat</th>\n",
       "      <th>director</th>\n",
       "      <th>dir_prev_bfnum</th>\n",
       "      <th>dir_prev_num</th>\n",
       "      <th>num_staff</th>\n",
       "      <th>num_actor</th>\n",
       "      <th>box_off_num</th>\n",
       "    </tr>\n",
       "  </thead>\n",
       "  <tbody>\n",
       "    <tr>\n",
       "      <th>0</th>\n",
       "      <td>개들의 전쟁</td>\n",
       "      <td>롯데엔터테인먼트</td>\n",
       "      <td>액션</td>\n",
       "      <td>2012-11-22</td>\n",
       "      <td>96</td>\n",
       "      <td>청소년 관람불가</td>\n",
       "      <td>조병옥</td>\n",
       "      <td>NaN</td>\n",
       "      <td>0</td>\n",
       "      <td>91</td>\n",
       "      <td>2</td>\n",
       "      <td>23398</td>\n",
       "    </tr>\n",
       "    <tr>\n",
       "      <th>1</th>\n",
       "      <td>내부자들</td>\n",
       "      <td>(주)쇼박스</td>\n",
       "      <td>느와르</td>\n",
       "      <td>2015-11-19</td>\n",
       "      <td>130</td>\n",
       "      <td>청소년 관람불가</td>\n",
       "      <td>우민호</td>\n",
       "      <td>1161602.50</td>\n",
       "      <td>2</td>\n",
       "      <td>387</td>\n",
       "      <td>3</td>\n",
       "      <td>7072501</td>\n",
       "    </tr>\n",
       "    <tr>\n",
       "      <th>2</th>\n",
       "      <td>은밀하게 위대하게</td>\n",
       "      <td>(주)쇼박스</td>\n",
       "      <td>액션</td>\n",
       "      <td>2013-06-05</td>\n",
       "      <td>123</td>\n",
       "      <td>15세 관람가</td>\n",
       "      <td>장철수</td>\n",
       "      <td>220775.25</td>\n",
       "      <td>4</td>\n",
       "      <td>343</td>\n",
       "      <td>4</td>\n",
       "      <td>6959083</td>\n",
       "    </tr>\n",
       "    <tr>\n",
       "      <th>3</th>\n",
       "      <td>나는 공무원이다</td>\n",
       "      <td>(주)NEW</td>\n",
       "      <td>코미디</td>\n",
       "      <td>2012-07-12</td>\n",
       "      <td>101</td>\n",
       "      <td>전체 관람가</td>\n",
       "      <td>구자홍</td>\n",
       "      <td>23894.00</td>\n",
       "      <td>2</td>\n",
       "      <td>20</td>\n",
       "      <td>6</td>\n",
       "      <td>217866</td>\n",
       "    </tr>\n",
       "    <tr>\n",
       "      <th>4</th>\n",
       "      <td>불량남녀</td>\n",
       "      <td>쇼박스(주)미디어플렉스</td>\n",
       "      <td>코미디</td>\n",
       "      <td>2010-11-04</td>\n",
       "      <td>108</td>\n",
       "      <td>15세 관람가</td>\n",
       "      <td>신근호</td>\n",
       "      <td>1.00</td>\n",
       "      <td>1</td>\n",
       "      <td>251</td>\n",
       "      <td>2</td>\n",
       "      <td>483387</td>\n",
       "    </tr>\n",
       "  </tbody>\n",
       "</table>\n",
       "</div>"
      ],
      "text/plain": [
       "       title   distributor genre release_time  time screening_rat director  \\\n",
       "0     개들의 전쟁      롯데엔터테인먼트    액션   2012-11-22    96      청소년 관람불가      조병옥   \n",
       "1       내부자들        (주)쇼박스   느와르   2015-11-19   130      청소년 관람불가      우민호   \n",
       "2  은밀하게 위대하게        (주)쇼박스    액션   2013-06-05   123       15세 관람가      장철수   \n",
       "3   나는 공무원이다        (주)NEW   코미디   2012-07-12   101        전체 관람가      구자홍   \n",
       "4       불량남녀  쇼박스(주)미디어플렉스   코미디   2010-11-04   108       15세 관람가      신근호   \n",
       "\n",
       "   dir_prev_bfnum  dir_prev_num  num_staff  num_actor  box_off_num  \n",
       "0             NaN             0         91          2        23398  \n",
       "1      1161602.50             2        387          3      7072501  \n",
       "2       220775.25             4        343          4      6959083  \n",
       "3        23894.00             2         20          6       217866  \n",
       "4            1.00             1        251          2       483387  "
      ]
     },
     "execution_count": 90,
     "metadata": {},
     "output_type": "execute_result"
    }
   ],
   "source": [
    "movie = pd.read_csv('movies.csv')\n",
    "movie.head()"
   ]
  },
  {
   "cell_type": "code",
   "execution_count": 91,
   "metadata": {},
   "outputs": [
    {
     "data": {
      "text/plain": [
       "['액션',\n",
       " '느와르',\n",
       " '코미디',\n",
       " '다큐멘터리',\n",
       " '뮤지컬',\n",
       " '드라마',\n",
       " '멜로/로맨스',\n",
       " '공포',\n",
       " '서스펜스',\n",
       " '애니메이션',\n",
       " '미스터리',\n",
       " 'SF']"
      ]
     },
     "execution_count": 91,
     "metadata": {},
     "output_type": "execute_result"
    }
   ],
   "source": [
    "gnr = list(movie['genre'].unique())\n",
    "gnr"
   ]
  },
  {
   "cell_type": "code",
   "execution_count": 92,
   "metadata": {
    "scrolled": true
   },
   "outputs": [
    {
     "data": {
      "application/vnd.jupyter.widget-view+json": {
       "model_id": "ba6cadda93354a9d86b107bfcdd9581a",
       "version_major": 2,
       "version_minor": 0
      },
      "text/plain": [
       "interactive(children=(Dropdown(description='genre', options=('액션', '느와르', '코미디', '다큐멘터리', '뮤지컬', '드라마', '멜로/로맨…"
      ]
     },
     "metadata": {},
     "output_type": "display_data"
    }
   ],
   "source": [
    "sns.set(font='HYGothic-Medium', font_scale=1.3, style='whitegrid')\n",
    "\n",
    "@interact(genre = gnr)\n",
    "def update(genre):\n",
    "    movie2 = movie[movie['genre']==genre]\n",
    "    a = sns.pairplot(movie2[['dir_prev_bfnum', 'box_off_num', 'screening_rat']], \n",
    "                     hue='screening_rat',diag_kind='hist', \n",
    "                     plot_kws = {'alpha':0.5, 's':80, 'edgecolor':'k'},\n",
    "                     diag_kws = {'alpha':0.3}, palette='husl', height=6)\n",
    "    a.fig.suptitle('관객 수', x=0.43, y=1.05, fontsize=24)\n",
    "    plt.show()"
   ]
  },
  {
   "cell_type": "code",
   "execution_count": 93,
   "metadata": {},
   "outputs": [
    {
     "data": {
      "application/vnd.jupyter.widget-view+json": {
       "model_id": "e086deb354364009b6f7f71ccb8f7091",
       "version_major": 2,
       "version_minor": 0
      },
      "text/plain": [
       "interactive(children=(Text(value='내부자들', description='name'), Output()), _dom_classes=('widget-interact',))"
      ]
     },
     "metadata": {},
     "output_type": "display_data"
    }
   ],
   "source": [
    "@interact(name=widgets.Text(value='내부자들'))\n",
    "def update(name):\n",
    "    movie2 = movie[movie['title'].str.contains(name)]\n",
    "    return(movie2)"
   ]
  },
  {
   "cell_type": "markdown",
   "metadata": {},
   "source": [
    "# 5. Quiz"
   ]
  },
  {
   "cell_type": "markdown",
   "metadata": {},
   "source": [
    "## Quiz 1"
   ]
  },
  {
   "cell_type": "code",
   "execution_count": 61,
   "metadata": {},
   "outputs": [],
   "source": [
    "import pandas as pd\n",
    "gapminder = pd.read_csv('gapminder.csv')\n",
    "gapminder = gapminder[gapminder['Year']==1970]"
   ]
  },
  {
   "cell_type": "code",
   "execution_count": 62,
   "metadata": {},
   "outputs": [
    {
     "data": {
      "text/html": [
       "<div>\n",
       "<style scoped>\n",
       "    .dataframe tbody tr th:only-of-type {\n",
       "        vertical-align: middle;\n",
       "    }\n",
       "\n",
       "    .dataframe tbody tr th {\n",
       "        vertical-align: top;\n",
       "    }\n",
       "\n",
       "    .dataframe thead th {\n",
       "        text-align: right;\n",
       "    }\n",
       "</style>\n",
       "<table border=\"1\" class=\"dataframe\">\n",
       "  <thead>\n",
       "    <tr style=\"text-align: right;\">\n",
       "      <th></th>\n",
       "      <th>Country</th>\n",
       "      <th>Year</th>\n",
       "      <th>fertility</th>\n",
       "      <th>life</th>\n",
       "      <th>population</th>\n",
       "      <th>child_mortality</th>\n",
       "      <th>gdp</th>\n",
       "      <th>region</th>\n",
       "    </tr>\n",
       "  </thead>\n",
       "  <tbody>\n",
       "    <tr>\n",
       "      <th>6</th>\n",
       "      <td>Afghanistan</td>\n",
       "      <td>1970</td>\n",
       "      <td>7.671</td>\n",
       "      <td>36.663</td>\n",
       "      <td>11964906.0</td>\n",
       "      <td>307.80</td>\n",
       "      <td>1174.0</td>\n",
       "      <td>South Asia</td>\n",
       "    </tr>\n",
       "    <tr>\n",
       "      <th>56</th>\n",
       "      <td>Albania</td>\n",
       "      <td>1970</td>\n",
       "      <td>5.050</td>\n",
       "      <td>66.948</td>\n",
       "      <td>2135599.0</td>\n",
       "      <td>107.98</td>\n",
       "      <td>3712.0</td>\n",
       "      <td>Europe &amp; Central Asia</td>\n",
       "    </tr>\n",
       "    <tr>\n",
       "      <th>106</th>\n",
       "      <td>Algeria</td>\n",
       "      <td>1970</td>\n",
       "      <td>7.641</td>\n",
       "      <td>50.366</td>\n",
       "      <td>13746185.0</td>\n",
       "      <td>242.20</td>\n",
       "      <td>7227.0</td>\n",
       "      <td>Middle East &amp; North Africa</td>\n",
       "    </tr>\n",
       "    <tr>\n",
       "      <th>156</th>\n",
       "      <td>Angola</td>\n",
       "      <td>1970</td>\n",
       "      <td>7.301</td>\n",
       "      <td>37.032</td>\n",
       "      <td>5926333.0</td>\n",
       "      <td>262.29</td>\n",
       "      <td>5397.0</td>\n",
       "      <td>Sub-Saharan Africa</td>\n",
       "    </tr>\n",
       "    <tr>\n",
       "      <th>206</th>\n",
       "      <td>Antigua and Barbuda</td>\n",
       "      <td>1970</td>\n",
       "      <td>3.684</td>\n",
       "      <td>65.898</td>\n",
       "      <td>65587.0</td>\n",
       "      <td>55.87</td>\n",
       "      <td>5807.0</td>\n",
       "      <td>America</td>\n",
       "    </tr>\n",
       "  </tbody>\n",
       "</table>\n",
       "</div>"
      ],
      "text/plain": [
       "                 Country  Year  fertility    life  population  \\\n",
       "6            Afghanistan  1970      7.671  36.663  11964906.0   \n",
       "56               Albania  1970      5.050  66.948   2135599.0   \n",
       "106              Algeria  1970      7.641  50.366  13746185.0   \n",
       "156               Angola  1970      7.301  37.032   5926333.0   \n",
       "206  Antigua and Barbuda  1970      3.684  65.898     65587.0   \n",
       "\n",
       "     child_mortality     gdp                      region  \n",
       "6             307.80  1174.0                  South Asia  \n",
       "56            107.98  3712.0       Europe & Central Asia  \n",
       "106           242.20  7227.0  Middle East & North Africa  \n",
       "156           262.29  5397.0          Sub-Saharan Africa  \n",
       "206            55.87  5807.0                     America  "
      ]
     },
     "execution_count": 62,
     "metadata": {},
     "output_type": "execute_result"
    }
   ],
   "source": [
    "gapminder.head()"
   ]
  },
  {
   "cell_type": "code",
   "execution_count": 63,
   "metadata": {},
   "outputs": [
    {
     "data": {
      "text/html": [
       "\n",
       "    <div class=\"bk-root\">\n",
       "        <a href=\"https://bokeh.org\" target=\"_blank\" class=\"bk-logo bk-logo-small bk-logo-notebook\"></a>\n",
       "        <span id=\"9988\">Loading BokehJS ...</span>\n",
       "    </div>"
      ]
     },
     "metadata": {},
     "output_type": "display_data"
    },
    {
     "data": {
      "application/javascript": [
       "\n",
       "(function(root) {\n",
       "  function now() {\n",
       "    return new Date();\n",
       "  }\n",
       "\n",
       "  var force = true;\n",
       "\n",
       "  if (typeof root._bokeh_onload_callbacks === \"undefined\" || force === true) {\n",
       "    root._bokeh_onload_callbacks = [];\n",
       "    root._bokeh_is_loading = undefined;\n",
       "  }\n",
       "\n",
       "  var JS_MIME_TYPE = 'application/javascript';\n",
       "  var HTML_MIME_TYPE = 'text/html';\n",
       "  var EXEC_MIME_TYPE = 'application/vnd.bokehjs_exec.v0+json';\n",
       "  var CLASS_NAME = 'output_bokeh rendered_html';\n",
       "\n",
       "  /**\n",
       "   * Render data to the DOM node\n",
       "   */\n",
       "  function render(props, node) {\n",
       "    var script = document.createElement(\"script\");\n",
       "    node.appendChild(script);\n",
       "  }\n",
       "\n",
       "  /**\n",
       "   * Handle when an output is cleared or removed\n",
       "   */\n",
       "  function handleClearOutput(event, handle) {\n",
       "    var cell = handle.cell;\n",
       "\n",
       "    var id = cell.output_area._bokeh_element_id;\n",
       "    var server_id = cell.output_area._bokeh_server_id;\n",
       "    // Clean up Bokeh references\n",
       "    if (id != null && id in Bokeh.index) {\n",
       "      Bokeh.index[id].model.document.clear();\n",
       "      delete Bokeh.index[id];\n",
       "    }\n",
       "\n",
       "    if (server_id !== undefined) {\n",
       "      // Clean up Bokeh references\n",
       "      var cmd = \"from bokeh.io.state import curstate; print(curstate().uuid_to_server['\" + server_id + \"'].get_sessions()[0].document.roots[0]._id)\";\n",
       "      cell.notebook.kernel.execute(cmd, {\n",
       "        iopub: {\n",
       "          output: function(msg) {\n",
       "            var id = msg.content.text.trim();\n",
       "            if (id in Bokeh.index) {\n",
       "              Bokeh.index[id].model.document.clear();\n",
       "              delete Bokeh.index[id];\n",
       "            }\n",
       "          }\n",
       "        }\n",
       "      });\n",
       "      // Destroy server and session\n",
       "      var cmd = \"import bokeh.io.notebook as ion; ion.destroy_server('\" + server_id + \"')\";\n",
       "      cell.notebook.kernel.execute(cmd);\n",
       "    }\n",
       "  }\n",
       "\n",
       "  /**\n",
       "   * Handle when a new output is added\n",
       "   */\n",
       "  function handleAddOutput(event, handle) {\n",
       "    var output_area = handle.output_area;\n",
       "    var output = handle.output;\n",
       "\n",
       "    // limit handleAddOutput to display_data with EXEC_MIME_TYPE content only\n",
       "    if ((output.output_type != \"display_data\") || (!output.data.hasOwnProperty(EXEC_MIME_TYPE))) {\n",
       "      return\n",
       "    }\n",
       "\n",
       "    var toinsert = output_area.element.find(\".\" + CLASS_NAME.split(' ')[0]);\n",
       "\n",
       "    if (output.metadata[EXEC_MIME_TYPE][\"id\"] !== undefined) {\n",
       "      toinsert[toinsert.length - 1].firstChild.textContent = output.data[JS_MIME_TYPE];\n",
       "      // store reference to embed id on output_area\n",
       "      output_area._bokeh_element_id = output.metadata[EXEC_MIME_TYPE][\"id\"];\n",
       "    }\n",
       "    if (output.metadata[EXEC_MIME_TYPE][\"server_id\"] !== undefined) {\n",
       "      var bk_div = document.createElement(\"div\");\n",
       "      bk_div.innerHTML = output.data[HTML_MIME_TYPE];\n",
       "      var script_attrs = bk_div.children[0].attributes;\n",
       "      for (var i = 0; i < script_attrs.length; i++) {\n",
       "        toinsert[toinsert.length - 1].firstChild.setAttribute(script_attrs[i].name, script_attrs[i].value);\n",
       "        toinsert[toinsert.length - 1].firstChild.textContent = bk_div.children[0].textContent\n",
       "      }\n",
       "      // store reference to server id on output_area\n",
       "      output_area._bokeh_server_id = output.metadata[EXEC_MIME_TYPE][\"server_id\"];\n",
       "    }\n",
       "  }\n",
       "\n",
       "  function register_renderer(events, OutputArea) {\n",
       "\n",
       "    function append_mime(data, metadata, element) {\n",
       "      // create a DOM node to render to\n",
       "      var toinsert = this.create_output_subarea(\n",
       "        metadata,\n",
       "        CLASS_NAME,\n",
       "        EXEC_MIME_TYPE\n",
       "      );\n",
       "      this.keyboard_manager.register_events(toinsert);\n",
       "      // Render to node\n",
       "      var props = {data: data, metadata: metadata[EXEC_MIME_TYPE]};\n",
       "      render(props, toinsert[toinsert.length - 1]);\n",
       "      element.append(toinsert);\n",
       "      return toinsert\n",
       "    }\n",
       "\n",
       "    /* Handle when an output is cleared or removed */\n",
       "    events.on('clear_output.CodeCell', handleClearOutput);\n",
       "    events.on('delete.Cell', handleClearOutput);\n",
       "\n",
       "    /* Handle when a new output is added */\n",
       "    events.on('output_added.OutputArea', handleAddOutput);\n",
       "\n",
       "    /**\n",
       "     * Register the mime type and append_mime function with output_area\n",
       "     */\n",
       "    OutputArea.prototype.register_mime_type(EXEC_MIME_TYPE, append_mime, {\n",
       "      /* Is output safe? */\n",
       "      safe: true,\n",
       "      /* Index of renderer in `output_area.display_order` */\n",
       "      index: 0\n",
       "    });\n",
       "  }\n",
       "\n",
       "  // register the mime type if in Jupyter Notebook environment and previously unregistered\n",
       "  if (root.Jupyter !== undefined) {\n",
       "    var events = require('base/js/events');\n",
       "    var OutputArea = require('notebook/js/outputarea').OutputArea;\n",
       "\n",
       "    if (OutputArea.prototype.mime_types().indexOf(EXEC_MIME_TYPE) == -1) {\n",
       "      register_renderer(events, OutputArea);\n",
       "    }\n",
       "  }\n",
       "\n",
       "  \n",
       "  if (typeof (root._bokeh_timeout) === \"undefined\" || force === true) {\n",
       "    root._bokeh_timeout = Date.now() + 5000;\n",
       "    root._bokeh_failed_load = false;\n",
       "  }\n",
       "\n",
       "  var NB_LOAD_WARNING = {'data': {'text/html':\n",
       "     \"<div style='background-color: #fdd'>\\n\"+\n",
       "     \"<p>\\n\"+\n",
       "     \"BokehJS does not appear to have successfully loaded. If loading BokehJS from CDN, this \\n\"+\n",
       "     \"may be due to a slow or bad network connection. Possible fixes:\\n\"+\n",
       "     \"</p>\\n\"+\n",
       "     \"<ul>\\n\"+\n",
       "     \"<li>re-rerun `output_notebook()` to attempt to load from CDN again, or</li>\\n\"+\n",
       "     \"<li>use INLINE resources instead, as so:</li>\\n\"+\n",
       "     \"</ul>\\n\"+\n",
       "     \"<code>\\n\"+\n",
       "     \"from bokeh.resources import INLINE\\n\"+\n",
       "     \"output_notebook(resources=INLINE)\\n\"+\n",
       "     \"</code>\\n\"+\n",
       "     \"</div>\"}};\n",
       "\n",
       "  function display_loaded() {\n",
       "    var el = document.getElementById(\"9988\");\n",
       "    if (el != null) {\n",
       "      el.textContent = \"BokehJS is loading...\";\n",
       "    }\n",
       "    if (root.Bokeh !== undefined) {\n",
       "      if (el != null) {\n",
       "        el.textContent = \"BokehJS \" + root.Bokeh.version + \" successfully loaded.\";\n",
       "      }\n",
       "    } else if (Date.now() < root._bokeh_timeout) {\n",
       "      setTimeout(display_loaded, 100)\n",
       "    }\n",
       "  }\n",
       "\n",
       "\n",
       "  function run_callbacks() {\n",
       "    try {\n",
       "      root._bokeh_onload_callbacks.forEach(function(callback) {\n",
       "        if (callback != null)\n",
       "          callback();\n",
       "      });\n",
       "    } finally {\n",
       "      delete root._bokeh_onload_callbacks\n",
       "    }\n",
       "    console.debug(\"Bokeh: all callbacks have finished\");\n",
       "  }\n",
       "\n",
       "  function load_libs(css_urls, js_urls, callback) {\n",
       "    if (css_urls == null) css_urls = [];\n",
       "    if (js_urls == null) js_urls = [];\n",
       "\n",
       "    root._bokeh_onload_callbacks.push(callback);\n",
       "    if (root._bokeh_is_loading > 0) {\n",
       "      console.debug(\"Bokeh: BokehJS is being loaded, scheduling callback at\", now());\n",
       "      return null;\n",
       "    }\n",
       "    if (js_urls == null || js_urls.length === 0) {\n",
       "      run_callbacks();\n",
       "      return null;\n",
       "    }\n",
       "    console.debug(\"Bokeh: BokehJS not loaded, scheduling load and callback at\", now());\n",
       "    root._bokeh_is_loading = css_urls.length + js_urls.length;\n",
       "\n",
       "    function on_load() {\n",
       "      root._bokeh_is_loading--;\n",
       "      if (root._bokeh_is_loading === 0) {\n",
       "        console.debug(\"Bokeh: all BokehJS libraries/stylesheets loaded\");\n",
       "        run_callbacks()\n",
       "      }\n",
       "    }\n",
       "\n",
       "    function on_error() {\n",
       "      console.error(\"failed to load \" + url);\n",
       "    }\n",
       "\n",
       "    for (var i = 0; i < css_urls.length; i++) {\n",
       "      var url = css_urls[i];\n",
       "      const element = document.createElement(\"link\");\n",
       "      element.onload = on_load;\n",
       "      element.onerror = on_error;\n",
       "      element.rel = \"stylesheet\";\n",
       "      element.type = \"text/css\";\n",
       "      element.href = url;\n",
       "      console.debug(\"Bokeh: injecting link tag for BokehJS stylesheet: \", url);\n",
       "      document.body.appendChild(element);\n",
       "    }\n",
       "\n",
       "    const hashes = {\"https://cdn.bokeh.org/bokeh/release/bokeh-2.1.1.min.js\": \"kLr4fYcqcSpbuI95brIH3vnnYCquzzSxHPU6XGQCIkQRGJwhg0StNbj1eegrHs12\", \"https://cdn.bokeh.org/bokeh/release/bokeh-widgets-2.1.1.min.js\": \"xIGPmVtaOm+z0BqfSOMn4lOR6ciex448GIKG4eE61LsAvmGj48XcMQZtKcE/UXZe\", \"https://cdn.bokeh.org/bokeh/release/bokeh-tables-2.1.1.min.js\": \"Dc9u1wF/0zApGIWoBbH77iWEHtdmkuYWG839Uzmv8y8yBLXebjO9ZnERsde5Ln/P\", \"https://cdn.bokeh.org/bokeh/release/bokeh-gl-2.1.1.min.js\": \"cT9JaBz7GiRXdENrJLZNSC6eMNF3nh3fa5fTF51Svp+ukxPdwcU5kGXGPBgDCa2j\"};\n",
       "\n",
       "    for (var i = 0; i < js_urls.length; i++) {\n",
       "      var url = js_urls[i];\n",
       "      var element = document.createElement('script');\n",
       "      element.onload = on_load;\n",
       "      element.onerror = on_error;\n",
       "      element.async = false;\n",
       "      element.src = url;\n",
       "      if (url in hashes) {\n",
       "        element.crossOrigin = \"anonymous\";\n",
       "        element.integrity = \"sha384-\" + hashes[url];\n",
       "      }\n",
       "      console.debug(\"Bokeh: injecting script tag for BokehJS library: \", url);\n",
       "      document.head.appendChild(element);\n",
       "    }\n",
       "  };\n",
       "\n",
       "  function inject_raw_css(css) {\n",
       "    const element = document.createElement(\"style\");\n",
       "    element.appendChild(document.createTextNode(css));\n",
       "    document.body.appendChild(element);\n",
       "  }\n",
       "\n",
       "  \n",
       "  var js_urls = [\"https://cdn.bokeh.org/bokeh/release/bokeh-2.1.1.min.js\", \"https://cdn.bokeh.org/bokeh/release/bokeh-widgets-2.1.1.min.js\", \"https://cdn.bokeh.org/bokeh/release/bokeh-tables-2.1.1.min.js\", \"https://cdn.bokeh.org/bokeh/release/bokeh-gl-2.1.1.min.js\"];\n",
       "  var css_urls = [];\n",
       "  \n",
       "\n",
       "  var inline_js = [\n",
       "    function(Bokeh) {\n",
       "      Bokeh.set_log_level(\"info\");\n",
       "    },\n",
       "    function(Bokeh) {\n",
       "    \n",
       "    \n",
       "    }\n",
       "  ];\n",
       "\n",
       "  function run_inline_js() {\n",
       "    \n",
       "    if (root.Bokeh !== undefined || force === true) {\n",
       "      \n",
       "    for (var i = 0; i < inline_js.length; i++) {\n",
       "      inline_js[i].call(root, root.Bokeh);\n",
       "    }\n",
       "    if (force === true) {\n",
       "        display_loaded();\n",
       "      }} else if (Date.now() < root._bokeh_timeout) {\n",
       "      setTimeout(run_inline_js, 100);\n",
       "    } else if (!root._bokeh_failed_load) {\n",
       "      console.log(\"Bokeh: BokehJS failed to load within specified timeout.\");\n",
       "      root._bokeh_failed_load = true;\n",
       "    } else if (force !== true) {\n",
       "      var cell = $(document.getElementById(\"9988\")).parents('.cell').data().cell;\n",
       "      cell.output_area.append_execute_result(NB_LOAD_WARNING)\n",
       "    }\n",
       "\n",
       "  }\n",
       "\n",
       "  if (root._bokeh_is_loading === 0) {\n",
       "    console.debug(\"Bokeh: BokehJS loaded, going straight to plotting\");\n",
       "    run_inline_js();\n",
       "  } else {\n",
       "    load_libs(css_urls, js_urls, function() {\n",
       "      console.debug(\"Bokeh: BokehJS plotting callback run at\", now());\n",
       "      run_inline_js();\n",
       "    });\n",
       "  }\n",
       "}(window));"
      ],
      "application/vnd.bokehjs_load.v0+json": "\n(function(root) {\n  function now() {\n    return new Date();\n  }\n\n  var force = true;\n\n  if (typeof root._bokeh_onload_callbacks === \"undefined\" || force === true) {\n    root._bokeh_onload_callbacks = [];\n    root._bokeh_is_loading = undefined;\n  }\n\n  \n\n  \n  if (typeof (root._bokeh_timeout) === \"undefined\" || force === true) {\n    root._bokeh_timeout = Date.now() + 5000;\n    root._bokeh_failed_load = false;\n  }\n\n  var NB_LOAD_WARNING = {'data': {'text/html':\n     \"<div style='background-color: #fdd'>\\n\"+\n     \"<p>\\n\"+\n     \"BokehJS does not appear to have successfully loaded. If loading BokehJS from CDN, this \\n\"+\n     \"may be due to a slow or bad network connection. Possible fixes:\\n\"+\n     \"</p>\\n\"+\n     \"<ul>\\n\"+\n     \"<li>re-rerun `output_notebook()` to attempt to load from CDN again, or</li>\\n\"+\n     \"<li>use INLINE resources instead, as so:</li>\\n\"+\n     \"</ul>\\n\"+\n     \"<code>\\n\"+\n     \"from bokeh.resources import INLINE\\n\"+\n     \"output_notebook(resources=INLINE)\\n\"+\n     \"</code>\\n\"+\n     \"</div>\"}};\n\n  function display_loaded() {\n    var el = document.getElementById(\"9988\");\n    if (el != null) {\n      el.textContent = \"BokehJS is loading...\";\n    }\n    if (root.Bokeh !== undefined) {\n      if (el != null) {\n        el.textContent = \"BokehJS \" + root.Bokeh.version + \" successfully loaded.\";\n      }\n    } else if (Date.now() < root._bokeh_timeout) {\n      setTimeout(display_loaded, 100)\n    }\n  }\n\n\n  function run_callbacks() {\n    try {\n      root._bokeh_onload_callbacks.forEach(function(callback) {\n        if (callback != null)\n          callback();\n      });\n    } finally {\n      delete root._bokeh_onload_callbacks\n    }\n    console.debug(\"Bokeh: all callbacks have finished\");\n  }\n\n  function load_libs(css_urls, js_urls, callback) {\n    if (css_urls == null) css_urls = [];\n    if (js_urls == null) js_urls = [];\n\n    root._bokeh_onload_callbacks.push(callback);\n    if (root._bokeh_is_loading > 0) {\n      console.debug(\"Bokeh: BokehJS is being loaded, scheduling callback at\", now());\n      return null;\n    }\n    if (js_urls == null || js_urls.length === 0) {\n      run_callbacks();\n      return null;\n    }\n    console.debug(\"Bokeh: BokehJS not loaded, scheduling load and callback at\", now());\n    root._bokeh_is_loading = css_urls.length + js_urls.length;\n\n    function on_load() {\n      root._bokeh_is_loading--;\n      if (root._bokeh_is_loading === 0) {\n        console.debug(\"Bokeh: all BokehJS libraries/stylesheets loaded\");\n        run_callbacks()\n      }\n    }\n\n    function on_error() {\n      console.error(\"failed to load \" + url);\n    }\n\n    for (var i = 0; i < css_urls.length; i++) {\n      var url = css_urls[i];\n      const element = document.createElement(\"link\");\n      element.onload = on_load;\n      element.onerror = on_error;\n      element.rel = \"stylesheet\";\n      element.type = \"text/css\";\n      element.href = url;\n      console.debug(\"Bokeh: injecting link tag for BokehJS stylesheet: \", url);\n      document.body.appendChild(element);\n    }\n\n    const hashes = {\"https://cdn.bokeh.org/bokeh/release/bokeh-2.1.1.min.js\": \"kLr4fYcqcSpbuI95brIH3vnnYCquzzSxHPU6XGQCIkQRGJwhg0StNbj1eegrHs12\", \"https://cdn.bokeh.org/bokeh/release/bokeh-widgets-2.1.1.min.js\": \"xIGPmVtaOm+z0BqfSOMn4lOR6ciex448GIKG4eE61LsAvmGj48XcMQZtKcE/UXZe\", \"https://cdn.bokeh.org/bokeh/release/bokeh-tables-2.1.1.min.js\": \"Dc9u1wF/0zApGIWoBbH77iWEHtdmkuYWG839Uzmv8y8yBLXebjO9ZnERsde5Ln/P\", \"https://cdn.bokeh.org/bokeh/release/bokeh-gl-2.1.1.min.js\": \"cT9JaBz7GiRXdENrJLZNSC6eMNF3nh3fa5fTF51Svp+ukxPdwcU5kGXGPBgDCa2j\"};\n\n    for (var i = 0; i < js_urls.length; i++) {\n      var url = js_urls[i];\n      var element = document.createElement('script');\n      element.onload = on_load;\n      element.onerror = on_error;\n      element.async = false;\n      element.src = url;\n      if (url in hashes) {\n        element.crossOrigin = \"anonymous\";\n        element.integrity = \"sha384-\" + hashes[url];\n      }\n      console.debug(\"Bokeh: injecting script tag for BokehJS library: \", url);\n      document.head.appendChild(element);\n    }\n  };\n\n  function inject_raw_css(css) {\n    const element = document.createElement(\"style\");\n    element.appendChild(document.createTextNode(css));\n    document.body.appendChild(element);\n  }\n\n  \n  var js_urls = [\"https://cdn.bokeh.org/bokeh/release/bokeh-2.1.1.min.js\", \"https://cdn.bokeh.org/bokeh/release/bokeh-widgets-2.1.1.min.js\", \"https://cdn.bokeh.org/bokeh/release/bokeh-tables-2.1.1.min.js\", \"https://cdn.bokeh.org/bokeh/release/bokeh-gl-2.1.1.min.js\"];\n  var css_urls = [];\n  \n\n  var inline_js = [\n    function(Bokeh) {\n      Bokeh.set_log_level(\"info\");\n    },\n    function(Bokeh) {\n    \n    \n    }\n  ];\n\n  function run_inline_js() {\n    \n    if (root.Bokeh !== undefined || force === true) {\n      \n    for (var i = 0; i < inline_js.length; i++) {\n      inline_js[i].call(root, root.Bokeh);\n    }\n    if (force === true) {\n        display_loaded();\n      }} else if (Date.now() < root._bokeh_timeout) {\n      setTimeout(run_inline_js, 100);\n    } else if (!root._bokeh_failed_load) {\n      console.log(\"Bokeh: BokehJS failed to load within specified timeout.\");\n      root._bokeh_failed_load = true;\n    } else if (force !== true) {\n      var cell = $(document.getElementById(\"9988\")).parents('.cell').data().cell;\n      cell.output_area.append_execute_result(NB_LOAD_WARNING)\n    }\n\n  }\n\n  if (root._bokeh_is_loading === 0) {\n    console.debug(\"Bokeh: BokehJS loaded, going straight to plotting\");\n    run_inline_js();\n  } else {\n    load_libs(css_urls, js_urls, function() {\n      console.debug(\"Bokeh: BokehJS plotting callback run at\", now());\n      run_inline_js();\n    });\n  }\n}(window));"
     },
     "metadata": {},
     "output_type": "display_data"
    }
   ],
   "source": [
    "from bokeh.io import output_notebook, show\n",
    "from bokeh.plotting import figure\n",
    "# 주피터 노트북에서 실행하여 출력하기 위해 실행\n",
    "output_notebook()"
   ]
  },
  {
   "cell_type": "code",
   "execution_count": 69,
   "metadata": {},
   "outputs": [
    {
     "data": {
      "text/plain": [
       "array(['South Asia', 'Europe & Central Asia',\n",
       "       'Middle East & North Africa', 'Sub-Saharan Africa', 'America',\n",
       "       'East Asia & Pacific'], dtype=object)"
      ]
     },
     "execution_count": 69,
     "metadata": {},
     "output_type": "execute_result"
    }
   ],
   "source": [
    "gapminder.region.unique()"
   ]
  },
  {
   "cell_type": "code",
   "execution_count": 75,
   "metadata": {
    "scrolled": false
   },
   "outputs": [
    {
     "data": {
      "text/html": [
       "\n",
       "\n",
       "\n",
       "\n",
       "\n",
       "\n",
       "  <div class=\"bk-root\" id=\"9f9eb878-7d8f-433b-b737-b7e7a44f28ea\" data-root-id=\"12311\"></div>\n"
      ]
     },
     "metadata": {},
     "output_type": "display_data"
    },
    {
     "data": {
      "application/javascript": [
       "(function(root) {\n",
       "  function embed_document(root) {\n",
       "    \n",
       "  var docs_json = {\"b04a84d8-3888-4416-ad69-a2ad0187470c\":{\"roots\":{\"references\":[{\"attributes\":{\"tabs\":[{\"id\":\"12309\"},{\"id\":\"12310\"}]},\"id\":\"12311\",\"type\":\"Tabs\"},{\"attributes\":{\"factors\":[\"South Asia\",\"Europe & Central Asia\",\"Middle East & North Africa\",\"Sub-Saharan Africa\",\"America\",\"East Asia & Pacific\"],\"palette\":[\"#3288bd\",\"#99d594\",\"#e6f598\",\"#fee08b\",\"#fc8d59\",\"#d53e4f\"]},\"id\":\"12233\",\"type\":\"CategoricalColorMapper\"},{\"attributes\":{},\"id\":\"12251\",\"type\":\"BasicTicker\"},{\"attributes\":{},\"id\":\"12301\",\"type\":\"BasicTickFormatter\"},{\"attributes\":{},\"id\":\"12280\",\"type\":\"BasicTicker\"},{\"attributes\":{\"axis\":{\"id\":\"12250\"},\"dimension\":1,\"ticker\":null},\"id\":\"12253\",\"type\":\"Grid\"},{\"attributes\":{},\"id\":\"12244\",\"type\":\"LinearScale\"},{\"attributes\":{\"axis\":{\"id\":\"12279\"},\"ticker\":null},\"id\":\"12282\",\"type\":\"Grid\"},{\"attributes\":{},\"id\":\"12303\",\"type\":\"BasicTickFormatter\"},{\"attributes\":{\"items\":[{\"id\":\"12308\"}],\"location\":\"bottom_left\"},\"id\":\"12307\",\"type\":\"Legend\"},{\"attributes\":{\"formatter\":{\"id\":\"12301\"},\"ticker\":{\"id\":\"12284\"}},\"id\":\"12283\",\"type\":\"LinearAxis\"},{\"attributes\":{\"active_drag\":\"auto\",\"active_inspect\":\"auto\",\"active_multi\":null,\"active_scroll\":\"auto\",\"active_tap\":\"auto\",\"tools\":[{\"id\":\"12234\"}]},\"id\":\"12254\",\"type\":\"Toolbar\"},{\"attributes\":{\"label\":{\"field\":\"region\"},\"renderers\":[{\"id\":\"12296\"}]},\"id\":\"12308\",\"type\":\"LegendItem\"},{\"attributes\":{},\"id\":\"12284\",\"type\":\"BasicTicker\"},{\"attributes\":{\"items\":[{\"id\":\"12269\"}],\"location\":\"bottom_left\"},\"id\":\"12268\",\"type\":\"Legend\"},{\"attributes\":{\"axis_label\":\"Fertility\",\"formatter\":{\"id\":\"12265\"},\"ticker\":{\"id\":\"12247\"}},\"id\":\"12246\",\"type\":\"LinearAxis\"},{\"attributes\":{\"child\":{\"id\":\"12235\"},\"title\":\"Hover\"},\"id\":\"12309\",\"type\":\"Panel\"},{\"attributes\":{\"below\":[{\"id\":\"12279\"}],\"center\":[{\"id\":\"12282\"},{\"id\":\"12286\"},{\"id\":\"12307\"}],\"left\":[{\"id\":\"12283\"}],\"plot_height\":400,\"plot_width\":700,\"renderers\":[{\"id\":\"12296\"}],\"title\":{\"id\":\"12298\"},\"toolbar\":{\"id\":\"12290\"},\"x_range\":{\"id\":\"12271\"},\"x_scale\":{\"id\":\"12275\"},\"y_range\":{\"id\":\"12273\"},\"y_scale\":{\"id\":\"12277\"}},\"id\":\"12270\",\"subtype\":\"Figure\",\"type\":\"Plot\"},{\"attributes\":{\"axis\":{\"id\":\"12283\"},\"dimension\":1,\"ticker\":null},\"id\":\"12286\",\"type\":\"Grid\"},{\"attributes\":{},\"id\":\"12277\",\"type\":\"LinearScale\"},{\"attributes\":{},\"id\":\"12247\",\"type\":\"BasicTicker\"},{\"attributes\":{\"axis_label\":\"Life Expectancy\",\"formatter\":{\"id\":\"12263\"},\"ticker\":{\"id\":\"12251\"}},\"id\":\"12250\",\"type\":\"LinearAxis\"},{\"attributes\":{\"label\":{\"field\":\"region\"},\"renderers\":[{\"id\":\"12259\"}]},\"id\":\"12269\",\"type\":\"LegendItem\"},{\"attributes\":{\"child\":{\"id\":\"12270\"},\"title\":\"Box Select\"},\"id\":\"12310\",\"type\":\"Panel\"},{\"attributes\":{},\"id\":\"12267\",\"type\":\"UnionRenderers\"},{\"attributes\":{\"data_source\":{\"id\":\"12232\"},\"glyph\":{\"id\":\"12294\"},\"hover_glyph\":null,\"muted_glyph\":null,\"nonselection_glyph\":{\"id\":\"12295\"},\"selection_glyph\":null,\"view\":{\"id\":\"12297\"}},\"id\":\"12296\",\"type\":\"GlyphRenderer\"},{\"attributes\":{\"overlay\":{\"id\":\"12289\"}},\"id\":\"12287\",\"type\":\"BoxSelectTool\"},{\"attributes\":{\"fill_alpha\":{\"value\":0.1},\"fill_color\":{\"field\":\"region\",\"transform\":{\"id\":\"12233\"}},\"line_alpha\":{\"value\":0.1},\"line_color\":{\"field\":\"region\",\"transform\":{\"id\":\"12233\"}},\"x\":{\"field\":\"fertility\"},\"y\":{\"field\":\"life\"}},\"id\":\"12258\",\"type\":\"Circle\"},{\"attributes\":{},\"id\":\"12288\",\"type\":\"ResetTool\"},{\"attributes\":{\"axis\":{\"id\":\"12246\"},\"ticker\":null},\"id\":\"12249\",\"type\":\"Grid\"},{\"attributes\":{\"fill_color\":{\"field\":\"region\",\"transform\":{\"id\":\"12233\"}},\"line_color\":{\"field\":\"region\",\"transform\":{\"id\":\"12233\"}},\"x\":{\"field\":\"fertility\"},\"y\":{\"field\":\"life\"}},\"id\":\"12257\",\"type\":\"Circle\"},{\"attributes\":{\"active_drag\":\"auto\",\"active_inspect\":\"auto\",\"active_multi\":null,\"active_scroll\":\"auto\",\"active_tap\":\"auto\",\"tools\":[{\"id\":\"12287\"},{\"id\":\"12288\"}]},\"id\":\"12290\",\"type\":\"Toolbar\"},{\"attributes\":{},\"id\":\"12263\",\"type\":\"BasicTickFormatter\"},{\"attributes\":{},\"id\":\"12265\",\"type\":\"BasicTickFormatter\"},{\"attributes\":{\"data_source\":{\"id\":\"12232\"},\"glyph\":{\"id\":\"12257\"},\"hover_glyph\":null,\"muted_glyph\":null,\"nonselection_glyph\":{\"id\":\"12258\"},\"selection_glyph\":null,\"view\":{\"id\":\"12260\"}},\"id\":\"12259\",\"type\":\"GlyphRenderer\"},{\"attributes\":{\"callback\":null,\"tooltips\":[[\"Country\",\"@region\"],[\"Fertility\",\"@fertility\"],[\"Life Expectancy\",\"@life\"],[\"GDP\",\"@gdp\"]]},\"id\":\"12234\",\"type\":\"HoverTool\"},{\"attributes\":{\"source\":{\"id\":\"12232\"}},\"id\":\"12260\",\"type\":\"CDSView\"},{\"attributes\":{\"bottom_units\":\"screen\",\"fill_alpha\":0.5,\"fill_color\":\"lightgrey\",\"left_units\":\"screen\",\"level\":\"overlay\",\"line_alpha\":1.0,\"line_color\":\"black\",\"line_dash\":[4,4],\"line_width\":2,\"right_units\":\"screen\",\"top_units\":\"screen\"},\"id\":\"12289\",\"type\":\"BoxAnnotation\"},{\"attributes\":{\"data\":{\"Country\":[\"Afghanistan\",\"Albania\",\"Algeria\",\"Angola\",\"Antigua and Barbuda\",\"Argentina\",\"Armenia\",\"Aruba\",\"Australia\",\"Austria\",\"Azerbaijan\",\"Bahamas\",\"Bahrain\",\"Bangladesh\",\"Barbados\",\"Belarus\",\"Belgium\",\"Belize\",\"Benin\",\"Bhutan\",\"Bolivia\",\"Bosnia and Herzegovina\",\"Botswana\",\"Brazil\",\"Brunei\",\"Bulgaria\",\"Burkina Faso\",\"Burundi\",\"Cambodia\",\"Cameroon\",\"Canada\",\"Cape Verde\",\"Central African Rep.\",\"Chad\",\"Channel Islands\",\"Chile\",\"China\",\"Colombia\",\"Comoros\",\"Congo, Dem. Rep.\",\"Congo, Rep.\",\"Costa Rica\",\"Cote d'Ivoire\",\"Croatia\",\"Cuba\",\"Cyprus\",\"Czech Rep.\",\"Denmark\",\"Djibouti\",\"Dominican Rep.\",\"Ecuador\",\"Egypt\",\"El Salvador\",\"Equatorial Guinea\",\"Eritrea\",\"Estonia\",\"Ethiopia\",\"Fiji\",\"Finland\",\"France\",\"French Guiana\",\"French Polynesia\",\"Gabon\",\"Gambia\",\"Georgia\",\"Germany\",\"Ghana\",\"Greece\",\"Greenland\",\"Grenada\",\"Guadeloupe\",\"Guam\",\"Guatemala\",\"Guinea\",\"Guinea-Bissau\",\"Guyana\",\"Haiti\",\"Honduras\",\"Hong Kong, China\",\"Hungary\",\"Iceland\",\"India\",\"Indonesia\",\"Iran\",\"Iraq\",\"Ireland\",\"Israel\",\"Italy\",\"Jamaica\",\"Japan\",\"Jordan\",\"Kazakhstan\",\"Kenya\",\"Kiribati\",\"Korea, Dem. Rep.\",\"Korea, Rep.\",\"Kuwait\",\"Kyrgyzstan\",\"Laos\",\"Latvia\",\"Lebanon\",\"Lesotho\",\"Liberia\",\"Libya\",\"Lithuania\",\"Luxembourg\",\"Macao, China\",\"Macedonia, FYR\",\"Madagascar\",\"Malawi\",\"Malaysia\",\"Maldives\",\"Mali\",\"Malta\",\"Martinique\",\"Mauritania\",\"Mauritius\",\"Mayotte\",\"Mexico\",\"Micronesia, Fed. Sts.\",\"Moldova\",\"Mongolia\",\"Montenegro\",\"Morocco\",\"Mozambique\",\"Myanmar\",\"Namibia\",\"Nepal\",\"Netherlands\",\"Netherlands Antilles\",\"New Caledonia\",\"New Zealand\",\"Nicaragua\",\"Niger\",\"Nigeria\",\"Norway\",\"Oman\",\"Pakistan\",\"Panama\",\"Papua New Guinea\",\"Paraguay\",\"Peru\",\"Philippines\",\"Poland\",\"Portugal\",\"Puerto Rico\",\"Qatar\",\"Reunion\",\"Romania\",\"Russia\",\"Rwanda\",\"Saint Lucia\",\"Saint Vincent and the Grenadines\",\"Samoa\",\"Sao Tome and Principe\",\"Saudi Arabia\",\"Senegal\",\"Serbia\",\"Seychelles\",\"Sierra Leone\",\"Singapore\",\"Slovak Republic\",\"Slovenia\",\"Solomon Islands\",\"Somalia\",\"South Africa\",\"South Sudan\",\"Spain\",\"Sri Lanka\",\"Sudan\",\"Suriname\",\"Swaziland\",\"Sweden\",\"Switzerland\",\"Syria\",\"Taiwan\",\"Tajikistan\",\"Tanzania\",\"Thailand\",\"Timor-Leste\",\"Togo\",\"Tonga\",\"Trinidad and Tobago\",\"Tunisia\",\"Turkey\",\"Turkmenistan\",\"Uganda\",\"Ukraine\",\"United Arab Emirates\",\"United Kingdom\",\"United States\",\"Uruguay\",\"Uzbekistan\",\"Vanuatu\",\"Venezuela\",\"Vietnam\",\"Virgin Islands (U.S.)\",\"West Bank and Gaza\",\"Western Sahara\",\"Yemen, Rep.\",\"Zambia\",\"Zimbabwe\"],\"Year\":[1970,1970,1970,1970,1970,1970,1970,1970,1970,1970,1970,1970,1970,1970,1970,1970,1970,1970,1970,1970,1970,1970,1970,1970,1970,1970,1970,1970,1970,1970,1970,1970,1970,1970,1970,1970,1970,1970,1970,1970,1970,1970,1970,1970,1970,1970,1970,1970,1970,1970,1970,1970,1970,1970,1970,1970,1970,1970,1970,1970,1970,1970,1970,1970,1970,1970,1970,1970,1970,1970,1970,1970,1970,1970,1970,1970,1970,1970,1970,1970,1970,1970,1970,1970,1970,1970,1970,1970,1970,1970,1970,1970,1970,1970,1970,1970,1970,1970,1970,1970,1970,1970,1970,1970,1970,1970,1970,1970,1970,1970,1970,1970,1970,1970,1970,1970,1970,1970,1970,1970,1970,1970,1970,1970,1970,1970,1970,1970,1970,1970,1970,1970,1970,1970,1970,1970,1970,1970,1970,1970,1970,1970,1970,1970,1970,1970,1970,1970,1970,1970,1970,1970,1970,1970,1970,1970,1970,1970,1970,1970,1970,1970,1970,1970,1970,1970,1970,1970,1970,1970,1970,1970,1970,1970,1970,1970,1970,1970,1970,1970,1970,1970,1970,1970,1970,1970,1970,1970,1970,1970,1970,1970,1970,1970,1970,1970,1970,1970,1970,1970,1970,1970],\"child_mortality\":{\"__ndarray__\":\"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\",\"dtype\":\"float64\",\"order\":\"little\",\"shape\":[202]},\"fertility\":{\"__ndarray__\":\"yXa+nxqvHkAzMzMzMzMUQKrx0k1ikB5ATmIQWDk0HUBGtvP91HgNQC/dJAaBlQhARIts5/upCUDdJAaBlUMHQKwcWmQ73wZAvHSTGARWAkCmm8QgsHISQHNoke18PwxAyaFFtvP9GUB9PzVeuskbQIGVQ4ts5whAPN9PjZduAkDZzvdT46UBQBkEVg4tMhlAyaFFtvP9GkDJdr6fGq8aQBtaZDvfTxpAPzVeukkMB0Cq8dJNYpAaQH9qvHSTGBRAGy/dJAYBF0AUrkfhehQBQMmhRbbzfRpAWDm0yHY+HUBmZmZmZuYZQFK4HoXr0RhAsHJoke18AkA9CtejcL0bQDeJQWDl0BdA6SYxCKwcGkArhxbZzvcAQGQ730+NFxBAlkOLbOf7FkBMN4lBYGUWQFg5tMh2PhxAQmDl0CLbGEDwp8ZLNwkZQD81XrpJDBRAbRKDwMqhH0B1kxgEVg4AQG8Sg8DKIRBA4XoUrkfhBEBcj8L1KFwAQDMzMzMzM/8/nO+nxks3G0DufD81XroYQE+Nl24SgxhAw/UoXI/CF0AbWmQ7388YQIPAyqFFthZAmpmZmZmZGkAtsp3vp8YAQLbz/dR46RtAeekmMQgsEkBI4XoUrkf9P4GVQ4ts5wNA6iYxCKycEkDufD81XjoUQG3n+6nxUhRArBxaZDtfGEDD9Shcj8IEQLx0kxgEVgBAzczMzMzMG0C28/3UeOkCQDMzMzMzMw9A0SLb+X5qEkAIrBxaZLsTQLByaJHtfBFAcT0K16PwGEBI4XoUrscYQGQQWDm0SBhAE4PAyqFFFEBANV66SQwXQBSuR+F6FB1Aku18PzVeC0A9CtejcD0AQHNoke18PwhAYOXQItv5FUBMN4lBYOUVQMP1KFyPwhlAppvEILByHUAbL90kBoEOQPCnxks3iQ5AjZduEoPAA0CcxCCwcugVQAIrhxbZzgBATmIQWDm0H0Do+6nx0k0MQLbz/dR4KSBATmIQWDk0GEACK4cW2U4RQM/3U+OlGxJAEFg5tMj2HEDFILByaJETQEw3iUFg5RdAj8L1KFyP/j+YbhKDwMoTQAisHFpkOxdASOF6FK7HGkAshxbZzncfQBFYObTIdgJAXI/C9Shc/z+HFtnO91MBQNejcD0K1wdAzczMzMxMHUCc76fGSzcdQLByaJHtfBNAnMQgsHLoHEC0yHa+n5obQJqZmZmZmf8/wcqhRbZzEkCJQWDl0CIbQARWDi2ynQ9A2s73U+OlH0DhehSuR+EaQI2XbhKDwBtADi2yne+nBEAtsp3vp0YeQFCNl24SgwVAc2iR7Xy/GkB3vp8aL10aQLx0kxgE1hdAvHSTGATWGUD8qfHSTeIXQI/C9ShcjwRASOF6FK5HB0Cc76fGSzcVQPJG5pE/mAdAxSCwcmiRG0DlpZvEILAdQPyp8dJN4hlAAAAAAAAABEBYObTIdj4dQIGVQ4tsZxpA/dR46SaxFEDy/dR46aYYQNv5fmq89BZA7nw/NV46GUBzkxgEVg4ZQKJFtvP91AFAwcqhRbbzB0BfukkMAisJQHfpJjEIrBtAj8L1KFwPE0B/GnA/JPAGQOxRuB6F6/8/g8DKoUV2IECBlUOLbGcYQHOTGARWDhhALbKd76fGHECsHFpkO98ZQB+F61G4Hh1AQGDl0CJbHUDfT42XbhIDQCUGgZVDCxdAfT81XrrJGkCF61G4HoUJQMuhRbbz/QNAyXa+nxovAkAOLbKd76cbQO58PzVeuhxAd76fGi9dFkCgGi/dJIYbQGDl0CLb+QZAke18PzVeEUBaZDvfT40bQOkmMQisnBZAAAAAAACAG0BOYhBYObT+PyuHFtnO9wBAfT81XrpJHkDb+X5qvHQPQE+Nl24SgxtAL90kBoEVG0DhehSuR2EWQGC6SQwCqxdAvHSTGARWHEDdJAaBlcMXQDvfT42XbgxAjZduEoPAGUCNl24Sg0AWQGmR7Xw/NRlA9ihcj8J1HEDHSzeJQWAAQOxRuB6FaxpAJzEIrBxaAkDjpZvEILADQJ7vp8ZLNwdALIcW2c73GUBKDAIrhxYZQARWDi2ynRVAXI/C9SjcGUBgukkMAqsUQKabxCCwch9AexSuR+F6GkBgukkMAiseQHNoke18vx1AYLpJDAKrHUA=\",\"dtype\":\"float64\",\"order\":\"little\",\"shape\":[202]},\"gdp\":{\"__ndarray__\":\"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\",\"dtype\":\"float64\",\"order\":\"little\",\"shape\":[202]},\"index\":[6,56,106,156,206,256,306,356,406,456,506,556,606,656,706,756,806,856,906,956,1006,1056,1106,1156,1206,1256,1306,1356,1406,1456,1506,1556,1606,1656,1706,1756,1806,1856,1906,1956,2006,2056,2106,2156,2206,2256,2306,2356,2406,2456,2506,2556,2606,2656,2706,2756,2806,2856,2906,2956,3006,3056,3106,3156,3206,3256,3306,3356,3406,3456,3506,3556,3606,3656,3706,3756,3806,3856,3906,3956,4006,4056,4106,4156,4206,4256,4306,4356,4406,4456,4506,4556,4606,4656,4706,4756,4806,4856,4906,4956,5006,5056,5106,5156,5206,5256,5306,5356,5406,5456,5506,5556,5606,5656,5706,5756,5806,5856,5906,5956,6006,6056,6106,6156,6206,6256,6306,6356,6406,6456,6506,6556,6606,6656,6706,6756,6806,6856,6906,6956,7006,7056,7106,7156,7206,7256,7306,7356,7406,7456,7506,7556,7606,7656,7706,7756,7806,7856,7906,7956,8006,8056,8106,8156,8206,8256,8306,8356,8406,8456,8506,8556,8606,8656,8706,8756,8806,8856,8906,8956,9006,9057,9107,9157,9207,9257,9307,9357,9407,9457,9507,9557,9607,9657,9707,9757,9807,9857,9907,9957,10007,10057],\"life\":{\"__ndarray__\":\"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\",\"dtype\":\"float64\",\"order\":\"little\",\"shape\":[202]},\"population\":{\"__ndarray__\":\"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\",\"dtype\":\"float64\",\"order\":\"little\",\"shape\":[202]},\"region\":[\"South Asia\",\"Europe & Central Asia\",\"Middle East & North Africa\",\"Sub-Saharan Africa\",\"America\",\"America\",\"Europe & Central Asia\",\"America\",\"East Asia & Pacific\",\"Europe & Central Asia\",\"Europe & Central Asia\",\"America\",\"Middle East & North Africa\",\"South Asia\",\"America\",\"Europe & Central Asia\",\"Europe & Central Asia\",\"America\",\"Sub-Saharan Africa\",\"South Asia\",\"America\",\"Europe & Central Asia\",\"Sub-Saharan Africa\",\"America\",\"East Asia & Pacific\",\"Europe & Central Asia\",\"Sub-Saharan Africa\",\"Sub-Saharan Africa\",\"East Asia & Pacific\",\"Sub-Saharan Africa\",\"America\",\"Sub-Saharan Africa\",\"Sub-Saharan Africa\",\"Sub-Saharan Africa\",\"Europe & Central Asia\",\"America\",\"East Asia & Pacific\",\"America\",\"Sub-Saharan Africa\",\"Sub-Saharan Africa\",\"Sub-Saharan Africa\",\"America\",\"Sub-Saharan Africa\",\"Europe & Central Asia\",\"America\",\"Europe & Central Asia\",\"Europe & Central Asia\",\"Europe & Central Asia\",\"Middle East & North Africa\",\"America\",\"America\",\"Middle East & North Africa\",\"America\",\"Sub-Saharan Africa\",\"Sub-Saharan Africa\",\"Europe & Central Asia\",\"Sub-Saharan Africa\",\"East Asia & Pacific\",\"Europe & Central Asia\",\"Europe & Central Asia\",\"America\",\"East Asia & Pacific\",\"Sub-Saharan Africa\",\"Sub-Saharan Africa\",\"Europe & Central Asia\",\"Europe & Central Asia\",\"Sub-Saharan Africa\",\"Europe & Central Asia\",\"Europe & Central Asia\",\"America\",\"America\",\"East Asia & Pacific\",\"America\",\"Sub-Saharan Africa\",\"Sub-Saharan Africa\",\"America\",\"America\",\"America\",\"East Asia & Pacific\",\"Europe & Central Asia\",\"Europe & Central Asia\",\"South Asia\",\"East Asia & Pacific\",\"Middle East & North Africa\",\"Middle East & North Africa\",\"Europe & Central Asia\",\"Middle East & North Africa\",\"Europe & Central Asia\",\"America\",\"East Asia & Pacific\",\"Middle East & North Africa\",\"Europe & Central Asia\",\"Sub-Saharan Africa\",\"East Asia & Pacific\",\"East Asia & Pacific\",\"East Asia & Pacific\",\"Middle East & North Africa\",\"Europe & Central Asia\",\"East Asia & Pacific\",\"Europe & Central Asia\",\"Middle East & North Africa\",\"Sub-Saharan Africa\",\"Sub-Saharan Africa\",\"Middle East & North Africa\",\"Europe & Central Asia\",\"Europe & Central Asia\",\"East Asia & Pacific\",\"Europe & Central Asia\",\"Sub-Saharan Africa\",\"Sub-Saharan Africa\",\"East Asia & Pacific\",\"South Asia\",\"Sub-Saharan Africa\",\"Europe & Central Asia\",\"America\",\"Sub-Saharan Africa\",\"Sub-Saharan Africa\",\"Sub-Saharan Africa\",\"America\",\"East Asia & Pacific\",\"Europe & Central Asia\",\"East Asia & Pacific\",\"Europe & Central Asia\",\"Middle East & North Africa\",\"Sub-Saharan Africa\",\"East Asia & Pacific\",\"Sub-Saharan Africa\",\"South Asia\",\"Europe & Central Asia\",\"America\",\"East Asia & Pacific\",\"East Asia & Pacific\",\"America\",\"Sub-Saharan Africa\",\"Sub-Saharan Africa\",\"Europe & Central Asia\",\"Middle East & North Africa\",\"South Asia\",\"America\",\"East Asia & Pacific\",\"America\",\"America\",\"East Asia & Pacific\",\"Europe & Central Asia\",\"Europe & Central Asia\",\"America\",\"Middle East & North Africa\",\"Sub-Saharan Africa\",\"Europe & Central Asia\",\"Europe & Central Asia\",\"Sub-Saharan Africa\",\"America\",\"America\",\"East Asia & Pacific\",\"Sub-Saharan Africa\",\"Middle East & North Africa\",\"Sub-Saharan Africa\",\"Europe & Central Asia\",\"Sub-Saharan Africa\",\"Sub-Saharan Africa\",\"East Asia & Pacific\",\"Europe & Central Asia\",\"Europe & Central Asia\",\"East Asia & Pacific\",\"Sub-Saharan Africa\",\"Sub-Saharan Africa\",\"Sub-Saharan Africa\",\"Europe & Central Asia\",\"South Asia\",\"Sub-Saharan Africa\",\"America\",\"Sub-Saharan Africa\",\"Europe & Central Asia\",\"Europe & Central Asia\",\"Middle East & North Africa\",\"East Asia & Pacific\",\"Europe & Central Asia\",\"Sub-Saharan Africa\",\"East Asia & Pacific\",\"East Asia & Pacific\",\"Sub-Saharan Africa\",\"East Asia & Pacific\",\"America\",\"Middle East & North Africa\",\"Europe & Central Asia\",\"Europe & Central Asia\",\"Sub-Saharan Africa\",\"Europe & Central Asia\",\"Middle East & North Africa\",\"Europe & Central Asia\",\"America\",\"America\",\"Europe & Central Asia\",\"East Asia & Pacific\",\"America\",\"East Asia & Pacific\",\"America\",\"Middle East & North Africa\",\"Middle East & North Africa\",\"Middle East & North Africa\",\"Sub-Saharan Africa\",\"Sub-Saharan Africa\"]},\"selected\":{\"id\":\"12266\"},\"selection_policy\":{\"id\":\"12267\"}},\"id\":\"12232\",\"type\":\"ColumnDataSource\"},{\"attributes\":{},\"id\":\"12266\",\"type\":\"Selection\"},{\"attributes\":{},\"id\":\"12240\",\"type\":\"DataRange1d\"},{\"attributes\":{\"text\":\"\"},\"id\":\"12298\",\"type\":\"Title\"},{\"attributes\":{},\"id\":\"12271\",\"type\":\"DataRange1d\"},{\"attributes\":{},\"id\":\"12238\",\"type\":\"DataRange1d\"},{\"attributes\":{\"fill_color\":{\"field\":\"region\",\"transform\":{\"id\":\"12233\"}},\"line_color\":{\"field\":\"region\",\"transform\":{\"id\":\"12233\"}},\"x\":{\"field\":\"fertility\"},\"y\":{\"field\":\"life\"}},\"id\":\"12294\",\"type\":\"Circle\"},{\"attributes\":{},\"id\":\"12273\",\"type\":\"DataRange1d\"},{\"attributes\":{\"source\":{\"id\":\"12232\"}},\"id\":\"12297\",\"type\":\"CDSView\"},{\"attributes\":{},\"id\":\"12275\",\"type\":\"LinearScale\"},{\"attributes\":{\"fill_alpha\":{\"value\":0.1},\"fill_color\":{\"field\":\"region\",\"transform\":{\"id\":\"12233\"}},\"line_alpha\":{\"value\":0.1},\"line_color\":{\"field\":\"region\",\"transform\":{\"id\":\"12233\"}},\"x\":{\"field\":\"fertility\"},\"y\":{\"field\":\"life\"}},\"id\":\"12295\",\"type\":\"Circle\"},{\"attributes\":{\"text\":\"Life Expectancy in 1970\"},\"id\":\"12236\",\"type\":\"Title\"},{\"attributes\":{},\"id\":\"12242\",\"type\":\"LinearScale\"},{\"attributes\":{\"below\":[{\"id\":\"12246\"}],\"center\":[{\"id\":\"12249\"},{\"id\":\"12253\"},{\"id\":\"12268\"}],\"left\":[{\"id\":\"12250\"}],\"plot_height\":400,\"plot_width\":700,\"renderers\":[{\"id\":\"12259\"}],\"title\":{\"id\":\"12236\"},\"toolbar\":{\"id\":\"12254\"},\"x_range\":{\"id\":\"12238\"},\"x_scale\":{\"id\":\"12242\"},\"y_range\":{\"id\":\"12240\"},\"y_scale\":{\"id\":\"12244\"}},\"id\":\"12235\",\"subtype\":\"Figure\",\"type\":\"Plot\"},{\"attributes\":{\"formatter\":{\"id\":\"12303\"},\"ticker\":{\"id\":\"12280\"}},\"id\":\"12279\",\"type\":\"LinearAxis\"}],\"root_ids\":[\"12311\"]},\"title\":\"Bokeh Application\",\"version\":\"2.1.1\"}};\n",
       "  var render_items = [{\"docid\":\"b04a84d8-3888-4416-ad69-a2ad0187470c\",\"root_ids\":[\"12311\"],\"roots\":{\"12311\":\"9f9eb878-7d8f-433b-b737-b7e7a44f28ea\"}}];\n",
       "  root.Bokeh.embed.embed_items_notebook(docs_json, render_items);\n",
       "\n",
       "  }\n",
       "  if (root.Bokeh !== undefined) {\n",
       "    embed_document(root);\n",
       "  } else {\n",
       "    var attempts = 0;\n",
       "    var timer = setInterval(function(root) {\n",
       "      if (root.Bokeh !== undefined) {\n",
       "        clearInterval(timer);\n",
       "        embed_document(root);\n",
       "      } else {\n",
       "        attempts++;\n",
       "        if (attempts > 100) {\n",
       "          clearInterval(timer);\n",
       "          console.log(\"Bokeh: ERROR: Unable to run BokehJS code because BokehJS library is missing\");\n",
       "        }\n",
       "      }\n",
       "    }, 10, root)\n",
       "  }\n",
       "})(window);"
      ],
      "application/vnd.bokehjs_exec.v0+json": ""
     },
     "metadata": {
      "application/vnd.bokehjs_exec.v0+json": {
       "id": "12311"
      }
     },
     "output_type": "display_data"
    }
   ],
   "source": [
    "from bokeh.models import ColumnDataSource, HoverTool, CategoricalColorMapper\n",
    "from bokeh.models.widgets import Panel, Tabs\n",
    "from bokeh.palettes import Spectral6\n",
    "\n",
    "source=ColumnDataSource(gapminder)\n",
    "mapper=CategoricalColorMapper(factors=['South Asia', \n",
    "                                       'Europe & Central Asia',\n",
    "                                       'Middle East & North Africa', \n",
    "                                       'Sub-Saharan Africa', 'America',\n",
    "                                       'East Asia & Pacific'],\n",
    "                             palette=Spectral6)\n",
    "hover=HoverTool(tooltips={'Country':'@region','Fertility':'@fertility',\n",
    "                         'Life Expectancy':'@life','GDP':'@gdp'})\n",
    "p1=figure(plot_width=700, plot_height=400, tools=[hover],\n",
    "         x_axis_label='Fertility',y_axis_label='Life Expectancy',\n",
    "         title='Life Expectancy in 1970')\n",
    "p1.circle('fertility','life',legend_field='region',\n",
    "          color={'field':'region','transform':mapper},source=source)\n",
    "p1.legend.location = 'bottom_left'\n",
    "\n",
    "p2=figure(plot_width=700, plot_height=400, tools='box_select,reset')\n",
    "p2.circle('fertility','life',legend_field='region',\n",
    "          color={'field':'region','transform':mapper},source=source)\n",
    "p2.legend.location = 'bottom_left'\n",
    "\n",
    "tab1=Panel(child=p1, title='Hover')\n",
    "tab2=Panel(child=p2, title='Box Select')\n",
    "\n",
    "tabs=Tabs(tabs=[tab1,tab2])\n",
    "\n",
    "show(tabs)"
   ]
  },
  {
   "cell_type": "markdown",
   "metadata": {},
   "source": [
    "## Quiz 2"
   ]
  },
  {
   "cell_type": "code",
   "execution_count": 95,
   "metadata": {},
   "outputs": [],
   "source": [
    "import pandas as pd\n",
    "import matplotlib.pyplot as plt\n",
    "import seaborn as sns"
   ]
  },
  {
   "cell_type": "code",
   "execution_count": 97,
   "metadata": {},
   "outputs": [
    {
     "data": {
      "text/html": [
       "<div>\n",
       "<style scoped>\n",
       "    .dataframe tbody tr th:only-of-type {\n",
       "        vertical-align: middle;\n",
       "    }\n",
       "\n",
       "    .dataframe tbody tr th {\n",
       "        vertical-align: top;\n",
       "    }\n",
       "\n",
       "    .dataframe thead th {\n",
       "        text-align: right;\n",
       "    }\n",
       "</style>\n",
       "<table border=\"1\" class=\"dataframe\">\n",
       "  <thead>\n",
       "    <tr style=\"text-align: right;\">\n",
       "      <th></th>\n",
       "      <th>title</th>\n",
       "      <th>distributor</th>\n",
       "      <th>genre</th>\n",
       "      <th>release_time</th>\n",
       "      <th>time</th>\n",
       "      <th>screening_rat</th>\n",
       "      <th>director</th>\n",
       "      <th>dir_prev_bfnum</th>\n",
       "      <th>dir_prev_num</th>\n",
       "      <th>num_staff</th>\n",
       "      <th>num_actor</th>\n",
       "      <th>box_off_num</th>\n",
       "    </tr>\n",
       "  </thead>\n",
       "  <tbody>\n",
       "    <tr>\n",
       "      <th>0</th>\n",
       "      <td>개들의 전쟁</td>\n",
       "      <td>롯데엔터테인먼트</td>\n",
       "      <td>액션</td>\n",
       "      <td>2012-11-22</td>\n",
       "      <td>96</td>\n",
       "      <td>청소년 관람불가</td>\n",
       "      <td>조병옥</td>\n",
       "      <td>NaN</td>\n",
       "      <td>0</td>\n",
       "      <td>91</td>\n",
       "      <td>2</td>\n",
       "      <td>23398</td>\n",
       "    </tr>\n",
       "    <tr>\n",
       "      <th>1</th>\n",
       "      <td>내부자들</td>\n",
       "      <td>(주)쇼박스</td>\n",
       "      <td>느와르</td>\n",
       "      <td>2015-11-19</td>\n",
       "      <td>130</td>\n",
       "      <td>청소년 관람불가</td>\n",
       "      <td>우민호</td>\n",
       "      <td>1161602.50</td>\n",
       "      <td>2</td>\n",
       "      <td>387</td>\n",
       "      <td>3</td>\n",
       "      <td>7072501</td>\n",
       "    </tr>\n",
       "    <tr>\n",
       "      <th>2</th>\n",
       "      <td>은밀하게 위대하게</td>\n",
       "      <td>(주)쇼박스</td>\n",
       "      <td>액션</td>\n",
       "      <td>2013-06-05</td>\n",
       "      <td>123</td>\n",
       "      <td>15세 관람가</td>\n",
       "      <td>장철수</td>\n",
       "      <td>220775.25</td>\n",
       "      <td>4</td>\n",
       "      <td>343</td>\n",
       "      <td>4</td>\n",
       "      <td>6959083</td>\n",
       "    </tr>\n",
       "    <tr>\n",
       "      <th>3</th>\n",
       "      <td>나는 공무원이다</td>\n",
       "      <td>(주)NEW</td>\n",
       "      <td>코미디</td>\n",
       "      <td>2012-07-12</td>\n",
       "      <td>101</td>\n",
       "      <td>전체 관람가</td>\n",
       "      <td>구자홍</td>\n",
       "      <td>23894.00</td>\n",
       "      <td>2</td>\n",
       "      <td>20</td>\n",
       "      <td>6</td>\n",
       "      <td>217866</td>\n",
       "    </tr>\n",
       "    <tr>\n",
       "      <th>4</th>\n",
       "      <td>불량남녀</td>\n",
       "      <td>쇼박스(주)미디어플렉스</td>\n",
       "      <td>코미디</td>\n",
       "      <td>2010-11-04</td>\n",
       "      <td>108</td>\n",
       "      <td>15세 관람가</td>\n",
       "      <td>신근호</td>\n",
       "      <td>1.00</td>\n",
       "      <td>1</td>\n",
       "      <td>251</td>\n",
       "      <td>2</td>\n",
       "      <td>483387</td>\n",
       "    </tr>\n",
       "  </tbody>\n",
       "</table>\n",
       "</div>"
      ],
      "text/plain": [
       "       title   distributor genre release_time  time screening_rat director  \\\n",
       "0     개들의 전쟁      롯데엔터테인먼트    액션   2012-11-22    96      청소년 관람불가      조병옥   \n",
       "1       내부자들        (주)쇼박스   느와르   2015-11-19   130      청소년 관람불가      우민호   \n",
       "2  은밀하게 위대하게        (주)쇼박스    액션   2013-06-05   123       15세 관람가      장철수   \n",
       "3   나는 공무원이다        (주)NEW   코미디   2012-07-12   101        전체 관람가      구자홍   \n",
       "4       불량남녀  쇼박스(주)미디어플렉스   코미디   2010-11-04   108       15세 관람가      신근호   \n",
       "\n",
       "   dir_prev_bfnum  dir_prev_num  num_staff  num_actor  box_off_num  \n",
       "0             NaN             0         91          2        23398  \n",
       "1      1161602.50             2        387          3      7072501  \n",
       "2       220775.25             4        343          4      6959083  \n",
       "3        23894.00             2         20          6       217866  \n",
       "4            1.00             1        251          2       483387  "
      ]
     },
     "execution_count": 97,
     "metadata": {},
     "output_type": "execute_result"
    }
   ],
   "source": [
    "movie=pd.read_csv('movies.csv')\n",
    "movie.head()"
   ]
  },
  {
   "cell_type": "code",
   "execution_count": 107,
   "metadata": {},
   "outputs": [
    {
     "data": {
      "application/vnd.jupyter.widget-view+json": {
       "model_id": "1ddec1b0b86d4a5db671751626f053f5",
       "version_major": 2,
       "version_minor": 0
      },
      "text/plain": [
       "interactive(children=(IntText(value=10000000, description='v1'), IntText(value=10000000, description='v2'), Ou…"
      ]
     },
     "metadata": {},
     "output_type": "display_data"
    }
   ],
   "source": [
    "@interact(v1=widgets.IntText(value=10000000),v2=widgets.IntText(value=10000000))\n",
    "def max(v1,v2):\n",
    "    movie2 = movie[(movie['box_off_num']<=v1)&\n",
    "                   (movie['dir_prev_bfnum']<=v2)]\n",
    "    a=sns.jointplot(x='box_off_num',y='dir_prev_bfnum',data=movie2)\n",
    "    a.fig.suptitle('Joint Plot')\n",
    "    plt.show()"
   ]
  }
 ],
 "metadata": {
  "kernelspec": {
   "display_name": "Python 3",
   "language": "python",
   "name": "python3"
  },
  "language_info": {
   "codemirror_mode": {
    "name": "ipython",
    "version": 3
   },
   "file_extension": ".py",
   "mimetype": "text/x-python",
   "name": "python",
   "nbconvert_exporter": "python",
   "pygments_lexer": "ipython3",
   "version": "3.6.10"
  }
 },
 "nbformat": 4,
 "nbformat_minor": 4
}
