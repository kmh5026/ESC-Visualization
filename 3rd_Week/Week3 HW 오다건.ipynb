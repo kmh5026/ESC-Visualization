{
 "cells": [
  {
   "cell_type": "markdown",
   "metadata": {},
   "source": [
    "## Week3 HW "
   ]
  },
  {
   "cell_type": "markdown",
   "metadata": {},
   "source": [
    "### 오다건"
   ]
  },
  {
   "cell_type": "code",
   "execution_count": 58,
   "metadata": {},
   "outputs": [],
   "source": [
    "#output size = (input size - filter size + (2*padding) / stride) +1\n",
    "#filter는 작게, layer 깊게, fully-connected layer 조금만\n"
   ]
  },
  {
   "cell_type": "markdown",
   "metadata": {},
   "source": [
    "## Q1"
   ]
  },
  {
   "cell_type": "markdown",
   "metadata": {},
   "source": [
    "1. zero padding 크기 1만큼 적용\n",
    "2. stride (1,1) 로 filter 적용\n",
    "3. stride  (2,2)  로 2*2 maxpooling 적용했을 때 이미지 파일 어떻게 생겼는지 예측"
   ]
  },
  {
   "cell_type": "code",
   "execution_count": 4,
   "metadata": {},
   "outputs": [],
   "source": [
    "#먼저 이미지 파일에 해당하는 데이터 만들어주기, filter 도 만들어주기\n",
    "\n",
    "import numpy as np\n",
    "\n",
    "image = np.array([[2,0,2,1,3,2],\n",
    "                  [0,2,0,2,2,2],\n",
    "                  [1,0,1,3,1,1],\n",
    "                  [0,0,1,1,1,0],\n",
    "                  [0,1,3,4,1,0],\n",
    "                  [0,1,0,0,5,2]])\n",
    "\n",
    "filter = np.array ([[1,0,0],\n",
    "                    [0,1,0],\n",
    "                    [0,0,1]])\n",
    "\n"
   ]
  },
  {
   "cell_type": "code",
   "execution_count": 6,
   "metadata": {},
   "outputs": [
    {
     "data": {
      "text/plain": [
       "((6, 6), (3, 3))"
      ]
     },
     "execution_count": 6,
     "metadata": {},
     "output_type": "execute_result"
    }
   ],
   "source": [
    "image.shape, filter.shape"
   ]
  },
  {
   "cell_type": "code",
   "execution_count": 11,
   "metadata": {},
   "outputs": [
    {
     "data": {
      "text/plain": [
       "array([[0, 0, 0, 0, 0, 0, 0, 0],\n",
       "       [0, 2, 0, 2, 1, 3, 2, 0],\n",
       "       [0, 0, 2, 0, 2, 2, 2, 0],\n",
       "       [0, 1, 0, 1, 3, 1, 1, 0],\n",
       "       [0, 0, 0, 1, 1, 1, 0, 0],\n",
       "       [0, 0, 1, 3, 4, 1, 0, 0],\n",
       "       [0, 0, 1, 0, 0, 5, 2, 0],\n",
       "       [0, 0, 0, 0, 0, 0, 0, 0]])"
      ]
     },
     "execution_count": 11,
     "metadata": {},
     "output_type": "execute_result"
    }
   ],
   "source": [
    "#1. zero padding 크기 1만큼씩. 8*8 만들어짐\n",
    "\n",
    "image_zero = np.array([[0,0,0,0,0,0,0,0],\n",
    "                      [0,2,0,2,1,3,2,0],\n",
    "                      [0,0,2,0,2,2,2,0],\n",
    "                      [0,1,0,1,3,1,1,0],\n",
    "                      [0,0,0,1,1,1,0,0],\n",
    "                      [0,0,1,3,4,1,0,0],\n",
    "                      [0,0,1,0,0,5,2,0],\n",
    "                      [0,0,0,0,0,0,0,0]])\n",
    "\n",
    "image_zero"
   ]
  },
  {
   "cell_type": "code",
   "execution_count": 16,
   "metadata": {},
   "outputs": [
    {
     "data": {
      "text/plain": [
       "(6, 6)"
      ]
     },
     "execution_count": 16,
     "metadata": {},
     "output_type": "execute_result"
    }
   ],
   "source": [
    "image_filtered = np.array([[4,0,4,3,5,2],\n",
    "                           [0,5,3,5,4,5],\n",
    "                           [1,1,4,4,3,3],\n",
    "                           [1,4,5,3,4,1],\n",
    "                           [1,1,3,10,4,1],\n",
    "                           [0,1,1,3,9,3]])\n",
    "\n",
    "image_filtered\n",
    "image_filtered.shape\n",
    "\n",
    "#output image size = (6-3 +(2*1))/1 + 1 = 6 size 같음!"
   ]
  },
  {
   "cell_type": "code",
   "execution_count": 17,
   "metadata": {},
   "outputs": [
    {
     "data": {
      "text/plain": [
       "array([[ 5,  5,  5],\n",
       "       [ 4,  5,  4],\n",
       "       [ 1, 10,  9]])"
      ]
     },
     "execution_count": 17,
     "metadata": {},
     "output_type": "execute_result"
    }
   ],
   "source": [
    "#근데 여기서 maxpooling 한번 더..근데 stride 2로\n",
    "\n",
    "image_max = np.array([[5,5,5],\n",
    "                      [4,5,4],\n",
    "                      [1,10,9]])\n",
    "image_max"
   ]
  },
  {
   "cell_type": "markdown",
   "metadata": {},
   "source": [
    "## Q2"
   ]
  },
  {
   "cell_type": "markdown",
   "metadata": {},
   "source": [
    "1. layer1 의 kernel size를 4로 늘리고, layer3의 stride를 2로 늘려라"
   ]
  },
  {
   "cell_type": "code",
   "execution_count": 62,
   "metadata": {},
   "outputs": [],
   "source": [
    "import torch\n",
    "import torchvision.datasets as dsets\n",
    "import torchvision.transforms as transforms\n",
    "import torch.nn.init\n",
    "\n",
    "device= 'cuda' if torch.cuda.is_available() else 'cpu'\n",
    "    #for reproducibility\n",
    "torch.manual_seed(777)\n",
    "if device == 'cuda':\n",
    "    torch.cuda.manual_seed_all(777)\n",
    "        \n",
    "#학습에 사용되는 parameters 설정\n",
    "\n",
    "learning_rate = 0.001\n",
    "trainig_epochs = 15\n",
    "batch_size = 100\n",
    "\n",
    "#데이터셋 가져오기 (MNISTdata)\n",
    "\n",
    "mnist_train = dsets.MNIST(root = 'MNIST_data/',\n",
    "                         train=True,\n",
    "                         transform = transforms.ToTensor(),\n",
    "                         download = True)\n",
    "\n",
    "mnist_test = dsets.MNIST(root= 'MNIST_data/',\n",
    "                        train= False,\n",
    "                        transform = transforms.ToTensor(),\n",
    "                        download = True)\n",
    "\n",
    "\n",
    "#dataset loader\n",
    "\n",
    "data_loader = torch.utils.data.DataLoader (dataset= mnist_train,\n",
    "                                          batch_size = batch_size,\n",
    "                                          shuffle =True,\n",
    "                                          drop_last = True)\n",
    "\n"
   ]
  },
  {
   "cell_type": "code",
   "execution_count": 78,
   "metadata": {},
   "outputs": [],
   "source": [
    "#기존 CNN model\n",
    "\n",
    "class CNN_(torch.nn.Module):\n",
    "    \n",
    "    def __init__(self):\n",
    "        \n",
    "        super(CNN_,self).__init__()\n",
    "        self.keep_prob = 0.5\n",
    "        \n",
    "        self.layer1 = torch.nn.Sequential(torch.nn.Conv2d(1,32,kernel_size=3, stride=1, padding=1),\n",
    "                                         torch.nn.ReLU(), \n",
    "                                         torch.nn.MaxPool2d(kernel_size=2, stride=2))\n",
    "        \n",
    "        self.layer2 = torch.nn.Sequential(torch.nn.Conv2d(32,64,kernel_size=3, stride=1, padding=1),\n",
    "                                         torch.nn.ReLU(), \n",
    "                                         torch.nn.MaxPool2d(kernel_size=2, stride=2))\n",
    "        \n",
    "        self.layer3 = torch.nn.Sequential(torch.nn.Conv2d(64,128, kernel_size=3, stride=1, padding=1),\n",
    "                                         torch.nn.ReLU(), \n",
    "                                         torch.nn.MaxPool2d(kernel_size=2,stride=2, padding=1))\n",
    "        \n",
    "        self.fc1 = torch.nn.Linear(4*4*128,625, bias=True)\n",
    "        torch.nn.init.xavier_uniform_(self.fc1.weight)\n",
    "        self.layer4 = torch.nn.Sequential(self.fc1, torch.nn.ReLU(), torch.nn.Dropout(p=1-self.keep_prob))\n",
    "        \n",
    "        self.fc2 = torch.nn.Linear(625, 10, bias =True)\n",
    "        torch.nn.init.xavier_uniform_(self.fc2.weight)\n",
    "        \n",
    "   \n",
    "    def forward(self, x):\n",
    "        out = self.layer1(x)\n",
    "        out = self.layer2(out)\n",
    "        out = self.layer3(out)\n",
    "        out = out.view(out.size(0),-1)\n",
    "        out = self.layer4(out)\n",
    "        out = self.fc2(out)\n",
    "        return out"
   ]
  },
  {
   "cell_type": "code",
   "execution_count": 79,
   "metadata": {},
   "outputs": [],
   "source": [
    "model = CNN_().to(device)\n",
    "criterion = torch.nn.CrossEntropyLoss().to(device)\n",
    "optimizer = torch.optim.Adam(model.parameters(), lr= learning_rate)"
   ]
  },
  {
   "cell_type": "code",
   "execution_count": 80,
   "metadata": {},
   "outputs": [
    {
     "name": "stdout",
     "output_type": "stream",
     "text": [
      "Learning started. It takes sometime.\n",
      "[Epoch:    1] cost = 0.18799977\n",
      "[Epoch:    2] cost = 0.0510102436\n",
      "[Epoch:    3] cost = 0.0353842825\n",
      "[Epoch:    4] cost = 0.0288783591\n",
      "[Epoch:    5] cost = 0.022384692\n",
      "[Epoch:    6] cost = 0.021043662\n",
      "[Epoch:    7] cost = 0.0153902723\n",
      "[Epoch:    8] cost = 0.014692462\n",
      "[Epoch:    9] cost = 0.0127259605\n",
      "[Epoch:   10] cost = 0.0126365405\n",
      "[Epoch:   11] cost = 0.0106430324\n",
      "[Epoch:   12] cost = 0.00864581391\n",
      "[Epoch:   13] cost = 0.00948478375\n",
      "[Epoch:   14] cost = 0.00641647354\n",
      "[Epoch:   15] cost = 0.00896859448\n",
      "Learning Finished\n"
     ]
    }
   ],
   "source": [
    "total_batch = len(data_loader)\n",
    "print(\"Learning started. It takes sometime.\")\n",
    "for epoch in range(training_epochs):\n",
    "    avg_cost = 0\n",
    "    \n",
    "    for X,Y in data_loader:\n",
    "        X=X.to(device)\n",
    "        Y=Y.to(device)\n",
    "        \n",
    "        optimizer.zero_grad()\n",
    "        hypothesis = model(X)\n",
    "        cost = criterion(hypothesis,Y)\n",
    "        cost.backward()\n",
    "        optimizer.step()\n",
    "        \n",
    "        avg_cost += cost / total_batch\n",
    "        \n",
    "    print('[Epoch: {:>4}] cost = {:>.9}'.format(epoch+1, avg_cost))\n",
    "\n",
    "print('Learning Finished')"
   ]
  },
  {
   "cell_type": "code",
   "execution_count": 74,
   "metadata": {},
   "outputs": [
    {
     "name": "stdout",
     "output_type": "stream",
     "text": [
      "Accuracy:  0.9868999719619751\n"
     ]
    }
   ],
   "source": [
    "with torch.no_grad():\n",
    "    X_test = mnist_test.test_data.view(len(mnist_test),1,28,28).float().to(device)\n",
    "    Y_test = mnist_test.test_labels.to(device)\n",
    "    \n",
    "    prediction = model(X_test)\n",
    "    correct_prediction = torch.argmax(prediction,1)== Y_test\n",
    "    accuracy = correct_prediction.float().mean()\n",
    "    print('Accuracy: ', accuracy.item())"
   ]
  },
  {
   "cell_type": "code",
   "execution_count": 56,
   "metadata": {},
   "outputs": [],
   "source": [
    "#과제 CNN model\n",
    "\n",
    "class CNN(torch.nn.Module):\n",
    "    def __init__(self):\n",
    "        super(CNN,self).__init__()\n",
    "        self.keep_prob = 0.5\n",
    "        \n",
    "        self.layer1 = torch.nn.Sequential(\n",
    "        torch.nn.Conv2d(1,32,kernel_size = 4, stride=1, padding=1),\n",
    "            \n",
    "        #conv1d는 text-cnn, conv2d는 이미지 분류\n",
    "        # input channel size = 1, (input image의 RGB depth/28*28이 1장..? 흑백이니까)\n",
    "        # output_volume_size =32 (conv layer 거쳐서 몇장의 필터 만들고 싶은가)\n",
    "        # kernel_size = 4, filter의 사이즈 정하기 \n",
    "        # padding, stride\n",
    "            \n",
    "        #여기에서 fully connected layer로 전달하기 전에 Node 계산하기 위해 아까 공식에 대입\n",
    "        \n",
    "        torch.nn.ReLU(), #렐루 적용\n",
    "        torch.nn.MaxPool2d(kernel_size=2, stride =2)) #맥스풀링\n",
    "        \n",
    "        self.layer2 = torch.nn.Sequential(\n",
    "        torch.nn.Conv2d(32,64,kernel_size = 3, stride=1, padding=1),\n",
    "        torch.nn.ReLU(),\n",
    "        torch.nn.MaxPool2d(kernel_size=2, stride =2))\n",
    "        \n",
    "        self.layer3 = torch.nn.Sequential(\n",
    "        torch.nn.Conv2d(64,128,kernel_size = 3, stride=2, padding=1),\n",
    "        torch.nn.ReLU(),\n",
    "        torch.nn.MaxPool2d(kernel_size=2, stride =2, padding =1))  \n",
    "        \n",
    "        self.fc1 = torch.nn.Linear(2*2*128,625,bias=True)\n",
    "        torch.nn.init.xavier_uniform_(self.fc1.weight)\n",
    "        \n",
    "        #fully connected layer\n",
    "        self.layer4 = torch.nn.Sequential(self.fc1,\n",
    "                                         torch.nn.ReLU(),\n",
    "                                         torch.nn.Dropout(p=1-self.keep_prob))\n",
    "        \n",
    "        \n",
    "        self.fc2 = torch.nn.Linear(625,10,bias = True)\n",
    "        torch.nn.init.xavier_uniform_(self.fc2.weight)\n",
    "        \n",
    "        #625개의 Input에서 10개의 output\n",
    "        \n",
    "    def forward(self,x):\n",
    "        out= self.layer1(x)\n",
    "        out = self.layer2(out)\n",
    "        out = self.layer3(out)\n",
    "        out = out.view(out.size(0),-1) #flatten them for fc\n",
    "        out = self.layer4(out)\n",
    "        out = self.fc2(out)\n",
    "        \n",
    "        return out\n",
    "                                    "
   ]
  },
  {
   "cell_type": "code",
   "execution_count": 50,
   "metadata": {},
   "outputs": [],
   "source": [
    "model = CNN().to(device)\n",
    "criterion = torch.nn.CrossEntropyLoss().to(device)\n",
    "optimizer = torch.optim.Adam(model.parameters(), lr= learning_rate)"
   ]
  },
  {
   "cell_type": "code",
   "execution_count": 51,
   "metadata": {},
   "outputs": [
    {
     "name": "stdout",
     "output_type": "stream",
     "text": [
      "Learning strated. It takes sometime\n",
      "[Epoch:    1] cost = 0.268052489\n",
      "[Epoch:    2] cost = 0.067129679\n",
      "[Epoch:    3] cost = 0.0465257205\n",
      "[Epoch:    4] cost = 0.0357986614\n",
      "[Epoch:    5] cost = 0.0288355462\n",
      "[Epoch:    6] cost = 0.0255141947\n",
      "[Epoch:    7] cost = 0.0202469993\n",
      "[Epoch:    8] cost = 0.0197669417\n",
      "[Epoch:    9] cost = 0.0156582035\n",
      "[Epoch:   10] cost = 0.0142434053\n",
      "[Epoch:   11] cost = 0.0146718984\n",
      "[Epoch:   12] cost = 0.0119579313\n",
      "[Epoch:   13] cost = 0.0101621673\n",
      "[Epoch:   14] cost = 0.0107738338\n",
      "[Epoch:   15] cost = 0.0102506001\n",
      "Learning Finished\n"
     ]
    }
   ],
   "source": [
    "total_batch = len(data_loader)\n",
    "model.train()\n",
    "print('Learning strated. It takes sometime')\n",
    "\n",
    "for epoch in range(training_epochs):\n",
    "    avg_cost = 0\n",
    "    for X, Y in data_loader:\n",
    "        X = X.to(device)\n",
    "        Y = Y.to(device)\n",
    "        \n",
    "        optimizer.zero_grad()\n",
    "        hypothesis = model(X)\n",
    "        cost = criterion(hypothesis, Y)\n",
    "        cost.backward()\n",
    "        optimizer.step()\n",
    "        \n",
    "        avg_cost += cost / total_batch\n",
    "        \n",
    "    print('[Epoch: {:>4}] cost = {:>.9}'.format(epoch + 1, avg_cost))\n",
    "\n",
    "print('Learning Finished')"
   ]
  },
  {
   "cell_type": "code",
   "execution_count": 76,
   "metadata": {},
   "outputs": [
    {
     "name": "stdout",
     "output_type": "stream",
     "text": [
      "Accuracy:  0.98580002784729\n"
     ]
    }
   ],
   "source": [
    "with torch.no_grad():\n",
    "    X_test = mnist_test.test_data.view(len(mnist_test),1,28,28).float().to(device)\n",
    "    Y_test = mnist_test.test_labels.to(device)\n",
    "    \n",
    "    prediction = model(X_test)\n",
    "    correct_prediction = torch.argmax(prediction,1)== Y_test\n",
    "    accuracy = correct_prediction.float().mean()\n",
    "    print('Accuracy: ', accuracy.item())"
   ]
  },
  {
   "cell_type": "markdown",
   "metadata": {},
   "source": [
    "2-2. layer 3까지 output size는 \n",
    "(2,2) "
   ]
  },
  {
   "cell_type": "markdown",
   "metadata": {},
   "source": [
    "2-3. \n",
    "filter의 개수 (kernel 개수가 커졌으니까) cost는 기존 모델에 비해 상승하고, \n",
    "accuracy 도 더 증가할 것 같다."
   ]
  },
  {
   "cell_type": "markdown",
   "metadata": {},
   "source": [
    "2-4.cost 는  상승했는데 accuracy는 살짝 더 낮다.\n",
    "\n"
   ]
  },
  {
   "cell_type": "code",
   "execution_count": null,
   "metadata": {},
   "outputs": [],
   "source": []
  }
 ],
 "metadata": {
  "kernelspec": {
   "display_name": "Python 3",
   "language": "python",
   "name": "python3"
  },
  "language_info": {
   "codemirror_mode": {
    "name": "ipython",
    "version": 3
   },
   "file_extension": ".py",
   "mimetype": "text/x-python",
   "name": "python",
   "nbconvert_exporter": "python",
   "pygments_lexer": "ipython3",
   "version": "3.8.3"
  }
 },
 "nbformat": 4,
 "nbformat_minor": 4
}
